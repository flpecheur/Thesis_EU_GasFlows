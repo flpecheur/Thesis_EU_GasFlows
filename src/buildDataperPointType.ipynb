{
 "cells": [
  {
   "cell_type": "markdown",
   "metadata": {},
   "source": [
    "# Setup"
   ]
  },
  {
   "cell_type": "code",
   "execution_count": 1,
   "metadata": {},
   "outputs": [],
   "source": [
    "import pandas as pd\n",
    "import os "
   ]
  },
  {
   "cell_type": "code",
   "execution_count": 2,
   "metadata": {},
   "outputs": [],
   "source": [
    "DATE = '2019_01'"
   ]
  },
  {
   "cell_type": "code",
   "execution_count": 3,
   "metadata": {},
   "outputs": [],
   "source": [
    "points_df = pd.read_csv(f'../data/points_data.csv')\n",
    "op_data = pd.read_csv(f'../data/opData/op_data_{DATE}.csv')"
   ]
  },
  {
   "cell_type": "code",
   "execution_count": 4,
   "metadata": {},
   "outputs": [
    {
     "name": "stdout",
     "output_type": "stream",
     "text": [
      "(772, 32)\n"
     ]
    },
    {
     "data": {
      "text/plain": [
       "Index(['Unnamed: 0', 'point_key', 'point_label', 'is_single_operator',\n",
       "       'point_tooltip', 'point_eic_code', 'control_point_type', 'tp_map_x',\n",
       "       'tp_map_y', 'point_type', 'commercial_type', 'import_from_country_key',\n",
       "       'import_from_country_label', 'has_virtual_point', 'virtual_point_key',\n",
       "       'virtual_point_label', 'has_data', 'is_planned', 'is_interconnection',\n",
       "       'is_import', 'infrastructure_key', 'infrastructure_label',\n",
       "       'is_cross_border', 'eu_crossing', 'is_invalid', 'is_macro_point',\n",
       "       'is_cam_relevant', 'is_pipe_in_pipe', 'is_cmp_relevant', 'id',\n",
       "       'data_set', 'url'],\n",
       "      dtype='object')"
      ]
     },
     "execution_count": 4,
     "metadata": {},
     "output_type": "execute_result"
    }
   ],
   "source": [
    "print(points_df.shape)\n",
    "points_df.columns"
   ]
  },
  {
   "cell_type": "code",
   "execution_count": 5,
   "metadata": {},
   "outputs": [
    {
     "name": "stdout",
     "output_type": "stream",
     "text": [
      "(10000, 14)\n"
     ]
    },
    {
     "data": {
      "text/plain": [
       "Index(['Unnamed: 0', 'direction_key', 'flow_status', 'id', 'id_point_type',\n",
       "       'operator_key', 'period_from', 'period_to', 'period_type', 'point_key',\n",
       "       'point_label', 'tso_eic_code', 'unit', 'value'],\n",
       "      dtype='object')"
      ]
     },
     "execution_count": 5,
     "metadata": {},
     "output_type": "execute_result"
    }
   ],
   "source": [
    "print(op_data.shape)\n",
    "op_data.columns"
   ]
  },
  {
   "cell_type": "markdown",
   "metadata": {},
   "source": [
    "point_type :    \n",
    "*Distribution Point ExtEU                                          128 --> Ignore*    \n",
    "*Storage point                                                     122 --> Ignore*   \n",
    "Cross-Border **Transmission** IP within EU                            106    \n",
    "*Aggregated Point - Final Consumers                                 60 -->  Ignore*    \n",
    "*Distribution Point                                                 48 --> Ignore*    \n",
    "**LNG Entry point                                                    46**    \n",
    "Cross-Border **Transmission** IP between EU and Non-EU (import)        38    \n",
    "*Aggregated production point - TP                                   37 --> Ignore*     \n",
    "**Transmission** Point                                                 32    \n",
    "*Trading Point                                                      29 --> Ignore*   \n",
    "Cross-Border **Transmission** IP between EU and Non-EU                 27    \n",
    "Cross-Border **Transmission** IP Non-EU                                25    \n",
    "*Storage point ExtEU                                                21*    \n",
    "*Cross-Border Storage IP within EU                                  17*     \n",
    "*Storage IP Non-EU                                                  13*    \n",
    "Cross-Border **Transmission** IP between EU and ExtEU                   7    \n",
    "*Aggregated production point - TP ExtEU                              5 --> Ignore*    \n",
    "**Transmission** Point ExtEU                                            3    \n",
    "**LNG Entry point ExtEU                                               2**    \n",
    "Cross-Border **Transmission** IP between ExtEU and Non-EU (import)      2    \n",
    "*Aggregated Point - Final Consumers ExtEU                            2 --> Ignore*    \n",
    "*Aggregated production point - SysDev                                1 --> Ignore*   \n",
    "*Trading Point Ext-EU                                                1 --> Ignore*\n",
    "\n",
    "Choose to focus on : \n",
    "* Transmission points\n",
    "* LNG entries"
   ]
  },
  {
   "cell_type": "code",
   "execution_count": 6,
   "metadata": {},
   "outputs": [],
   "source": [
    "def filter_point_type(keyword,df,column):\n",
    "    return df[df[column].str.contains(keyword)]\n"
   ]
  },
  {
   "cell_type": "code",
   "execution_count": 7,
   "metadata": {},
   "outputs": [
    {
     "name": "stdout",
     "output_type": "stream",
     "text": [
      "Transmission points : 240\n",
      "LNG points : 48\n"
     ]
    }
   ],
   "source": [
    "trans_points_df = filter_point_type(\"Transmission\",points_df,'point_type')\n",
    "lng_points_df = filter_point_type(\"LNG\",points_df,'point_type')\n",
    "\n",
    "print(f\"Transmission points : {len(trans_points_df)}\")\n",
    "print(f\"LNG points : {len(lng_points_df)}\")"
   ]
  },
  {
   "cell_type": "markdown",
   "metadata": {},
   "source": [
    "## Geographical data of LNG points"
   ]
  },
  {
   "cell_type": "code",
   "execution_count": 8,
   "metadata": {},
   "outputs": [
    {
     "data": {
      "text/plain": [
       "Index(['Unnamed: 0', 'geojson_name', 'point_label', 'point_type', 'geojson_id',\n",
       "       'tp_map_x', 'tp_map_y', 'latitude', 'longitude'],\n",
       "      dtype='object')"
      ]
     },
     "execution_count": 8,
     "metadata": {},
     "output_type": "execute_result"
    }
   ],
   "source": [
    "# results_df = pd.read_csv('../data/results.csv')\n",
    "# results_df.columns"
   ]
  },
  {
   "cell_type": "code",
   "execution_count": 9,
   "metadata": {},
   "outputs": [
    {
     "data": {
      "text/plain": [
       "(126, 9)"
      ]
     },
     "execution_count": 9,
     "metadata": {},
     "output_type": "execute_result"
    }
   ],
   "source": [
    "# results_df.shape"
   ]
  },
  {
   "cell_type": "code",
   "execution_count": 10,
   "metadata": {},
   "outputs": [
    {
     "data": {
      "text/plain": [
       "(23, 9)"
      ]
     },
     "execution_count": 10,
     "metadata": {},
     "output_type": "execute_result"
    }
   ],
   "source": [
    "# res_lng_points = filter_point_type(\"LNG\",results_df,'point_type')\n",
    "# res_lng_points.shape"
   ]
  },
  {
   "cell_type": "markdown",
   "metadata": {},
   "source": [
    "NOTE : Only 23 out of 48 points appear in results  \n",
    "\n",
    "==> Check with OSM"
   ]
  },
  {
   "cell_type": "code",
   "execution_count": 11,
   "metadata": {},
   "outputs": [
    {
     "name": "stdout",
     "output_type": "stream",
     "text": [
      "OSM LNG points : 29\n",
      "Columns : Index(['id', 'name', 'source_id', 'node_id', 'lat', 'long', 'country_code',\n",
      "       'comment', 'param', 'uncertainty', 'method', 'tags'],\n",
      "      dtype='object')\n"
     ]
    }
   ],
   "source": [
    "# osm_df = pd.read_csv('../../OSMData/INET_LNGs.csv',sep=';')\n",
    "# osm_df.columns\n",
    "# print(f\"OSM LNG points : {len(osm_df)}\")\n",
    "# print(f\"Columns : {osm_df.columns}\")"
   ]
  },
  {
   "cell_type": "code",
   "execution_count": 12,
   "metadata": {},
   "outputs": [],
   "source": [
    "# print(\"points_df LNG points : \")\n",
    "# print(lng_points_df[\"point_label\"].to_string(index=False))\n",
    "\n",
    "# print(\"results_df LNG points : \")\n",
    "# print(res_lng_points[\"point_label\"].to_string(index=False))\n",
    "\n",
    "# print(\"OSM LNG points : \")\n",
    "# print(osm_df[[\"name\",\"lat\",\"long\"]].to_string(index=False))"
   ]
  },
  {
   "cell_type": "markdown",
   "metadata": {},
   "source": [
    "PROCESS : After analysing by hand and via differen sources, we obtained information about all points from the dataset. The process is documented in OneNote and the final dataset is LNG_points_info.csv"
   ]
  },
  {
   "cell_type": "code",
   "execution_count": 13,
   "metadata": {},
   "outputs": [
    {
     "name": "stdout",
     "output_type": "stream",
     "text": [
      "(48, 32)\n"
     ]
    }
   ],
   "source": [
    "lng_points_df.head()\n",
    "print(lng_points_df.shape)"
   ]
  },
  {
   "cell_type": "code",
   "execution_count": 14,
   "metadata": {},
   "outputs": [
    {
     "data": {
      "text/html": [
       "<div>\n",
       "<style scoped>\n",
       "    .dataframe tbody tr th:only-of-type {\n",
       "        vertical-align: middle;\n",
       "    }\n",
       "\n",
       "    .dataframe tbody tr th {\n",
       "        vertical-align: top;\n",
       "    }\n",
       "\n",
       "    .dataframe thead th {\n",
       "        text-align: right;\n",
       "    }\n",
       "</style>\n",
       "<table border=\"1\" class=\"dataframe\">\n",
       "  <thead>\n",
       "    <tr style=\"text-align: right;\">\n",
       "      <th></th>\n",
       "      <th>Country</th>\n",
       "      <th>index</th>\n",
       "      <th>point_label</th>\n",
       "      <th>is_operational</th>\n",
       "      <th>mapped_name</th>\n",
       "      <th>lat</th>\n",
       "      <th>lon</th>\n",
       "    </tr>\n",
       "  </thead>\n",
       "  <tbody>\n",
       "    <tr>\n",
       "      <th>0</th>\n",
       "      <td>Greece</td>\n",
       "      <td>390</td>\n",
       "      <td>Alexandroupolis LNG</td>\n",
       "      <td>False</td>\n",
       "      <td>Alexandroupolis</td>\n",
       "      <td>40833</td>\n",
       "      <td>25872.00</td>\n",
       "    </tr>\n",
       "    <tr>\n",
       "      <th>1</th>\n",
       "      <td>Italy</td>\n",
       "      <td>458</td>\n",
       "      <td>OLT LNG / Livorno</td>\n",
       "      <td>True</td>\n",
       "      <td>Toscana</td>\n",
       "      <td>43067</td>\n",
       "      <td>10067.00</td>\n",
       "    </tr>\n",
       "    <tr>\n",
       "      <th>2</th>\n",
       "      <td>Poland</td>\n",
       "      <td>460</td>\n",
       "      <td>Swinoujscie</td>\n",
       "      <td>True</td>\n",
       "      <td>Swinoujscie</td>\n",
       "      <td>53917</td>\n",
       "      <td>14250.00</td>\n",
       "    </tr>\n",
       "    <tr>\n",
       "      <th>3</th>\n",
       "      <td>United Kingdom</td>\n",
       "      <td>462</td>\n",
       "      <td>Isle of Grain</td>\n",
       "      <td>True</td>\n",
       "      <td>Isle of Grain</td>\n",
       "      <td>51450</td>\n",
       "      <td>-0.75</td>\n",
       "    </tr>\n",
       "    <tr>\n",
       "      <th>4</th>\n",
       "      <td>Estonia</td>\n",
       "      <td>463</td>\n",
       "      <td>Paldiski LNG</td>\n",
       "      <td>False</td>\n",
       "      <td>Paldiski LNG</td>\n",
       "      <td>59367</td>\n",
       "      <td>24050.00</td>\n",
       "    </tr>\n",
       "  </tbody>\n",
       "</table>\n",
       "</div>"
      ],
      "text/plain": [
       "          Country  index          point_label  is_operational  \\\n",
       "0          Greece    390  Alexandroupolis LNG           False   \n",
       "1           Italy    458    OLT LNG / Livorno            True   \n",
       "2          Poland    460          Swinoujscie            True   \n",
       "3  United Kingdom    462        Isle of Grain            True   \n",
       "4         Estonia    463         Paldiski LNG           False   \n",
       "\n",
       "       mapped_name    lat       lon  \n",
       "0  Alexandroupolis  40833  25872.00  \n",
       "1          Toscana  43067  10067.00  \n",
       "2      Swinoujscie  53917  14250.00  \n",
       "3    Isle of Grain  51450     -0.75  \n",
       "4     Paldiski LNG  59367  24050.00  "
      ]
     },
     "execution_count": 14,
     "metadata": {},
     "output_type": "execute_result"
    }
   ],
   "source": [
    "lng_points_info = pd.read_excel('../data/points/LNG_points_info.xlsx')\n",
    "lng_points_info.rename(columns={'points_label':'point_label','LNG Entry Point':'mapped_name','Longitude':'lon','Latitude':'lat'},inplace=True)\n",
    "lng_points_info.head()"
   ]
  },
  {
   "cell_type": "code",
   "execution_count": 15,
   "metadata": {},
   "outputs": [],
   "source": [
    "# PRocess points because excell removed the floating point\n",
    "lng_points_info['lat'] = lng_points_info['lat'].apply(lambda x: x/1000 if x>=0 else x)\n",
    "lng_points_info['lon'] = lng_points_info['lon'].apply(lambda x: x/1000 if x>=0 else x)"
   ]
  },
  {
   "cell_type": "code",
   "execution_count": 16,
   "metadata": {},
   "outputs": [],
   "source": [
    "lng_points_df = lng_points_df.merge(lng_points_info[['point_label','mapped_name','Country', 'lat', 'lon','is_operational']], on='point_label', how='left')"
   ]
  },
  {
   "cell_type": "code",
   "execution_count": 17,
   "metadata": {},
   "outputs": [
    {
     "name": "stdout",
     "output_type": "stream",
     "text": [
      "(48, 37)\n",
      "(48, 7)\n"
     ]
    }
   ],
   "source": [
    "print(lng_points_df.shape)\n",
    "print(lng_points_info.shape)"
   ]
  },
  {
   "cell_type": "code",
   "execution_count": 18,
   "metadata": {},
   "outputs": [
    {
     "data": {
      "text/plain": [
       "Index(['Unnamed: 0', 'point_key', 'point_label', 'is_single_operator',\n",
       "       'point_tooltip', 'point_eic_code', 'control_point_type', 'tp_map_x',\n",
       "       'tp_map_y', 'point_type', 'commercial_type', 'import_from_country_key',\n",
       "       'import_from_country_label', 'has_virtual_point', 'virtual_point_key',\n",
       "       'virtual_point_label', 'has_data', 'is_planned', 'is_interconnection',\n",
       "       'is_import', 'infrastructure_key', 'infrastructure_label',\n",
       "       'is_cross_border', 'eu_crossing', 'is_invalid', 'is_macro_point',\n",
       "       'is_cam_relevant', 'is_pipe_in_pipe', 'is_cmp_relevant', 'id',\n",
       "       'data_set', 'url', 'mapped_name', 'Country', 'lat', 'lon',\n",
       "       'is_operational'],\n",
       "      dtype='object')"
      ]
     },
     "execution_count": 18,
     "metadata": {},
     "output_type": "execute_result"
    }
   ],
   "source": [
    "lng_points_df.columns"
   ]
  },
  {
   "cell_type": "code",
   "execution_count": 19,
   "metadata": {},
   "outputs": [],
   "source": [
    "missing_countries = lng_points_df[lng_points_df['lat'].isna() | lng_points_df['lon'].isna()]['point_label']\n",
    "# print(missing_countries)\n",
    "# 49    Baltic Energy Gate => CHOOSE TO IGNORE\n",
    "lng_points_df = lng_points_df[lng_points_df['Country'].notna()]"
   ]
  },
  {
   "cell_type": "code",
   "execution_count": 52,
   "metadata": {},
   "outputs": [],
   "source": [
    "lng_points_df.to_csv('../data/points/lng_points.csv',index=False)"
   ]
  },
  {
   "cell_type": "markdown",
   "metadata": {},
   "source": [
    "Other remarks :\n",
    "* 2 points have keys that are resp. ITP and VTP, those points correspond to Alexandropoulis LNG and TVB"
   ]
  },
  {
   "cell_type": "markdown",
   "metadata": {},
   "source": [
    "# LNG entries operational data"
   ]
  },
  {
   "cell_type": "code",
   "execution_count": 20,
   "metadata": {},
   "outputs": [
    {
     "data": {
      "text/html": [
       "<div>\n",
       "<style scoped>\n",
       "    .dataframe tbody tr th:only-of-type {\n",
       "        vertical-align: middle;\n",
       "    }\n",
       "\n",
       "    .dataframe tbody tr th {\n",
       "        vertical-align: top;\n",
       "    }\n",
       "\n",
       "    .dataframe thead th {\n",
       "        text-align: right;\n",
       "    }\n",
       "</style>\n",
       "<table border=\"1\" class=\"dataframe\">\n",
       "  <thead>\n",
       "    <tr style=\"text-align: right;\">\n",
       "      <th></th>\n",
       "      <th>Unnamed: 0</th>\n",
       "      <th>point_key</th>\n",
       "      <th>point_label</th>\n",
       "      <th>is_single_operator</th>\n",
       "      <th>point_tooltip</th>\n",
       "      <th>point_eic_code</th>\n",
       "      <th>control_point_type</th>\n",
       "      <th>tp_map_x</th>\n",
       "      <th>tp_map_y</th>\n",
       "      <th>point_type</th>\n",
       "      <th>...</th>\n",
       "      <th>is_pipe_in_pipe</th>\n",
       "      <th>is_cmp_relevant</th>\n",
       "      <th>id</th>\n",
       "      <th>data_set</th>\n",
       "      <th>url</th>\n",
       "      <th>mapped_name</th>\n",
       "      <th>Country</th>\n",
       "      <th>lat</th>\n",
       "      <th>lon</th>\n",
       "      <th>is_operational</th>\n",
       "    </tr>\n",
       "  </thead>\n",
       "  <tbody>\n",
       "    <tr>\n",
       "      <th>0</th>\n",
       "      <td>390</td>\n",
       "      <td>ITP-00424</td>\n",
       "      <td>Alexandroupolis LNG</td>\n",
       "      <td>1</td>\n",
       "      <td>NaN</td>\n",
       "      <td>?</td>\n",
       "      <td>P_P_INCOUN_IN_LNG</td>\n",
       "      <td>51.55</td>\n",
       "      <td>-67.24</td>\n",
       "      <td>LNG Entry point</td>\n",
       "      <td>...</td>\n",
       "      <td>False</td>\n",
       "      <td>False</td>\n",
       "      <td>2ITP-00424</td>\n",
       "      <td>2</td>\n",
       "      <td>https://transparency.entsog.eu/api/v1/connecti...</td>\n",
       "      <td>Alexandroupolis</td>\n",
       "      <td>Greece</td>\n",
       "      <td>40.833</td>\n",
       "      <td>25.872</td>\n",
       "      <td>False</td>\n",
       "    </tr>\n",
       "    <tr>\n",
       "      <th>1</th>\n",
       "      <td>458</td>\n",
       "      <td>LNG-00004</td>\n",
       "      <td>OLT LNG / Livorno</td>\n",
       "      <td>0</td>\n",
       "      <td>NaN</td>\n",
       "      <td>21Z000000000275G</td>\n",
       "      <td>O_P_INCOUN_IN_LNG</td>\n",
       "      <td>-29.75</td>\n",
       "      <td>-58.33</td>\n",
       "      <td>LNG Entry point</td>\n",
       "      <td>...</td>\n",
       "      <td>False</td>\n",
       "      <td>False</td>\n",
       "      <td>2LNG-00004</td>\n",
       "      <td>2</td>\n",
       "      <td>https://transparency.entsog.eu/api/v1/connecti...</td>\n",
       "      <td>Toscana</td>\n",
       "      <td>Italy</td>\n",
       "      <td>43.067</td>\n",
       "      <td>10.067</td>\n",
       "      <td>True</td>\n",
       "    </tr>\n",
       "    <tr>\n",
       "      <th>2</th>\n",
       "      <td>460</td>\n",
       "      <td>LNG-00006</td>\n",
       "      <td>Swinoujscie</td>\n",
       "      <td>0</td>\n",
       "      <td>NaN</td>\n",
       "      <td>21Z000000000454G</td>\n",
       "      <td>O_P_INCOUN_IN_LNG</td>\n",
       "      <td>-7.91</td>\n",
       "      <td>10.01</td>\n",
       "      <td>LNG Entry point</td>\n",
       "      <td>...</td>\n",
       "      <td>False</td>\n",
       "      <td>False</td>\n",
       "      <td>2LNG-00006</td>\n",
       "      <td>2</td>\n",
       "      <td>https://transparency.entsog.eu/api/v1/connecti...</td>\n",
       "      <td>Swinoujscie</td>\n",
       "      <td>Poland</td>\n",
       "      <td>53.917</td>\n",
       "      <td>14.250</td>\n",
       "      <td>True</td>\n",
       "    </tr>\n",
       "    <tr>\n",
       "      <th>3</th>\n",
       "      <td>462</td>\n",
       "      <td>LNG-00008</td>\n",
       "      <td>Isle of Grain</td>\n",
       "      <td>0</td>\n",
       "      <td>NaN</td>\n",
       "      <td>21YIG-EC-------X</td>\n",
       "      <td>O_P_INCOUN_IN_LNG_ExtEU</td>\n",
       "      <td>-79.85</td>\n",
       "      <td>-11.39</td>\n",
       "      <td>LNG Entry point ExtEU</td>\n",
       "      <td>...</td>\n",
       "      <td>False</td>\n",
       "      <td>False</td>\n",
       "      <td>2LNG-00008</td>\n",
       "      <td>2</td>\n",
       "      <td>https://transparency.entsog.eu/api/v1/connecti...</td>\n",
       "      <td>Isle of Grain</td>\n",
       "      <td>United Kingdom</td>\n",
       "      <td>51.450</td>\n",
       "      <td>-0.750</td>\n",
       "      <td>True</td>\n",
       "    </tr>\n",
       "    <tr>\n",
       "      <th>4</th>\n",
       "      <td>463</td>\n",
       "      <td>LNG-00010</td>\n",
       "      <td>Paldiski LNG</td>\n",
       "      <td>0</td>\n",
       "      <td>NaN</td>\n",
       "      <td>?</td>\n",
       "      <td>P_P_INCOUN_IN_LNG</td>\n",
       "      <td>41.92</td>\n",
       "      <td>52.64</td>\n",
       "      <td>LNG Entry point</td>\n",
       "      <td>...</td>\n",
       "      <td>False</td>\n",
       "      <td>False</td>\n",
       "      <td>2LNG-00010</td>\n",
       "      <td>2</td>\n",
       "      <td>https://transparency.entsog.eu/api/v1/connecti...</td>\n",
       "      <td>Paldiski LNG</td>\n",
       "      <td>Estonia</td>\n",
       "      <td>59.367</td>\n",
       "      <td>24.050</td>\n",
       "      <td>False</td>\n",
       "    </tr>\n",
       "  </tbody>\n",
       "</table>\n",
       "<p>5 rows × 37 columns</p>\n",
       "</div>"
      ],
      "text/plain": [
       "   Unnamed: 0  point_key          point_label  is_single_operator  \\\n",
       "0         390  ITP-00424  Alexandroupolis LNG                   1   \n",
       "1         458  LNG-00004    OLT LNG / Livorno                   0   \n",
       "2         460  LNG-00006          Swinoujscie                   0   \n",
       "3         462  LNG-00008        Isle of Grain                   0   \n",
       "4         463  LNG-00010         Paldiski LNG                   0   \n",
       "\n",
       "  point_tooltip    point_eic_code       control_point_type  tp_map_x  \\\n",
       "0           NaN                 ?        P_P_INCOUN_IN_LNG     51.55   \n",
       "1           NaN  21Z000000000275G        O_P_INCOUN_IN_LNG    -29.75   \n",
       "2           NaN  21Z000000000454G        O_P_INCOUN_IN_LNG     -7.91   \n",
       "3           NaN  21YIG-EC-------X  O_P_INCOUN_IN_LNG_ExtEU    -79.85   \n",
       "4           NaN                 ?        P_P_INCOUN_IN_LNG     41.92   \n",
       "\n",
       "   tp_map_y             point_type  ... is_pipe_in_pipe is_cmp_relevant  \\\n",
       "0    -67.24        LNG Entry point  ...           False           False   \n",
       "1    -58.33        LNG Entry point  ...           False           False   \n",
       "2     10.01        LNG Entry point  ...           False           False   \n",
       "3    -11.39  LNG Entry point ExtEU  ...           False           False   \n",
       "4     52.64        LNG Entry point  ...           False           False   \n",
       "\n",
       "           id  data_set                                                url  \\\n",
       "0  2ITP-00424         2  https://transparency.entsog.eu/api/v1/connecti...   \n",
       "1  2LNG-00004         2  https://transparency.entsog.eu/api/v1/connecti...   \n",
       "2  2LNG-00006         2  https://transparency.entsog.eu/api/v1/connecti...   \n",
       "3  2LNG-00008         2  https://transparency.entsog.eu/api/v1/connecti...   \n",
       "4  2LNG-00010         2  https://transparency.entsog.eu/api/v1/connecti...   \n",
       "\n",
       "       mapped_name         Country     lat     lon  is_operational  \n",
       "0  Alexandroupolis          Greece  40.833  25.872           False  \n",
       "1          Toscana           Italy  43.067  10.067            True  \n",
       "2      Swinoujscie          Poland  53.917  14.250            True  \n",
       "3    Isle of Grain  United Kingdom  51.450  -0.750            True  \n",
       "4     Paldiski LNG         Estonia  59.367  24.050           False  \n",
       "\n",
       "[5 rows x 37 columns]"
      ]
     },
     "execution_count": 20,
     "metadata": {},
     "output_type": "execute_result"
    }
   ],
   "source": [
    "lng_points_df.head()"
   ]
  },
  {
   "cell_type": "code",
   "execution_count": 21,
   "metadata": {},
   "outputs": [
    {
     "data": {
      "text/plain": [
       "Index(['Unnamed: 0', 'point_key', 'point_label', 'is_single_operator',\n",
       "       'point_tooltip', 'point_eic_code', 'control_point_type', 'tp_map_x',\n",
       "       'tp_map_y', 'point_type', 'commercial_type', 'import_from_country_key',\n",
       "       'import_from_country_label', 'has_virtual_point', 'virtual_point_key',\n",
       "       'virtual_point_label', 'has_data', 'is_planned', 'is_interconnection',\n",
       "       'is_import', 'infrastructure_key', 'infrastructure_label',\n",
       "       'is_cross_border', 'eu_crossing', 'is_invalid', 'is_macro_point',\n",
       "       'is_cam_relevant', 'is_pipe_in_pipe', 'is_cmp_relevant', 'id',\n",
       "       'data_set', 'url', 'mapped_name', 'Country', 'lat', 'lon',\n",
       "       'is_operational'],\n",
       "      dtype='object')"
      ]
     },
     "execution_count": 21,
     "metadata": {},
     "output_type": "execute_result"
    }
   ],
   "source": [
    "lng_points_df.columns"
   ]
  },
  {
   "cell_type": "code",
   "execution_count": 22,
   "metadata": {},
   "outputs": [
    {
     "name": "stdout",
     "output_type": "stream",
     "text": [
      "(30, 37)\n"
     ]
    }
   ],
   "source": [
    "op_lng_points_df = lng_points_df[lng_points_df['is_operational']]\n",
    "print(op_lng_points_df.shape)\n"
   ]
  },
  {
   "cell_type": "code",
   "execution_count": 23,
   "metadata": {},
   "outputs": [
    {
     "name": "stdout",
     "output_type": "stream",
     "text": [
      "                                 point_label  point_key\n",
      "1                          OLT LNG / Livorno  LNG-00004\n",
      "2                                Swinoujscie  LNG-00006\n",
      "3                              Isle of Grain  LNG-00008\n",
      "5                                  Barcelona  LNG-00012\n",
      "6                                     Bilbao  LNG-00013\n",
      "7                                Agia Triada  LNG-00014\n",
      "8   Cavarzere (Porto Levante / Adriatic LNG)  LNG-00015\n",
      "9                              Zeebrugge LNG  LNG-00017\n",
      "10                                    Huelva  LNG-00018\n",
      "11                                Panigaglia  LNG-00019\n",
      "12                                  Mugardos  LNG-00021\n",
      "13                                 Cartagena  LNG-00022\n",
      "14                                   Sagunto  LNG-00023\n",
      "15                       Montoir de Bretagne  LNG-00024\n",
      "16                                     Sines  LNG-00026\n",
      "17                         Gate Terminal (I)  LNG-00027\n",
      "18                       Fos (Tonkin/Cavaou)  LNG-00029\n",
      "19                            Klaipeda (LNG)  LNG-00030\n",
      "20                               Croatia LNG  LNG-00032\n",
      "21              Malta FSRU Offshore Terminal  LNG-00034\n",
      "28                             Dunkerque LNG  LNG-00047\n",
      "29                             Milford Haven  LNG-00049\n",
      "31              FSRU Polish Baltic Sea Coast  LNG-00057\n",
      "33                              Sardinia LNG  LNG-00059\n",
      "37                      Eems Energy Terminal  LNG-00068\n",
      "38                                Hamina LNG  LNG-00011\n",
      "39                            Inkoo LNG (FI)  LNG-00072\n",
      "40        Wilhelmshaven, LNG-Terminal 1 (DE)  LNG-00066\n",
      "44                                     Musel  LNG-00016\n",
      "47             Wilhelmshaven, LNG-Terminal 2  LNG-00080\n"
     ]
    }
   ],
   "source": [
    "print(lng_points_df[lng_points_df['is_operational']][['point_label','point_key']])"
   ]
  },
  {
   "cell_type": "code",
   "execution_count": 24,
   "metadata": {},
   "outputs": [
    {
     "name": "stdout",
     "output_type": "stream",
     "text": [
      "['ITP-00424' 'LNG-00004' 'LNG-00006' 'LNG-00008' 'LNG-00010' 'LNG-00012'\n",
      " 'LNG-00013' 'LNG-00014' 'LNG-00015' 'LNG-00017' 'LNG-00018' 'LNG-00019'\n",
      " 'LNG-00021' 'LNG-00022' 'LNG-00023' 'LNG-00024' 'LNG-00026' 'LNG-00027'\n",
      " 'LNG-00029' 'LNG-00030' 'LNG-00032' 'LNG-00034' 'LNG-00038' 'LNG-00039'\n",
      " 'LNG-00041' 'LNG-00042' 'LNG-00044' 'LNG-00045' 'LNG-00047' 'LNG-00049'\n",
      " 'LNG-00056' 'LNG-00057' 'LNG-00058' 'LNG-00059' 'LNG-00060' 'LNG-00064'\n",
      " 'VTP-00043' 'LNG-00068' 'LNG-00011' 'LNG-00072' 'LNG-00066' 'LNG-00075'\n",
      " 'LNG-00069' 'LNG-00071' 'LNG-00016' 'LNG-00078' 'LNG-00080']\n"
     ]
    }
   ],
   "source": [
    "lng_keys = lng_points_df['point_key'].unique()\n",
    "print(lng_keys)"
   ]
  },
  {
   "cell_type": "code",
   "execution_count": 25,
   "metadata": {},
   "outputs": [],
   "source": [
    "lng_op_data = op_data[op_data['point_key'].isin(lng_keys)]"
   ]
  },
  {
   "cell_type": "code",
   "execution_count": 26,
   "metadata": {},
   "outputs": [],
   "source": [
    "op_lng_keys = lng_op_data['point_key'].unique()"
   ]
  },
  {
   "cell_type": "markdown",
   "metadata": {},
   "source": [
    "NOTE : All keys from op data are matched in lng_keys\n",
    "\n",
    "**TODO** Create a dictionnary with keys as point_keys to retrieve data. Each entry should contain : \n",
    "* point_label\n",
    "* coordinates\n",
    "* is operational\n",
    "* Country\n",
    "\n",
    "Then we must process operational data so that we add the total entry / exit flow for each point. Set all entries/ exits to zero by default\n",
    "\n",
    "IDEA : Instead of doing one file for each month, do a global file for the year with total entries per month and a total for the year"
   ]
  },
  {
   "cell_type": "markdown",
   "metadata": {},
   "source": [
    "## Dictionnary for LNG point key"
   ]
  },
  {
   "cell_type": "markdown",
   "metadata": {},
   "source": [
    "### Point data"
   ]
  },
  {
   "cell_type": "code",
   "execution_count": 27,
   "metadata": {},
   "outputs": [],
   "source": [
    "# LNG DICTIONNARY\n",
    "def process_point_data(points_df,dict):\n",
    "    \"\"\" \n",
    "    Pre : The points_df should contain the following coluns : point_label,coordinates,is_operational,Country\n",
    "    \"\"\"\n",
    "    # Populate the dictionary\n",
    "    for _, row in points_df.iterrows():\n",
    "        point_key = row['point_key']\n",
    "        dict[point_key] = {\n",
    "            'point_label': row['point_label'],\n",
    "            'coordinates': (row['lat'], row['lon']),\n",
    "            'is_operational': row['is_operational'],\n",
    "            'Country': row['Country'],\n",
    "            'total_entries': [0] * 12,  # 12 months, initialized to 0\n",
    "            'total_exits': [0] * 12     # 12 months, initialized to 0\n",
    "        }"
   ]
  },
  {
   "cell_type": "markdown",
   "metadata": {},
   "source": [
    "### Operational data"
   ]
  },
  {
   "cell_type": "markdown",
   "metadata": {},
   "source": [
    "NOTE : These functions can be re-used for all point types"
   ]
  },
  {
   "cell_type": "code",
   "execution_count": 28,
   "metadata": {},
   "outputs": [],
   "source": [
    "def process_monthly_data(dict,op_data, date_idx):\n",
    "    \"\"\" \n",
    "    Pre : Month index is a two-digit string starting from 01 to 12.\n",
    "    Post : Add operational data entries to the corresponding point_key entry in \n",
    "    the dictionnary\n",
    "    \"\"\"\n",
    "    # Aggregate the entries and exits\n",
    "    for _, row in op_data.iterrows():\n",
    "        point_key = row['point_key']\n",
    "        value = row['value']\n",
    "        \n",
    "        # Check flow direction and update accordingly\n",
    "        if row['direction_key'] == 'entry':\n",
    "            dict[point_key]['total_entries'][date_idx] += value\n",
    "        elif row['direction_key'] == 'exit':\n",
    "            dict[point_key]['total_exits'][date_idx] += value"
   ]
  },
  {
   "cell_type": "code",
   "execution_count": 29,
   "metadata": {},
   "outputs": [],
   "source": [
    "def process_total_data(dict,dates,point_keys,directory=\"../data/opData\"):\n",
    "    \"\"\"\n",
    "    Pre : Dates is a list of dates following the same format used when encoding\n",
    "    the csv files (ex : 2019_01, 2019,02,...)\n",
    "    point_keys is the list of keys we want to process the data of\n",
    "    Post : A dictionnary with point_key as keys containing point info and tha total \n",
    "    entries and exits for each month in the dates input\n",
    "    \"\"\"\n",
    "    for date in dates:\n",
    "        op_data = pd.read_csv(f'{directory}/op_data_{date}.csv')\n",
    "        # print(op_data.columns)\n",
    "        filtered_op_data = op_data[op_data['point_key'].isin(point_keys)]\n",
    "\n",
    "        process_monthly_data(dict,filtered_op_data,int(date[-2:])-1)\n",
    "\n",
    "        "
   ]
  },
  {
   "cell_type": "code",
   "execution_count": 30,
   "metadata": {},
   "outputs": [
    {
     "name": "stdout",
     "output_type": "stream",
     "text": [
      "{'point_label': 'Zeebrugge LNG', 'coordinates': (51.333, 3.2), 'is_operational': True, 'Country': 'Belgium', 'total_entries': [2249386658.0, 1599130565.0, 3941278926.0, 0, 0, 0, 0, 0, 0, 0, 0, 0], 'total_exits': [0.0, 0.0, 0.0, 0, 0, 0, 0, 0, 0, 0, 0, 0]}\n"
     ]
    }
   ],
   "source": [
    "# EXAMPLE\n",
    "# Example using 3 first months of 2019\n",
    "\n",
    "lng_op_data_2019 = {}\n",
    "process_point_data(lng_points_df,lng_op_data_2019)\n",
    "process_total_data(lng_op_data_2019,['2019_01','2019_02','2019_03'],lng_keys) \n",
    "\n",
    "print(lng_op_data_2019['LNG-00017'])"
   ]
  },
  {
   "cell_type": "code",
   "execution_count": 31,
   "metadata": {},
   "outputs": [],
   "source": [
    "# GOOD JOB IT WORKS\n",
    "#               ====           ====\n",
    "#             ==    ==       ==    ==\n",
    "#                         mm\n",
    "#             ==                     ==\n",
    "#               ==== ========== ====\n",
    "#                   ============"
   ]
  },
  {
   "cell_type": "markdown",
   "metadata": {},
   "source": [
    "## LNG Map"
   ]
  },
  {
   "cell_type": "code",
   "execution_count": 32,
   "metadata": {},
   "outputs": [],
   "source": [
    "import pandas as pd\n",
    "import plotly.graph_objects as go\n",
    "import plotly.express as px\n",
    "from collections import defaultdict"
   ]
  },
  {
   "cell_type": "code",
   "execution_count": 33,
   "metadata": {},
   "outputs": [],
   "source": [
    "months = ['Jan','Feb','Mar','Apr','May','Jun','Jul','Aug','Sep','Oct','Nov','Dec']"
   ]
  },
  {
   "cell_type": "code",
   "execution_count": 34,
   "metadata": {},
   "outputs": [],
   "source": [
    "def update_max(entries,exits,global_max_entry,global_max_exit):\n",
    "    global_max_entry = max(entries,global_max_entry)\n",
    "    global_max_exit = max(exits,global_max_exit)\n",
    "\n",
    "    return global_max_entry,global_max_exit\n"
   ]
  },
  {
   "cell_type": "code",
   "execution_count": 35,
   "metadata": {},
   "outputs": [],
   "source": [
    "# MAP WITH SIDE BUTTONS\n",
    "# def create_lng_map(lng_data):\n",
    "\n",
    "#     global_max_exit = 0\n",
    "#     global_max_entry = 0\n",
    "\n",
    "#     # Initialize the figure\n",
    "#     fig = go.Figure()\n",
    "    \n",
    "#     # Colors for import and export\n",
    "#     colors = {\n",
    "#         'import': 'ylorrd',\n",
    "#         'export': 'blues'\n",
    "#     }\n",
    "\n",
    "    \n",
    "#     # Create traces for each month\n",
    "#     for month_idx in range(12):\n",
    "#         entries_lats = []\n",
    "#         entries_lons = []\n",
    "#         entries_sizes = []\n",
    "#         entries_labels = []\n",
    "        \n",
    "#         exits_lats = []\n",
    "#         exits_lons = []\n",
    "#         exits_sizes = []\n",
    "#         exits_labels = []\n",
    "\n",
    "#         no_flow_lats = []\n",
    "#         no_flow_lons = []\n",
    "#         no_flow_labels = []\n",
    "        \n",
    "#         for point_key, data in lng_data.items():\n",
    "            \n",
    "#             lat, lon = data['coordinates']\n",
    "#             entries_size = data['total_entries'][month_idx]\n",
    "#             exits_size = data['total_exits'][month_idx]\n",
    "#             label = data['point_label']\n",
    "\n",
    "#             # Update total max values to get the color scale right\n",
    "#             # TODO : Either keep the same scale or change for each month\n",
    "#             # CURRENT : global max value for the year\n",
    "#             global_max_entry,global_max_exit = update_max(entries_size,exits_size,global_max_entry,global_max_exit)\n",
    "            \n",
    "#             if entries_size > 0:\n",
    "#                 entries_lats.append(lat)\n",
    "#                 entries_lons.append(lon)\n",
    "#                 entries_sizes.append(entries_size)\n",
    "#                 entries_labels.append(f'{label}: {entries_size:.2e} kWh/d')\n",
    "                \n",
    "#             if exits_size > 0:\n",
    "#                 exits_lats.append(lat)\n",
    "#                 exits_lons.append(lon)\n",
    "#                 exits_sizes.append(exits_size)\n",
    "#                 exits_labels.append(f'{label}: {exits_size:.2e} kWh/d')\n",
    "\n",
    "#             if entries_size == 0 and exits_size == 0:\n",
    "#                 no_flow_lats.append(lat)\n",
    "#                 no_flow_lons.append(lon)\n",
    "#                 no_flow_labels.append(label)\n",
    "        \n",
    "#         # Add entries trace\n",
    "#         fig.add_trace(go.Scattergeo(\n",
    "#             locationmode='country names',\n",
    "#             lon=entries_lons,\n",
    "#             lat=entries_lats,\n",
    "#             text=entries_labels,\n",
    "#             opacity=0.6,\n",
    "#             marker=dict(\n",
    "#                 size=[s/10000000 for s in entries_sizes],  # Adjust size scale\n",
    "#                 color=entries_sizes,\n",
    "#                 colorscale=colors['import'],\n",
    "#                 colorbar=dict(\n",
    "#                     title=\"Import\",\n",
    "#                     titleside=\"right\",\n",
    "#                     tickmode=\"array\",\n",
    "#                     tickvals=[0, global_max_entry],\n",
    "#                     ticktext=[\"0\", f\"{global_max_entry:.2e}\"]),\n",
    "#                 line_width=0.5,\n",
    "#                 sizemode='area'\n",
    "#             ),\n",
    "#             name=f'Entries - {months[month_idx]}',\n",
    "#             visible=(month_idx == 0)  # Only the first month is visible initially\n",
    "#         ))\n",
    "#         # Add exits trace\n",
    "#         fig.add_trace(go.Scattergeo(\n",
    "#             locationmode='country names',\n",
    "#             lon=exits_lons,\n",
    "#             lat=exits_lats,\n",
    "#             text=exits_labels,\n",
    "#             marker=dict(\n",
    "#                 size=[s/10000000 for s in exits_sizes],  # Adjust size scale\n",
    "#                 color=exits_sizes,\n",
    "#                 colorscale=colors['export'],\n",
    "#                 colorbar=dict(\n",
    "#                     title=\"Export\",\n",
    "#                     titleside=\"right\",\n",
    "#                     tickmode=\"array\",\n",
    "#                     tickvals=[0, global_max_exit],\n",
    "#                     ticktext=[\"0\", f\"{global_max_exit:.2e}\"]),\n",
    "#                 line_width=0.5,\n",
    "#                 sizemode='area'\n",
    "#             ),\n",
    "#             name=f'Exits - {months[month_idx]}',\n",
    "#             visible=(month_idx == 0)  # Only the first month is visible initially\n",
    "#         ))\n",
    "#         # Add no flow trace\n",
    "#         fig.add_trace(go.Scattergeo(\n",
    "#             locationmode='country names',\n",
    "#             lon=no_flow_lons,\n",
    "#             lat=no_flow_lats,\n",
    "#             text=no_flow_labels,\n",
    "#             marker=dict(\n",
    "#                 size=5,  # Fixed size for no flow points\n",
    "#                 color='black',\n",
    "#                 line_width=0.5,\n",
    "#                 sizemode='area'\n",
    "#             ),\n",
    "#             name=f'No Flow - {months[month_idx]}',\n",
    "#             visible=(month_idx == 0)  # Only the first month is visible initially\n",
    "#         ))\n",
    "    \n",
    "#     # Create buttons for each month\n",
    "#     buttons = []\n",
    "#     for month_idx in range(12):\n",
    "#         buttons.append(dict(\n",
    "#             method='restyle',\n",
    "#             label=f'{months[month_idx]}',\n",
    "#             args=[{\n",
    "#                 'visible': [i//3 == month_idx for i in range(36)]\n",
    "#             }]\n",
    "#         ))\n",
    "#     # Update display layout\n",
    "#     # fig.update_layout(\n",
    "#     #     margin={\"r\":0,\"t\":0,\"l\":0,\"b\":0,\"autoexpand\":True},\n",
    "#     #     width=800\n",
    "\n",
    "#     # )\n",
    "#     fig.update_geos(\n",
    "#         center = {\"lat\": 50.5, \"lon\": 15.2551},\n",
    "#             projection_scale = 4.3,         \n",
    "#     )\n",
    "    \n",
    "#     # Add buttons to the layout\n",
    "#     fig.update_layout(\n",
    "#         updatemenus=[{\n",
    "#             'buttons': buttons,\n",
    "#             'direction': 'down',\n",
    "#             'type': 'buttons',\n",
    "#         }],\n",
    "#         title='LNG Imports and Exports',\n",
    "#         width=1000, height=1000,\n",
    "#         geo=dict(\n",
    "#             projection_type='mercator',\n",
    "#             showland=True,\n",
    "#             showcountries=True,\n",
    "#             landcolor='rgb(217, 217, 217)',\n",
    "#             subunitwidth=1,\n",
    "#             countrywidth=1,\n",
    "#             subunitcolor='rgb(255, 255, 255)',\n",
    "#             countrycolor='rgb(255, 255, 255)'\n",
    "#         ),\n",
    "#         coloraxis=dict(\n",
    "#             colorscale=colors['import'],\n",
    "#             cmin=0,\n",
    "#             cmax=global_max_entry,\n",
    "#             colorbar=dict(title=\"Flow (kWh/d)\")\n",
    "#         )\n",
    "#     )\n",
    "    \n",
    "#     fig.show()\n"
   ]
  },
  {
   "cell_type": "code",
   "execution_count": 36,
   "metadata": {},
   "outputs": [],
   "source": [
    "# MAP WITH SLIDER\n",
    "def create_lng_map(lng_data):\n",
    "\n",
    "    global_max_exit = 0\n",
    "    global_max_entry = 0\n",
    "\n",
    "    # Initialize the figure\n",
    "    fig = go.Figure()\n",
    "    \n",
    "    # Colors for import and export\n",
    "    colors = {\n",
    "        'import': 'ylorrd',\n",
    "        'export': 'blues'\n",
    "    }\n",
    "\n",
    "    \n",
    "    # Create traces for each month\n",
    "    for month_idx in range(12):\n",
    "        entries_lats = []\n",
    "        entries_lons = []\n",
    "        entries_sizes = []\n",
    "        entries_labels = []\n",
    "        \n",
    "        exits_lats = []\n",
    "        exits_lons = []\n",
    "        exits_sizes = []\n",
    "        exits_labels = []\n",
    "\n",
    "        no_flow_lats = []\n",
    "        no_flow_lons = []\n",
    "        no_flow_labels = []\n",
    "        \n",
    "        for point_key, data in lng_data.items():\n",
    "            \n",
    "            lat, lon = data['coordinates']\n",
    "            entries_size = data['total_entries'][month_idx]\n",
    "            exits_size = data['total_exits'][month_idx]\n",
    "            label = data['point_label']\n",
    "\n",
    "            # Update total max values to get the color scale right\n",
    "            # TODO : Either keep the same scale or change for each month\n",
    "            # CURRENT : global max value for the year\n",
    "            global_max_entry,global_max_exit = update_max(entries_size,exits_size,global_max_entry,global_max_exit)\n",
    "            \n",
    "            if entries_size > 0:\n",
    "                entries_lats.append(lat)\n",
    "                entries_lons.append(lon)\n",
    "                entries_sizes.append(entries_size)\n",
    "                entries_labels.append(f'{label}: {entries_size:.2e} kWh/d')\n",
    "                \n",
    "            if exits_size > 0:\n",
    "                exits_lats.append(lat)\n",
    "                exits_lons.append(lon)\n",
    "                exits_sizes.append(exits_size)\n",
    "                exits_labels.append(f'{label}: {exits_size:.2e} kWh/d')\n",
    "\n",
    "            if entries_size == 0 and exits_size == 0:\n",
    "                no_flow_lats.append(lat)\n",
    "                no_flow_lons.append(lon)\n",
    "                no_flow_labels.append(label)\n",
    "        \n",
    "        # Add entries trace\n",
    "        fig.add_trace(go.Scattergeo(\n",
    "            locationmode='country names',\n",
    "            lon=entries_lons,\n",
    "            lat=entries_lats,\n",
    "            text=entries_labels,\n",
    "            opacity=0.6,\n",
    "            marker=dict(\n",
    "                size=[s/10000000 for s in entries_sizes],  # Adjust size scale\n",
    "                color=entries_sizes,\n",
    "                colorscale=colors['import'],\n",
    "                colorbar=dict(\n",
    "                    title=\"Import\",\n",
    "                    titleside=\"right\",\n",
    "                    tickmode=\"array\",\n",
    "                    tickvals=[0, global_max_entry],\n",
    "                    ticktext=[\"0\", f\"{global_max_entry:.2e}\"]),\n",
    "                line_width=0.5,\n",
    "                sizemode='area'\n",
    "            ),\n",
    "            name=f'Entries - {months[month_idx]}',\n",
    "            visible=(month_idx == 0)  # Only the first month is visible initially\n",
    "        ))\n",
    "        # Add exits trace\n",
    "        fig.add_trace(go.Scattergeo(\n",
    "            locationmode='country names',\n",
    "            lon=exits_lons,\n",
    "            lat=exits_lats,\n",
    "            text=exits_labels,\n",
    "            marker=dict(\n",
    "                size=[s/10000000 for s in exits_sizes],  # Adjust size scale\n",
    "                color=exits_sizes,\n",
    "                colorscale=colors['export'],\n",
    "                colorbar=dict(\n",
    "                    title=\"Export\",\n",
    "                    titleside=\"right\",\n",
    "                    tickmode=\"array\",\n",
    "                    tickvals=[0, global_max_exit],\n",
    "                    ticktext=[\"0\", f\"{global_max_exit:.2e}\"]),\n",
    "                line_width=0.5,\n",
    "                sizemode='area'\n",
    "            ),\n",
    "            name=f'Exits - {months[month_idx]}',\n",
    "            visible=(month_idx == 0)  # Only the first month is visible initially\n",
    "        ))\n",
    "        # Add no flow trace\n",
    "        fig.add_trace(go.Scattergeo(\n",
    "            locationmode='country names',\n",
    "            lon=no_flow_lons,\n",
    "            lat=no_flow_lats,\n",
    "            text=no_flow_labels,\n",
    "            marker=dict(\n",
    "                size=5,  # Fixed size for no flow points\n",
    "                color='black',\n",
    "                line_width=0.5,\n",
    "                sizemode='area'\n",
    "            ),\n",
    "            name=f'No Flow - {months[month_idx]}',\n",
    "            visible=(month_idx == 0)  # Only the first month is visible initially\n",
    "        ))\n",
    "    \n",
    "    # Create slider\n",
    "    steps = []\n",
    "    for month_idx in range(12):\n",
    "        step = dict(\n",
    "            method='update',\n",
    "            label=f'{months[month_idx]}',\n",
    "            args=[{\n",
    "                'visible': [i//3 == month_idx for i in range(36)]\n",
    "            }]\n",
    "        )\n",
    "        steps.append(step)\n",
    "\n",
    "    fig.update_geos(\n",
    "        center = {\"lat\": 50.5, \"lon\": 15.2551},\n",
    "            projection_scale = 4.3,         \n",
    "    )\n",
    "    \n",
    "    # Add slider to the layout\n",
    "    fig.update_layout(\n",
    "        sliders = [{\n",
    "            'active': 0,\n",
    "            'steps': steps,\n",
    "            'currentvalue':{\"prefix\": \"Month: \"},\n",
    "            'pad':{\"t\": 50},\n",
    "        }],\n",
    "        \n",
    "        title='LNG Imports and Exports',\n",
    "        width=1000, height=1000,\n",
    "        geo=dict(\n",
    "            projection_type='mercator',\n",
    "            showland=True,\n",
    "            showcountries=True,\n",
    "            landcolor='rgb(217, 217, 217)',\n",
    "            subunitwidth=1,\n",
    "            countrywidth=1,\n",
    "            subunitcolor='rgb(255, 255, 255)',\n",
    "            countrycolor='rgb(255, 255, 255)'\n",
    "        ),\n",
    "        coloraxis=dict(\n",
    "            colorscale=colors['import'],\n",
    "            cmin=0,\n",
    "            cmax=global_max_entry,\n",
    "            colorbar=dict(title=\"Flow (kWh/d)\")\n",
    "        )\n",
    "    )\n",
    "    \n",
    "    fig.show()\n"
   ]
  },
  {
   "cell_type": "markdown",
   "metadata": {},
   "source": [
    "Issues & choices:\n",
    "* Scale\n",
    "* "
   ]
  },
  {
   "cell_type": "code",
   "execution_count": 37,
   "metadata": {},
   "outputs": [
    {
     "data": {
      "application/vnd.plotly.v1+json": {
       "config": {
        "plotlyServerURL": "https://plot.ly"
       },
       "data": [
        {
         "lat": [
          43.067,
          53.917,
          51.45,
          41.35,
          43.333,
          37.95,
          45.067,
          51.333,
          37.2,
          44.1,
          37.6,
          39.667,
          47.283,
          37.95,
          51.95,
          43.367,
          55.7,
          51.7
         ],
         "locationmode": "country names",
         "lon": [
          10.067,
          14.25,
          -0.75,
          2.167,
          -3,
          23.55,
          12.3,
          3.2,
          -6.95,
          9.817,
          -0.983,
          -0.217,
          -2.117,
          -8.867,
          4.05,
          4.95,
          21.15,
          -5.05
         ],
         "marker": {
          "color": [
           527117155,
           995690766,
           2386829339,
           1952384514,
           1398714753,
           1285529257,
           2619985420,
           2249386658,
           1031197369,
           450251059,
           449526798,
           31643759,
           1895992581,
           1616938326,
           2956230277.8,
           2031766447,
           42316742,
           3433971510
          ],
          "colorbar": {
           "tickmode": "array",
           "ticktext": [
            "0",
            "3.43e+09"
           ],
           "tickvals": [
            0,
            3433971510
           ],
           "title": {
            "side": "right",
            "text": "Import"
           }
          },
          "colorscale": [
           [
            0,
            "rgb(255,255,204)"
           ],
           [
            0.125,
            "rgb(255,237,160)"
           ],
           [
            0.25,
            "rgb(254,217,118)"
           ],
           [
            0.375,
            "rgb(254,178,76)"
           ],
           [
            0.5,
            "rgb(253,141,60)"
           ],
           [
            0.625,
            "rgb(252,78,42)"
           ],
           [
            0.75,
            "rgb(227,26,28)"
           ],
           [
            0.875,
            "rgb(189,0,38)"
           ],
           [
            1,
            "rgb(128,0,38)"
           ]
          ],
          "line": {
           "width": 0.5
          },
          "size": [
           52.7117155,
           99.5690766,
           238.6829339,
           195.2384514,
           139.8714753,
           128.5529257,
           261.998542,
           224.9386658,
           103.1197369,
           45.0251059,
           44.9526798,
           3.1643759,
           189.5992581,
           161.6938326,
           295.62302778000003,
           203.1766447,
           4.2316742,
           343.397151
          ],
          "sizemode": "area"
         },
         "name": "Entries - Jan",
         "opacity": 0.6,
         "text": [
          "OLT LNG / Livorno: 5.27e+08 kWh/d",
          "Swinoujscie: 9.96e+08 kWh/d",
          "Isle of Grain: 2.39e+09 kWh/d",
          "Barcelona: 1.95e+09 kWh/d",
          "Bilbao: 1.40e+09 kWh/d",
          "Agia Triada: 1.29e+09 kWh/d",
          "Cavarzere (Porto Levante / Adriatic LNG): 2.62e+09 kWh/d",
          "Zeebrugge LNG: 2.25e+09 kWh/d",
          "Huelva: 1.03e+09 kWh/d",
          "Panigaglia: 4.50e+08 kWh/d",
          "Cartagena: 4.50e+08 kWh/d",
          "Sagunto: 3.16e+07 kWh/d",
          "Montoir de Bretagne: 1.90e+09 kWh/d",
          "Sines: 1.62e+09 kWh/d",
          "Gate Terminal (I): 2.96e+09 kWh/d",
          "Fos (Tonkin/Cavaou): 2.03e+09 kWh/d",
          "Klaipeda (LNG): 4.23e+07 kWh/d",
          "Milford Haven: 3.43e+09 kWh/d"
         ],
         "type": "scattergeo",
         "visible": true
        },
        {
         "lat": [],
         "locationmode": "country names",
         "lon": [],
         "marker": {
          "color": [],
          "colorbar": {
           "tickmode": "array",
           "ticktext": [
            "0",
            "0.00e+00"
           ],
           "tickvals": [
            0,
            0
           ],
           "title": {
            "side": "right",
            "text": "Export"
           }
          },
          "colorscale": [
           [
            0,
            "rgb(247,251,255)"
           ],
           [
            0.125,
            "rgb(222,235,247)"
           ],
           [
            0.25,
            "rgb(198,219,239)"
           ],
           [
            0.375,
            "rgb(158,202,225)"
           ],
           [
            0.5,
            "rgb(107,174,214)"
           ],
           [
            0.625,
            "rgb(66,146,198)"
           ],
           [
            0.75,
            "rgb(33,113,181)"
           ],
           [
            0.875,
            "rgb(8,81,156)"
           ],
           [
            1,
            "rgb(8,48,107)"
           ]
          ],
          "line": {
           "width": 0.5
          },
          "size": [],
          "sizemode": "area"
         },
         "name": "Exits - Jan",
         "text": [],
         "type": "scattergeo",
         "visible": true
        },
        {
         "lat": [
          40.833,
          59.367,
          43.483,
          45.15,
          35.833,
          59.467,
          37.95,
          52.567,
          40.833,
          57.7,
          45.65,
          51.05,
          56.95,
          53.917,
          51.883,
          39.15,
          53.85,
          34.667,
          51.95,
          53.45,
          60.567,
          60.017,
          53.517,
          54.117,
          43.067,
          49.483,
          43.55,
          53.6,
          53.517
         ],
         "locationmode": "country names",
         "lon": [
          25.872,
          24.05,
          -8.25,
          14.567,
          14.55,
          24.75,
          23.55,
          -9.5,
          25.872,
          11.867,
          13.767,
          2.367,
          24.1,
          14.25,
          -8.3,
          9.1,
          9.117,
          33.033,
          4.05,
          6.85,
          27.183,
          24.017,
          8.117,
          13.75,
          10.067,
          0.00011700000000000001,
          -5.95,
          9.467,
          8.117
         ],
         "marker": {
          "color": "black",
          "line": {
           "width": 0.5
          },
          "size": 5,
          "sizemode": "area"
         },
         "name": "No Flow - Jan",
         "text": [
          "Alexandroupolis LNG",
          "Paldiski LNG",
          "Mugardos",
          "Croatia LNG",
          "Malta FSRU Offshore Terminal",
          "Tallinn LNG",
          "Aegean LNG",
          "Shannon LNG",
          "Alexandroupolis Amphitriti",
          "Gothenburg LNG",
          "Zaule LNG (Trieste)",
          "Dunkerque LNG",
          "Skulte (LV)",
          "FSRU Polish Baltic Sea Coast",
          "Cork LNG (IE)",
          "Sardinia LNG",
          "BRUNSBUETTEL HAFEN (FSRU) (DE)",
          "Terminal 2 Vassiliko - Lemesos Port",
          "TVB",
          "Eems Energy Terminal",
          "Hamina LNG",
          "Inkoo LNG (FI)",
          "Wilhelmshaven, LNG-Terminal 1 (DE)",
          "Baltic Energy Gate (Port) (DE)",
          "FSRU ITALIA_PIOMBINO TERMINAL",
          "Le Havre (FR)",
          "Musel",
          "STADE HAFEN (FSRU) - LNG",
          "Wilhelmshaven, LNG-Terminal 2"
         ],
         "type": "scattergeo",
         "visible": true
        },
        {
         "lat": [
          43.067,
          53.917,
          51.45,
          41.35,
          43.333,
          37.95,
          45.067,
          51.333,
          37.2,
          44.1,
          37.6,
          39.667,
          47.283,
          37.95,
          51.95,
          43.367,
          55.7,
          51.7
         ],
         "locationmode": "country names",
         "lon": [
          10.067,
          14.25,
          -0.75,
          2.167,
          -3,
          23.55,
          12.3,
          3.2,
          -6.95,
          9.817,
          -0.983,
          -0.217,
          -2.117,
          -8.867,
          4.05,
          4.95,
          21.15,
          -5.05
         ],
         "marker": {
          "color": [
           1053766812,
           1295895303,
           1850913143,
           1839183428,
           1271263781,
           626498287,
           2137949084,
           1599130565,
           1594347525,
           830431573,
           461846458,
           30885639,
           404515186,
           1748143484,
           1915099999.8999999,
           427931041,
           22962120,
           4241112286
          ],
          "colorbar": {
           "tickmode": "array",
           "ticktext": [
            "0",
            "4.24e+09"
           ],
           "tickvals": [
            0,
            4241112286
           ],
           "title": {
            "side": "right",
            "text": "Import"
           }
          },
          "colorscale": [
           [
            0,
            "rgb(255,255,204)"
           ],
           [
            0.125,
            "rgb(255,237,160)"
           ],
           [
            0.25,
            "rgb(254,217,118)"
           ],
           [
            0.375,
            "rgb(254,178,76)"
           ],
           [
            0.5,
            "rgb(253,141,60)"
           ],
           [
            0.625,
            "rgb(252,78,42)"
           ],
           [
            0.75,
            "rgb(227,26,28)"
           ],
           [
            0.875,
            "rgb(189,0,38)"
           ],
           [
            1,
            "rgb(128,0,38)"
           ]
          ],
          "line": {
           "width": 0.5
          },
          "size": [
           105.3766812,
           129.5895303,
           185.0913143,
           183.9183428,
           127.1263781,
           62.6498287,
           213.7949084,
           159.9130565,
           159.4347525,
           83.0431573,
           46.1846458,
           3.0885639,
           40.4515186,
           174.8143484,
           191.50999998999998,
           42.7931041,
           2.296212,
           424.1112286
          ],
          "sizemode": "area"
         },
         "name": "Entries - Feb",
         "opacity": 0.6,
         "text": [
          "OLT LNG / Livorno: 1.05e+09 kWh/d",
          "Swinoujscie: 1.30e+09 kWh/d",
          "Isle of Grain: 1.85e+09 kWh/d",
          "Barcelona: 1.84e+09 kWh/d",
          "Bilbao: 1.27e+09 kWh/d",
          "Agia Triada: 6.26e+08 kWh/d",
          "Cavarzere (Porto Levante / Adriatic LNG): 2.14e+09 kWh/d",
          "Zeebrugge LNG: 1.60e+09 kWh/d",
          "Huelva: 1.59e+09 kWh/d",
          "Panigaglia: 8.30e+08 kWh/d",
          "Cartagena: 4.62e+08 kWh/d",
          "Sagunto: 3.09e+07 kWh/d",
          "Montoir de Bretagne: 4.05e+08 kWh/d",
          "Sines: 1.75e+09 kWh/d",
          "Gate Terminal (I): 1.92e+09 kWh/d",
          "Fos (Tonkin/Cavaou): 4.28e+08 kWh/d",
          "Klaipeda (LNG): 2.30e+07 kWh/d",
          "Milford Haven: 4.24e+09 kWh/d"
         ],
         "type": "scattergeo",
         "visible": false
        },
        {
         "lat": [],
         "locationmode": "country names",
         "lon": [],
         "marker": {
          "color": [],
          "colorbar": {
           "tickmode": "array",
           "ticktext": [
            "0",
            "0.00e+00"
           ],
           "tickvals": [
            0,
            0
           ],
           "title": {
            "side": "right",
            "text": "Export"
           }
          },
          "colorscale": [
           [
            0,
            "rgb(247,251,255)"
           ],
           [
            0.125,
            "rgb(222,235,247)"
           ],
           [
            0.25,
            "rgb(198,219,239)"
           ],
           [
            0.375,
            "rgb(158,202,225)"
           ],
           [
            0.5,
            "rgb(107,174,214)"
           ],
           [
            0.625,
            "rgb(66,146,198)"
           ],
           [
            0.75,
            "rgb(33,113,181)"
           ],
           [
            0.875,
            "rgb(8,81,156)"
           ],
           [
            1,
            "rgb(8,48,107)"
           ]
          ],
          "line": {
           "width": 0.5
          },
          "size": [],
          "sizemode": "area"
         },
         "name": "Exits - Feb",
         "text": [],
         "type": "scattergeo",
         "visible": false
        },
        {
         "lat": [
          40.833,
          59.367,
          43.483,
          45.15,
          35.833,
          59.467,
          37.95,
          52.567,
          40.833,
          57.7,
          45.65,
          51.05,
          56.95,
          53.917,
          51.883,
          39.15,
          53.85,
          34.667,
          51.95,
          53.45,
          60.567,
          60.017,
          53.517,
          54.117,
          43.067,
          49.483,
          43.55,
          53.6,
          53.517
         ],
         "locationmode": "country names",
         "lon": [
          25.872,
          24.05,
          -8.25,
          14.567,
          14.55,
          24.75,
          23.55,
          -9.5,
          25.872,
          11.867,
          13.767,
          2.367,
          24.1,
          14.25,
          -8.3,
          9.1,
          9.117,
          33.033,
          4.05,
          6.85,
          27.183,
          24.017,
          8.117,
          13.75,
          10.067,
          0.00011700000000000001,
          -5.95,
          9.467,
          8.117
         ],
         "marker": {
          "color": "black",
          "line": {
           "width": 0.5
          },
          "size": 5,
          "sizemode": "area"
         },
         "name": "No Flow - Feb",
         "text": [
          "Alexandroupolis LNG",
          "Paldiski LNG",
          "Mugardos",
          "Croatia LNG",
          "Malta FSRU Offshore Terminal",
          "Tallinn LNG",
          "Aegean LNG",
          "Shannon LNG",
          "Alexandroupolis Amphitriti",
          "Gothenburg LNG",
          "Zaule LNG (Trieste)",
          "Dunkerque LNG",
          "Skulte (LV)",
          "FSRU Polish Baltic Sea Coast",
          "Cork LNG (IE)",
          "Sardinia LNG",
          "BRUNSBUETTEL HAFEN (FSRU) (DE)",
          "Terminal 2 Vassiliko - Lemesos Port",
          "TVB",
          "Eems Energy Terminal",
          "Hamina LNG",
          "Inkoo LNG (FI)",
          "Wilhelmshaven, LNG-Terminal 1 (DE)",
          "Baltic Energy Gate (Port) (DE)",
          "FSRU ITALIA_PIOMBINO TERMINAL",
          "Le Havre (FR)",
          "Musel",
          "STADE HAFEN (FSRU) - LNG",
          "Wilhelmshaven, LNG-Terminal 2"
         ],
         "type": "scattergeo",
         "visible": false
        },
        {
         "lat": [
          43.067,
          53.917,
          51.45,
          41.35,
          43.333,
          37.95,
          45.067,
          51.333,
          37.2,
          44.1,
          37.6,
          39.667,
          47.283,
          37.95,
          51.95,
          43.367,
          51.7
         ],
         "locationmode": "country names",
         "lon": [
          10.067,
          14.25,
          -0.75,
          2.167,
          -3,
          23.55,
          12.3,
          3.2,
          -6.95,
          9.817,
          -0.983,
          -0.217,
          -2.117,
          -8.867,
          4.05,
          4.95,
          -5.05
         ],
         "marker": {
          "color": [
           431032065,
           350757760,
           1354849429,
           1869878711,
           1629902486,
           907478831,
           2566469567,
           3941278926,
           1528345456,
           1117986809,
           352514264,
           30240764,
           3614380755,
           1461867378,
           2073301111.1000001,
           2742447328,
           4587837114
          ],
          "colorbar": {
           "tickmode": "array",
           "ticktext": [
            "0",
            "4.59e+09"
           ],
           "tickvals": [
            0,
            4587837114
           ],
           "title": {
            "side": "right",
            "text": "Import"
           }
          },
          "colorscale": [
           [
            0,
            "rgb(255,255,204)"
           ],
           [
            0.125,
            "rgb(255,237,160)"
           ],
           [
            0.25,
            "rgb(254,217,118)"
           ],
           [
            0.375,
            "rgb(254,178,76)"
           ],
           [
            0.5,
            "rgb(253,141,60)"
           ],
           [
            0.625,
            "rgb(252,78,42)"
           ],
           [
            0.75,
            "rgb(227,26,28)"
           ],
           [
            0.875,
            "rgb(189,0,38)"
           ],
           [
            1,
            "rgb(128,0,38)"
           ]
          ],
          "line": {
           "width": 0.5
          },
          "size": [
           43.1032065,
           35.075776,
           135.4849429,
           186.9878711,
           162.9902486,
           90.7478831,
           256.6469567,
           394.1278926,
           152.8345456,
           111.7986809,
           35.2514264,
           3.0240764,
           361.4380755,
           146.1867378,
           207.33011111000002,
           274.2447328,
           458.7837114
          ],
          "sizemode": "area"
         },
         "name": "Entries - Mar",
         "opacity": 0.6,
         "text": [
          "OLT LNG / Livorno: 4.31e+08 kWh/d",
          "Swinoujscie: 3.51e+08 kWh/d",
          "Isle of Grain: 1.35e+09 kWh/d",
          "Barcelona: 1.87e+09 kWh/d",
          "Bilbao: 1.63e+09 kWh/d",
          "Agia Triada: 9.07e+08 kWh/d",
          "Cavarzere (Porto Levante / Adriatic LNG): 2.57e+09 kWh/d",
          "Zeebrugge LNG: 3.94e+09 kWh/d",
          "Huelva: 1.53e+09 kWh/d",
          "Panigaglia: 1.12e+09 kWh/d",
          "Cartagena: 3.53e+08 kWh/d",
          "Sagunto: 3.02e+07 kWh/d",
          "Montoir de Bretagne: 3.61e+09 kWh/d",
          "Sines: 1.46e+09 kWh/d",
          "Gate Terminal (I): 2.07e+09 kWh/d",
          "Fos (Tonkin/Cavaou): 2.74e+09 kWh/d",
          "Milford Haven: 4.59e+09 kWh/d"
         ],
         "type": "scattergeo",
         "visible": false
        },
        {
         "lat": [],
         "locationmode": "country names",
         "lon": [],
         "marker": {
          "color": [],
          "colorbar": {
           "tickmode": "array",
           "ticktext": [
            "0",
            "0.00e+00"
           ],
           "tickvals": [
            0,
            0
           ],
           "title": {
            "side": "right",
            "text": "Export"
           }
          },
          "colorscale": [
           [
            0,
            "rgb(247,251,255)"
           ],
           [
            0.125,
            "rgb(222,235,247)"
           ],
           [
            0.25,
            "rgb(198,219,239)"
           ],
           [
            0.375,
            "rgb(158,202,225)"
           ],
           [
            0.5,
            "rgb(107,174,214)"
           ],
           [
            0.625,
            "rgb(66,146,198)"
           ],
           [
            0.75,
            "rgb(33,113,181)"
           ],
           [
            0.875,
            "rgb(8,81,156)"
           ],
           [
            1,
            "rgb(8,48,107)"
           ]
          ],
          "line": {
           "width": 0.5
          },
          "size": [],
          "sizemode": "area"
         },
         "name": "Exits - Mar",
         "text": [],
         "type": "scattergeo",
         "visible": false
        },
        {
         "lat": [
          40.833,
          59.367,
          43.483,
          55.7,
          45.15,
          35.833,
          59.467,
          37.95,
          52.567,
          40.833,
          57.7,
          45.65,
          51.05,
          56.95,
          53.917,
          51.883,
          39.15,
          53.85,
          34.667,
          51.95,
          53.45,
          60.567,
          60.017,
          53.517,
          54.117,
          43.067,
          49.483,
          43.55,
          53.6,
          53.517
         ],
         "locationmode": "country names",
         "lon": [
          25.872,
          24.05,
          -8.25,
          21.15,
          14.567,
          14.55,
          24.75,
          23.55,
          -9.5,
          25.872,
          11.867,
          13.767,
          2.367,
          24.1,
          14.25,
          -8.3,
          9.1,
          9.117,
          33.033,
          4.05,
          6.85,
          27.183,
          24.017,
          8.117,
          13.75,
          10.067,
          0.00011700000000000001,
          -5.95,
          9.467,
          8.117
         ],
         "marker": {
          "color": "black",
          "line": {
           "width": 0.5
          },
          "size": 5,
          "sizemode": "area"
         },
         "name": "No Flow - Mar",
         "text": [
          "Alexandroupolis LNG",
          "Paldiski LNG",
          "Mugardos",
          "Klaipeda (LNG)",
          "Croatia LNG",
          "Malta FSRU Offshore Terminal",
          "Tallinn LNG",
          "Aegean LNG",
          "Shannon LNG",
          "Alexandroupolis Amphitriti",
          "Gothenburg LNG",
          "Zaule LNG (Trieste)",
          "Dunkerque LNG",
          "Skulte (LV)",
          "FSRU Polish Baltic Sea Coast",
          "Cork LNG (IE)",
          "Sardinia LNG",
          "BRUNSBUETTEL HAFEN (FSRU) (DE)",
          "Terminal 2 Vassiliko - Lemesos Port",
          "TVB",
          "Eems Energy Terminal",
          "Hamina LNG",
          "Inkoo LNG (FI)",
          "Wilhelmshaven, LNG-Terminal 1 (DE)",
          "Baltic Energy Gate (Port) (DE)",
          "FSRU ITALIA_PIOMBINO TERMINAL",
          "Le Havre (FR)",
          "Musel",
          "STADE HAFEN (FSRU) - LNG",
          "Wilhelmshaven, LNG-Terminal 2"
         ],
         "type": "scattergeo",
         "visible": false
        },
        {
         "lat": [
          43.067,
          53.917,
          51.45,
          41.35,
          43.333,
          37.95,
          45.067,
          51.333,
          37.2,
          44.1,
          37.6,
          39.667,
          47.283,
          37.95,
          51.95,
          43.367,
          55.7,
          51.7
         ],
         "locationmode": "country names",
         "lon": [
          10.067,
          14.25,
          -0.75,
          2.167,
          -3,
          23.55,
          12.3,
          3.2,
          -6.95,
          9.817,
          -0.983,
          -0.217,
          -2.117,
          -8.867,
          4.05,
          4.95,
          21.15,
          -5.05
         ],
         "marker": {
          "color": [
           1361221800,
           849570133,
           2155992591,
           2415197778,
           968967227,
           385237029,
           1918464630,
           3107743081,
           2053334686,
           1078645129,
           370428641,
           308410036,
           3684048260,
           1466684121,
           4146530277.7,
           3374293589,
           618333273,
           6159563068
          ],
          "colorbar": {
           "tickmode": "array",
           "ticktext": [
            "0",
            "6.16e+09"
           ],
           "tickvals": [
            0,
            6159563068
           ],
           "title": {
            "side": "right",
            "text": "Import"
           }
          },
          "colorscale": [
           [
            0,
            "rgb(255,255,204)"
           ],
           [
            0.125,
            "rgb(255,237,160)"
           ],
           [
            0.25,
            "rgb(254,217,118)"
           ],
           [
            0.375,
            "rgb(254,178,76)"
           ],
           [
            0.5,
            "rgb(253,141,60)"
           ],
           [
            0.625,
            "rgb(252,78,42)"
           ],
           [
            0.75,
            "rgb(227,26,28)"
           ],
           [
            0.875,
            "rgb(189,0,38)"
           ],
           [
            1,
            "rgb(128,0,38)"
           ]
          ],
          "line": {
           "width": 0.5
          },
          "size": [
           136.12218,
           84.9570133,
           215.5992591,
           241.5197778,
           96.8967227,
           38.5237029,
           191.846463,
           310.7743081,
           205.3334686,
           107.8645129,
           37.0428641,
           30.8410036,
           368.404826,
           146.6684121,
           414.65302777,
           337.4293589,
           61.8333273,
           615.9563068
          ],
          "sizemode": "area"
         },
         "name": "Entries - Apr",
         "opacity": 0.6,
         "text": [
          "OLT LNG / Livorno: 1.36e+09 kWh/d",
          "Swinoujscie: 8.50e+08 kWh/d",
          "Isle of Grain: 2.16e+09 kWh/d",
          "Barcelona: 2.42e+09 kWh/d",
          "Bilbao: 9.69e+08 kWh/d",
          "Agia Triada: 3.85e+08 kWh/d",
          "Cavarzere (Porto Levante / Adriatic LNG): 1.92e+09 kWh/d",
          "Zeebrugge LNG: 3.11e+09 kWh/d",
          "Huelva: 2.05e+09 kWh/d",
          "Panigaglia: 1.08e+09 kWh/d",
          "Cartagena: 3.70e+08 kWh/d",
          "Sagunto: 3.08e+08 kWh/d",
          "Montoir de Bretagne: 3.68e+09 kWh/d",
          "Sines: 1.47e+09 kWh/d",
          "Gate Terminal (I): 4.15e+09 kWh/d",
          "Fos (Tonkin/Cavaou): 3.37e+09 kWh/d",
          "Klaipeda (LNG): 6.18e+08 kWh/d",
          "Milford Haven: 6.16e+09 kWh/d"
         ],
         "type": "scattergeo",
         "visible": false
        },
        {
         "lat": [],
         "locationmode": "country names",
         "lon": [],
         "marker": {
          "color": [],
          "colorbar": {
           "tickmode": "array",
           "ticktext": [
            "0",
            "0.00e+00"
           ],
           "tickvals": [
            0,
            0
           ],
           "title": {
            "side": "right",
            "text": "Export"
           }
          },
          "colorscale": [
           [
            0,
            "rgb(247,251,255)"
           ],
           [
            0.125,
            "rgb(222,235,247)"
           ],
           [
            0.25,
            "rgb(198,219,239)"
           ],
           [
            0.375,
            "rgb(158,202,225)"
           ],
           [
            0.5,
            "rgb(107,174,214)"
           ],
           [
            0.625,
            "rgb(66,146,198)"
           ],
           [
            0.75,
            "rgb(33,113,181)"
           ],
           [
            0.875,
            "rgb(8,81,156)"
           ],
           [
            1,
            "rgb(8,48,107)"
           ]
          ],
          "line": {
           "width": 0.5
          },
          "size": [],
          "sizemode": "area"
         },
         "name": "Exits - Apr",
         "text": [],
         "type": "scattergeo",
         "visible": false
        },
        {
         "lat": [
          40.833,
          59.367,
          43.483,
          45.15,
          35.833,
          59.467,
          37.95,
          52.567,
          40.833,
          57.7,
          45.65,
          51.05,
          56.95,
          53.917,
          51.883,
          39.15,
          53.85,
          34.667,
          51.95,
          53.45,
          60.567,
          60.017,
          53.517,
          54.117,
          43.067,
          49.483,
          43.55,
          53.6,
          53.517
         ],
         "locationmode": "country names",
         "lon": [
          25.872,
          24.05,
          -8.25,
          14.567,
          14.55,
          24.75,
          23.55,
          -9.5,
          25.872,
          11.867,
          13.767,
          2.367,
          24.1,
          14.25,
          -8.3,
          9.1,
          9.117,
          33.033,
          4.05,
          6.85,
          27.183,
          24.017,
          8.117,
          13.75,
          10.067,
          0.00011700000000000001,
          -5.95,
          9.467,
          8.117
         ],
         "marker": {
          "color": "black",
          "line": {
           "width": 0.5
          },
          "size": 5,
          "sizemode": "area"
         },
         "name": "No Flow - Apr",
         "text": [
          "Alexandroupolis LNG",
          "Paldiski LNG",
          "Mugardos",
          "Croatia LNG",
          "Malta FSRU Offshore Terminal",
          "Tallinn LNG",
          "Aegean LNG",
          "Shannon LNG",
          "Alexandroupolis Amphitriti",
          "Gothenburg LNG",
          "Zaule LNG (Trieste)",
          "Dunkerque LNG",
          "Skulte (LV)",
          "FSRU Polish Baltic Sea Coast",
          "Cork LNG (IE)",
          "Sardinia LNG",
          "BRUNSBUETTEL HAFEN (FSRU) (DE)",
          "Terminal 2 Vassiliko - Lemesos Port",
          "TVB",
          "Eems Energy Terminal",
          "Hamina LNG",
          "Inkoo LNG (FI)",
          "Wilhelmshaven, LNG-Terminal 1 (DE)",
          "Baltic Energy Gate (Port) (DE)",
          "FSRU ITALIA_PIOMBINO TERMINAL",
          "Le Havre (FR)",
          "Musel",
          "STADE HAFEN (FSRU) - LNG",
          "Wilhelmshaven, LNG-Terminal 2"
         ],
         "type": "scattergeo",
         "visible": false
        },
        {
         "lat": [
          43.067,
          53.917,
          51.45,
          41.35,
          43.333,
          37.95,
          45.067,
          51.333,
          37.2,
          44.1,
          37.6,
          39.667,
          47.283,
          37.95,
          51.95,
          43.367,
          55.7,
          51.7
         ],
         "locationmode": "country names",
         "lon": [
          10.067,
          14.25,
          -0.75,
          2.167,
          -3,
          23.55,
          12.3,
          3.2,
          -6.95,
          9.817,
          -0.983,
          -0.217,
          -2.117,
          -8.867,
          4.05,
          4.95,
          21.15,
          -5.05
         ],
         "marker": {
          "color": [
           552876986,
           1242483703,
           1134708586,
           2105240714,
           1905376102,
           41334931,
           2096577572,
           2129162447,
           1621299330,
           1098039858,
           146418897,
           30158090,
           2880101534,
           1567227926,
           3831195833.3999996,
           3424013693,
           639285453,
           7613229186
          ],
          "colorbar": {
           "tickmode": "array",
           "ticktext": [
            "0",
            "7.61e+09"
           ],
           "tickvals": [
            0,
            7613229186
           ],
           "title": {
            "side": "right",
            "text": "Import"
           }
          },
          "colorscale": [
           [
            0,
            "rgb(255,255,204)"
           ],
           [
            0.125,
            "rgb(255,237,160)"
           ],
           [
            0.25,
            "rgb(254,217,118)"
           ],
           [
            0.375,
            "rgb(254,178,76)"
           ],
           [
            0.5,
            "rgb(253,141,60)"
           ],
           [
            0.625,
            "rgb(252,78,42)"
           ],
           [
            0.75,
            "rgb(227,26,28)"
           ],
           [
            0.875,
            "rgb(189,0,38)"
           ],
           [
            1,
            "rgb(128,0,38)"
           ]
          ],
          "line": {
           "width": 0.5
          },
          "size": [
           55.2876986,
           124.2483703,
           113.4708586,
           210.5240714,
           190.5376102,
           4.1334931,
           209.6577572,
           212.9162447,
           162.129933,
           109.8039858,
           14.6418897,
           3.015809,
           288.0101534,
           156.7227926,
           383.11958333999996,
           342.4013693,
           63.9285453,
           761.3229186
          ],
          "sizemode": "area"
         },
         "name": "Entries - May",
         "opacity": 0.6,
         "text": [
          "OLT LNG / Livorno: 5.53e+08 kWh/d",
          "Swinoujscie: 1.24e+09 kWh/d",
          "Isle of Grain: 1.13e+09 kWh/d",
          "Barcelona: 2.11e+09 kWh/d",
          "Bilbao: 1.91e+09 kWh/d",
          "Agia Triada: 4.13e+07 kWh/d",
          "Cavarzere (Porto Levante / Adriatic LNG): 2.10e+09 kWh/d",
          "Zeebrugge LNG: 2.13e+09 kWh/d",
          "Huelva: 1.62e+09 kWh/d",
          "Panigaglia: 1.10e+09 kWh/d",
          "Cartagena: 1.46e+08 kWh/d",
          "Sagunto: 3.02e+07 kWh/d",
          "Montoir de Bretagne: 2.88e+09 kWh/d",
          "Sines: 1.57e+09 kWh/d",
          "Gate Terminal (I): 3.83e+09 kWh/d",
          "Fos (Tonkin/Cavaou): 3.42e+09 kWh/d",
          "Klaipeda (LNG): 6.39e+08 kWh/d",
          "Milford Haven: 7.61e+09 kWh/d"
         ],
         "type": "scattergeo",
         "visible": false
        },
        {
         "lat": [],
         "locationmode": "country names",
         "lon": [],
         "marker": {
          "color": [],
          "colorbar": {
           "tickmode": "array",
           "ticktext": [
            "0",
            "0.00e+00"
           ],
           "tickvals": [
            0,
            0
           ],
           "title": {
            "side": "right",
            "text": "Export"
           }
          },
          "colorscale": [
           [
            0,
            "rgb(247,251,255)"
           ],
           [
            0.125,
            "rgb(222,235,247)"
           ],
           [
            0.25,
            "rgb(198,219,239)"
           ],
           [
            0.375,
            "rgb(158,202,225)"
           ],
           [
            0.5,
            "rgb(107,174,214)"
           ],
           [
            0.625,
            "rgb(66,146,198)"
           ],
           [
            0.75,
            "rgb(33,113,181)"
           ],
           [
            0.875,
            "rgb(8,81,156)"
           ],
           [
            1,
            "rgb(8,48,107)"
           ]
          ],
          "line": {
           "width": 0.5
          },
          "size": [],
          "sizemode": "area"
         },
         "name": "Exits - May",
         "text": [],
         "type": "scattergeo",
         "visible": false
        },
        {
         "lat": [
          40.833,
          59.367,
          43.483,
          45.15,
          35.833,
          59.467,
          37.95,
          52.567,
          40.833,
          57.7,
          45.65,
          51.05,
          56.95,
          53.917,
          51.883,
          39.15,
          53.85,
          34.667,
          51.95,
          53.45,
          60.567,
          60.017,
          53.517,
          54.117,
          43.067,
          49.483,
          43.55,
          53.6,
          53.517
         ],
         "locationmode": "country names",
         "lon": [
          25.872,
          24.05,
          -8.25,
          14.567,
          14.55,
          24.75,
          23.55,
          -9.5,
          25.872,
          11.867,
          13.767,
          2.367,
          24.1,
          14.25,
          -8.3,
          9.1,
          9.117,
          33.033,
          4.05,
          6.85,
          27.183,
          24.017,
          8.117,
          13.75,
          10.067,
          0.00011700000000000001,
          -5.95,
          9.467,
          8.117
         ],
         "marker": {
          "color": "black",
          "line": {
           "width": 0.5
          },
          "size": 5,
          "sizemode": "area"
         },
         "name": "No Flow - May",
         "text": [
          "Alexandroupolis LNG",
          "Paldiski LNG",
          "Mugardos",
          "Croatia LNG",
          "Malta FSRU Offshore Terminal",
          "Tallinn LNG",
          "Aegean LNG",
          "Shannon LNG",
          "Alexandroupolis Amphitriti",
          "Gothenburg LNG",
          "Zaule LNG (Trieste)",
          "Dunkerque LNG",
          "Skulte (LV)",
          "FSRU Polish Baltic Sea Coast",
          "Cork LNG (IE)",
          "Sardinia LNG",
          "BRUNSBUETTEL HAFEN (FSRU) (DE)",
          "Terminal 2 Vassiliko - Lemesos Port",
          "TVB",
          "Eems Energy Terminal",
          "Hamina LNG",
          "Inkoo LNG (FI)",
          "Wilhelmshaven, LNG-Terminal 1 (DE)",
          "Baltic Energy Gate (Port) (DE)",
          "FSRU ITALIA_PIOMBINO TERMINAL",
          "Le Havre (FR)",
          "Musel",
          "STADE HAFEN (FSRU) - LNG",
          "Wilhelmshaven, LNG-Terminal 2"
         ],
         "type": "scattergeo",
         "visible": false
        },
        {
         "lat": [
          43.067,
          53.917,
          51.45,
          41.35,
          43.333,
          37.95,
          45.067,
          51.333,
          37.2,
          44.1,
          37.6,
          39.667,
          47.283,
          37.95,
          51.95,
          43.367,
          55.7,
          51.7
         ],
         "locationmode": "country names",
         "lon": [
          10.067,
          14.25,
          -0.75,
          2.167,
          -3,
          23.55,
          12.3,
          3.2,
          -6.95,
          9.817,
          -0.983,
          -0.217,
          -2.117,
          -8.867,
          4.05,
          4.95,
          21.15,
          -5.05
         ],
         "marker": {
          "color": [
           1227285963,
           1473392871,
           204475144,
           2007956875,
           2592469558,
           859530545,
           2535698558,
           1994605610,
           1606969997,
           1327587332,
           361865587,
           336705668,
           1350976359,
           1773583865,
           3646010277.8,
           1784777150,
           913620648,
           1245031033
          ],
          "colorbar": {
           "tickmode": "array",
           "ticktext": [
            "0",
            "7.61e+09"
           ],
           "tickvals": [
            0,
            7613229186
           ],
           "title": {
            "side": "right",
            "text": "Import"
           }
          },
          "colorscale": [
           [
            0,
            "rgb(255,255,204)"
           ],
           [
            0.125,
            "rgb(255,237,160)"
           ],
           [
            0.25,
            "rgb(254,217,118)"
           ],
           [
            0.375,
            "rgb(254,178,76)"
           ],
           [
            0.5,
            "rgb(253,141,60)"
           ],
           [
            0.625,
            "rgb(252,78,42)"
           ],
           [
            0.75,
            "rgb(227,26,28)"
           ],
           [
            0.875,
            "rgb(189,0,38)"
           ],
           [
            1,
            "rgb(128,0,38)"
           ]
          ],
          "line": {
           "width": 0.5
          },
          "size": [
           122.7285963,
           147.3392871,
           20.4475144,
           200.7956875,
           259.2469558,
           85.9530545,
           253.5698558,
           199.460561,
           160.6969997,
           132.7587332,
           36.1865587,
           33.6705668,
           135.0976359,
           177.3583865,
           364.60102778000004,
           178.477715,
           91.3620648,
           124.5031033
          ],
          "sizemode": "area"
         },
         "name": "Entries - Jun",
         "opacity": 0.6,
         "text": [
          "OLT LNG / Livorno: 1.23e+09 kWh/d",
          "Swinoujscie: 1.47e+09 kWh/d",
          "Isle of Grain: 2.04e+08 kWh/d",
          "Barcelona: 2.01e+09 kWh/d",
          "Bilbao: 2.59e+09 kWh/d",
          "Agia Triada: 8.60e+08 kWh/d",
          "Cavarzere (Porto Levante / Adriatic LNG): 2.54e+09 kWh/d",
          "Zeebrugge LNG: 1.99e+09 kWh/d",
          "Huelva: 1.61e+09 kWh/d",
          "Panigaglia: 1.33e+09 kWh/d",
          "Cartagena: 3.62e+08 kWh/d",
          "Sagunto: 3.37e+08 kWh/d",
          "Montoir de Bretagne: 1.35e+09 kWh/d",
          "Sines: 1.77e+09 kWh/d",
          "Gate Terminal (I): 3.65e+09 kWh/d",
          "Fos (Tonkin/Cavaou): 1.78e+09 kWh/d",
          "Klaipeda (LNG): 9.14e+08 kWh/d",
          "Milford Haven: 1.25e+09 kWh/d"
         ],
         "type": "scattergeo",
         "visible": false
        },
        {
         "lat": [],
         "locationmode": "country names",
         "lon": [],
         "marker": {
          "color": [],
          "colorbar": {
           "tickmode": "array",
           "ticktext": [
            "0",
            "0.00e+00"
           ],
           "tickvals": [
            0,
            0
           ],
           "title": {
            "side": "right",
            "text": "Export"
           }
          },
          "colorscale": [
           [
            0,
            "rgb(247,251,255)"
           ],
           [
            0.125,
            "rgb(222,235,247)"
           ],
           [
            0.25,
            "rgb(198,219,239)"
           ],
           [
            0.375,
            "rgb(158,202,225)"
           ],
           [
            0.5,
            "rgb(107,174,214)"
           ],
           [
            0.625,
            "rgb(66,146,198)"
           ],
           [
            0.75,
            "rgb(33,113,181)"
           ],
           [
            0.875,
            "rgb(8,81,156)"
           ],
           [
            1,
            "rgb(8,48,107)"
           ]
          ],
          "line": {
           "width": 0.5
          },
          "size": [],
          "sizemode": "area"
         },
         "name": "Exits - Jun",
         "text": [],
         "type": "scattergeo",
         "visible": false
        },
        {
         "lat": [
          40.833,
          59.367,
          43.483,
          45.15,
          35.833,
          59.467,
          37.95,
          52.567,
          40.833,
          57.7,
          45.65,
          51.05,
          56.95,
          53.917,
          51.883,
          39.15,
          53.85,
          34.667,
          51.95,
          53.45,
          60.567,
          60.017,
          53.517,
          54.117,
          43.067,
          49.483,
          43.55,
          53.6,
          53.517
         ],
         "locationmode": "country names",
         "lon": [
          25.872,
          24.05,
          -8.25,
          14.567,
          14.55,
          24.75,
          23.55,
          -9.5,
          25.872,
          11.867,
          13.767,
          2.367,
          24.1,
          14.25,
          -8.3,
          9.1,
          9.117,
          33.033,
          4.05,
          6.85,
          27.183,
          24.017,
          8.117,
          13.75,
          10.067,
          0.00011700000000000001,
          -5.95,
          9.467,
          8.117
         ],
         "marker": {
          "color": "black",
          "line": {
           "width": 0.5
          },
          "size": 5,
          "sizemode": "area"
         },
         "name": "No Flow - Jun",
         "text": [
          "Alexandroupolis LNG",
          "Paldiski LNG",
          "Mugardos",
          "Croatia LNG",
          "Malta FSRU Offshore Terminal",
          "Tallinn LNG",
          "Aegean LNG",
          "Shannon LNG",
          "Alexandroupolis Amphitriti",
          "Gothenburg LNG",
          "Zaule LNG (Trieste)",
          "Dunkerque LNG",
          "Skulte (LV)",
          "FSRU Polish Baltic Sea Coast",
          "Cork LNG (IE)",
          "Sardinia LNG",
          "BRUNSBUETTEL HAFEN (FSRU) (DE)",
          "Terminal 2 Vassiliko - Lemesos Port",
          "TVB",
          "Eems Energy Terminal",
          "Hamina LNG",
          "Inkoo LNG (FI)",
          "Wilhelmshaven, LNG-Terminal 1 (DE)",
          "Baltic Energy Gate (Port) (DE)",
          "FSRU ITALIA_PIOMBINO TERMINAL",
          "Le Havre (FR)",
          "Musel",
          "STADE HAFEN (FSRU) - LNG",
          "Wilhelmshaven, LNG-Terminal 2"
         ],
         "type": "scattergeo",
         "visible": false
        },
        {
         "lat": [
          43.067,
          53.917,
          51.45,
          41.35,
          43.333,
          37.95,
          45.067,
          51.333,
          37.2,
          44.1,
          37.6,
          39.667,
          47.283,
          37.95,
          51.95,
          43.367,
          55.7,
          51.7
         ],
         "locationmode": "country names",
         "lon": [
          10.067,
          14.25,
          -0.75,
          2.167,
          -3,
          23.55,
          12.3,
          3.2,
          -6.95,
          9.817,
          -0.983,
          -0.217,
          -2.117,
          -8.867,
          4.05,
          4.95,
          21.15,
          -5.05
         ],
         "marker": {
          "color": [
           1216837587,
           887958592,
           6915318,
           1827200784,
           2171852321,
           1018582529,
           2496596798,
           2684836174,
           1727162558,
           451545280,
           1187780286,
           1726766998,
           765360927,
           1788602014,
           1596421944.3,
           1574775739,
           539718516,
           1900514252
          ],
          "colorbar": {
           "tickmode": "array",
           "ticktext": [
            "0",
            "7.61e+09"
           ],
           "tickvals": [
            0,
            7613229186
           ],
           "title": {
            "side": "right",
            "text": "Import"
           }
          },
          "colorscale": [
           [
            0,
            "rgb(255,255,204)"
           ],
           [
            0.125,
            "rgb(255,237,160)"
           ],
           [
            0.25,
            "rgb(254,217,118)"
           ],
           [
            0.375,
            "rgb(254,178,76)"
           ],
           [
            0.5,
            "rgb(253,141,60)"
           ],
           [
            0.625,
            "rgb(252,78,42)"
           ],
           [
            0.75,
            "rgb(227,26,28)"
           ],
           [
            0.875,
            "rgb(189,0,38)"
           ],
           [
            1,
            "rgb(128,0,38)"
           ]
          ],
          "line": {
           "width": 0.5
          },
          "size": [
           121.6837587,
           88.7958592,
           0.6915318,
           182.7200784,
           217.1852321,
           101.8582529,
           249.6596798,
           268.4836174,
           172.7162558,
           45.154528,
           118.7780286,
           172.6766998,
           76.5360927,
           178.8602014,
           159.64219443,
           157.4775739,
           53.9718516,
           190.0514252
          ],
          "sizemode": "area"
         },
         "name": "Entries - Jul",
         "opacity": 0.6,
         "text": [
          "OLT LNG / Livorno: 1.22e+09 kWh/d",
          "Swinoujscie: 8.88e+08 kWh/d",
          "Isle of Grain: 6.92e+06 kWh/d",
          "Barcelona: 1.83e+09 kWh/d",
          "Bilbao: 2.17e+09 kWh/d",
          "Agia Triada: 1.02e+09 kWh/d",
          "Cavarzere (Porto Levante / Adriatic LNG): 2.50e+09 kWh/d",
          "Zeebrugge LNG: 2.68e+09 kWh/d",
          "Huelva: 1.73e+09 kWh/d",
          "Panigaglia: 4.52e+08 kWh/d",
          "Cartagena: 1.19e+09 kWh/d",
          "Sagunto: 1.73e+09 kWh/d",
          "Montoir de Bretagne: 7.65e+08 kWh/d",
          "Sines: 1.79e+09 kWh/d",
          "Gate Terminal (I): 1.60e+09 kWh/d",
          "Fos (Tonkin/Cavaou): 1.57e+09 kWh/d",
          "Klaipeda (LNG): 5.40e+08 kWh/d",
          "Milford Haven: 1.90e+09 kWh/d"
         ],
         "type": "scattergeo",
         "visible": false
        },
        {
         "lat": [],
         "locationmode": "country names",
         "lon": [],
         "marker": {
          "color": [],
          "colorbar": {
           "tickmode": "array",
           "ticktext": [
            "0",
            "0.00e+00"
           ],
           "tickvals": [
            0,
            0
           ],
           "title": {
            "side": "right",
            "text": "Export"
           }
          },
          "colorscale": [
           [
            0,
            "rgb(247,251,255)"
           ],
           [
            0.125,
            "rgb(222,235,247)"
           ],
           [
            0.25,
            "rgb(198,219,239)"
           ],
           [
            0.375,
            "rgb(158,202,225)"
           ],
           [
            0.5,
            "rgb(107,174,214)"
           ],
           [
            0.625,
            "rgb(66,146,198)"
           ],
           [
            0.75,
            "rgb(33,113,181)"
           ],
           [
            0.875,
            "rgb(8,81,156)"
           ],
           [
            1,
            "rgb(8,48,107)"
           ]
          ],
          "line": {
           "width": 0.5
          },
          "size": [],
          "sizemode": "area"
         },
         "name": "Exits - Jul",
         "text": [],
         "type": "scattergeo",
         "visible": false
        },
        {
         "lat": [
          40.833,
          59.367,
          43.483,
          45.15,
          35.833,
          59.467,
          37.95,
          52.567,
          40.833,
          57.7,
          45.65,
          51.05,
          56.95,
          53.917,
          51.883,
          39.15,
          53.85,
          34.667,
          51.95,
          53.45,
          60.567,
          60.017,
          53.517,
          54.117,
          43.067,
          49.483,
          43.55,
          53.6,
          53.517
         ],
         "locationmode": "country names",
         "lon": [
          25.872,
          24.05,
          -8.25,
          14.567,
          14.55,
          24.75,
          23.55,
          -9.5,
          25.872,
          11.867,
          13.767,
          2.367,
          24.1,
          14.25,
          -8.3,
          9.1,
          9.117,
          33.033,
          4.05,
          6.85,
          27.183,
          24.017,
          8.117,
          13.75,
          10.067,
          0.00011700000000000001,
          -5.95,
          9.467,
          8.117
         ],
         "marker": {
          "color": "black",
          "line": {
           "width": 0.5
          },
          "size": 5,
          "sizemode": "area"
         },
         "name": "No Flow - Jul",
         "text": [
          "Alexandroupolis LNG",
          "Paldiski LNG",
          "Mugardos",
          "Croatia LNG",
          "Malta FSRU Offshore Terminal",
          "Tallinn LNG",
          "Aegean LNG",
          "Shannon LNG",
          "Alexandroupolis Amphitriti",
          "Gothenburg LNG",
          "Zaule LNG (Trieste)",
          "Dunkerque LNG",
          "Skulte (LV)",
          "FSRU Polish Baltic Sea Coast",
          "Cork LNG (IE)",
          "Sardinia LNG",
          "BRUNSBUETTEL HAFEN (FSRU) (DE)",
          "Terminal 2 Vassiliko - Lemesos Port",
          "TVB",
          "Eems Energy Terminal",
          "Hamina LNG",
          "Inkoo LNG (FI)",
          "Wilhelmshaven, LNG-Terminal 1 (DE)",
          "Baltic Energy Gate (Port) (DE)",
          "FSRU ITALIA_PIOMBINO TERMINAL",
          "Le Havre (FR)",
          "Musel",
          "STADE HAFEN (FSRU) - LNG",
          "Wilhelmshaven, LNG-Terminal 2"
         ],
         "type": "scattergeo",
         "visible": false
        },
        {
         "lat": [
          43.067,
          53.917,
          51.45,
          41.35,
          43.333,
          37.95,
          45.067,
          51.333,
          37.2,
          44.1,
          37.6,
          39.667,
          47.283,
          37.95,
          51.95,
          43.367,
          55.7,
          51.7
         ],
         "locationmode": "country names",
         "lon": [
          10.067,
          14.25,
          -0.75,
          2.167,
          -3,
          23.55,
          12.3,
          3.2,
          -6.95,
          9.817,
          -0.983,
          -0.217,
          -2.117,
          -8.867,
          4.05,
          4.95,
          21.15,
          -5.05
         ],
         "marker": {
          "color": [
           1270667241,
           1348120221,
           1055711,
           1655005873,
           2129741205,
           1045207510,
           2077947472,
           1762540913,
           1610546685,
           485433108,
           613502249,
           1532051923,
           1965568355,
           1818974583,
           882904722.3,
           656899845,
           600626246,
           1413465670
          ],
          "colorbar": {
           "tickmode": "array",
           "ticktext": [
            "0",
            "7.61e+09"
           ],
           "tickvals": [
            0,
            7613229186
           ],
           "title": {
            "side": "right",
            "text": "Import"
           }
          },
          "colorscale": [
           [
            0,
            "rgb(255,255,204)"
           ],
           [
            0.125,
            "rgb(255,237,160)"
           ],
           [
            0.25,
            "rgb(254,217,118)"
           ],
           [
            0.375,
            "rgb(254,178,76)"
           ],
           [
            0.5,
            "rgb(253,141,60)"
           ],
           [
            0.625,
            "rgb(252,78,42)"
           ],
           [
            0.75,
            "rgb(227,26,28)"
           ],
           [
            0.875,
            "rgb(189,0,38)"
           ],
           [
            1,
            "rgb(128,0,38)"
           ]
          ],
          "line": {
           "width": 0.5
          },
          "size": [
           127.0667241,
           134.8120221,
           0.1055711,
           165.5005873,
           212.9741205,
           104.520751,
           207.7947472,
           176.2540913,
           161.0546685,
           48.5433108,
           61.3502249,
           153.2051923,
           196.5568355,
           181.8974583,
           88.29047222999999,
           65.6899845,
           60.0626246,
           141.346567
          ],
          "sizemode": "area"
         },
         "name": "Entries - Aug",
         "opacity": 0.6,
         "text": [
          "OLT LNG / Livorno: 1.27e+09 kWh/d",
          "Swinoujscie: 1.35e+09 kWh/d",
          "Isle of Grain: 1.06e+06 kWh/d",
          "Barcelona: 1.66e+09 kWh/d",
          "Bilbao: 2.13e+09 kWh/d",
          "Agia Triada: 1.05e+09 kWh/d",
          "Cavarzere (Porto Levante / Adriatic LNG): 2.08e+09 kWh/d",
          "Zeebrugge LNG: 1.76e+09 kWh/d",
          "Huelva: 1.61e+09 kWh/d",
          "Panigaglia: 4.85e+08 kWh/d",
          "Cartagena: 6.14e+08 kWh/d",
          "Sagunto: 1.53e+09 kWh/d",
          "Montoir de Bretagne: 1.97e+09 kWh/d",
          "Sines: 1.82e+09 kWh/d",
          "Gate Terminal (I): 8.83e+08 kWh/d",
          "Fos (Tonkin/Cavaou): 6.57e+08 kWh/d",
          "Klaipeda (LNG): 6.01e+08 kWh/d",
          "Milford Haven: 1.41e+09 kWh/d"
         ],
         "type": "scattergeo",
         "visible": false
        },
        {
         "lat": [],
         "locationmode": "country names",
         "lon": [],
         "marker": {
          "color": [],
          "colorbar": {
           "tickmode": "array",
           "ticktext": [
            "0",
            "0.00e+00"
           ],
           "tickvals": [
            0,
            0
           ],
           "title": {
            "side": "right",
            "text": "Export"
           }
          },
          "colorscale": [
           [
            0,
            "rgb(247,251,255)"
           ],
           [
            0.125,
            "rgb(222,235,247)"
           ],
           [
            0.25,
            "rgb(198,219,239)"
           ],
           [
            0.375,
            "rgb(158,202,225)"
           ],
           [
            0.5,
            "rgb(107,174,214)"
           ],
           [
            0.625,
            "rgb(66,146,198)"
           ],
           [
            0.75,
            "rgb(33,113,181)"
           ],
           [
            0.875,
            "rgb(8,81,156)"
           ],
           [
            1,
            "rgb(8,48,107)"
           ]
          ],
          "line": {
           "width": 0.5
          },
          "size": [],
          "sizemode": "area"
         },
         "name": "Exits - Aug",
         "text": [],
         "type": "scattergeo",
         "visible": false
        },
        {
         "lat": [
          40.833,
          59.367,
          43.483,
          45.15,
          35.833,
          59.467,
          37.95,
          52.567,
          40.833,
          57.7,
          45.65,
          51.05,
          56.95,
          53.917,
          51.883,
          39.15,
          53.85,
          34.667,
          51.95,
          53.45,
          60.567,
          60.017,
          53.517,
          54.117,
          43.067,
          49.483,
          43.55,
          53.6,
          53.517
         ],
         "locationmode": "country names",
         "lon": [
          25.872,
          24.05,
          -8.25,
          14.567,
          14.55,
          24.75,
          23.55,
          -9.5,
          25.872,
          11.867,
          13.767,
          2.367,
          24.1,
          14.25,
          -8.3,
          9.1,
          9.117,
          33.033,
          4.05,
          6.85,
          27.183,
          24.017,
          8.117,
          13.75,
          10.067,
          0.00011700000000000001,
          -5.95,
          9.467,
          8.117
         ],
         "marker": {
          "color": "black",
          "line": {
           "width": 0.5
          },
          "size": 5,
          "sizemode": "area"
         },
         "name": "No Flow - Aug",
         "text": [
          "Alexandroupolis LNG",
          "Paldiski LNG",
          "Mugardos",
          "Croatia LNG",
          "Malta FSRU Offshore Terminal",
          "Tallinn LNG",
          "Aegean LNG",
          "Shannon LNG",
          "Alexandroupolis Amphitriti",
          "Gothenburg LNG",
          "Zaule LNG (Trieste)",
          "Dunkerque LNG",
          "Skulte (LV)",
          "FSRU Polish Baltic Sea Coast",
          "Cork LNG (IE)",
          "Sardinia LNG",
          "BRUNSBUETTEL HAFEN (FSRU) (DE)",
          "Terminal 2 Vassiliko - Lemesos Port",
          "TVB",
          "Eems Energy Terminal",
          "Hamina LNG",
          "Inkoo LNG (FI)",
          "Wilhelmshaven, LNG-Terminal 1 (DE)",
          "Baltic Energy Gate (Port) (DE)",
          "FSRU ITALIA_PIOMBINO TERMINAL",
          "Le Havre (FR)",
          "Musel",
          "STADE HAFEN (FSRU) - LNG",
          "Wilhelmshaven, LNG-Terminal 2"
         ],
         "type": "scattergeo",
         "visible": false
        },
        {
         "lat": [
          43.067,
          53.917,
          51.45,
          41.35,
          43.333,
          37.95,
          45.067,
          51.333,
          37.2,
          44.1,
          37.6,
          39.667,
          47.283,
          37.95,
          51.95,
          43.367,
          55.7,
          51.7
         ],
         "locationmode": "country names",
         "lon": [
          10.067,
          14.25,
          -0.75,
          2.167,
          -3,
          23.55,
          12.3,
          3.2,
          -6.95,
          9.817,
          -0.983,
          -0.217,
          -2.117,
          -8.867,
          4.05,
          4.95,
          21.15,
          -5.05
         ],
         "marker": {
          "color": [
           1375753946,
           412725631,
           730102672,
           1656934228,
           2327285637,
           1486992207,
           2671074628,
           1558858361,
           1757326952,
           1227759617,
           459768946,
           1200189615,
           1824422122,
           1634456961,
           1625513181.8000004,
           1682181899,
           860401999,
           2207543030
          ],
          "colorbar": {
           "tickmode": "array",
           "ticktext": [
            "0",
            "7.61e+09"
           ],
           "tickvals": [
            0,
            7613229186
           ],
           "title": {
            "side": "right",
            "text": "Import"
           }
          },
          "colorscale": [
           [
            0,
            "rgb(255,255,204)"
           ],
           [
            0.125,
            "rgb(255,237,160)"
           ],
           [
            0.25,
            "rgb(254,217,118)"
           ],
           [
            0.375,
            "rgb(254,178,76)"
           ],
           [
            0.5,
            "rgb(253,141,60)"
           ],
           [
            0.625,
            "rgb(252,78,42)"
           ],
           [
            0.75,
            "rgb(227,26,28)"
           ],
           [
            0.875,
            "rgb(189,0,38)"
           ],
           [
            1,
            "rgb(128,0,38)"
           ]
          ],
          "line": {
           "width": 0.5
          },
          "size": [
           137.5753946,
           41.2725631,
           73.0102672,
           165.6934228,
           232.7285637,
           148.6992207,
           267.1074628,
           155.8858361,
           175.7326952,
           122.7759617,
           45.9768946,
           120.0189615,
           182.4422122,
           163.4456961,
           162.55131818000004,
           168.2181899,
           86.0401999,
           220.754303
          ],
          "sizemode": "area"
         },
         "name": "Entries - Sep",
         "opacity": 0.6,
         "text": [
          "OLT LNG / Livorno: 1.38e+09 kWh/d",
          "Swinoujscie: 4.13e+08 kWh/d",
          "Isle of Grain: 7.30e+08 kWh/d",
          "Barcelona: 1.66e+09 kWh/d",
          "Bilbao: 2.33e+09 kWh/d",
          "Agia Triada: 1.49e+09 kWh/d",
          "Cavarzere (Porto Levante / Adriatic LNG): 2.67e+09 kWh/d",
          "Zeebrugge LNG: 1.56e+09 kWh/d",
          "Huelva: 1.76e+09 kWh/d",
          "Panigaglia: 1.23e+09 kWh/d",
          "Cartagena: 4.60e+08 kWh/d",
          "Sagunto: 1.20e+09 kWh/d",
          "Montoir de Bretagne: 1.82e+09 kWh/d",
          "Sines: 1.63e+09 kWh/d",
          "Gate Terminal (I): 1.63e+09 kWh/d",
          "Fos (Tonkin/Cavaou): 1.68e+09 kWh/d",
          "Klaipeda (LNG): 8.60e+08 kWh/d",
          "Milford Haven: 2.21e+09 kWh/d"
         ],
         "type": "scattergeo",
         "visible": false
        },
        {
         "lat": [],
         "locationmode": "country names",
         "lon": [],
         "marker": {
          "color": [],
          "colorbar": {
           "tickmode": "array",
           "ticktext": [
            "0",
            "0.00e+00"
           ],
           "tickvals": [
            0,
            0
           ],
           "title": {
            "side": "right",
            "text": "Export"
           }
          },
          "colorscale": [
           [
            0,
            "rgb(247,251,255)"
           ],
           [
            0.125,
            "rgb(222,235,247)"
           ],
           [
            0.25,
            "rgb(198,219,239)"
           ],
           [
            0.375,
            "rgb(158,202,225)"
           ],
           [
            0.5,
            "rgb(107,174,214)"
           ],
           [
            0.625,
            "rgb(66,146,198)"
           ],
           [
            0.75,
            "rgb(33,113,181)"
           ],
           [
            0.875,
            "rgb(8,81,156)"
           ],
           [
            1,
            "rgb(8,48,107)"
           ]
          ],
          "line": {
           "width": 0.5
          },
          "size": [],
          "sizemode": "area"
         },
         "name": "Exits - Sep",
         "text": [],
         "type": "scattergeo",
         "visible": false
        },
        {
         "lat": [
          40.833,
          59.367,
          43.483,
          45.15,
          35.833,
          59.467,
          37.95,
          52.567,
          40.833,
          57.7,
          45.65,
          51.05,
          56.95,
          53.917,
          51.883,
          39.15,
          53.85,
          34.667,
          51.95,
          53.45,
          60.567,
          60.017,
          53.517,
          54.117,
          43.067,
          49.483,
          43.55,
          53.6,
          53.517
         ],
         "locationmode": "country names",
         "lon": [
          25.872,
          24.05,
          -8.25,
          14.567,
          14.55,
          24.75,
          23.55,
          -9.5,
          25.872,
          11.867,
          13.767,
          2.367,
          24.1,
          14.25,
          -8.3,
          9.1,
          9.117,
          33.033,
          4.05,
          6.85,
          27.183,
          24.017,
          8.117,
          13.75,
          10.067,
          0.00011700000000000001,
          -5.95,
          9.467,
          8.117
         ],
         "marker": {
          "color": "black",
          "line": {
           "width": 0.5
          },
          "size": 5,
          "sizemode": "area"
         },
         "name": "No Flow - Sep",
         "text": [
          "Alexandroupolis LNG",
          "Paldiski LNG",
          "Mugardos",
          "Croatia LNG",
          "Malta FSRU Offshore Terminal",
          "Tallinn LNG",
          "Aegean LNG",
          "Shannon LNG",
          "Alexandroupolis Amphitriti",
          "Gothenburg LNG",
          "Zaule LNG (Trieste)",
          "Dunkerque LNG",
          "Skulte (LV)",
          "FSRU Polish Baltic Sea Coast",
          "Cork LNG (IE)",
          "Sardinia LNG",
          "BRUNSBUETTEL HAFEN (FSRU) (DE)",
          "Terminal 2 Vassiliko - Lemesos Port",
          "TVB",
          "Eems Energy Terminal",
          "Hamina LNG",
          "Inkoo LNG (FI)",
          "Wilhelmshaven, LNG-Terminal 1 (DE)",
          "Baltic Energy Gate (Port) (DE)",
          "FSRU ITALIA_PIOMBINO TERMINAL",
          "Le Havre (FR)",
          "Musel",
          "STADE HAFEN (FSRU) - LNG",
          "Wilhelmshaven, LNG-Terminal 2"
         ],
         "type": "scattergeo",
         "visible": false
        },
        {
         "lat": [
          43.067,
          53.917,
          51.45,
          41.35,
          43.333,
          37.95,
          45.067,
          51.333,
          37.2,
          44.1,
          37.6,
          39.667,
          47.283,
          37.95,
          51.95,
          43.367,
          55.7,
          51.7
         ],
         "locationmode": "country names",
         "lon": [
          10.067,
          14.25,
          -0.75,
          2.167,
          -3,
          23.55,
          12.3,
          3.2,
          -6.95,
          9.817,
          -0.983,
          -0.217,
          -2.117,
          -8.867,
          4.05,
          4.95,
          21.15,
          -5.05
         ],
         "marker": {
          "color": [
           1384808892,
           1320627358,
           982099142,
           1116140973,
           2416609138,
           943440532,
           2726019031,
           1423382596,
           1902386781,
           921867786,
           273747355,
           320815144,
           1181894159,
           1915055372,
           815670740.7,
           2662388230,
           972581054,
           4886599992
          ],
          "colorbar": {
           "tickmode": "array",
           "ticktext": [
            "0",
            "7.61e+09"
           ],
           "tickvals": [
            0,
            7613229186
           ],
           "title": {
            "side": "right",
            "text": "Import"
           }
          },
          "colorscale": [
           [
            0,
            "rgb(255,255,204)"
           ],
           [
            0.125,
            "rgb(255,237,160)"
           ],
           [
            0.25,
            "rgb(254,217,118)"
           ],
           [
            0.375,
            "rgb(254,178,76)"
           ],
           [
            0.5,
            "rgb(253,141,60)"
           ],
           [
            0.625,
            "rgb(252,78,42)"
           ],
           [
            0.75,
            "rgb(227,26,28)"
           ],
           [
            0.875,
            "rgb(189,0,38)"
           ],
           [
            1,
            "rgb(128,0,38)"
           ]
          ],
          "line": {
           "width": 0.5
          },
          "size": [
           138.4808892,
           132.0627358,
           98.2099142,
           111.6140973,
           241.6609138,
           94.3440532,
           272.6019031,
           142.3382596,
           190.2386781,
           92.1867786,
           27.3747355,
           32.0815144,
           118.1894159,
           191.5055372,
           81.56707407,
           266.238823,
           97.2581054,
           488.6599992
          ],
          "sizemode": "area"
         },
         "name": "Entries - Oct",
         "opacity": 0.6,
         "text": [
          "OLT LNG / Livorno: 1.38e+09 kWh/d",
          "Swinoujscie: 1.32e+09 kWh/d",
          "Isle of Grain: 9.82e+08 kWh/d",
          "Barcelona: 1.12e+09 kWh/d",
          "Bilbao: 2.42e+09 kWh/d",
          "Agia Triada: 9.43e+08 kWh/d",
          "Cavarzere (Porto Levante / Adriatic LNG): 2.73e+09 kWh/d",
          "Zeebrugge LNG: 1.42e+09 kWh/d",
          "Huelva: 1.90e+09 kWh/d",
          "Panigaglia: 9.22e+08 kWh/d",
          "Cartagena: 2.74e+08 kWh/d",
          "Sagunto: 3.21e+08 kWh/d",
          "Montoir de Bretagne: 1.18e+09 kWh/d",
          "Sines: 1.92e+09 kWh/d",
          "Gate Terminal (I): 8.16e+08 kWh/d",
          "Fos (Tonkin/Cavaou): 2.66e+09 kWh/d",
          "Klaipeda (LNG): 9.73e+08 kWh/d",
          "Milford Haven: 4.89e+09 kWh/d"
         ],
         "type": "scattergeo",
         "visible": false
        },
        {
         "lat": [],
         "locationmode": "country names",
         "lon": [],
         "marker": {
          "color": [],
          "colorbar": {
           "tickmode": "array",
           "ticktext": [
            "0",
            "0.00e+00"
           ],
           "tickvals": [
            0,
            0
           ],
           "title": {
            "side": "right",
            "text": "Export"
           }
          },
          "colorscale": [
           [
            0,
            "rgb(247,251,255)"
           ],
           [
            0.125,
            "rgb(222,235,247)"
           ],
           [
            0.25,
            "rgb(198,219,239)"
           ],
           [
            0.375,
            "rgb(158,202,225)"
           ],
           [
            0.5,
            "rgb(107,174,214)"
           ],
           [
            0.625,
            "rgb(66,146,198)"
           ],
           [
            0.75,
            "rgb(33,113,181)"
           ],
           [
            0.875,
            "rgb(8,81,156)"
           ],
           [
            1,
            "rgb(8,48,107)"
           ]
          ],
          "line": {
           "width": 0.5
          },
          "size": [],
          "sizemode": "area"
         },
         "name": "Exits - Oct",
         "text": [],
         "type": "scattergeo",
         "visible": false
        },
        {
         "lat": [
          40.833,
          59.367,
          43.483,
          45.15,
          35.833,
          59.467,
          37.95,
          52.567,
          40.833,
          57.7,
          45.65,
          51.05,
          56.95,
          53.917,
          51.883,
          39.15,
          53.85,
          34.667,
          51.95,
          53.45,
          60.567,
          60.017,
          53.517,
          54.117,
          43.067,
          49.483,
          43.55,
          53.6,
          53.517
         ],
         "locationmode": "country names",
         "lon": [
          25.872,
          24.05,
          -8.25,
          14.567,
          14.55,
          24.75,
          23.55,
          -9.5,
          25.872,
          11.867,
          13.767,
          2.367,
          24.1,
          14.25,
          -8.3,
          9.1,
          9.117,
          33.033,
          4.05,
          6.85,
          27.183,
          24.017,
          8.117,
          13.75,
          10.067,
          0.00011700000000000001,
          -5.95,
          9.467,
          8.117
         ],
         "marker": {
          "color": "black",
          "line": {
           "width": 0.5
          },
          "size": 5,
          "sizemode": "area"
         },
         "name": "No Flow - Oct",
         "text": [
          "Alexandroupolis LNG",
          "Paldiski LNG",
          "Mugardos",
          "Croatia LNG",
          "Malta FSRU Offshore Terminal",
          "Tallinn LNG",
          "Aegean LNG",
          "Shannon LNG",
          "Alexandroupolis Amphitriti",
          "Gothenburg LNG",
          "Zaule LNG (Trieste)",
          "Dunkerque LNG",
          "Skulte (LV)",
          "FSRU Polish Baltic Sea Coast",
          "Cork LNG (IE)",
          "Sardinia LNG",
          "BRUNSBUETTEL HAFEN (FSRU) (DE)",
          "Terminal 2 Vassiliko - Lemesos Port",
          "TVB",
          "Eems Energy Terminal",
          "Hamina LNG",
          "Inkoo LNG (FI)",
          "Wilhelmshaven, LNG-Terminal 1 (DE)",
          "Baltic Energy Gate (Port) (DE)",
          "FSRU ITALIA_PIOMBINO TERMINAL",
          "Le Havre (FR)",
          "Musel",
          "STADE HAFEN (FSRU) - LNG",
          "Wilhelmshaven, LNG-Terminal 2"
         ],
         "type": "scattergeo",
         "visible": false
        },
        {
         "lat": [
          43.067,
          53.917,
          51.45,
          41.35,
          43.333,
          37.95,
          45.067,
          51.333,
          37.2,
          37.6,
          39.667,
          47.283,
          37.95,
          51.95,
          43.367,
          55.7,
          51.7
         ],
         "locationmode": "country names",
         "lon": [
          10.067,
          14.25,
          -0.75,
          2.167,
          -3,
          23.55,
          12.3,
          3.2,
          -6.95,
          -0.983,
          -0.217,
          -2.117,
          -8.867,
          4.05,
          4.95,
          21.15,
          -5.05
         ],
         "marker": {
          "color": [
           921073624,
           1123636834,
           3319336629,
           1407143939,
           1593933694,
           1258126821,
           2604549903,
           3160807655,
           1418187669,
           614606676,
           1331230315,
           4156582575,
           1613925564,
           2602431944.4,
           4526344085,
           902825551,
           4742258862
          ],
          "colorbar": {
           "tickmode": "array",
           "ticktext": [
            "0",
            "7.61e+09"
           ],
           "tickvals": [
            0,
            7613229186
           ],
           "title": {
            "side": "right",
            "text": "Import"
           }
          },
          "colorscale": [
           [
            0,
            "rgb(255,255,204)"
           ],
           [
            0.125,
            "rgb(255,237,160)"
           ],
           [
            0.25,
            "rgb(254,217,118)"
           ],
           [
            0.375,
            "rgb(254,178,76)"
           ],
           [
            0.5,
            "rgb(253,141,60)"
           ],
           [
            0.625,
            "rgb(252,78,42)"
           ],
           [
            0.75,
            "rgb(227,26,28)"
           ],
           [
            0.875,
            "rgb(189,0,38)"
           ],
           [
            1,
            "rgb(128,0,38)"
           ]
          ],
          "line": {
           "width": 0.5
          },
          "size": [
           92.1073624,
           112.3636834,
           331.9336629,
           140.7143939,
           159.3933694,
           125.8126821,
           260.4549903,
           316.0807655,
           141.8187669,
           61.4606676,
           133.1230315,
           415.6582575,
           161.3925564,
           260.24319444,
           452.6344085,
           90.2825551,
           474.2258862
          ],
          "sizemode": "area"
         },
         "name": "Entries - Nov",
         "opacity": 0.6,
         "text": [
          "OLT LNG / Livorno: 9.21e+08 kWh/d",
          "Swinoujscie: 1.12e+09 kWh/d",
          "Isle of Grain: 3.32e+09 kWh/d",
          "Barcelona: 1.41e+09 kWh/d",
          "Bilbao: 1.59e+09 kWh/d",
          "Agia Triada: 1.26e+09 kWh/d",
          "Cavarzere (Porto Levante / Adriatic LNG): 2.60e+09 kWh/d",
          "Zeebrugge LNG: 3.16e+09 kWh/d",
          "Huelva: 1.42e+09 kWh/d",
          "Cartagena: 6.15e+08 kWh/d",
          "Sagunto: 1.33e+09 kWh/d",
          "Montoir de Bretagne: 4.16e+09 kWh/d",
          "Sines: 1.61e+09 kWh/d",
          "Gate Terminal (I): 2.60e+09 kWh/d",
          "Fos (Tonkin/Cavaou): 4.53e+09 kWh/d",
          "Klaipeda (LNG): 9.03e+08 kWh/d",
          "Milford Haven: 4.74e+09 kWh/d"
         ],
         "type": "scattergeo",
         "visible": false
        },
        {
         "lat": [],
         "locationmode": "country names",
         "lon": [],
         "marker": {
          "color": [],
          "colorbar": {
           "tickmode": "array",
           "ticktext": [
            "0",
            "0.00e+00"
           ],
           "tickvals": [
            0,
            0
           ],
           "title": {
            "side": "right",
            "text": "Export"
           }
          },
          "colorscale": [
           [
            0,
            "rgb(247,251,255)"
           ],
           [
            0.125,
            "rgb(222,235,247)"
           ],
           [
            0.25,
            "rgb(198,219,239)"
           ],
           [
            0.375,
            "rgb(158,202,225)"
           ],
           [
            0.5,
            "rgb(107,174,214)"
           ],
           [
            0.625,
            "rgb(66,146,198)"
           ],
           [
            0.75,
            "rgb(33,113,181)"
           ],
           [
            0.875,
            "rgb(8,81,156)"
           ],
           [
            1,
            "rgb(8,48,107)"
           ]
          ],
          "line": {
           "width": 0.5
          },
          "size": [],
          "sizemode": "area"
         },
         "name": "Exits - Nov",
         "text": [],
         "type": "scattergeo",
         "visible": false
        },
        {
         "lat": [
          40.833,
          59.367,
          44.1,
          43.483,
          45.15,
          35.833,
          59.467,
          37.95,
          52.567,
          40.833,
          57.7,
          45.65,
          51.05,
          56.95,
          53.917,
          51.883,
          39.15,
          53.85,
          34.667,
          51.95,
          53.45,
          60.567,
          60.017,
          53.517,
          54.117,
          43.067,
          49.483,
          43.55,
          53.6,
          53.517
         ],
         "locationmode": "country names",
         "lon": [
          25.872,
          24.05,
          9.817,
          -8.25,
          14.567,
          14.55,
          24.75,
          23.55,
          -9.5,
          25.872,
          11.867,
          13.767,
          2.367,
          24.1,
          14.25,
          -8.3,
          9.1,
          9.117,
          33.033,
          4.05,
          6.85,
          27.183,
          24.017,
          8.117,
          13.75,
          10.067,
          0.00011700000000000001,
          -5.95,
          9.467,
          8.117
         ],
         "marker": {
          "color": "black",
          "line": {
           "width": 0.5
          },
          "size": 5,
          "sizemode": "area"
         },
         "name": "No Flow - Nov",
         "text": [
          "Alexandroupolis LNG",
          "Paldiski LNG",
          "Panigaglia",
          "Mugardos",
          "Croatia LNG",
          "Malta FSRU Offshore Terminal",
          "Tallinn LNG",
          "Aegean LNG",
          "Shannon LNG",
          "Alexandroupolis Amphitriti",
          "Gothenburg LNG",
          "Zaule LNG (Trieste)",
          "Dunkerque LNG",
          "Skulte (LV)",
          "FSRU Polish Baltic Sea Coast",
          "Cork LNG (IE)",
          "Sardinia LNG",
          "BRUNSBUETTEL HAFEN (FSRU) (DE)",
          "Terminal 2 Vassiliko - Lemesos Port",
          "TVB",
          "Eems Energy Terminal",
          "Hamina LNG",
          "Inkoo LNG (FI)",
          "Wilhelmshaven, LNG-Terminal 1 (DE)",
          "Baltic Energy Gate (Port) (DE)",
          "FSRU ITALIA_PIOMBINO TERMINAL",
          "Le Havre (FR)",
          "Musel",
          "STADE HAFEN (FSRU) - LNG",
          "Wilhelmshaven, LNG-Terminal 2"
         ],
         "type": "scattergeo",
         "visible": false
        },
        {
         "lat": [
          43.067,
          53.917,
          51.45,
          41.35,
          43.333,
          37.95,
          45.067,
          51.333,
          37.2,
          44.1,
          37.6,
          39.667,
          47.283,
          37.95,
          51.95,
          43.367,
          55.7,
          51.7
         ],
         "locationmode": "country names",
         "lon": [
          10.067,
          14.25,
          -0.75,
          2.167,
          -3,
          23.55,
          12.3,
          3.2,
          -6.95,
          9.817,
          -0.983,
          -0.217,
          -2.117,
          -8.867,
          4.05,
          4.95,
          21.15,
          -5.05
         ],
         "marker": {
          "color": [
           1314238835,
           1399326062,
           5708622202,
           1540422998,
           1684854758,
           856791177,
           2291528331,
           3014367685,
           2144458764,
           863079596,
           1288643607,
           922267344,
           3880807809,
           1613668417,
           3416791666.600001,
           1576626482,
           718622150,
           5120634423
          ],
          "colorbar": {
           "tickmode": "array",
           "ticktext": [
            "0",
            "7.61e+09"
           ],
           "tickvals": [
            0,
            7613229186
           ],
           "title": {
            "side": "right",
            "text": "Import"
           }
          },
          "colorscale": [
           [
            0,
            "rgb(255,255,204)"
           ],
           [
            0.125,
            "rgb(255,237,160)"
           ],
           [
            0.25,
            "rgb(254,217,118)"
           ],
           [
            0.375,
            "rgb(254,178,76)"
           ],
           [
            0.5,
            "rgb(253,141,60)"
           ],
           [
            0.625,
            "rgb(252,78,42)"
           ],
           [
            0.75,
            "rgb(227,26,28)"
           ],
           [
            0.875,
            "rgb(189,0,38)"
           ],
           [
            1,
            "rgb(128,0,38)"
           ]
          ],
          "line": {
           "width": 0.5
          },
          "size": [
           131.4238835,
           139.9326062,
           570.8622202,
           154.0422998,
           168.4854758,
           85.6791177,
           229.1528331,
           301.4367685,
           214.4458764,
           86.3079596,
           128.8643607,
           92.2267344,
           388.0807809,
           161.3668417,
           341.6791666600001,
           157.6626482,
           71.862215,
           512.0634423
          ],
          "sizemode": "area"
         },
         "name": "Entries - Dec",
         "opacity": 0.6,
         "text": [
          "OLT LNG / Livorno: 1.31e+09 kWh/d",
          "Swinoujscie: 1.40e+09 kWh/d",
          "Isle of Grain: 5.71e+09 kWh/d",
          "Barcelona: 1.54e+09 kWh/d",
          "Bilbao: 1.68e+09 kWh/d",
          "Agia Triada: 8.57e+08 kWh/d",
          "Cavarzere (Porto Levante / Adriatic LNG): 2.29e+09 kWh/d",
          "Zeebrugge LNG: 3.01e+09 kWh/d",
          "Huelva: 2.14e+09 kWh/d",
          "Panigaglia: 8.63e+08 kWh/d",
          "Cartagena: 1.29e+09 kWh/d",
          "Sagunto: 9.22e+08 kWh/d",
          "Montoir de Bretagne: 3.88e+09 kWh/d",
          "Sines: 1.61e+09 kWh/d",
          "Gate Terminal (I): 3.42e+09 kWh/d",
          "Fos (Tonkin/Cavaou): 1.58e+09 kWh/d",
          "Klaipeda (LNG): 7.19e+08 kWh/d",
          "Milford Haven: 5.12e+09 kWh/d"
         ],
         "type": "scattergeo",
         "visible": false
        },
        {
         "lat": [],
         "locationmode": "country names",
         "lon": [],
         "marker": {
          "color": [],
          "colorbar": {
           "tickmode": "array",
           "ticktext": [
            "0",
            "0.00e+00"
           ],
           "tickvals": [
            0,
            0
           ],
           "title": {
            "side": "right",
            "text": "Export"
           }
          },
          "colorscale": [
           [
            0,
            "rgb(247,251,255)"
           ],
           [
            0.125,
            "rgb(222,235,247)"
           ],
           [
            0.25,
            "rgb(198,219,239)"
           ],
           [
            0.375,
            "rgb(158,202,225)"
           ],
           [
            0.5,
            "rgb(107,174,214)"
           ],
           [
            0.625,
            "rgb(66,146,198)"
           ],
           [
            0.75,
            "rgb(33,113,181)"
           ],
           [
            0.875,
            "rgb(8,81,156)"
           ],
           [
            1,
            "rgb(8,48,107)"
           ]
          ],
          "line": {
           "width": 0.5
          },
          "size": [],
          "sizemode": "area"
         },
         "name": "Exits - Dec",
         "text": [],
         "type": "scattergeo",
         "visible": false
        },
        {
         "lat": [
          40.833,
          59.367,
          43.483,
          45.15,
          35.833,
          59.467,
          37.95,
          52.567,
          40.833,
          57.7,
          45.65,
          51.05,
          56.95,
          53.917,
          51.883,
          39.15,
          53.85,
          34.667,
          51.95,
          53.45,
          60.567,
          60.017,
          53.517,
          54.117,
          43.067,
          49.483,
          43.55,
          53.6,
          53.517
         ],
         "locationmode": "country names",
         "lon": [
          25.872,
          24.05,
          -8.25,
          14.567,
          14.55,
          24.75,
          23.55,
          -9.5,
          25.872,
          11.867,
          13.767,
          2.367,
          24.1,
          14.25,
          -8.3,
          9.1,
          9.117,
          33.033,
          4.05,
          6.85,
          27.183,
          24.017,
          8.117,
          13.75,
          10.067,
          0.00011700000000000001,
          -5.95,
          9.467,
          8.117
         ],
         "marker": {
          "color": "black",
          "line": {
           "width": 0.5
          },
          "size": 5,
          "sizemode": "area"
         },
         "name": "No Flow - Dec",
         "text": [
          "Alexandroupolis LNG",
          "Paldiski LNG",
          "Mugardos",
          "Croatia LNG",
          "Malta FSRU Offshore Terminal",
          "Tallinn LNG",
          "Aegean LNG",
          "Shannon LNG",
          "Alexandroupolis Amphitriti",
          "Gothenburg LNG",
          "Zaule LNG (Trieste)",
          "Dunkerque LNG",
          "Skulte (LV)",
          "FSRU Polish Baltic Sea Coast",
          "Cork LNG (IE)",
          "Sardinia LNG",
          "BRUNSBUETTEL HAFEN (FSRU) (DE)",
          "Terminal 2 Vassiliko - Lemesos Port",
          "TVB",
          "Eems Energy Terminal",
          "Hamina LNG",
          "Inkoo LNG (FI)",
          "Wilhelmshaven, LNG-Terminal 1 (DE)",
          "Baltic Energy Gate (Port) (DE)",
          "FSRU ITALIA_PIOMBINO TERMINAL",
          "Le Havre (FR)",
          "Musel",
          "STADE HAFEN (FSRU) - LNG",
          "Wilhelmshaven, LNG-Terminal 2"
         ],
         "type": "scattergeo",
         "visible": false
        }
       ],
       "layout": {
        "coloraxis": {
         "cmax": 7613229186,
         "cmin": 0,
         "colorbar": {
          "title": {
           "text": "Flow (kWh/d)"
          }
         },
         "colorscale": [
          [
           0,
           "rgb(255,255,204)"
          ],
          [
           0.125,
           "rgb(255,237,160)"
          ],
          [
           0.25,
           "rgb(254,217,118)"
          ],
          [
           0.375,
           "rgb(254,178,76)"
          ],
          [
           0.5,
           "rgb(253,141,60)"
          ],
          [
           0.625,
           "rgb(252,78,42)"
          ],
          [
           0.75,
           "rgb(227,26,28)"
          ],
          [
           0.875,
           "rgb(189,0,38)"
          ],
          [
           1,
           "rgb(128,0,38)"
          ]
         ]
        },
        "geo": {
         "center": {
          "lat": 50.5,
          "lon": 15.2551
         },
         "countrycolor": "rgb(255, 255, 255)",
         "countrywidth": 1,
         "landcolor": "rgb(217, 217, 217)",
         "projection": {
          "scale": 4.3,
          "type": "mercator"
         },
         "showcountries": true,
         "showland": true,
         "subunitcolor": "rgb(255, 255, 255)",
         "subunitwidth": 1
        },
        "height": 1000,
        "sliders": [
         {
          "active": 0,
          "currentvalue": {
           "prefix": "Month: "
          },
          "pad": {
           "t": 50
          },
          "steps": [
           {
            "args": [
             {
              "visible": [
               true,
               true,
               true,
               false,
               false,
               false,
               false,
               false,
               false,
               false,
               false,
               false,
               false,
               false,
               false,
               false,
               false,
               false,
               false,
               false,
               false,
               false,
               false,
               false,
               false,
               false,
               false,
               false,
               false,
               false,
               false,
               false,
               false,
               false,
               false,
               false
              ]
             }
            ],
            "label": "Jan",
            "method": "update"
           },
           {
            "args": [
             {
              "visible": [
               false,
               false,
               false,
               true,
               true,
               true,
               false,
               false,
               false,
               false,
               false,
               false,
               false,
               false,
               false,
               false,
               false,
               false,
               false,
               false,
               false,
               false,
               false,
               false,
               false,
               false,
               false,
               false,
               false,
               false,
               false,
               false,
               false,
               false,
               false,
               false
              ]
             }
            ],
            "label": "Feb",
            "method": "update"
           },
           {
            "args": [
             {
              "visible": [
               false,
               false,
               false,
               false,
               false,
               false,
               true,
               true,
               true,
               false,
               false,
               false,
               false,
               false,
               false,
               false,
               false,
               false,
               false,
               false,
               false,
               false,
               false,
               false,
               false,
               false,
               false,
               false,
               false,
               false,
               false,
               false,
               false,
               false,
               false,
               false
              ]
             }
            ],
            "label": "Mar",
            "method": "update"
           },
           {
            "args": [
             {
              "visible": [
               false,
               false,
               false,
               false,
               false,
               false,
               false,
               false,
               false,
               true,
               true,
               true,
               false,
               false,
               false,
               false,
               false,
               false,
               false,
               false,
               false,
               false,
               false,
               false,
               false,
               false,
               false,
               false,
               false,
               false,
               false,
               false,
               false,
               false,
               false,
               false
              ]
             }
            ],
            "label": "Apr",
            "method": "update"
           },
           {
            "args": [
             {
              "visible": [
               false,
               false,
               false,
               false,
               false,
               false,
               false,
               false,
               false,
               false,
               false,
               false,
               true,
               true,
               true,
               false,
               false,
               false,
               false,
               false,
               false,
               false,
               false,
               false,
               false,
               false,
               false,
               false,
               false,
               false,
               false,
               false,
               false,
               false,
               false,
               false
              ]
             }
            ],
            "label": "May",
            "method": "update"
           },
           {
            "args": [
             {
              "visible": [
               false,
               false,
               false,
               false,
               false,
               false,
               false,
               false,
               false,
               false,
               false,
               false,
               false,
               false,
               false,
               true,
               true,
               true,
               false,
               false,
               false,
               false,
               false,
               false,
               false,
               false,
               false,
               false,
               false,
               false,
               false,
               false,
               false,
               false,
               false,
               false
              ]
             }
            ],
            "label": "Jun",
            "method": "update"
           },
           {
            "args": [
             {
              "visible": [
               false,
               false,
               false,
               false,
               false,
               false,
               false,
               false,
               false,
               false,
               false,
               false,
               false,
               false,
               false,
               false,
               false,
               false,
               true,
               true,
               true,
               false,
               false,
               false,
               false,
               false,
               false,
               false,
               false,
               false,
               false,
               false,
               false,
               false,
               false,
               false
              ]
             }
            ],
            "label": "Jul",
            "method": "update"
           },
           {
            "args": [
             {
              "visible": [
               false,
               false,
               false,
               false,
               false,
               false,
               false,
               false,
               false,
               false,
               false,
               false,
               false,
               false,
               false,
               false,
               false,
               false,
               false,
               false,
               false,
               true,
               true,
               true,
               false,
               false,
               false,
               false,
               false,
               false,
               false,
               false,
               false,
               false,
               false,
               false
              ]
             }
            ],
            "label": "Aug",
            "method": "update"
           },
           {
            "args": [
             {
              "visible": [
               false,
               false,
               false,
               false,
               false,
               false,
               false,
               false,
               false,
               false,
               false,
               false,
               false,
               false,
               false,
               false,
               false,
               false,
               false,
               false,
               false,
               false,
               false,
               false,
               true,
               true,
               true,
               false,
               false,
               false,
               false,
               false,
               false,
               false,
               false,
               false
              ]
             }
            ],
            "label": "Sep",
            "method": "update"
           },
           {
            "args": [
             {
              "visible": [
               false,
               false,
               false,
               false,
               false,
               false,
               false,
               false,
               false,
               false,
               false,
               false,
               false,
               false,
               false,
               false,
               false,
               false,
               false,
               false,
               false,
               false,
               false,
               false,
               false,
               false,
               false,
               true,
               true,
               true,
               false,
               false,
               false,
               false,
               false,
               false
              ]
             }
            ],
            "label": "Oct",
            "method": "update"
           },
           {
            "args": [
             {
              "visible": [
               false,
               false,
               false,
               false,
               false,
               false,
               false,
               false,
               false,
               false,
               false,
               false,
               false,
               false,
               false,
               false,
               false,
               false,
               false,
               false,
               false,
               false,
               false,
               false,
               false,
               false,
               false,
               false,
               false,
               false,
               true,
               true,
               true,
               false,
               false,
               false
              ]
             }
            ],
            "label": "Nov",
            "method": "update"
           },
           {
            "args": [
             {
              "visible": [
               false,
               false,
               false,
               false,
               false,
               false,
               false,
               false,
               false,
               false,
               false,
               false,
               false,
               false,
               false,
               false,
               false,
               false,
               false,
               false,
               false,
               false,
               false,
               false,
               false,
               false,
               false,
               false,
               false,
               false,
               false,
               false,
               false,
               true,
               true,
               true
              ]
             }
            ],
            "label": "Dec",
            "method": "update"
           }
          ]
         }
        ],
        "template": {
         "data": {
          "bar": [
           {
            "error_x": {
             "color": "#2a3f5f"
            },
            "error_y": {
             "color": "#2a3f5f"
            },
            "marker": {
             "line": {
              "color": "#E5ECF6",
              "width": 0.5
             },
             "pattern": {
              "fillmode": "overlay",
              "size": 10,
              "solidity": 0.2
             }
            },
            "type": "bar"
           }
          ],
          "barpolar": [
           {
            "marker": {
             "line": {
              "color": "#E5ECF6",
              "width": 0.5
             },
             "pattern": {
              "fillmode": "overlay",
              "size": 10,
              "solidity": 0.2
             }
            },
            "type": "barpolar"
           }
          ],
          "carpet": [
           {
            "aaxis": {
             "endlinecolor": "#2a3f5f",
             "gridcolor": "white",
             "linecolor": "white",
             "minorgridcolor": "white",
             "startlinecolor": "#2a3f5f"
            },
            "baxis": {
             "endlinecolor": "#2a3f5f",
             "gridcolor": "white",
             "linecolor": "white",
             "minorgridcolor": "white",
             "startlinecolor": "#2a3f5f"
            },
            "type": "carpet"
           }
          ],
          "choropleth": [
           {
            "colorbar": {
             "outlinewidth": 0,
             "ticks": ""
            },
            "type": "choropleth"
           }
          ],
          "contour": [
           {
            "colorbar": {
             "outlinewidth": 0,
             "ticks": ""
            },
            "colorscale": [
             [
              0,
              "#0d0887"
             ],
             [
              0.1111111111111111,
              "#46039f"
             ],
             [
              0.2222222222222222,
              "#7201a8"
             ],
             [
              0.3333333333333333,
              "#9c179e"
             ],
             [
              0.4444444444444444,
              "#bd3786"
             ],
             [
              0.5555555555555556,
              "#d8576b"
             ],
             [
              0.6666666666666666,
              "#ed7953"
             ],
             [
              0.7777777777777778,
              "#fb9f3a"
             ],
             [
              0.8888888888888888,
              "#fdca26"
             ],
             [
              1,
              "#f0f921"
             ]
            ],
            "type": "contour"
           }
          ],
          "contourcarpet": [
           {
            "colorbar": {
             "outlinewidth": 0,
             "ticks": ""
            },
            "type": "contourcarpet"
           }
          ],
          "heatmap": [
           {
            "colorbar": {
             "outlinewidth": 0,
             "ticks": ""
            },
            "colorscale": [
             [
              0,
              "#0d0887"
             ],
             [
              0.1111111111111111,
              "#46039f"
             ],
             [
              0.2222222222222222,
              "#7201a8"
             ],
             [
              0.3333333333333333,
              "#9c179e"
             ],
             [
              0.4444444444444444,
              "#bd3786"
             ],
             [
              0.5555555555555556,
              "#d8576b"
             ],
             [
              0.6666666666666666,
              "#ed7953"
             ],
             [
              0.7777777777777778,
              "#fb9f3a"
             ],
             [
              0.8888888888888888,
              "#fdca26"
             ],
             [
              1,
              "#f0f921"
             ]
            ],
            "type": "heatmap"
           }
          ],
          "heatmapgl": [
           {
            "colorbar": {
             "outlinewidth": 0,
             "ticks": ""
            },
            "colorscale": [
             [
              0,
              "#0d0887"
             ],
             [
              0.1111111111111111,
              "#46039f"
             ],
             [
              0.2222222222222222,
              "#7201a8"
             ],
             [
              0.3333333333333333,
              "#9c179e"
             ],
             [
              0.4444444444444444,
              "#bd3786"
             ],
             [
              0.5555555555555556,
              "#d8576b"
             ],
             [
              0.6666666666666666,
              "#ed7953"
             ],
             [
              0.7777777777777778,
              "#fb9f3a"
             ],
             [
              0.8888888888888888,
              "#fdca26"
             ],
             [
              1,
              "#f0f921"
             ]
            ],
            "type": "heatmapgl"
           }
          ],
          "histogram": [
           {
            "marker": {
             "pattern": {
              "fillmode": "overlay",
              "size": 10,
              "solidity": 0.2
             }
            },
            "type": "histogram"
           }
          ],
          "histogram2d": [
           {
            "colorbar": {
             "outlinewidth": 0,
             "ticks": ""
            },
            "colorscale": [
             [
              0,
              "#0d0887"
             ],
             [
              0.1111111111111111,
              "#46039f"
             ],
             [
              0.2222222222222222,
              "#7201a8"
             ],
             [
              0.3333333333333333,
              "#9c179e"
             ],
             [
              0.4444444444444444,
              "#bd3786"
             ],
             [
              0.5555555555555556,
              "#d8576b"
             ],
             [
              0.6666666666666666,
              "#ed7953"
             ],
             [
              0.7777777777777778,
              "#fb9f3a"
             ],
             [
              0.8888888888888888,
              "#fdca26"
             ],
             [
              1,
              "#f0f921"
             ]
            ],
            "type": "histogram2d"
           }
          ],
          "histogram2dcontour": [
           {
            "colorbar": {
             "outlinewidth": 0,
             "ticks": ""
            },
            "colorscale": [
             [
              0,
              "#0d0887"
             ],
             [
              0.1111111111111111,
              "#46039f"
             ],
             [
              0.2222222222222222,
              "#7201a8"
             ],
             [
              0.3333333333333333,
              "#9c179e"
             ],
             [
              0.4444444444444444,
              "#bd3786"
             ],
             [
              0.5555555555555556,
              "#d8576b"
             ],
             [
              0.6666666666666666,
              "#ed7953"
             ],
             [
              0.7777777777777778,
              "#fb9f3a"
             ],
             [
              0.8888888888888888,
              "#fdca26"
             ],
             [
              1,
              "#f0f921"
             ]
            ],
            "type": "histogram2dcontour"
           }
          ],
          "mesh3d": [
           {
            "colorbar": {
             "outlinewidth": 0,
             "ticks": ""
            },
            "type": "mesh3d"
           }
          ],
          "parcoords": [
           {
            "line": {
             "colorbar": {
              "outlinewidth": 0,
              "ticks": ""
             }
            },
            "type": "parcoords"
           }
          ],
          "pie": [
           {
            "automargin": true,
            "type": "pie"
           }
          ],
          "scatter": [
           {
            "fillpattern": {
             "fillmode": "overlay",
             "size": 10,
             "solidity": 0.2
            },
            "type": "scatter"
           }
          ],
          "scatter3d": [
           {
            "line": {
             "colorbar": {
              "outlinewidth": 0,
              "ticks": ""
             }
            },
            "marker": {
             "colorbar": {
              "outlinewidth": 0,
              "ticks": ""
             }
            },
            "type": "scatter3d"
           }
          ],
          "scattercarpet": [
           {
            "marker": {
             "colorbar": {
              "outlinewidth": 0,
              "ticks": ""
             }
            },
            "type": "scattercarpet"
           }
          ],
          "scattergeo": [
           {
            "marker": {
             "colorbar": {
              "outlinewidth": 0,
              "ticks": ""
             }
            },
            "type": "scattergeo"
           }
          ],
          "scattergl": [
           {
            "marker": {
             "colorbar": {
              "outlinewidth": 0,
              "ticks": ""
             }
            },
            "type": "scattergl"
           }
          ],
          "scattermapbox": [
           {
            "marker": {
             "colorbar": {
              "outlinewidth": 0,
              "ticks": ""
             }
            },
            "type": "scattermapbox"
           }
          ],
          "scatterpolar": [
           {
            "marker": {
             "colorbar": {
              "outlinewidth": 0,
              "ticks": ""
             }
            },
            "type": "scatterpolar"
           }
          ],
          "scatterpolargl": [
           {
            "marker": {
             "colorbar": {
              "outlinewidth": 0,
              "ticks": ""
             }
            },
            "type": "scatterpolargl"
           }
          ],
          "scatterternary": [
           {
            "marker": {
             "colorbar": {
              "outlinewidth": 0,
              "ticks": ""
             }
            },
            "type": "scatterternary"
           }
          ],
          "surface": [
           {
            "colorbar": {
             "outlinewidth": 0,
             "ticks": ""
            },
            "colorscale": [
             [
              0,
              "#0d0887"
             ],
             [
              0.1111111111111111,
              "#46039f"
             ],
             [
              0.2222222222222222,
              "#7201a8"
             ],
             [
              0.3333333333333333,
              "#9c179e"
             ],
             [
              0.4444444444444444,
              "#bd3786"
             ],
             [
              0.5555555555555556,
              "#d8576b"
             ],
             [
              0.6666666666666666,
              "#ed7953"
             ],
             [
              0.7777777777777778,
              "#fb9f3a"
             ],
             [
              0.8888888888888888,
              "#fdca26"
             ],
             [
              1,
              "#f0f921"
             ]
            ],
            "type": "surface"
           }
          ],
          "table": [
           {
            "cells": {
             "fill": {
              "color": "#EBF0F8"
             },
             "line": {
              "color": "white"
             }
            },
            "header": {
             "fill": {
              "color": "#C8D4E3"
             },
             "line": {
              "color": "white"
             }
            },
            "type": "table"
           }
          ]
         },
         "layout": {
          "annotationdefaults": {
           "arrowcolor": "#2a3f5f",
           "arrowhead": 0,
           "arrowwidth": 1
          },
          "autotypenumbers": "strict",
          "coloraxis": {
           "colorbar": {
            "outlinewidth": 0,
            "ticks": ""
           }
          },
          "colorscale": {
           "diverging": [
            [
             0,
             "#8e0152"
            ],
            [
             0.1,
             "#c51b7d"
            ],
            [
             0.2,
             "#de77ae"
            ],
            [
             0.3,
             "#f1b6da"
            ],
            [
             0.4,
             "#fde0ef"
            ],
            [
             0.5,
             "#f7f7f7"
            ],
            [
             0.6,
             "#e6f5d0"
            ],
            [
             0.7,
             "#b8e186"
            ],
            [
             0.8,
             "#7fbc41"
            ],
            [
             0.9,
             "#4d9221"
            ],
            [
             1,
             "#276419"
            ]
           ],
           "sequential": [
            [
             0,
             "#0d0887"
            ],
            [
             0.1111111111111111,
             "#46039f"
            ],
            [
             0.2222222222222222,
             "#7201a8"
            ],
            [
             0.3333333333333333,
             "#9c179e"
            ],
            [
             0.4444444444444444,
             "#bd3786"
            ],
            [
             0.5555555555555556,
             "#d8576b"
            ],
            [
             0.6666666666666666,
             "#ed7953"
            ],
            [
             0.7777777777777778,
             "#fb9f3a"
            ],
            [
             0.8888888888888888,
             "#fdca26"
            ],
            [
             1,
             "#f0f921"
            ]
           ],
           "sequentialminus": [
            [
             0,
             "#0d0887"
            ],
            [
             0.1111111111111111,
             "#46039f"
            ],
            [
             0.2222222222222222,
             "#7201a8"
            ],
            [
             0.3333333333333333,
             "#9c179e"
            ],
            [
             0.4444444444444444,
             "#bd3786"
            ],
            [
             0.5555555555555556,
             "#d8576b"
            ],
            [
             0.6666666666666666,
             "#ed7953"
            ],
            [
             0.7777777777777778,
             "#fb9f3a"
            ],
            [
             0.8888888888888888,
             "#fdca26"
            ],
            [
             1,
             "#f0f921"
            ]
           ]
          },
          "colorway": [
           "#636efa",
           "#EF553B",
           "#00cc96",
           "#ab63fa",
           "#FFA15A",
           "#19d3f3",
           "#FF6692",
           "#B6E880",
           "#FF97FF",
           "#FECB52"
          ],
          "font": {
           "color": "#2a3f5f"
          },
          "geo": {
           "bgcolor": "white",
           "lakecolor": "white",
           "landcolor": "#E5ECF6",
           "showlakes": true,
           "showland": true,
           "subunitcolor": "white"
          },
          "hoverlabel": {
           "align": "left"
          },
          "hovermode": "closest",
          "mapbox": {
           "style": "light"
          },
          "paper_bgcolor": "white",
          "plot_bgcolor": "#E5ECF6",
          "polar": {
           "angularaxis": {
            "gridcolor": "white",
            "linecolor": "white",
            "ticks": ""
           },
           "bgcolor": "#E5ECF6",
           "radialaxis": {
            "gridcolor": "white",
            "linecolor": "white",
            "ticks": ""
           }
          },
          "scene": {
           "xaxis": {
            "backgroundcolor": "#E5ECF6",
            "gridcolor": "white",
            "gridwidth": 2,
            "linecolor": "white",
            "showbackground": true,
            "ticks": "",
            "zerolinecolor": "white"
           },
           "yaxis": {
            "backgroundcolor": "#E5ECF6",
            "gridcolor": "white",
            "gridwidth": 2,
            "linecolor": "white",
            "showbackground": true,
            "ticks": "",
            "zerolinecolor": "white"
           },
           "zaxis": {
            "backgroundcolor": "#E5ECF6",
            "gridcolor": "white",
            "gridwidth": 2,
            "linecolor": "white",
            "showbackground": true,
            "ticks": "",
            "zerolinecolor": "white"
           }
          },
          "shapedefaults": {
           "line": {
            "color": "#2a3f5f"
           }
          },
          "ternary": {
           "aaxis": {
            "gridcolor": "white",
            "linecolor": "white",
            "ticks": ""
           },
           "baxis": {
            "gridcolor": "white",
            "linecolor": "white",
            "ticks": ""
           },
           "bgcolor": "#E5ECF6",
           "caxis": {
            "gridcolor": "white",
            "linecolor": "white",
            "ticks": ""
           }
          },
          "title": {
           "x": 0.05
          },
          "xaxis": {
           "automargin": true,
           "gridcolor": "white",
           "linecolor": "white",
           "ticks": "",
           "title": {
            "standoff": 15
           },
           "zerolinecolor": "white",
           "zerolinewidth": 2
          },
          "yaxis": {
           "automargin": true,
           "gridcolor": "white",
           "linecolor": "white",
           "ticks": "",
           "title": {
            "standoff": 15
           },
           "zerolinecolor": "white",
           "zerolinewidth": 2
          }
         }
        },
        "title": {
         "text": "LNG Imports and Exports"
        },
        "width": 1000
       }
      }
     },
     "metadata": {},
     "output_type": "display_data"
    }
   ],
   "source": [
    "# Assuming lng_points_df and lng_keys are already defined as pandas DataFrame and list\n",
    "\n",
    "# Initialize the LNG data dictionary\n",
    "lng_op_data_2019 = {}\n",
    "process_point_data(lng_points_df, lng_op_data_2019)\n",
    "\n",
    "# Process the data for the first three months of 2019\n",
    "process_total_data(lng_op_data_2019, ['2019_01', '2019_02', '2019_03','2019_04','2019_05','2019_06','2019_07','2019_08','2019_09','2019_10','2019_11','2019_12'], lng_keys)\n",
    "\n",
    "\n",
    "# Create and display the map\n",
    "create_lng_map(lng_op_data_2019)\n"
   ]
  },
  {
   "cell_type": "code",
   "execution_count": 38,
   "metadata": {},
   "outputs": [
    {
     "data": {
      "application/vnd.plotly.v1+json": {
       "config": {
        "plotlyServerURL": "https://plot.ly"
       },
       "data": [
        {
         "lat": [
          43.067,
          53.917,
          51.45,
          41.35,
          43.333,
          45.067,
          51.333,
          37.2,
          44.1,
          37.6,
          39.667,
          47.283,
          37.95,
          51.95,
          43.367,
          55.7,
          45.15,
          51.7,
          51.95,
          53.45,
          60.567,
          53.517,
          54.117
         ],
         "locationmode": "country names",
         "lon": [
          10.067,
          14.25,
          -0.75,
          2.167,
          -3,
          12.3,
          3.2,
          -6.95,
          9.817,
          -0.983,
          -0.217,
          -2.117,
          -8.867,
          4.05,
          4.95,
          21.15,
          14.567,
          -5.05,
          4.05,
          6.85,
          27.183,
          8.117,
          13.75
         ],
         "marker": {
          "color": [
           1432427989,
           2471906143,
           3084028803,
           635999044,
           1887775959,
           2990846664,
           5021721084,
           1175253010,
           866358424,
           789856384,
           1245736700,
           3643227307,
           1443063264,
           5700339631.8,
           4328904838,
           1376111251,
           847885078,
           2980658253,
           5716178068,
           954422962.4000001,
           37835699,
           972291335,
           73915008
          ],
          "colorbar": {
           "tickmode": "array",
           "ticktext": [
            "0",
            "5.72e+09"
           ],
           "tickvals": [
            0,
            5716178068
           ],
           "title": {
            "side": "right",
            "text": "Import"
           }
          },
          "colorscale": [
           [
            0,
            "rgb(255,255,204)"
           ],
           [
            0.125,
            "rgb(255,237,160)"
           ],
           [
            0.25,
            "rgb(254,217,118)"
           ],
           [
            0.375,
            "rgb(254,178,76)"
           ],
           [
            0.5,
            "rgb(253,141,60)"
           ],
           [
            0.625,
            "rgb(252,78,42)"
           ],
           [
            0.75,
            "rgb(227,26,28)"
           ],
           [
            0.875,
            "rgb(189,0,38)"
           ],
           [
            1,
            "rgb(128,0,38)"
           ]
          ],
          "line": {
           "width": 0.5
          },
          "size": [
           143.2427989,
           247.1906143,
           308.4028803,
           63.5999044,
           188.7775959,
           299.0846664,
           502.1721084,
           117.525301,
           86.6358424,
           78.9856384,
           124.57367,
           364.3227307,
           144.3063264,
           570.03396318,
           432.8904838,
           137.6111251,
           84.7885078,
           298.0658253,
           571.6178068,
           95.44229624,
           3.7835699,
           97.2291335,
           7.3915008
          ],
          "sizemode": "area"
         },
         "name": "Entries - Jan",
         "opacity": 0.6,
         "text": [
          "OLT LNG / Livorno: 1.43e+09 kWh/d",
          "Swinoujscie: 2.47e+09 kWh/d",
          "Isle of Grain: 3.08e+09 kWh/d",
          "Barcelona: 6.36e+08 kWh/d",
          "Bilbao: 1.89e+09 kWh/d",
          "Cavarzere (Porto Levante / Adriatic LNG): 2.99e+09 kWh/d",
          "Zeebrugge LNG: 5.02e+09 kWh/d",
          "Huelva: 1.18e+09 kWh/d",
          "Panigaglia: 8.66e+08 kWh/d",
          "Cartagena: 7.90e+08 kWh/d",
          "Sagunto: 1.25e+09 kWh/d",
          "Montoir de Bretagne: 3.64e+09 kWh/d",
          "Sines: 1.44e+09 kWh/d",
          "Gate Terminal (I): 5.70e+09 kWh/d",
          "Fos (Tonkin/Cavaou): 4.33e+09 kWh/d",
          "Klaipeda (LNG): 1.38e+09 kWh/d",
          "Croatia LNG: 8.48e+08 kWh/d",
          "Milford Haven: 2.98e+09 kWh/d",
          "TVB: 5.72e+09 kWh/d",
          "Eems Energy Terminal: 9.54e+08 kWh/d",
          "Hamina LNG: 3.78e+07 kWh/d",
          "Wilhelmshaven, LNG-Terminal 1 (DE): 9.72e+08 kWh/d",
          "Baltic Energy Gate (Port) (DE): 7.39e+07 kWh/d"
         ],
         "type": "scattergeo",
         "visible": true
        },
        {
         "lat": [],
         "locationmode": "country names",
         "lon": [],
         "marker": {
          "color": [],
          "colorbar": {
           "tickmode": "array",
           "ticktext": [
            "0",
            "0.00e+00"
           ],
           "tickvals": [
            0,
            0
           ],
           "title": {
            "side": "right",
            "text": "Export"
           }
          },
          "colorscale": [
           [
            0,
            "rgb(247,251,255)"
           ],
           [
            0.125,
            "rgb(222,235,247)"
           ],
           [
            0.25,
            "rgb(198,219,239)"
           ],
           [
            0.375,
            "rgb(158,202,225)"
           ],
           [
            0.5,
            "rgb(107,174,214)"
           ],
           [
            0.625,
            "rgb(66,146,198)"
           ],
           [
            0.75,
            "rgb(33,113,181)"
           ],
           [
            0.875,
            "rgb(8,81,156)"
           ],
           [
            1,
            "rgb(8,48,107)"
           ]
          ],
          "line": {
           "width": 0.5
          },
          "size": [],
          "sizemode": "area"
         },
         "name": "Exits - Jan",
         "text": [],
         "type": "scattergeo",
         "visible": true
        },
        {
         "lat": [
          40.833,
          59.367,
          37.95,
          43.483,
          35.833,
          59.467,
          37.95,
          52.567,
          40.833,
          57.7,
          45.65,
          51.05,
          56.95,
          53.917,
          51.883,
          39.15,
          53.85,
          34.667,
          60.017,
          43.067,
          49.483,
          43.55,
          53.6,
          53.517
         ],
         "locationmode": "country names",
         "lon": [
          25.872,
          24.05,
          23.55,
          -8.25,
          14.55,
          24.75,
          23.55,
          -9.5,
          25.872,
          11.867,
          13.767,
          2.367,
          24.1,
          14.25,
          -8.3,
          9.1,
          9.117,
          33.033,
          24.017,
          10.067,
          0.00011700000000000001,
          -5.95,
          9.467,
          8.117
         ],
         "marker": {
          "color": "black",
          "line": {
           "width": 0.5
          },
          "size": 5,
          "sizemode": "area"
         },
         "name": "No Flow - Jan",
         "text": [
          "Alexandroupolis LNG",
          "Paldiski LNG",
          "Agia Triada",
          "Mugardos",
          "Malta FSRU Offshore Terminal",
          "Tallinn LNG",
          "Aegean LNG",
          "Shannon LNG",
          "Alexandroupolis Amphitriti",
          "Gothenburg LNG",
          "Zaule LNG (Trieste)",
          "Dunkerque LNG",
          "Skulte (LV)",
          "FSRU Polish Baltic Sea Coast",
          "Cork LNG (IE)",
          "Sardinia LNG",
          "BRUNSBUETTEL HAFEN (FSRU) (DE)",
          "Terminal 2 Vassiliko - Lemesos Port",
          "Inkoo LNG (FI)",
          "FSRU ITALIA_PIOMBINO TERMINAL",
          "Le Havre (FR)",
          "Musel",
          "STADE HAFEN (FSRU) - LNG",
          "Wilhelmshaven, LNG-Terminal 2"
         ],
         "type": "scattergeo",
         "visible": true
        },
        {
         "lat": [
          43.067,
          53.917,
          51.45,
          41.35,
          43.333,
          45.067,
          51.333,
          37.2,
          44.1,
          37.6,
          39.667,
          47.283,
          37.95,
          51.95,
          43.367,
          55.7,
          45.15,
          51.7,
          51.95,
          53.45,
          60.567,
          60.017,
          53.517,
          54.117
         ],
         "locationmode": "country names",
         "lon": [
          10.067,
          14.25,
          -0.75,
          2.167,
          -3,
          12.3,
          3.2,
          -6.95,
          9.817,
          -0.983,
          -0.217,
          -2.117,
          -8.867,
          4.05,
          4.95,
          21.15,
          14.567,
          -5.05,
          4.05,
          6.85,
          27.183,
          24.017,
          8.117,
          13.75
         ],
         "marker": {
          "color": [
           1723615297,
           2214240133,
           4017480408,
           1353815082,
           2340749906,
           2960687844,
           4570643300,
           2378852426,
           1095503001,
           1257727397,
           407958446,
           1960224793,
           1805308594,
           5360891464.3,
           3475991542,
           1077271400,
           848254427,
           6889016595,
           8396446075,
           423541506.3,
           28448476,
           21146320.690423,
           1333732420,
           324342528
          ],
          "colorbar": {
           "tickmode": "array",
           "ticktext": [
            "0",
            "8.40e+09"
           ],
           "tickvals": [
            0,
            8396446075
           ],
           "title": {
            "side": "right",
            "text": "Import"
           }
          },
          "colorscale": [
           [
            0,
            "rgb(255,255,204)"
           ],
           [
            0.125,
            "rgb(255,237,160)"
           ],
           [
            0.25,
            "rgb(254,217,118)"
           ],
           [
            0.375,
            "rgb(254,178,76)"
           ],
           [
            0.5,
            "rgb(253,141,60)"
           ],
           [
            0.625,
            "rgb(252,78,42)"
           ],
           [
            0.75,
            "rgb(227,26,28)"
           ],
           [
            0.875,
            "rgb(189,0,38)"
           ],
           [
            1,
            "rgb(128,0,38)"
           ]
          ],
          "line": {
           "width": 0.5
          },
          "size": [
           172.3615297,
           221.4240133,
           401.7480408,
           135.3815082,
           234.0749906,
           296.0687844,
           457.06433,
           237.8852426,
           109.5503001,
           125.7727397,
           40.7958446,
           196.0224793,
           180.5308594,
           536.08914643,
           347.5991542,
           107.72714,
           84.8254427,
           688.9016595,
           839.6446075,
           42.35415063,
           2.8448476,
           2.1146320690423,
           133.373242,
           32.4342528
          ],
          "sizemode": "area"
         },
         "name": "Entries - Feb",
         "opacity": 0.6,
         "text": [
          "OLT LNG / Livorno: 1.72e+09 kWh/d",
          "Swinoujscie: 2.21e+09 kWh/d",
          "Isle of Grain: 4.02e+09 kWh/d",
          "Barcelona: 1.35e+09 kWh/d",
          "Bilbao: 2.34e+09 kWh/d",
          "Cavarzere (Porto Levante / Adriatic LNG): 2.96e+09 kWh/d",
          "Zeebrugge LNG: 4.57e+09 kWh/d",
          "Huelva: 2.38e+09 kWh/d",
          "Panigaglia: 1.10e+09 kWh/d",
          "Cartagena: 1.26e+09 kWh/d",
          "Sagunto: 4.08e+08 kWh/d",
          "Montoir de Bretagne: 1.96e+09 kWh/d",
          "Sines: 1.81e+09 kWh/d",
          "Gate Terminal (I): 5.36e+09 kWh/d",
          "Fos (Tonkin/Cavaou): 3.48e+09 kWh/d",
          "Klaipeda (LNG): 1.08e+09 kWh/d",
          "Croatia LNG: 8.48e+08 kWh/d",
          "Milford Haven: 6.89e+09 kWh/d",
          "TVB: 8.40e+09 kWh/d",
          "Eems Energy Terminal: 4.24e+08 kWh/d",
          "Hamina LNG: 2.84e+07 kWh/d",
          "Inkoo LNG (FI): 2.11e+07 kWh/d",
          "Wilhelmshaven, LNG-Terminal 1 (DE): 1.33e+09 kWh/d",
          "Baltic Energy Gate (Port) (DE): 3.24e+08 kWh/d"
         ],
         "type": "scattergeo",
         "visible": false
        },
        {
         "lat": [],
         "locationmode": "country names",
         "lon": [],
         "marker": {
          "color": [],
          "colorbar": {
           "tickmode": "array",
           "ticktext": [
            "0",
            "0.00e+00"
           ],
           "tickvals": [
            0,
            0
           ],
           "title": {
            "side": "right",
            "text": "Export"
           }
          },
          "colorscale": [
           [
            0,
            "rgb(247,251,255)"
           ],
           [
            0.125,
            "rgb(222,235,247)"
           ],
           [
            0.25,
            "rgb(198,219,239)"
           ],
           [
            0.375,
            "rgb(158,202,225)"
           ],
           [
            0.5,
            "rgb(107,174,214)"
           ],
           [
            0.625,
            "rgb(66,146,198)"
           ],
           [
            0.75,
            "rgb(33,113,181)"
           ],
           [
            0.875,
            "rgb(8,81,156)"
           ],
           [
            1,
            "rgb(8,48,107)"
           ]
          ],
          "line": {
           "width": 0.5
          },
          "size": [],
          "sizemode": "area"
         },
         "name": "Exits - Feb",
         "text": [],
         "type": "scattergeo",
         "visible": false
        },
        {
         "lat": [
          40.833,
          59.367,
          37.95,
          43.483,
          35.833,
          59.467,
          37.95,
          52.567,
          40.833,
          57.7,
          45.65,
          51.05,
          56.95,
          53.917,
          51.883,
          39.15,
          53.85,
          34.667,
          43.067,
          49.483,
          43.55,
          53.6,
          53.517
         ],
         "locationmode": "country names",
         "lon": [
          25.872,
          24.05,
          23.55,
          -8.25,
          14.55,
          24.75,
          23.55,
          -9.5,
          25.872,
          11.867,
          13.767,
          2.367,
          24.1,
          14.25,
          -8.3,
          9.1,
          9.117,
          33.033,
          10.067,
          0.00011700000000000001,
          -5.95,
          9.467,
          8.117
         ],
         "marker": {
          "color": "black",
          "line": {
           "width": 0.5
          },
          "size": 5,
          "sizemode": "area"
         },
         "name": "No Flow - Feb",
         "text": [
          "Alexandroupolis LNG",
          "Paldiski LNG",
          "Agia Triada",
          "Mugardos",
          "Malta FSRU Offshore Terminal",
          "Tallinn LNG",
          "Aegean LNG",
          "Shannon LNG",
          "Alexandroupolis Amphitriti",
          "Gothenburg LNG",
          "Zaule LNG (Trieste)",
          "Dunkerque LNG",
          "Skulte (LV)",
          "FSRU Polish Baltic Sea Coast",
          "Cork LNG (IE)",
          "Sardinia LNG",
          "BRUNSBUETTEL HAFEN (FSRU) (DE)",
          "Terminal 2 Vassiliko - Lemesos Port",
          "FSRU ITALIA_PIOMBINO TERMINAL",
          "Le Havre (FR)",
          "Musel",
          "STADE HAFEN (FSRU) - LNG",
          "Wilhelmshaven, LNG-Terminal 2"
         ],
         "type": "scattergeo",
         "visible": false
        },
        {
         "lat": [
          43.067,
          53.917,
          51.45,
          41.35,
          43.333,
          45.067,
          51.333,
          37.2,
          44.1,
          37.6,
          39.667,
          47.283,
          37.95,
          51.95,
          43.367,
          55.7,
          45.15,
          51.7,
          51.95,
          53.45,
          60.567,
          60.017,
          53.517,
          54.117
         ],
         "locationmode": "country names",
         "lon": [
          10.067,
          14.25,
          -0.75,
          2.167,
          -3,
          12.3,
          3.2,
          -6.95,
          9.817,
          -0.983,
          -0.217,
          -2.117,
          -8.867,
          4.05,
          4.95,
          21.15,
          14.567,
          -5.05,
          4.05,
          6.85,
          27.183,
          24.017,
          8.117,
          13.75
         ],
         "marker": {
          "color": [
           1207586023,
           2509635812,
           5002573650,
           1662045750,
           2361490933,
           3102420328,
           4696047932,
           1143909364,
           1117777252,
           727060400,
           1576823012,
           2138495745,
           1514822755,
           5998788006.400001,
           2037667785,
           1220600632,
           865019563,
           6699875545,
           8046244377,
           2246989435.3,
           54269257,
           88261733.94999999,
           953368086,
           414677288
          ],
          "colorbar": {
           "tickmode": "array",
           "ticktext": [
            "0",
            "8.40e+09"
           ],
           "tickvals": [
            0,
            8396446075
           ],
           "title": {
            "side": "right",
            "text": "Import"
           }
          },
          "colorscale": [
           [
            0,
            "rgb(255,255,204)"
           ],
           [
            0.125,
            "rgb(255,237,160)"
           ],
           [
            0.25,
            "rgb(254,217,118)"
           ],
           [
            0.375,
            "rgb(254,178,76)"
           ],
           [
            0.5,
            "rgb(253,141,60)"
           ],
           [
            0.625,
            "rgb(252,78,42)"
           ],
           [
            0.75,
            "rgb(227,26,28)"
           ],
           [
            0.875,
            "rgb(189,0,38)"
           ],
           [
            1,
            "rgb(128,0,38)"
           ]
          ],
          "line": {
           "width": 0.5
          },
          "size": [
           120.7586023,
           250.9635812,
           500.257365,
           166.204575,
           236.1490933,
           310.2420328,
           469.6047932,
           114.3909364,
           111.7777252,
           72.70604,
           157.6823012,
           213.8495745,
           151.4822755,
           599.87880064,
           203.7667785,
           122.0600632,
           86.5019563,
           669.9875545,
           804.6244377,
           224.69894353,
           5.4269257,
           8.826173395,
           95.3368086,
           41.4677288
          ],
          "sizemode": "area"
         },
         "name": "Entries - Mar",
         "opacity": 0.6,
         "text": [
          "OLT LNG / Livorno: 1.21e+09 kWh/d",
          "Swinoujscie: 2.51e+09 kWh/d",
          "Isle of Grain: 5.00e+09 kWh/d",
          "Barcelona: 1.66e+09 kWh/d",
          "Bilbao: 2.36e+09 kWh/d",
          "Cavarzere (Porto Levante / Adriatic LNG): 3.10e+09 kWh/d",
          "Zeebrugge LNG: 4.70e+09 kWh/d",
          "Huelva: 1.14e+09 kWh/d",
          "Panigaglia: 1.12e+09 kWh/d",
          "Cartagena: 7.27e+08 kWh/d",
          "Sagunto: 1.58e+09 kWh/d",
          "Montoir de Bretagne: 2.14e+09 kWh/d",
          "Sines: 1.51e+09 kWh/d",
          "Gate Terminal (I): 6.00e+09 kWh/d",
          "Fos (Tonkin/Cavaou): 2.04e+09 kWh/d",
          "Klaipeda (LNG): 1.22e+09 kWh/d",
          "Croatia LNG: 8.65e+08 kWh/d",
          "Milford Haven: 6.70e+09 kWh/d",
          "TVB: 8.05e+09 kWh/d",
          "Eems Energy Terminal: 2.25e+09 kWh/d",
          "Hamina LNG: 5.43e+07 kWh/d",
          "Inkoo LNG (FI): 8.83e+07 kWh/d",
          "Wilhelmshaven, LNG-Terminal 1 (DE): 9.53e+08 kWh/d",
          "Baltic Energy Gate (Port) (DE): 4.15e+08 kWh/d"
         ],
         "type": "scattergeo",
         "visible": false
        },
        {
         "lat": [],
         "locationmode": "country names",
         "lon": [],
         "marker": {
          "color": [],
          "colorbar": {
           "tickmode": "array",
           "ticktext": [
            "0",
            "0.00e+00"
           ],
           "tickvals": [
            0,
            0
           ],
           "title": {
            "side": "right",
            "text": "Export"
           }
          },
          "colorscale": [
           [
            0,
            "rgb(247,251,255)"
           ],
           [
            0.125,
            "rgb(222,235,247)"
           ],
           [
            0.25,
            "rgb(198,219,239)"
           ],
           [
            0.375,
            "rgb(158,202,225)"
           ],
           [
            0.5,
            "rgb(107,174,214)"
           ],
           [
            0.625,
            "rgb(66,146,198)"
           ],
           [
            0.75,
            "rgb(33,113,181)"
           ],
           [
            0.875,
            "rgb(8,81,156)"
           ],
           [
            1,
            "rgb(8,48,107)"
           ]
          ],
          "line": {
           "width": 0.5
          },
          "size": [],
          "sizemode": "area"
         },
         "name": "Exits - Mar",
         "text": [],
         "type": "scattergeo",
         "visible": false
        },
        {
         "lat": [
          40.833,
          59.367,
          37.95,
          43.483,
          35.833,
          59.467,
          37.95,
          52.567,
          40.833,
          57.7,
          45.65,
          51.05,
          56.95,
          53.917,
          51.883,
          39.15,
          53.85,
          34.667,
          43.067,
          49.483,
          43.55,
          53.6,
          53.517
         ],
         "locationmode": "country names",
         "lon": [
          25.872,
          24.05,
          23.55,
          -8.25,
          14.55,
          24.75,
          23.55,
          -9.5,
          25.872,
          11.867,
          13.767,
          2.367,
          24.1,
          14.25,
          -8.3,
          9.1,
          9.117,
          33.033,
          10.067,
          0.00011700000000000001,
          -5.95,
          9.467,
          8.117
         ],
         "marker": {
          "color": "black",
          "line": {
           "width": 0.5
          },
          "size": 5,
          "sizemode": "area"
         },
         "name": "No Flow - Mar",
         "text": [
          "Alexandroupolis LNG",
          "Paldiski LNG",
          "Agia Triada",
          "Mugardos",
          "Malta FSRU Offshore Terminal",
          "Tallinn LNG",
          "Aegean LNG",
          "Shannon LNG",
          "Alexandroupolis Amphitriti",
          "Gothenburg LNG",
          "Zaule LNG (Trieste)",
          "Dunkerque LNG",
          "Skulte (LV)",
          "FSRU Polish Baltic Sea Coast",
          "Cork LNG (IE)",
          "Sardinia LNG",
          "BRUNSBUETTEL HAFEN (FSRU) (DE)",
          "Terminal 2 Vassiliko - Lemesos Port",
          "FSRU ITALIA_PIOMBINO TERMINAL",
          "Le Havre (FR)",
          "Musel",
          "STADE HAFEN (FSRU) - LNG",
          "Wilhelmshaven, LNG-Terminal 2"
         ],
         "type": "scattergeo",
         "visible": false
        },
        {
         "lat": [
          43.067,
          53.917,
          51.45,
          41.35,
          43.333,
          45.067,
          51.333,
          37.2,
          44.1,
          37.6,
          39.667,
          47.283,
          37.95,
          51.95,
          43.367,
          55.7,
          45.15,
          51.7,
          53.85,
          51.95,
          53.45,
          60.567,
          60.017,
          53.517,
          54.117
         ],
         "locationmode": "country names",
         "lon": [
          10.067,
          14.25,
          -0.75,
          2.167,
          -3,
          12.3,
          3.2,
          -6.95,
          9.817,
          -0.983,
          -0.217,
          -2.117,
          -8.867,
          4.05,
          4.95,
          21.15,
          14.567,
          -5.05,
          9.117,
          4.05,
          6.85,
          27.183,
          24.017,
          8.117,
          13.75
         ],
         "marker": {
          "color": [
           1705044377,
           1255760864,
           4959985784,
           1140340725,
           1771820842,
           2707925784,
           5036246294,
           2350583912,
           965013104,
           1727738399,
           612467617,
           521130722,
           1604029450,
           6002694767.400001,
           422961541,
           1219283924,
           900091988,
           4806472335,
           586643541,
           8040829654,
           2796184170.9999995,
           2773688,
           547776083.5699999,
           1805467074,
           412809851
          ],
          "colorbar": {
           "tickmode": "array",
           "ticktext": [
            "0",
            "8.40e+09"
           ],
           "tickvals": [
            0,
            8396446075
           ],
           "title": {
            "side": "right",
            "text": "Import"
           }
          },
          "colorscale": [
           [
            0,
            "rgb(255,255,204)"
           ],
           [
            0.125,
            "rgb(255,237,160)"
           ],
           [
            0.25,
            "rgb(254,217,118)"
           ],
           [
            0.375,
            "rgb(254,178,76)"
           ],
           [
            0.5,
            "rgb(253,141,60)"
           ],
           [
            0.625,
            "rgb(252,78,42)"
           ],
           [
            0.75,
            "rgb(227,26,28)"
           ],
           [
            0.875,
            "rgb(189,0,38)"
           ],
           [
            1,
            "rgb(128,0,38)"
           ]
          ],
          "line": {
           "width": 0.5
          },
          "size": [
           170.5044377,
           125.5760864,
           495.9985784,
           114.0340725,
           177.1820842,
           270.7925784,
           503.6246294,
           235.0583912,
           96.5013104,
           172.7738399,
           61.2467617,
           52.1130722,
           160.402945,
           600.2694767400001,
           42.2961541,
           121.9283924,
           90.0091988,
           480.6472335,
           58.6643541,
           804.0829654,
           279.61841709999993,
           0.2773688,
           54.77760835699999,
           180.5467074,
           41.2809851
          ],
          "sizemode": "area"
         },
         "name": "Entries - Apr",
         "opacity": 0.6,
         "text": [
          "OLT LNG / Livorno: 1.71e+09 kWh/d",
          "Swinoujscie: 1.26e+09 kWh/d",
          "Isle of Grain: 4.96e+09 kWh/d",
          "Barcelona: 1.14e+09 kWh/d",
          "Bilbao: 1.77e+09 kWh/d",
          "Cavarzere (Porto Levante / Adriatic LNG): 2.71e+09 kWh/d",
          "Zeebrugge LNG: 5.04e+09 kWh/d",
          "Huelva: 2.35e+09 kWh/d",
          "Panigaglia: 9.65e+08 kWh/d",
          "Cartagena: 1.73e+09 kWh/d",
          "Sagunto: 6.12e+08 kWh/d",
          "Montoir de Bretagne: 5.21e+08 kWh/d",
          "Sines: 1.60e+09 kWh/d",
          "Gate Terminal (I): 6.00e+09 kWh/d",
          "Fos (Tonkin/Cavaou): 4.23e+08 kWh/d",
          "Klaipeda (LNG): 1.22e+09 kWh/d",
          "Croatia LNG: 9.00e+08 kWh/d",
          "Milford Haven: 4.81e+09 kWh/d",
          "BRUNSBUETTEL HAFEN (FSRU) (DE): 5.87e+08 kWh/d",
          "TVB: 8.04e+09 kWh/d",
          "Eems Energy Terminal: 2.80e+09 kWh/d",
          "Hamina LNG: 2.77e+06 kWh/d",
          "Inkoo LNG (FI): 5.48e+08 kWh/d",
          "Wilhelmshaven, LNG-Terminal 1 (DE): 1.81e+09 kWh/d",
          "Baltic Energy Gate (Port) (DE): 4.13e+08 kWh/d"
         ],
         "type": "scattergeo",
         "visible": false
        },
        {
         "lat": [],
         "locationmode": "country names",
         "lon": [],
         "marker": {
          "color": [],
          "colorbar": {
           "tickmode": "array",
           "ticktext": [
            "0",
            "0.00e+00"
           ],
           "tickvals": [
            0,
            0
           ],
           "title": {
            "side": "right",
            "text": "Export"
           }
          },
          "colorscale": [
           [
            0,
            "rgb(247,251,255)"
           ],
           [
            0.125,
            "rgb(222,235,247)"
           ],
           [
            0.25,
            "rgb(198,219,239)"
           ],
           [
            0.375,
            "rgb(158,202,225)"
           ],
           [
            0.5,
            "rgb(107,174,214)"
           ],
           [
            0.625,
            "rgb(66,146,198)"
           ],
           [
            0.75,
            "rgb(33,113,181)"
           ],
           [
            0.875,
            "rgb(8,81,156)"
           ],
           [
            1,
            "rgb(8,48,107)"
           ]
          ],
          "line": {
           "width": 0.5
          },
          "size": [],
          "sizemode": "area"
         },
         "name": "Exits - Apr",
         "text": [],
         "type": "scattergeo",
         "visible": false
        },
        {
         "lat": [
          40.833,
          59.367,
          37.95,
          43.483,
          35.833,
          59.467,
          37.95,
          52.567,
          40.833,
          57.7,
          45.65,
          51.05,
          56.95,
          53.917,
          51.883,
          39.15,
          34.667,
          43.067,
          49.483,
          43.55,
          53.6,
          53.517
         ],
         "locationmode": "country names",
         "lon": [
          25.872,
          24.05,
          23.55,
          -8.25,
          14.55,
          24.75,
          23.55,
          -9.5,
          25.872,
          11.867,
          13.767,
          2.367,
          24.1,
          14.25,
          -8.3,
          9.1,
          33.033,
          10.067,
          0.00011700000000000001,
          -5.95,
          9.467,
          8.117
         ],
         "marker": {
          "color": "black",
          "line": {
           "width": 0.5
          },
          "size": 5,
          "sizemode": "area"
         },
         "name": "No Flow - Apr",
         "text": [
          "Alexandroupolis LNG",
          "Paldiski LNG",
          "Agia Triada",
          "Mugardos",
          "Malta FSRU Offshore Terminal",
          "Tallinn LNG",
          "Aegean LNG",
          "Shannon LNG",
          "Alexandroupolis Amphitriti",
          "Gothenburg LNG",
          "Zaule LNG (Trieste)",
          "Dunkerque LNG",
          "Skulte (LV)",
          "FSRU Polish Baltic Sea Coast",
          "Cork LNG (IE)",
          "Sardinia LNG",
          "Terminal 2 Vassiliko - Lemesos Port",
          "FSRU ITALIA_PIOMBINO TERMINAL",
          "Le Havre (FR)",
          "Musel",
          "STADE HAFEN (FSRU) - LNG",
          "Wilhelmshaven, LNG-Terminal 2"
         ],
         "type": "scattergeo",
         "visible": false
        },
        {
         "lat": [
          43.067,
          53.917,
          41.35,
          43.333,
          45.067,
          51.333,
          37.2,
          44.1,
          37.6,
          39.667,
          47.283,
          37.95,
          51.95,
          43.367,
          55.7,
          45.15,
          53.85,
          51.95,
          53.45,
          60.567,
          60.017,
          53.517,
          54.117
         ],
         "locationmode": "country names",
         "lon": [
          10.067,
          14.25,
          2.167,
          -3,
          12.3,
          3.2,
          -6.95,
          9.817,
          -0.983,
          -0.217,
          -2.117,
          -8.867,
          4.05,
          4.95,
          21.15,
          14.567,
          9.117,
          4.05,
          6.85,
          27.183,
          24.017,
          8.117,
          13.75
         ],
         "marker": {
          "color": [
           894548962,
           2134046844,
           504747943,
           2011176146,
           2562338529,
           3690983619,
           1909253628,
           1236030289,
           1771852823,
           1202533061,
           3400420330,
           1990419371,
           4730526618,
           4244370599,
           582544005,
           438121920,
           459335938,
           7475697749,
           2549167933.6,
           379221,
           639796258.09,
           1511436906,
           623894000
          ],
          "colorbar": {
           "tickmode": "array",
           "ticktext": [
            "0",
            "7.48e+09"
           ],
           "tickvals": [
            0,
            7475697749
           ],
           "title": {
            "side": "right",
            "text": "Import"
           }
          },
          "colorscale": [
           [
            0,
            "rgb(255,255,204)"
           ],
           [
            0.125,
            "rgb(255,237,160)"
           ],
           [
            0.25,
            "rgb(254,217,118)"
           ],
           [
            0.375,
            "rgb(254,178,76)"
           ],
           [
            0.5,
            "rgb(253,141,60)"
           ],
           [
            0.625,
            "rgb(252,78,42)"
           ],
           [
            0.75,
            "rgb(227,26,28)"
           ],
           [
            0.875,
            "rgb(189,0,38)"
           ],
           [
            1,
            "rgb(128,0,38)"
           ]
          ],
          "line": {
           "width": 0.5
          },
          "size": [
           89.4548962,
           213.4046844,
           50.4747943,
           201.1176146,
           256.2338529,
           369.0983619,
           190.9253628,
           123.6030289,
           177.1852823,
           120.2533061,
           340.042033,
           199.0419371,
           473.0526618,
           424.4370599,
           58.2544005,
           43.812192,
           45.9335938,
           747.5697749,
           254.91679335999999,
           0.0379221,
           63.979625809000005,
           151.1436906,
           62.3894
          ],
          "sizemode": "area"
         },
         "name": "Entries - May",
         "opacity": 0.6,
         "text": [
          "OLT LNG / Livorno: 8.95e+08 kWh/d",
          "Swinoujscie: 2.13e+09 kWh/d",
          "Barcelona: 5.05e+08 kWh/d",
          "Bilbao: 2.01e+09 kWh/d",
          "Cavarzere (Porto Levante / Adriatic LNG): 2.56e+09 kWh/d",
          "Zeebrugge LNG: 3.69e+09 kWh/d",
          "Huelva: 1.91e+09 kWh/d",
          "Panigaglia: 1.24e+09 kWh/d",
          "Cartagena: 1.77e+09 kWh/d",
          "Sagunto: 1.20e+09 kWh/d",
          "Montoir de Bretagne: 3.40e+09 kWh/d",
          "Sines: 1.99e+09 kWh/d",
          "Gate Terminal (I): 4.73e+09 kWh/d",
          "Fos (Tonkin/Cavaou): 4.24e+09 kWh/d",
          "Klaipeda (LNG): 5.83e+08 kWh/d",
          "Croatia LNG: 4.38e+08 kWh/d",
          "BRUNSBUETTEL HAFEN (FSRU) (DE): 4.59e+08 kWh/d",
          "TVB: 7.48e+09 kWh/d",
          "Eems Energy Terminal: 2.55e+09 kWh/d",
          "Hamina LNG: 3.79e+05 kWh/d",
          "Inkoo LNG (FI): 6.40e+08 kWh/d",
          "Wilhelmshaven, LNG-Terminal 1 (DE): 1.51e+09 kWh/d",
          "Baltic Energy Gate (Port) (DE): 6.24e+08 kWh/d"
         ],
         "type": "scattergeo",
         "visible": false
        },
        {
         "lat": [],
         "locationmode": "country names",
         "lon": [],
         "marker": {
          "color": [],
          "colorbar": {
           "tickmode": "array",
           "ticktext": [
            "0",
            "0.00e+00"
           ],
           "tickvals": [
            0,
            0
           ],
           "title": {
            "side": "right",
            "text": "Export"
           }
          },
          "colorscale": [
           [
            0,
            "rgb(247,251,255)"
           ],
           [
            0.125,
            "rgb(222,235,247)"
           ],
           [
            0.25,
            "rgb(198,219,239)"
           ],
           [
            0.375,
            "rgb(158,202,225)"
           ],
           [
            0.5,
            "rgb(107,174,214)"
           ],
           [
            0.625,
            "rgb(66,146,198)"
           ],
           [
            0.75,
            "rgb(33,113,181)"
           ],
           [
            0.875,
            "rgb(8,81,156)"
           ],
           [
            1,
            "rgb(8,48,107)"
           ]
          ],
          "line": {
           "width": 0.5
          },
          "size": [],
          "sizemode": "area"
         },
         "name": "Exits - May",
         "text": [],
         "type": "scattergeo",
         "visible": false
        },
        {
         "lat": [
          40.833,
          59.367,
          37.95,
          43.483,
          35.833,
          59.467,
          37.95,
          52.567,
          40.833,
          57.7,
          45.65,
          51.05,
          56.95,
          53.917,
          51.883,
          39.15,
          34.667,
          43.067,
          49.483,
          43.55,
          53.6,
          53.517
         ],
         "locationmode": "country names",
         "lon": [
          25.872,
          24.05,
          23.55,
          -8.25,
          14.55,
          24.75,
          23.55,
          -9.5,
          25.872,
          11.867,
          13.767,
          2.367,
          24.1,
          14.25,
          -8.3,
          9.1,
          33.033,
          10.067,
          0.00011700000000000001,
          -5.95,
          9.467,
          8.117
         ],
         "marker": {
          "color": "black",
          "line": {
           "width": 0.5
          },
          "size": 5,
          "sizemode": "area"
         },
         "name": "No Flow - May",
         "text": [
          "Alexandroupolis LNG",
          "Paldiski LNG",
          "Agia Triada",
          "Mugardos",
          "Malta FSRU Offshore Terminal",
          "Tallinn LNG",
          "Aegean LNG",
          "Shannon LNG",
          "Alexandroupolis Amphitriti",
          "Gothenburg LNG",
          "Zaule LNG (Trieste)",
          "Dunkerque LNG",
          "Skulte (LV)",
          "FSRU Polish Baltic Sea Coast",
          "Cork LNG (IE)",
          "Sardinia LNG",
          "Terminal 2 Vassiliko - Lemesos Port",
          "FSRU ITALIA_PIOMBINO TERMINAL",
          "Le Havre (FR)",
          "Musel",
          "STADE HAFEN (FSRU) - LNG",
          "Wilhelmshaven, LNG-Terminal 2"
         ],
         "type": "scattergeo",
         "visible": false
        },
        {
         "lat": [
          43.067,
          53.917,
          41.35,
          43.333,
          45.067,
          51.333,
          37.2,
          44.1,
          37.6,
          39.667,
          47.283,
          37.95,
          51.95,
          43.367,
          55.7,
          45.15,
          53.85,
          51.95,
          53.45,
          60.567,
          60.017,
          53.517,
          54.117
         ],
         "locationmode": "country names",
         "lon": [
          10.067,
          14.25,
          2.167,
          -3,
          12.3,
          3.2,
          -6.95,
          9.817,
          -0.983,
          -0.217,
          -2.117,
          -8.867,
          4.05,
          4.95,
          21.15,
          14.567,
          9.117,
          4.05,
          6.85,
          27.183,
          24.017,
          8.117,
          13.75
         ],
         "marker": {
          "color": [
           1421262181,
           2106029616,
           1244018352,
           2142146926,
           2222373995,
           2469724425,
           1073908068,
           1254397641,
           1597317036,
           1148261668,
           445250512,
           1883575449,
           5973923751.2,
           4114487348,
           1052165194,
           901950007,
           607795938,
           7754647126,
           3154145574.8999996,
           1500888,
           712726575.5919999,
           1540088265,
           642219932
          ],
          "colorbar": {
           "tickmode": "array",
           "ticktext": [
            "0",
            "7.75e+09"
           ],
           "tickvals": [
            0,
            7754647126
           ],
           "title": {
            "side": "right",
            "text": "Import"
           }
          },
          "colorscale": [
           [
            0,
            "rgb(255,255,204)"
           ],
           [
            0.125,
            "rgb(255,237,160)"
           ],
           [
            0.25,
            "rgb(254,217,118)"
           ],
           [
            0.375,
            "rgb(254,178,76)"
           ],
           [
            0.5,
            "rgb(253,141,60)"
           ],
           [
            0.625,
            "rgb(252,78,42)"
           ],
           [
            0.75,
            "rgb(227,26,28)"
           ],
           [
            0.875,
            "rgb(189,0,38)"
           ],
           [
            1,
            "rgb(128,0,38)"
           ]
          ],
          "line": {
           "width": 0.5
          },
          "size": [
           142.1262181,
           210.6029616,
           124.4018352,
           214.2146926,
           222.2373995,
           246.9724425,
           107.3908068,
           125.4397641,
           159.7317036,
           114.8261668,
           44.5250512,
           188.3575449,
           597.39237512,
           411.4487348,
           105.2165194,
           90.1950007,
           60.7795938,
           775.4647126,
           315.41455748999994,
           0.1500888,
           71.27265755919998,
           154.0088265,
           64.2219932
          ],
          "sizemode": "area"
         },
         "name": "Entries - Jun",
         "opacity": 0.6,
         "text": [
          "OLT LNG / Livorno: 1.42e+09 kWh/d",
          "Swinoujscie: 2.11e+09 kWh/d",
          "Barcelona: 1.24e+09 kWh/d",
          "Bilbao: 2.14e+09 kWh/d",
          "Cavarzere (Porto Levante / Adriatic LNG): 2.22e+09 kWh/d",
          "Zeebrugge LNG: 2.47e+09 kWh/d",
          "Huelva: 1.07e+09 kWh/d",
          "Panigaglia: 1.25e+09 kWh/d",
          "Cartagena: 1.60e+09 kWh/d",
          "Sagunto: 1.15e+09 kWh/d",
          "Montoir de Bretagne: 4.45e+08 kWh/d",
          "Sines: 1.88e+09 kWh/d",
          "Gate Terminal (I): 5.97e+09 kWh/d",
          "Fos (Tonkin/Cavaou): 4.11e+09 kWh/d",
          "Klaipeda (LNG): 1.05e+09 kWh/d",
          "Croatia LNG: 9.02e+08 kWh/d",
          "BRUNSBUETTEL HAFEN (FSRU) (DE): 6.08e+08 kWh/d",
          "TVB: 7.75e+09 kWh/d",
          "Eems Energy Terminal: 3.15e+09 kWh/d",
          "Hamina LNG: 1.50e+06 kWh/d",
          "Inkoo LNG (FI): 7.13e+08 kWh/d",
          "Wilhelmshaven, LNG-Terminal 1 (DE): 1.54e+09 kWh/d",
          "Baltic Energy Gate (Port) (DE): 6.42e+08 kWh/d"
         ],
         "type": "scattergeo",
         "visible": false
        },
        {
         "lat": [],
         "locationmode": "country names",
         "lon": [],
         "marker": {
          "color": [],
          "colorbar": {
           "tickmode": "array",
           "ticktext": [
            "0",
            "0.00e+00"
           ],
           "tickvals": [
            0,
            0
           ],
           "title": {
            "side": "right",
            "text": "Export"
           }
          },
          "colorscale": [
           [
            0,
            "rgb(247,251,255)"
           ],
           [
            0.125,
            "rgb(222,235,247)"
           ],
           [
            0.25,
            "rgb(198,219,239)"
           ],
           [
            0.375,
            "rgb(158,202,225)"
           ],
           [
            0.5,
            "rgb(107,174,214)"
           ],
           [
            0.625,
            "rgb(66,146,198)"
           ],
           [
            0.75,
            "rgb(33,113,181)"
           ],
           [
            0.875,
            "rgb(8,81,156)"
           ],
           [
            1,
            "rgb(8,48,107)"
           ]
          ],
          "line": {
           "width": 0.5
          },
          "size": [],
          "sizemode": "area"
         },
         "name": "Exits - Jun",
         "text": [],
         "type": "scattergeo",
         "visible": false
        },
        {
         "lat": [
          40.833,
          59.367,
          37.95,
          43.483,
          35.833,
          59.467,
          37.95,
          52.567,
          40.833,
          57.7,
          45.65,
          51.05,
          56.95,
          53.917,
          51.883,
          39.15,
          34.667,
          43.067,
          49.483,
          43.55,
          53.6,
          53.517
         ],
         "locationmode": "country names",
         "lon": [
          25.872,
          24.05,
          23.55,
          -8.25,
          14.55,
          24.75,
          23.55,
          -9.5,
          25.872,
          11.867,
          13.767,
          2.367,
          24.1,
          14.25,
          -8.3,
          9.1,
          33.033,
          10.067,
          0.00011700000000000001,
          -5.95,
          9.467,
          8.117
         ],
         "marker": {
          "color": "black",
          "line": {
           "width": 0.5
          },
          "size": 5,
          "sizemode": "area"
         },
         "name": "No Flow - Jun",
         "text": [
          "Alexandroupolis LNG",
          "Paldiski LNG",
          "Agia Triada",
          "Mugardos",
          "Malta FSRU Offshore Terminal",
          "Tallinn LNG",
          "Aegean LNG",
          "Shannon LNG",
          "Alexandroupolis Amphitriti",
          "Gothenburg LNG",
          "Zaule LNG (Trieste)",
          "Dunkerque LNG",
          "Skulte (LV)",
          "FSRU Polish Baltic Sea Coast",
          "Cork LNG (IE)",
          "Sardinia LNG",
          "Terminal 2 Vassiliko - Lemesos Port",
          "FSRU ITALIA_PIOMBINO TERMINAL",
          "Le Havre (FR)",
          "Musel",
          "STADE HAFEN (FSRU) - LNG",
          "Wilhelmshaven, LNG-Terminal 2"
         ],
         "type": "scattergeo",
         "visible": false
        },
        {
         "lat": [
          43.067,
          53.917,
          51.45,
          41.35,
          43.333,
          45.067,
          51.333,
          37.2,
          44.1,
          37.6,
          39.667,
          47.283,
          37.95,
          51.95,
          43.367,
          55.7,
          45.15,
          51.7,
          53.85,
          51.95,
          53.45,
          60.567,
          60.017,
          53.517,
          54.117,
          43.067,
          43.55
         ],
         "locationmode": "country names",
         "lon": [
          10.067,
          14.25,
          -0.75,
          2.167,
          -3,
          12.3,
          3.2,
          -6.95,
          9.817,
          -0.983,
          -0.217,
          -2.117,
          -8.867,
          4.05,
          4.95,
          21.15,
          14.567,
          -5.05,
          9.117,
          4.05,
          6.85,
          27.183,
          24.017,
          8.117,
          13.75,
          10.067,
          -5.95
         ],
         "marker": {
          "color": [
           1288692249,
           2648948740,
           98206,
           779297209,
           1881497149,
           3142081642,
           2527507778,
           832301235,
           704543645,
           606716790,
           1650980922,
           3783218537,
           1736401612,
           4262502171.8000007,
           3197053890,
           1132294355,
           880030477,
           655366210,
           561099125,
           5851733663,
           3109045847.8999996,
           46982218,
           362400869.4499999,
           1433403812,
           205619354,
           331514131,
           405832024
          ],
          "colorbar": {
           "tickmode": "array",
           "ticktext": [
            "0",
            "7.75e+09"
           ],
           "tickvals": [
            0,
            7754647126
           ],
           "title": {
            "side": "right",
            "text": "Import"
           }
          },
          "colorscale": [
           [
            0,
            "rgb(255,255,204)"
           ],
           [
            0.125,
            "rgb(255,237,160)"
           ],
           [
            0.25,
            "rgb(254,217,118)"
           ],
           [
            0.375,
            "rgb(254,178,76)"
           ],
           [
            0.5,
            "rgb(253,141,60)"
           ],
           [
            0.625,
            "rgb(252,78,42)"
           ],
           [
            0.75,
            "rgb(227,26,28)"
           ],
           [
            0.875,
            "rgb(189,0,38)"
           ],
           [
            1,
            "rgb(128,0,38)"
           ]
          ],
          "line": {
           "width": 0.5
          },
          "size": [
           128.8692249,
           264.894874,
           0.0098206,
           77.9297209,
           188.1497149,
           314.2081642,
           252.7507778,
           83.2301235,
           70.4543645,
           60.671679,
           165.0980922,
           378.3218537,
           173.6401612,
           426.25021718000005,
           319.705389,
           113.2294355,
           88.0030477,
           65.536621,
           56.1099125,
           585.1733663,
           310.90458478999994,
           4.6982218,
           36.240086944999995,
           143.3403812,
           20.5619354,
           33.1514131,
           40.5832024
          ],
          "sizemode": "area"
         },
         "name": "Entries - Jul",
         "opacity": 0.6,
         "text": [
          "OLT LNG / Livorno: 1.29e+09 kWh/d",
          "Swinoujscie: 2.65e+09 kWh/d",
          "Isle of Grain: 9.82e+04 kWh/d",
          "Barcelona: 7.79e+08 kWh/d",
          "Bilbao: 1.88e+09 kWh/d",
          "Cavarzere (Porto Levante / Adriatic LNG): 3.14e+09 kWh/d",
          "Zeebrugge LNG: 2.53e+09 kWh/d",
          "Huelva: 8.32e+08 kWh/d",
          "Panigaglia: 7.05e+08 kWh/d",
          "Cartagena: 6.07e+08 kWh/d",
          "Sagunto: 1.65e+09 kWh/d",
          "Montoir de Bretagne: 3.78e+09 kWh/d",
          "Sines: 1.74e+09 kWh/d",
          "Gate Terminal (I): 4.26e+09 kWh/d",
          "Fos (Tonkin/Cavaou): 3.20e+09 kWh/d",
          "Klaipeda (LNG): 1.13e+09 kWh/d",
          "Croatia LNG: 8.80e+08 kWh/d",
          "Milford Haven: 6.55e+08 kWh/d",
          "BRUNSBUETTEL HAFEN (FSRU) (DE): 5.61e+08 kWh/d",
          "TVB: 5.85e+09 kWh/d",
          "Eems Energy Terminal: 3.11e+09 kWh/d",
          "Hamina LNG: 4.70e+07 kWh/d",
          "Inkoo LNG (FI): 3.62e+08 kWh/d",
          "Wilhelmshaven, LNG-Terminal 1 (DE): 1.43e+09 kWh/d",
          "Baltic Energy Gate (Port) (DE): 2.06e+08 kWh/d",
          "FSRU ITALIA_PIOMBINO TERMINAL: 3.32e+08 kWh/d",
          "Musel: 4.06e+08 kWh/d"
         ],
         "type": "scattergeo",
         "visible": false
        },
        {
         "lat": [],
         "locationmode": "country names",
         "lon": [],
         "marker": {
          "color": [],
          "colorbar": {
           "tickmode": "array",
           "ticktext": [
            "0",
            "0.00e+00"
           ],
           "tickvals": [
            0,
            0
           ],
           "title": {
            "side": "right",
            "text": "Export"
           }
          },
          "colorscale": [
           [
            0,
            "rgb(247,251,255)"
           ],
           [
            0.125,
            "rgb(222,235,247)"
           ],
           [
            0.25,
            "rgb(198,219,239)"
           ],
           [
            0.375,
            "rgb(158,202,225)"
           ],
           [
            0.5,
            "rgb(107,174,214)"
           ],
           [
            0.625,
            "rgb(66,146,198)"
           ],
           [
            0.75,
            "rgb(33,113,181)"
           ],
           [
            0.875,
            "rgb(8,81,156)"
           ],
           [
            1,
            "rgb(8,48,107)"
           ]
          ],
          "line": {
           "width": 0.5
          },
          "size": [],
          "sizemode": "area"
         },
         "name": "Exits - Jul",
         "text": [],
         "type": "scattergeo",
         "visible": false
        },
        {
         "lat": [
          40.833,
          59.367,
          37.95,
          43.483,
          35.833,
          59.467,
          37.95,
          52.567,
          40.833,
          57.7,
          45.65,
          51.05,
          56.95,
          53.917,
          51.883,
          39.15,
          34.667,
          49.483,
          53.6,
          53.517
         ],
         "locationmode": "country names",
         "lon": [
          25.872,
          24.05,
          23.55,
          -8.25,
          14.55,
          24.75,
          23.55,
          -9.5,
          25.872,
          11.867,
          13.767,
          2.367,
          24.1,
          14.25,
          -8.3,
          9.1,
          33.033,
          0.00011700000000000001,
          9.467,
          8.117
         ],
         "marker": {
          "color": "black",
          "line": {
           "width": 0.5
          },
          "size": 5,
          "sizemode": "area"
         },
         "name": "No Flow - Jul",
         "text": [
          "Alexandroupolis LNG",
          "Paldiski LNG",
          "Agia Triada",
          "Mugardos",
          "Malta FSRU Offshore Terminal",
          "Tallinn LNG",
          "Aegean LNG",
          "Shannon LNG",
          "Alexandroupolis Amphitriti",
          "Gothenburg LNG",
          "Zaule LNG (Trieste)",
          "Dunkerque LNG",
          "Skulte (LV)",
          "FSRU Polish Baltic Sea Coast",
          "Cork LNG (IE)",
          "Sardinia LNG",
          "Terminal 2 Vassiliko - Lemesos Port",
          "Le Havre (FR)",
          "STADE HAFEN (FSRU) - LNG",
          "Wilhelmshaven, LNG-Terminal 2"
         ],
         "type": "scattergeo",
         "visible": false
        },
        {
         "lat": [
          43.067,
          53.917,
          51.45,
          41.35,
          43.333,
          45.067,
          51.333,
          37.2,
          44.1,
          37.6,
          39.667,
          47.283,
          37.95,
          51.95,
          43.367,
          55.7,
          45.15,
          51.7,
          53.85,
          51.95,
          53.45,
          60.567,
          60.017,
          53.517,
          54.117,
          43.067,
          43.55
         ],
         "locationmode": "country names",
         "lon": [
          10.067,
          14.25,
          -0.75,
          2.167,
          -3,
          12.3,
          3.2,
          -6.95,
          9.817,
          -0.983,
          -0.217,
          -2.117,
          -8.867,
          4.05,
          4.95,
          21.15,
          14.567,
          -5.05,
          9.117,
          4.05,
          6.85,
          27.183,
          24.017,
          8.117,
          13.75,
          10.067,
          -5.95
         ],
         "marker": {
          "color": [
           1231495564,
           1969605902,
           163676,
           640080071,
           1704211809,
           1916764951,
           2928213116,
           563558079,
           656963441,
           1211749729,
           673494994,
           2354352273,
           1770522951,
           5194334528.3,
           1975873933,
           1211553535,
           855830013,
           1034884686,
           386387740,
           5077699018,
           2983155970.8000007,
           3277850,
           781483200.81,
           1788985676,
           289160133,
           84091306,
           329714211
          ],
          "colorbar": {
           "tickmode": "array",
           "ticktext": [
            "0",
            "7.75e+09"
           ],
           "tickvals": [
            0,
            7754647126
           ],
           "title": {
            "side": "right",
            "text": "Import"
           }
          },
          "colorscale": [
           [
            0,
            "rgb(255,255,204)"
           ],
           [
            0.125,
            "rgb(255,237,160)"
           ],
           [
            0.25,
            "rgb(254,217,118)"
           ],
           [
            0.375,
            "rgb(254,178,76)"
           ],
           [
            0.5,
            "rgb(253,141,60)"
           ],
           [
            0.625,
            "rgb(252,78,42)"
           ],
           [
            0.75,
            "rgb(227,26,28)"
           ],
           [
            0.875,
            "rgb(189,0,38)"
           ],
           [
            1,
            "rgb(128,0,38)"
           ]
          ],
          "line": {
           "width": 0.5
          },
          "size": [
           123.1495564,
           196.9605902,
           0.0163676,
           64.0080071,
           170.4211809,
           191.6764951,
           292.8213116,
           56.3558079,
           65.6963441,
           121.1749729,
           67.3494994,
           235.4352273,
           177.0522951,
           519.43345283,
           197.5873933,
           121.1553535,
           85.5830013,
           103.4884686,
           38.638774,
           507.7699018,
           298.3155970800001,
           0.327785,
           78.148320081,
           178.8985676,
           28.9160133,
           8.4091306,
           32.9714211
          ],
          "sizemode": "area"
         },
         "name": "Entries - Aug",
         "opacity": 0.6,
         "text": [
          "OLT LNG / Livorno: 1.23e+09 kWh/d",
          "Swinoujscie: 1.97e+09 kWh/d",
          "Isle of Grain: 1.64e+05 kWh/d",
          "Barcelona: 6.40e+08 kWh/d",
          "Bilbao: 1.70e+09 kWh/d",
          "Cavarzere (Porto Levante / Adriatic LNG): 1.92e+09 kWh/d",
          "Zeebrugge LNG: 2.93e+09 kWh/d",
          "Huelva: 5.64e+08 kWh/d",
          "Panigaglia: 6.57e+08 kWh/d",
          "Cartagena: 1.21e+09 kWh/d",
          "Sagunto: 6.73e+08 kWh/d",
          "Montoir de Bretagne: 2.35e+09 kWh/d",
          "Sines: 1.77e+09 kWh/d",
          "Gate Terminal (I): 5.19e+09 kWh/d",
          "Fos (Tonkin/Cavaou): 1.98e+09 kWh/d",
          "Klaipeda (LNG): 1.21e+09 kWh/d",
          "Croatia LNG: 8.56e+08 kWh/d",
          "Milford Haven: 1.03e+09 kWh/d",
          "BRUNSBUETTEL HAFEN (FSRU) (DE): 3.86e+08 kWh/d",
          "TVB: 5.08e+09 kWh/d",
          "Eems Energy Terminal: 2.98e+09 kWh/d",
          "Hamina LNG: 3.28e+06 kWh/d",
          "Inkoo LNG (FI): 7.81e+08 kWh/d",
          "Wilhelmshaven, LNG-Terminal 1 (DE): 1.79e+09 kWh/d",
          "Baltic Energy Gate (Port) (DE): 2.89e+08 kWh/d",
          "FSRU ITALIA_PIOMBINO TERMINAL: 8.41e+07 kWh/d",
          "Musel: 3.30e+08 kWh/d"
         ],
         "type": "scattergeo",
         "visible": false
        },
        {
         "lat": [],
         "locationmode": "country names",
         "lon": [],
         "marker": {
          "color": [],
          "colorbar": {
           "tickmode": "array",
           "ticktext": [
            "0",
            "0.00e+00"
           ],
           "tickvals": [
            0,
            0
           ],
           "title": {
            "side": "right",
            "text": "Export"
           }
          },
          "colorscale": [
           [
            0,
            "rgb(247,251,255)"
           ],
           [
            0.125,
            "rgb(222,235,247)"
           ],
           [
            0.25,
            "rgb(198,219,239)"
           ],
           [
            0.375,
            "rgb(158,202,225)"
           ],
           [
            0.5,
            "rgb(107,174,214)"
           ],
           [
            0.625,
            "rgb(66,146,198)"
           ],
           [
            0.75,
            "rgb(33,113,181)"
           ],
           [
            0.875,
            "rgb(8,81,156)"
           ],
           [
            1,
            "rgb(8,48,107)"
           ]
          ],
          "line": {
           "width": 0.5
          },
          "size": [],
          "sizemode": "area"
         },
         "name": "Exits - Aug",
         "text": [],
         "type": "scattergeo",
         "visible": false
        },
        {
         "lat": [
          40.833,
          59.367,
          37.95,
          43.483,
          35.833,
          59.467,
          37.95,
          52.567,
          40.833,
          57.7,
          45.65,
          51.05,
          56.95,
          53.917,
          51.883,
          39.15,
          34.667,
          49.483,
          53.6,
          53.517
         ],
         "locationmode": "country names",
         "lon": [
          25.872,
          24.05,
          23.55,
          -8.25,
          14.55,
          24.75,
          23.55,
          -9.5,
          25.872,
          11.867,
          13.767,
          2.367,
          24.1,
          14.25,
          -8.3,
          9.1,
          33.033,
          0.00011700000000000001,
          9.467,
          8.117
         ],
         "marker": {
          "color": "black",
          "line": {
           "width": 0.5
          },
          "size": 5,
          "sizemode": "area"
         },
         "name": "No Flow - Aug",
         "text": [
          "Alexandroupolis LNG",
          "Paldiski LNG",
          "Agia Triada",
          "Mugardos",
          "Malta FSRU Offshore Terminal",
          "Tallinn LNG",
          "Aegean LNG",
          "Shannon LNG",
          "Alexandroupolis Amphitriti",
          "Gothenburg LNG",
          "Zaule LNG (Trieste)",
          "Dunkerque LNG",
          "Skulte (LV)",
          "FSRU Polish Baltic Sea Coast",
          "Cork LNG (IE)",
          "Sardinia LNG",
          "Terminal 2 Vassiliko - Lemesos Port",
          "Le Havre (FR)",
          "STADE HAFEN (FSRU) - LNG",
          "Wilhelmshaven, LNG-Terminal 2"
         ],
         "type": "scattergeo",
         "visible": false
        },
        {
         "lat": [
          43.067,
          53.917,
          51.45,
          41.35,
          43.333,
          45.067,
          51.333,
          37.2,
          44.1,
          37.6,
          39.667,
          47.283,
          37.95,
          51.95,
          43.367,
          55.7,
          45.15,
          51.7,
          53.85,
          51.95,
          53.45,
          60.567,
          60.017,
          53.517,
          54.117,
          43.55
         ],
         "locationmode": "country names",
         "lon": [
          10.067,
          14.25,
          -0.75,
          2.167,
          -3,
          12.3,
          3.2,
          -6.95,
          9.817,
          -0.983,
          -0.217,
          -2.117,
          -8.867,
          4.05,
          4.95,
          21.15,
          14.567,
          -5.05,
          9.117,
          4.05,
          6.85,
          27.183,
          24.017,
          8.117,
          13.75,
          -5.95
         ],
         "marker": {
          "color": [
           1681349793,
           2499366396,
           548788423,
           755642181,
           1718858406,
           3396956892,
           2230528948,
           596772420,
           552151776,
           274290533,
           1165049720,
           3013228311,
           1842881837,
           5104717502.000001,
           3142645316,
           1141483042,
           887853491,
           605801926,
           531158334,
           4988179029,
           2309567414.9,
           5361414,
           776373196.9400002,
           1054981665,
           286313465,
           323413350
          ],
          "colorbar": {
           "tickmode": "array",
           "ticktext": [
            "0",
            "7.75e+09"
           ],
           "tickvals": [
            0,
            7754647126
           ],
           "title": {
            "side": "right",
            "text": "Import"
           }
          },
          "colorscale": [
           [
            0,
            "rgb(255,255,204)"
           ],
           [
            0.125,
            "rgb(255,237,160)"
           ],
           [
            0.25,
            "rgb(254,217,118)"
           ],
           [
            0.375,
            "rgb(254,178,76)"
           ],
           [
            0.5,
            "rgb(253,141,60)"
           ],
           [
            0.625,
            "rgb(252,78,42)"
           ],
           [
            0.75,
            "rgb(227,26,28)"
           ],
           [
            0.875,
            "rgb(189,0,38)"
           ],
           [
            1,
            "rgb(128,0,38)"
           ]
          ],
          "line": {
           "width": 0.5
          },
          "size": [
           168.1349793,
           249.9366396,
           54.8788423,
           75.5642181,
           171.8858406,
           339.6956892,
           223.0528948,
           59.677242,
           55.2151776,
           27.4290533,
           116.504972,
           301.3228311,
           184.2881837,
           510.4717502000001,
           314.2645316,
           114.1483042,
           88.7853491,
           60.5801926,
           53.1158334,
           498.8179029,
           230.95674149,
           0.5361414,
           77.63731969400001,
           105.4981665,
           28.6313465,
           32.341335
          ],
          "sizemode": "area"
         },
         "name": "Entries - Sep",
         "opacity": 0.6,
         "text": [
          "OLT LNG / Livorno: 1.68e+09 kWh/d",
          "Swinoujscie: 2.50e+09 kWh/d",
          "Isle of Grain: 5.49e+08 kWh/d",
          "Barcelona: 7.56e+08 kWh/d",
          "Bilbao: 1.72e+09 kWh/d",
          "Cavarzere (Porto Levante / Adriatic LNG): 3.40e+09 kWh/d",
          "Zeebrugge LNG: 2.23e+09 kWh/d",
          "Huelva: 5.97e+08 kWh/d",
          "Panigaglia: 5.52e+08 kWh/d",
          "Cartagena: 2.74e+08 kWh/d",
          "Sagunto: 1.17e+09 kWh/d",
          "Montoir de Bretagne: 3.01e+09 kWh/d",
          "Sines: 1.84e+09 kWh/d",
          "Gate Terminal (I): 5.10e+09 kWh/d",
          "Fos (Tonkin/Cavaou): 3.14e+09 kWh/d",
          "Klaipeda (LNG): 1.14e+09 kWh/d",
          "Croatia LNG: 8.88e+08 kWh/d",
          "Milford Haven: 6.06e+08 kWh/d",
          "BRUNSBUETTEL HAFEN (FSRU) (DE): 5.31e+08 kWh/d",
          "TVB: 4.99e+09 kWh/d",
          "Eems Energy Terminal: 2.31e+09 kWh/d",
          "Hamina LNG: 5.36e+06 kWh/d",
          "Inkoo LNG (FI): 7.76e+08 kWh/d",
          "Wilhelmshaven, LNG-Terminal 1 (DE): 1.05e+09 kWh/d",
          "Baltic Energy Gate (Port) (DE): 2.86e+08 kWh/d",
          "Musel: 3.23e+08 kWh/d"
         ],
         "type": "scattergeo",
         "visible": false
        },
        {
         "lat": [],
         "locationmode": "country names",
         "lon": [],
         "marker": {
          "color": [],
          "colorbar": {
           "tickmode": "array",
           "ticktext": [
            "0",
            "0.00e+00"
           ],
           "tickvals": [
            0,
            0
           ],
           "title": {
            "side": "right",
            "text": "Export"
           }
          },
          "colorscale": [
           [
            0,
            "rgb(247,251,255)"
           ],
           [
            0.125,
            "rgb(222,235,247)"
           ],
           [
            0.25,
            "rgb(198,219,239)"
           ],
           [
            0.375,
            "rgb(158,202,225)"
           ],
           [
            0.5,
            "rgb(107,174,214)"
           ],
           [
            0.625,
            "rgb(66,146,198)"
           ],
           [
            0.75,
            "rgb(33,113,181)"
           ],
           [
            0.875,
            "rgb(8,81,156)"
           ],
           [
            1,
            "rgb(8,48,107)"
           ]
          ],
          "line": {
           "width": 0.5
          },
          "size": [],
          "sizemode": "area"
         },
         "name": "Exits - Sep",
         "text": [],
         "type": "scattergeo",
         "visible": false
        },
        {
         "lat": [
          40.833,
          59.367,
          37.95,
          43.483,
          35.833,
          59.467,
          37.95,
          52.567,
          40.833,
          57.7,
          45.65,
          51.05,
          56.95,
          53.917,
          51.883,
          39.15,
          34.667,
          43.067,
          49.483,
          53.6,
          53.517
         ],
         "locationmode": "country names",
         "lon": [
          25.872,
          24.05,
          23.55,
          -8.25,
          14.55,
          24.75,
          23.55,
          -9.5,
          25.872,
          11.867,
          13.767,
          2.367,
          24.1,
          14.25,
          -8.3,
          9.1,
          33.033,
          10.067,
          0.00011700000000000001,
          9.467,
          8.117
         ],
         "marker": {
          "color": "black",
          "line": {
           "width": 0.5
          },
          "size": 5,
          "sizemode": "area"
         },
         "name": "No Flow - Sep",
         "text": [
          "Alexandroupolis LNG",
          "Paldiski LNG",
          "Agia Triada",
          "Mugardos",
          "Malta FSRU Offshore Terminal",
          "Tallinn LNG",
          "Aegean LNG",
          "Shannon LNG",
          "Alexandroupolis Amphitriti",
          "Gothenburg LNG",
          "Zaule LNG (Trieste)",
          "Dunkerque LNG",
          "Skulte (LV)",
          "FSRU Polish Baltic Sea Coast",
          "Cork LNG (IE)",
          "Sardinia LNG",
          "Terminal 2 Vassiliko - Lemesos Port",
          "FSRU ITALIA_PIOMBINO TERMINAL",
          "Le Havre (FR)",
          "STADE HAFEN (FSRU) - LNG",
          "Wilhelmshaven, LNG-Terminal 2"
         ],
         "type": "scattergeo",
         "visible": false
        },
        {
         "lat": [
          43.067,
          53.917,
          51.45,
          41.35,
          43.333,
          45.067,
          51.333,
          37.2,
          44.1,
          43.483,
          37.6,
          39.667,
          47.283,
          37.95,
          51.95,
          43.367,
          55.7,
          45.15,
          51.7,
          53.85,
          51.95,
          53.45,
          60.567,
          60.017,
          53.517,
          54.117,
          43.067,
          49.483,
          43.55
         ],
         "locationmode": "country names",
         "lon": [
          10.067,
          14.25,
          -0.75,
          2.167,
          -3,
          12.3,
          3.2,
          -6.95,
          9.817,
          -8.25,
          -0.983,
          -0.217,
          -2.117,
          -8.867,
          4.05,
          4.95,
          21.15,
          14.567,
          -5.05,
          9.117,
          4.05,
          6.85,
          27.183,
          24.017,
          8.117,
          13.75,
          10.067,
          0.00011700000000000001,
          -5.95
         ],
         "marker": {
          "color": [
           1495974941,
           2244660851,
           126249799,
           1031585817,
           1915213645,
           3108914907,
           2460609421,
           57979304,
           18531024,
           1064240974,
           1453328334,
           872378229,
           1898461215,
           1619794434,
           3971247595.1,
           1319319900,
           1213730997,
           745407739,
           2604605979,
           630174432,
           5786466432,
           2907444948.9,
           21247322,
           691265866.73,
           1711480786,
           327681142,
           1177259704,
           24275107,
           332362619
          ],
          "colorbar": {
           "tickmode": "array",
           "ticktext": [
            "0",
            "7.75e+09"
           ],
           "tickvals": [
            0,
            7754647126
           ],
           "title": {
            "side": "right",
            "text": "Import"
           }
          },
          "colorscale": [
           [
            0,
            "rgb(255,255,204)"
           ],
           [
            0.125,
            "rgb(255,237,160)"
           ],
           [
            0.25,
            "rgb(254,217,118)"
           ],
           [
            0.375,
            "rgb(254,178,76)"
           ],
           [
            0.5,
            "rgb(253,141,60)"
           ],
           [
            0.625,
            "rgb(252,78,42)"
           ],
           [
            0.75,
            "rgb(227,26,28)"
           ],
           [
            0.875,
            "rgb(189,0,38)"
           ],
           [
            1,
            "rgb(128,0,38)"
           ]
          ],
          "line": {
           "width": 0.5
          },
          "size": [
           149.5974941,
           224.4660851,
           12.6249799,
           103.1585817,
           191.5213645,
           310.8914907,
           246.0609421,
           5.7979304,
           1.8531024,
           106.4240974,
           145.3328334,
           87.2378229,
           189.8461215,
           161.9794434,
           397.12475951,
           131.93199,
           121.3730997,
           74.5407739,
           260.4605979,
           63.0174432,
           578.6466432,
           290.74449489,
           2.1247322,
           69.126586673,
           171.1480786,
           32.7681142,
           117.7259704,
           2.4275107,
           33.2362619
          ],
          "sizemode": "area"
         },
         "name": "Entries - Oct",
         "opacity": 0.6,
         "text": [
          "OLT LNG / Livorno: 1.50e+09 kWh/d",
          "Swinoujscie: 2.24e+09 kWh/d",
          "Isle of Grain: 1.26e+08 kWh/d",
          "Barcelona: 1.03e+09 kWh/d",
          "Bilbao: 1.92e+09 kWh/d",
          "Cavarzere (Porto Levante / Adriatic LNG): 3.11e+09 kWh/d",
          "Zeebrugge LNG: 2.46e+09 kWh/d",
          "Huelva: 5.80e+07 kWh/d",
          "Panigaglia: 1.85e+07 kWh/d",
          "Mugardos: 1.06e+09 kWh/d",
          "Cartagena: 1.45e+09 kWh/d",
          "Sagunto: 8.72e+08 kWh/d",
          "Montoir de Bretagne: 1.90e+09 kWh/d",
          "Sines: 1.62e+09 kWh/d",
          "Gate Terminal (I): 3.97e+09 kWh/d",
          "Fos (Tonkin/Cavaou): 1.32e+09 kWh/d",
          "Klaipeda (LNG): 1.21e+09 kWh/d",
          "Croatia LNG: 7.45e+08 kWh/d",
          "Milford Haven: 2.60e+09 kWh/d",
          "BRUNSBUETTEL HAFEN (FSRU) (DE): 6.30e+08 kWh/d",
          "TVB: 5.79e+09 kWh/d",
          "Eems Energy Terminal: 2.91e+09 kWh/d",
          "Hamina LNG: 2.12e+07 kWh/d",
          "Inkoo LNG (FI): 6.91e+08 kWh/d",
          "Wilhelmshaven, LNG-Terminal 1 (DE): 1.71e+09 kWh/d",
          "Baltic Energy Gate (Port) (DE): 3.28e+08 kWh/d",
          "FSRU ITALIA_PIOMBINO TERMINAL: 1.18e+09 kWh/d",
          "Le Havre (FR): 2.43e+07 kWh/d",
          "Musel: 3.32e+08 kWh/d"
         ],
         "type": "scattergeo",
         "visible": false
        },
        {
         "lat": [],
         "locationmode": "country names",
         "lon": [],
         "marker": {
          "color": [],
          "colorbar": {
           "tickmode": "array",
           "ticktext": [
            "0",
            "0.00e+00"
           ],
           "tickvals": [
            0,
            0
           ],
           "title": {
            "side": "right",
            "text": "Export"
           }
          },
          "colorscale": [
           [
            0,
            "rgb(247,251,255)"
           ],
           [
            0.125,
            "rgb(222,235,247)"
           ],
           [
            0.25,
            "rgb(198,219,239)"
           ],
           [
            0.375,
            "rgb(158,202,225)"
           ],
           [
            0.5,
            "rgb(107,174,214)"
           ],
           [
            0.625,
            "rgb(66,146,198)"
           ],
           [
            0.75,
            "rgb(33,113,181)"
           ],
           [
            0.875,
            "rgb(8,81,156)"
           ],
           [
            1,
            "rgb(8,48,107)"
           ]
          ],
          "line": {
           "width": 0.5
          },
          "size": [],
          "sizemode": "area"
         },
         "name": "Exits - Oct",
         "text": [],
         "type": "scattergeo",
         "visible": false
        },
        {
         "lat": [
          40.833,
          59.367,
          37.95,
          35.833,
          59.467,
          37.95,
          52.567,
          40.833,
          57.7,
          45.65,
          51.05,
          56.95,
          53.917,
          51.883,
          39.15,
          34.667,
          53.6,
          53.517
         ],
         "locationmode": "country names",
         "lon": [
          25.872,
          24.05,
          23.55,
          14.55,
          24.75,
          23.55,
          -9.5,
          25.872,
          11.867,
          13.767,
          2.367,
          24.1,
          14.25,
          -8.3,
          9.1,
          33.033,
          9.467,
          8.117
         ],
         "marker": {
          "color": "black",
          "line": {
           "width": 0.5
          },
          "size": 5,
          "sizemode": "area"
         },
         "name": "No Flow - Oct",
         "text": [
          "Alexandroupolis LNG",
          "Paldiski LNG",
          "Agia Triada",
          "Malta FSRU Offshore Terminal",
          "Tallinn LNG",
          "Aegean LNG",
          "Shannon LNG",
          "Alexandroupolis Amphitriti",
          "Gothenburg LNG",
          "Zaule LNG (Trieste)",
          "Dunkerque LNG",
          "Skulte (LV)",
          "FSRU Polish Baltic Sea Coast",
          "Cork LNG (IE)",
          "Sardinia LNG",
          "Terminal 2 Vassiliko - Lemesos Port",
          "STADE HAFEN (FSRU) - LNG",
          "Wilhelmshaven, LNG-Terminal 2"
         ],
         "type": "scattergeo",
         "visible": false
        },
        {
         "lat": [
          43.067,
          53.917,
          51.45,
          41.35,
          43.333,
          45.067,
          51.333,
          37.2,
          44.1,
          43.483,
          37.6,
          39.667,
          47.283,
          37.95,
          51.95,
          43.367,
          55.7,
          45.15,
          51.7,
          53.85,
          51.95,
          53.45,
          60.567,
          60.017,
          53.517,
          54.117,
          43.067,
          49.483,
          43.55
         ],
         "locationmode": "country names",
         "lon": [
          10.067,
          14.25,
          -0.75,
          2.167,
          -3,
          12.3,
          3.2,
          -6.95,
          9.817,
          -8.25,
          -0.983,
          -0.217,
          -2.117,
          -8.867,
          4.05,
          4.95,
          21.15,
          14.567,
          -5.05,
          9.117,
          4.05,
          6.85,
          27.183,
          24.017,
          8.117,
          13.75,
          10.067,
          0.00011700000000000001,
          -5.95
         ],
         "marker": {
          "color": [
           91471650,
           2398152875,
           2100811791,
           1093612558,
           841466222,
           3156242301,
           4507330860,
           680562475,
           830655714,
           480330150,
           1729004103,
           619149983,
           3974102701,
           1474246583,
           5423458116.3,
           4735113397,
           944006071,
           811256484,
           4231874440,
           611291890,
           6110167185,
           1964404339.7000003,
           11983875,
           409074058.67999995,
           1707962035,
           151438841,
           1459460085,
           786511342,
           283015573
          ],
          "colorbar": {
           "tickmode": "array",
           "ticktext": [
            "0",
            "7.75e+09"
           ],
           "tickvals": [
            0,
            7754647126
           ],
           "title": {
            "side": "right",
            "text": "Import"
           }
          },
          "colorscale": [
           [
            0,
            "rgb(255,255,204)"
           ],
           [
            0.125,
            "rgb(255,237,160)"
           ],
           [
            0.25,
            "rgb(254,217,118)"
           ],
           [
            0.375,
            "rgb(254,178,76)"
           ],
           [
            0.5,
            "rgb(253,141,60)"
           ],
           [
            0.625,
            "rgb(252,78,42)"
           ],
           [
            0.75,
            "rgb(227,26,28)"
           ],
           [
            0.875,
            "rgb(189,0,38)"
           ],
           [
            1,
            "rgb(128,0,38)"
           ]
          ],
          "line": {
           "width": 0.5
          },
          "size": [
           9.147165,
           239.8152875,
           210.0811791,
           109.3612558,
           84.1466222,
           315.6242301,
           450.733086,
           68.0562475,
           83.0655714,
           48.033015,
           172.9004103,
           61.9149983,
           397.4102701,
           147.4246583,
           542.3458116300001,
           473.5113397,
           94.4006071,
           81.1256484,
           423.187444,
           61.129189,
           611.0167185,
           196.44043397000002,
           1.1983875,
           40.907405868,
           170.7962035,
           15.1438841,
           145.9460085,
           78.6511342,
           28.3015573
          ],
          "sizemode": "area"
         },
         "name": "Entries - Nov",
         "opacity": 0.6,
         "text": [
          "OLT LNG / Livorno: 9.15e+07 kWh/d",
          "Swinoujscie: 2.40e+09 kWh/d",
          "Isle of Grain: 2.10e+09 kWh/d",
          "Barcelona: 1.09e+09 kWh/d",
          "Bilbao: 8.41e+08 kWh/d",
          "Cavarzere (Porto Levante / Adriatic LNG): 3.16e+09 kWh/d",
          "Zeebrugge LNG: 4.51e+09 kWh/d",
          "Huelva: 6.81e+08 kWh/d",
          "Panigaglia: 8.31e+08 kWh/d",
          "Mugardos: 4.80e+08 kWh/d",
          "Cartagena: 1.73e+09 kWh/d",
          "Sagunto: 6.19e+08 kWh/d",
          "Montoir de Bretagne: 3.97e+09 kWh/d",
          "Sines: 1.47e+09 kWh/d",
          "Gate Terminal (I): 5.42e+09 kWh/d",
          "Fos (Tonkin/Cavaou): 4.74e+09 kWh/d",
          "Klaipeda (LNG): 9.44e+08 kWh/d",
          "Croatia LNG: 8.11e+08 kWh/d",
          "Milford Haven: 4.23e+09 kWh/d",
          "BRUNSBUETTEL HAFEN (FSRU) (DE): 6.11e+08 kWh/d",
          "TVB: 6.11e+09 kWh/d",
          "Eems Energy Terminal: 1.96e+09 kWh/d",
          "Hamina LNG: 1.20e+07 kWh/d",
          "Inkoo LNG (FI): 4.09e+08 kWh/d",
          "Wilhelmshaven, LNG-Terminal 1 (DE): 1.71e+09 kWh/d",
          "Baltic Energy Gate (Port) (DE): 1.51e+08 kWh/d",
          "FSRU ITALIA_PIOMBINO TERMINAL: 1.46e+09 kWh/d",
          "Le Havre (FR): 7.87e+08 kWh/d",
          "Musel: 2.83e+08 kWh/d"
         ],
         "type": "scattergeo",
         "visible": false
        },
        {
         "lat": [],
         "locationmode": "country names",
         "lon": [],
         "marker": {
          "color": [],
          "colorbar": {
           "tickmode": "array",
           "ticktext": [
            "0",
            "0.00e+00"
           ],
           "tickvals": [
            0,
            0
           ],
           "title": {
            "side": "right",
            "text": "Export"
           }
          },
          "colorscale": [
           [
            0,
            "rgb(247,251,255)"
           ],
           [
            0.125,
            "rgb(222,235,247)"
           ],
           [
            0.25,
            "rgb(198,219,239)"
           ],
           [
            0.375,
            "rgb(158,202,225)"
           ],
           [
            0.5,
            "rgb(107,174,214)"
           ],
           [
            0.625,
            "rgb(66,146,198)"
           ],
           [
            0.75,
            "rgb(33,113,181)"
           ],
           [
            0.875,
            "rgb(8,81,156)"
           ],
           [
            1,
            "rgb(8,48,107)"
           ]
          ],
          "line": {
           "width": 0.5
          },
          "size": [],
          "sizemode": "area"
         },
         "name": "Exits - Nov",
         "text": [],
         "type": "scattergeo",
         "visible": false
        },
        {
         "lat": [
          40.833,
          59.367,
          37.95,
          35.833,
          59.467,
          37.95,
          52.567,
          40.833,
          57.7,
          45.65,
          51.05,
          56.95,
          53.917,
          51.883,
          39.15,
          34.667,
          53.6,
          53.517
         ],
         "locationmode": "country names",
         "lon": [
          25.872,
          24.05,
          23.55,
          14.55,
          24.75,
          23.55,
          -9.5,
          25.872,
          11.867,
          13.767,
          2.367,
          24.1,
          14.25,
          -8.3,
          9.1,
          33.033,
          9.467,
          8.117
         ],
         "marker": {
          "color": "black",
          "line": {
           "width": 0.5
          },
          "size": 5,
          "sizemode": "area"
         },
         "name": "No Flow - Nov",
         "text": [
          "Alexandroupolis LNG",
          "Paldiski LNG",
          "Agia Triada",
          "Malta FSRU Offshore Terminal",
          "Tallinn LNG",
          "Aegean LNG",
          "Shannon LNG",
          "Alexandroupolis Amphitriti",
          "Gothenburg LNG",
          "Zaule LNG (Trieste)",
          "Dunkerque LNG",
          "Skulte (LV)",
          "FSRU Polish Baltic Sea Coast",
          "Cork LNG (IE)",
          "Sardinia LNG",
          "Terminal 2 Vassiliko - Lemesos Port",
          "STADE HAFEN (FSRU) - LNG",
          "Wilhelmshaven, LNG-Terminal 2"
         ],
         "type": "scattergeo",
         "visible": false
        },
        {
         "lat": [
          43.067,
          53.917,
          51.45,
          41.35,
          43.333,
          45.067,
          51.333,
          37.2,
          44.1,
          43.483,
          37.6,
          39.667,
          47.283,
          37.95,
          51.95,
          43.367,
          55.7,
          45.15,
          51.7,
          53.85,
          51.95,
          53.45,
          60.567,
          60.017,
          53.517,
          54.117,
          43.067,
          49.483,
          43.55
         ],
         "locationmode": "country names",
         "lon": [
          10.067,
          14.25,
          -0.75,
          2.167,
          -3,
          12.3,
          3.2,
          -6.95,
          9.817,
          -8.25,
          -0.983,
          -0.217,
          -2.117,
          -8.867,
          4.05,
          4.95,
          21.15,
          14.567,
          -5.05,
          9.117,
          4.05,
          6.85,
          27.183,
          24.017,
          8.117,
          13.75,
          10.067,
          0.00011700000000000001,
          -5.95
         ],
         "marker": {
          "color": [
           1132170563,
           2221391948,
           2948738117,
           1019654731,
           1644262694,
           2642019512,
           4355958366,
           1238125943,
           541675416,
           867889535,
           640612506,
           527333132,
           4422751021,
           1377732423,
           5978581637.999999,
           4379165320,
           619614199,
           824983157,
           6364202043,
           658613384,
           5751243670,
           1373506716.5,
           58727591,
           659579146.28,
           1710717269,
           284083594,
           1382163068,
           239786715,
           372808101
          ],
          "colorbar": {
           "tickmode": "array",
           "ticktext": [
            "0",
            "7.75e+09"
           ],
           "tickvals": [
            0,
            7754647126
           ],
           "title": {
            "side": "right",
            "text": "Import"
           }
          },
          "colorscale": [
           [
            0,
            "rgb(255,255,204)"
           ],
           [
            0.125,
            "rgb(255,237,160)"
           ],
           [
            0.25,
            "rgb(254,217,118)"
           ],
           [
            0.375,
            "rgb(254,178,76)"
           ],
           [
            0.5,
            "rgb(253,141,60)"
           ],
           [
            0.625,
            "rgb(252,78,42)"
           ],
           [
            0.75,
            "rgb(227,26,28)"
           ],
           [
            0.875,
            "rgb(189,0,38)"
           ],
           [
            1,
            "rgb(128,0,38)"
           ]
          ],
          "line": {
           "width": 0.5
          },
          "size": [
           113.2170563,
           222.1391948,
           294.8738117,
           101.9654731,
           164.4262694,
           264.2019512,
           435.5958366,
           123.8125943,
           54.1675416,
           86.7889535,
           64.0612506,
           52.7333132,
           442.2751021,
           137.7732423,
           597.8581637999999,
           437.916532,
           61.9614199,
           82.4983157,
           636.4202043,
           65.8613384,
           575.124367,
           137.35067165,
           5.8727591,
           65.957914628,
           171.0717269,
           28.4083594,
           138.2163068,
           23.9786715,
           37.2808101
          ],
          "sizemode": "area"
         },
         "name": "Entries - Dec",
         "opacity": 0.6,
         "text": [
          "OLT LNG / Livorno: 1.13e+09 kWh/d",
          "Swinoujscie: 2.22e+09 kWh/d",
          "Isle of Grain: 2.95e+09 kWh/d",
          "Barcelona: 1.02e+09 kWh/d",
          "Bilbao: 1.64e+09 kWh/d",
          "Cavarzere (Porto Levante / Adriatic LNG): 2.64e+09 kWh/d",
          "Zeebrugge LNG: 4.36e+09 kWh/d",
          "Huelva: 1.24e+09 kWh/d",
          "Panigaglia: 5.42e+08 kWh/d",
          "Mugardos: 8.68e+08 kWh/d",
          "Cartagena: 6.41e+08 kWh/d",
          "Sagunto: 5.27e+08 kWh/d",
          "Montoir de Bretagne: 4.42e+09 kWh/d",
          "Sines: 1.38e+09 kWh/d",
          "Gate Terminal (I): 5.98e+09 kWh/d",
          "Fos (Tonkin/Cavaou): 4.38e+09 kWh/d",
          "Klaipeda (LNG): 6.20e+08 kWh/d",
          "Croatia LNG: 8.25e+08 kWh/d",
          "Milford Haven: 6.36e+09 kWh/d",
          "BRUNSBUETTEL HAFEN (FSRU) (DE): 6.59e+08 kWh/d",
          "TVB: 5.75e+09 kWh/d",
          "Eems Energy Terminal: 1.37e+09 kWh/d",
          "Hamina LNG: 5.87e+07 kWh/d",
          "Inkoo LNG (FI): 6.60e+08 kWh/d",
          "Wilhelmshaven, LNG-Terminal 1 (DE): 1.71e+09 kWh/d",
          "Baltic Energy Gate (Port) (DE): 2.84e+08 kWh/d",
          "FSRU ITALIA_PIOMBINO TERMINAL: 1.38e+09 kWh/d",
          "Le Havre (FR): 2.40e+08 kWh/d",
          "Musel: 3.73e+08 kWh/d"
         ],
         "type": "scattergeo",
         "visible": false
        },
        {
         "lat": [],
         "locationmode": "country names",
         "lon": [],
         "marker": {
          "color": [],
          "colorbar": {
           "tickmode": "array",
           "ticktext": [
            "0",
            "0.00e+00"
           ],
           "tickvals": [
            0,
            0
           ],
           "title": {
            "side": "right",
            "text": "Export"
           }
          },
          "colorscale": [
           [
            0,
            "rgb(247,251,255)"
           ],
           [
            0.125,
            "rgb(222,235,247)"
           ],
           [
            0.25,
            "rgb(198,219,239)"
           ],
           [
            0.375,
            "rgb(158,202,225)"
           ],
           [
            0.5,
            "rgb(107,174,214)"
           ],
           [
            0.625,
            "rgb(66,146,198)"
           ],
           [
            0.75,
            "rgb(33,113,181)"
           ],
           [
            0.875,
            "rgb(8,81,156)"
           ],
           [
            1,
            "rgb(8,48,107)"
           ]
          ],
          "line": {
           "width": 0.5
          },
          "size": [],
          "sizemode": "area"
         },
         "name": "Exits - Dec",
         "text": [],
         "type": "scattergeo",
         "visible": false
        },
        {
         "lat": [
          40.833,
          59.367,
          37.95,
          35.833,
          59.467,
          37.95,
          52.567,
          40.833,
          57.7,
          45.65,
          51.05,
          56.95,
          53.917,
          51.883,
          39.15,
          34.667,
          53.6,
          53.517
         ],
         "locationmode": "country names",
         "lon": [
          25.872,
          24.05,
          23.55,
          14.55,
          24.75,
          23.55,
          -9.5,
          25.872,
          11.867,
          13.767,
          2.367,
          24.1,
          14.25,
          -8.3,
          9.1,
          33.033,
          9.467,
          8.117
         ],
         "marker": {
          "color": "black",
          "line": {
           "width": 0.5
          },
          "size": 5,
          "sizemode": "area"
         },
         "name": "No Flow - Dec",
         "text": [
          "Alexandroupolis LNG",
          "Paldiski LNG",
          "Agia Triada",
          "Malta FSRU Offshore Terminal",
          "Tallinn LNG",
          "Aegean LNG",
          "Shannon LNG",
          "Alexandroupolis Amphitriti",
          "Gothenburg LNG",
          "Zaule LNG (Trieste)",
          "Dunkerque LNG",
          "Skulte (LV)",
          "FSRU Polish Baltic Sea Coast",
          "Cork LNG (IE)",
          "Sardinia LNG",
          "Terminal 2 Vassiliko - Lemesos Port",
          "STADE HAFEN (FSRU) - LNG",
          "Wilhelmshaven, LNG-Terminal 2"
         ],
         "type": "scattergeo",
         "visible": false
        }
       ],
       "layout": {
        "coloraxis": {
         "cmax": 7754647126,
         "cmin": 0,
         "colorbar": {
          "title": {
           "text": "Flow (kWh/d)"
          }
         },
         "colorscale": [
          [
           0,
           "rgb(255,255,204)"
          ],
          [
           0.125,
           "rgb(255,237,160)"
          ],
          [
           0.25,
           "rgb(254,217,118)"
          ],
          [
           0.375,
           "rgb(254,178,76)"
          ],
          [
           0.5,
           "rgb(253,141,60)"
          ],
          [
           0.625,
           "rgb(252,78,42)"
          ],
          [
           0.75,
           "rgb(227,26,28)"
          ],
          [
           0.875,
           "rgb(189,0,38)"
          ],
          [
           1,
           "rgb(128,0,38)"
          ]
         ]
        },
        "geo": {
         "center": {
          "lat": 50.5,
          "lon": 15.2551
         },
         "countrycolor": "rgb(255, 255, 255)",
         "countrywidth": 1,
         "landcolor": "rgb(217, 217, 217)",
         "projection": {
          "scale": 4.3,
          "type": "mercator"
         },
         "showcountries": true,
         "showland": true,
         "subunitcolor": "rgb(255, 255, 255)",
         "subunitwidth": 1
        },
        "height": 1000,
        "sliders": [
         {
          "active": 0,
          "currentvalue": {
           "prefix": "Month: "
          },
          "pad": {
           "t": 50
          },
          "steps": [
           {
            "args": [
             {
              "visible": [
               true,
               true,
               true,
               false,
               false,
               false,
               false,
               false,
               false,
               false,
               false,
               false,
               false,
               false,
               false,
               false,
               false,
               false,
               false,
               false,
               false,
               false,
               false,
               false,
               false,
               false,
               false,
               false,
               false,
               false,
               false,
               false,
               false,
               false,
               false,
               false
              ]
             }
            ],
            "label": "Jan",
            "method": "update"
           },
           {
            "args": [
             {
              "visible": [
               false,
               false,
               false,
               true,
               true,
               true,
               false,
               false,
               false,
               false,
               false,
               false,
               false,
               false,
               false,
               false,
               false,
               false,
               false,
               false,
               false,
               false,
               false,
               false,
               false,
               false,
               false,
               false,
               false,
               false,
               false,
               false,
               false,
               false,
               false,
               false
              ]
             }
            ],
            "label": "Feb",
            "method": "update"
           },
           {
            "args": [
             {
              "visible": [
               false,
               false,
               false,
               false,
               false,
               false,
               true,
               true,
               true,
               false,
               false,
               false,
               false,
               false,
               false,
               false,
               false,
               false,
               false,
               false,
               false,
               false,
               false,
               false,
               false,
               false,
               false,
               false,
               false,
               false,
               false,
               false,
               false,
               false,
               false,
               false
              ]
             }
            ],
            "label": "Mar",
            "method": "update"
           },
           {
            "args": [
             {
              "visible": [
               false,
               false,
               false,
               false,
               false,
               false,
               false,
               false,
               false,
               true,
               true,
               true,
               false,
               false,
               false,
               false,
               false,
               false,
               false,
               false,
               false,
               false,
               false,
               false,
               false,
               false,
               false,
               false,
               false,
               false,
               false,
               false,
               false,
               false,
               false,
               false
              ]
             }
            ],
            "label": "Apr",
            "method": "update"
           },
           {
            "args": [
             {
              "visible": [
               false,
               false,
               false,
               false,
               false,
               false,
               false,
               false,
               false,
               false,
               false,
               false,
               true,
               true,
               true,
               false,
               false,
               false,
               false,
               false,
               false,
               false,
               false,
               false,
               false,
               false,
               false,
               false,
               false,
               false,
               false,
               false,
               false,
               false,
               false,
               false
              ]
             }
            ],
            "label": "May",
            "method": "update"
           },
           {
            "args": [
             {
              "visible": [
               false,
               false,
               false,
               false,
               false,
               false,
               false,
               false,
               false,
               false,
               false,
               false,
               false,
               false,
               false,
               true,
               true,
               true,
               false,
               false,
               false,
               false,
               false,
               false,
               false,
               false,
               false,
               false,
               false,
               false,
               false,
               false,
               false,
               false,
               false,
               false
              ]
             }
            ],
            "label": "Jun",
            "method": "update"
           },
           {
            "args": [
             {
              "visible": [
               false,
               false,
               false,
               false,
               false,
               false,
               false,
               false,
               false,
               false,
               false,
               false,
               false,
               false,
               false,
               false,
               false,
               false,
               true,
               true,
               true,
               false,
               false,
               false,
               false,
               false,
               false,
               false,
               false,
               false,
               false,
               false,
               false,
               false,
               false,
               false
              ]
             }
            ],
            "label": "Jul",
            "method": "update"
           },
           {
            "args": [
             {
              "visible": [
               false,
               false,
               false,
               false,
               false,
               false,
               false,
               false,
               false,
               false,
               false,
               false,
               false,
               false,
               false,
               false,
               false,
               false,
               false,
               false,
               false,
               true,
               true,
               true,
               false,
               false,
               false,
               false,
               false,
               false,
               false,
               false,
               false,
               false,
               false,
               false
              ]
             }
            ],
            "label": "Aug",
            "method": "update"
           },
           {
            "args": [
             {
              "visible": [
               false,
               false,
               false,
               false,
               false,
               false,
               false,
               false,
               false,
               false,
               false,
               false,
               false,
               false,
               false,
               false,
               false,
               false,
               false,
               false,
               false,
               false,
               false,
               false,
               true,
               true,
               true,
               false,
               false,
               false,
               false,
               false,
               false,
               false,
               false,
               false
              ]
             }
            ],
            "label": "Sep",
            "method": "update"
           },
           {
            "args": [
             {
              "visible": [
               false,
               false,
               false,
               false,
               false,
               false,
               false,
               false,
               false,
               false,
               false,
               false,
               false,
               false,
               false,
               false,
               false,
               false,
               false,
               false,
               false,
               false,
               false,
               false,
               false,
               false,
               false,
               true,
               true,
               true,
               false,
               false,
               false,
               false,
               false,
               false
              ]
             }
            ],
            "label": "Oct",
            "method": "update"
           },
           {
            "args": [
             {
              "visible": [
               false,
               false,
               false,
               false,
               false,
               false,
               false,
               false,
               false,
               false,
               false,
               false,
               false,
               false,
               false,
               false,
               false,
               false,
               false,
               false,
               false,
               false,
               false,
               false,
               false,
               false,
               false,
               false,
               false,
               false,
               true,
               true,
               true,
               false,
               false,
               false
              ]
             }
            ],
            "label": "Nov",
            "method": "update"
           },
           {
            "args": [
             {
              "visible": [
               false,
               false,
               false,
               false,
               false,
               false,
               false,
               false,
               false,
               false,
               false,
               false,
               false,
               false,
               false,
               false,
               false,
               false,
               false,
               false,
               false,
               false,
               false,
               false,
               false,
               false,
               false,
               false,
               false,
               false,
               false,
               false,
               false,
               true,
               true,
               true
              ]
             }
            ],
            "label": "Dec",
            "method": "update"
           }
          ]
         }
        ],
        "template": {
         "data": {
          "bar": [
           {
            "error_x": {
             "color": "#2a3f5f"
            },
            "error_y": {
             "color": "#2a3f5f"
            },
            "marker": {
             "line": {
              "color": "#E5ECF6",
              "width": 0.5
             },
             "pattern": {
              "fillmode": "overlay",
              "size": 10,
              "solidity": 0.2
             }
            },
            "type": "bar"
           }
          ],
          "barpolar": [
           {
            "marker": {
             "line": {
              "color": "#E5ECF6",
              "width": 0.5
             },
             "pattern": {
              "fillmode": "overlay",
              "size": 10,
              "solidity": 0.2
             }
            },
            "type": "barpolar"
           }
          ],
          "carpet": [
           {
            "aaxis": {
             "endlinecolor": "#2a3f5f",
             "gridcolor": "white",
             "linecolor": "white",
             "minorgridcolor": "white",
             "startlinecolor": "#2a3f5f"
            },
            "baxis": {
             "endlinecolor": "#2a3f5f",
             "gridcolor": "white",
             "linecolor": "white",
             "minorgridcolor": "white",
             "startlinecolor": "#2a3f5f"
            },
            "type": "carpet"
           }
          ],
          "choropleth": [
           {
            "colorbar": {
             "outlinewidth": 0,
             "ticks": ""
            },
            "type": "choropleth"
           }
          ],
          "contour": [
           {
            "colorbar": {
             "outlinewidth": 0,
             "ticks": ""
            },
            "colorscale": [
             [
              0,
              "#0d0887"
             ],
             [
              0.1111111111111111,
              "#46039f"
             ],
             [
              0.2222222222222222,
              "#7201a8"
             ],
             [
              0.3333333333333333,
              "#9c179e"
             ],
             [
              0.4444444444444444,
              "#bd3786"
             ],
             [
              0.5555555555555556,
              "#d8576b"
             ],
             [
              0.6666666666666666,
              "#ed7953"
             ],
             [
              0.7777777777777778,
              "#fb9f3a"
             ],
             [
              0.8888888888888888,
              "#fdca26"
             ],
             [
              1,
              "#f0f921"
             ]
            ],
            "type": "contour"
           }
          ],
          "contourcarpet": [
           {
            "colorbar": {
             "outlinewidth": 0,
             "ticks": ""
            },
            "type": "contourcarpet"
           }
          ],
          "heatmap": [
           {
            "colorbar": {
             "outlinewidth": 0,
             "ticks": ""
            },
            "colorscale": [
             [
              0,
              "#0d0887"
             ],
             [
              0.1111111111111111,
              "#46039f"
             ],
             [
              0.2222222222222222,
              "#7201a8"
             ],
             [
              0.3333333333333333,
              "#9c179e"
             ],
             [
              0.4444444444444444,
              "#bd3786"
             ],
             [
              0.5555555555555556,
              "#d8576b"
             ],
             [
              0.6666666666666666,
              "#ed7953"
             ],
             [
              0.7777777777777778,
              "#fb9f3a"
             ],
             [
              0.8888888888888888,
              "#fdca26"
             ],
             [
              1,
              "#f0f921"
             ]
            ],
            "type": "heatmap"
           }
          ],
          "heatmapgl": [
           {
            "colorbar": {
             "outlinewidth": 0,
             "ticks": ""
            },
            "colorscale": [
             [
              0,
              "#0d0887"
             ],
             [
              0.1111111111111111,
              "#46039f"
             ],
             [
              0.2222222222222222,
              "#7201a8"
             ],
             [
              0.3333333333333333,
              "#9c179e"
             ],
             [
              0.4444444444444444,
              "#bd3786"
             ],
             [
              0.5555555555555556,
              "#d8576b"
             ],
             [
              0.6666666666666666,
              "#ed7953"
             ],
             [
              0.7777777777777778,
              "#fb9f3a"
             ],
             [
              0.8888888888888888,
              "#fdca26"
             ],
             [
              1,
              "#f0f921"
             ]
            ],
            "type": "heatmapgl"
           }
          ],
          "histogram": [
           {
            "marker": {
             "pattern": {
              "fillmode": "overlay",
              "size": 10,
              "solidity": 0.2
             }
            },
            "type": "histogram"
           }
          ],
          "histogram2d": [
           {
            "colorbar": {
             "outlinewidth": 0,
             "ticks": ""
            },
            "colorscale": [
             [
              0,
              "#0d0887"
             ],
             [
              0.1111111111111111,
              "#46039f"
             ],
             [
              0.2222222222222222,
              "#7201a8"
             ],
             [
              0.3333333333333333,
              "#9c179e"
             ],
             [
              0.4444444444444444,
              "#bd3786"
             ],
             [
              0.5555555555555556,
              "#d8576b"
             ],
             [
              0.6666666666666666,
              "#ed7953"
             ],
             [
              0.7777777777777778,
              "#fb9f3a"
             ],
             [
              0.8888888888888888,
              "#fdca26"
             ],
             [
              1,
              "#f0f921"
             ]
            ],
            "type": "histogram2d"
           }
          ],
          "histogram2dcontour": [
           {
            "colorbar": {
             "outlinewidth": 0,
             "ticks": ""
            },
            "colorscale": [
             [
              0,
              "#0d0887"
             ],
             [
              0.1111111111111111,
              "#46039f"
             ],
             [
              0.2222222222222222,
              "#7201a8"
             ],
             [
              0.3333333333333333,
              "#9c179e"
             ],
             [
              0.4444444444444444,
              "#bd3786"
             ],
             [
              0.5555555555555556,
              "#d8576b"
             ],
             [
              0.6666666666666666,
              "#ed7953"
             ],
             [
              0.7777777777777778,
              "#fb9f3a"
             ],
             [
              0.8888888888888888,
              "#fdca26"
             ],
             [
              1,
              "#f0f921"
             ]
            ],
            "type": "histogram2dcontour"
           }
          ],
          "mesh3d": [
           {
            "colorbar": {
             "outlinewidth": 0,
             "ticks": ""
            },
            "type": "mesh3d"
           }
          ],
          "parcoords": [
           {
            "line": {
             "colorbar": {
              "outlinewidth": 0,
              "ticks": ""
             }
            },
            "type": "parcoords"
           }
          ],
          "pie": [
           {
            "automargin": true,
            "type": "pie"
           }
          ],
          "scatter": [
           {
            "fillpattern": {
             "fillmode": "overlay",
             "size": 10,
             "solidity": 0.2
            },
            "type": "scatter"
           }
          ],
          "scatter3d": [
           {
            "line": {
             "colorbar": {
              "outlinewidth": 0,
              "ticks": ""
             }
            },
            "marker": {
             "colorbar": {
              "outlinewidth": 0,
              "ticks": ""
             }
            },
            "type": "scatter3d"
           }
          ],
          "scattercarpet": [
           {
            "marker": {
             "colorbar": {
              "outlinewidth": 0,
              "ticks": ""
             }
            },
            "type": "scattercarpet"
           }
          ],
          "scattergeo": [
           {
            "marker": {
             "colorbar": {
              "outlinewidth": 0,
              "ticks": ""
             }
            },
            "type": "scattergeo"
           }
          ],
          "scattergl": [
           {
            "marker": {
             "colorbar": {
              "outlinewidth": 0,
              "ticks": ""
             }
            },
            "type": "scattergl"
           }
          ],
          "scattermapbox": [
           {
            "marker": {
             "colorbar": {
              "outlinewidth": 0,
              "ticks": ""
             }
            },
            "type": "scattermapbox"
           }
          ],
          "scatterpolar": [
           {
            "marker": {
             "colorbar": {
              "outlinewidth": 0,
              "ticks": ""
             }
            },
            "type": "scatterpolar"
           }
          ],
          "scatterpolargl": [
           {
            "marker": {
             "colorbar": {
              "outlinewidth": 0,
              "ticks": ""
             }
            },
            "type": "scatterpolargl"
           }
          ],
          "scatterternary": [
           {
            "marker": {
             "colorbar": {
              "outlinewidth": 0,
              "ticks": ""
             }
            },
            "type": "scatterternary"
           }
          ],
          "surface": [
           {
            "colorbar": {
             "outlinewidth": 0,
             "ticks": ""
            },
            "colorscale": [
             [
              0,
              "#0d0887"
             ],
             [
              0.1111111111111111,
              "#46039f"
             ],
             [
              0.2222222222222222,
              "#7201a8"
             ],
             [
              0.3333333333333333,
              "#9c179e"
             ],
             [
              0.4444444444444444,
              "#bd3786"
             ],
             [
              0.5555555555555556,
              "#d8576b"
             ],
             [
              0.6666666666666666,
              "#ed7953"
             ],
             [
              0.7777777777777778,
              "#fb9f3a"
             ],
             [
              0.8888888888888888,
              "#fdca26"
             ],
             [
              1,
              "#f0f921"
             ]
            ],
            "type": "surface"
           }
          ],
          "table": [
           {
            "cells": {
             "fill": {
              "color": "#EBF0F8"
             },
             "line": {
              "color": "white"
             }
            },
            "header": {
             "fill": {
              "color": "#C8D4E3"
             },
             "line": {
              "color": "white"
             }
            },
            "type": "table"
           }
          ]
         },
         "layout": {
          "annotationdefaults": {
           "arrowcolor": "#2a3f5f",
           "arrowhead": 0,
           "arrowwidth": 1
          },
          "autotypenumbers": "strict",
          "coloraxis": {
           "colorbar": {
            "outlinewidth": 0,
            "ticks": ""
           }
          },
          "colorscale": {
           "diverging": [
            [
             0,
             "#8e0152"
            ],
            [
             0.1,
             "#c51b7d"
            ],
            [
             0.2,
             "#de77ae"
            ],
            [
             0.3,
             "#f1b6da"
            ],
            [
             0.4,
             "#fde0ef"
            ],
            [
             0.5,
             "#f7f7f7"
            ],
            [
             0.6,
             "#e6f5d0"
            ],
            [
             0.7,
             "#b8e186"
            ],
            [
             0.8,
             "#7fbc41"
            ],
            [
             0.9,
             "#4d9221"
            ],
            [
             1,
             "#276419"
            ]
           ],
           "sequential": [
            [
             0,
             "#0d0887"
            ],
            [
             0.1111111111111111,
             "#46039f"
            ],
            [
             0.2222222222222222,
             "#7201a8"
            ],
            [
             0.3333333333333333,
             "#9c179e"
            ],
            [
             0.4444444444444444,
             "#bd3786"
            ],
            [
             0.5555555555555556,
             "#d8576b"
            ],
            [
             0.6666666666666666,
             "#ed7953"
            ],
            [
             0.7777777777777778,
             "#fb9f3a"
            ],
            [
             0.8888888888888888,
             "#fdca26"
            ],
            [
             1,
             "#f0f921"
            ]
           ],
           "sequentialminus": [
            [
             0,
             "#0d0887"
            ],
            [
             0.1111111111111111,
             "#46039f"
            ],
            [
             0.2222222222222222,
             "#7201a8"
            ],
            [
             0.3333333333333333,
             "#9c179e"
            ],
            [
             0.4444444444444444,
             "#bd3786"
            ],
            [
             0.5555555555555556,
             "#d8576b"
            ],
            [
             0.6666666666666666,
             "#ed7953"
            ],
            [
             0.7777777777777778,
             "#fb9f3a"
            ],
            [
             0.8888888888888888,
             "#fdca26"
            ],
            [
             1,
             "#f0f921"
            ]
           ]
          },
          "colorway": [
           "#636efa",
           "#EF553B",
           "#00cc96",
           "#ab63fa",
           "#FFA15A",
           "#19d3f3",
           "#FF6692",
           "#B6E880",
           "#FF97FF",
           "#FECB52"
          ],
          "font": {
           "color": "#2a3f5f"
          },
          "geo": {
           "bgcolor": "white",
           "lakecolor": "white",
           "landcolor": "#E5ECF6",
           "showlakes": true,
           "showland": true,
           "subunitcolor": "white"
          },
          "hoverlabel": {
           "align": "left"
          },
          "hovermode": "closest",
          "mapbox": {
           "style": "light"
          },
          "paper_bgcolor": "white",
          "plot_bgcolor": "#E5ECF6",
          "polar": {
           "angularaxis": {
            "gridcolor": "white",
            "linecolor": "white",
            "ticks": ""
           },
           "bgcolor": "#E5ECF6",
           "radialaxis": {
            "gridcolor": "white",
            "linecolor": "white",
            "ticks": ""
           }
          },
          "scene": {
           "xaxis": {
            "backgroundcolor": "#E5ECF6",
            "gridcolor": "white",
            "gridwidth": 2,
            "linecolor": "white",
            "showbackground": true,
            "ticks": "",
            "zerolinecolor": "white"
           },
           "yaxis": {
            "backgroundcolor": "#E5ECF6",
            "gridcolor": "white",
            "gridwidth": 2,
            "linecolor": "white",
            "showbackground": true,
            "ticks": "",
            "zerolinecolor": "white"
           },
           "zaxis": {
            "backgroundcolor": "#E5ECF6",
            "gridcolor": "white",
            "gridwidth": 2,
            "linecolor": "white",
            "showbackground": true,
            "ticks": "",
            "zerolinecolor": "white"
           }
          },
          "shapedefaults": {
           "line": {
            "color": "#2a3f5f"
           }
          },
          "ternary": {
           "aaxis": {
            "gridcolor": "white",
            "linecolor": "white",
            "ticks": ""
           },
           "baxis": {
            "gridcolor": "white",
            "linecolor": "white",
            "ticks": ""
           },
           "bgcolor": "#E5ECF6",
           "caxis": {
            "gridcolor": "white",
            "linecolor": "white",
            "ticks": ""
           }
          },
          "title": {
           "x": 0.05
          },
          "xaxis": {
           "automargin": true,
           "gridcolor": "white",
           "linecolor": "white",
           "ticks": "",
           "title": {
            "standoff": 15
           },
           "zerolinecolor": "white",
           "zerolinewidth": 2
          },
          "yaxis": {
           "automargin": true,
           "gridcolor": "white",
           "linecolor": "white",
           "ticks": "",
           "title": {
            "standoff": 15
           },
           "zerolinecolor": "white",
           "zerolinewidth": 2
          }
         }
        },
        "title": {
         "text": "LNG Imports and Exports"
        },
        "width": 1000
       }
      }
     },
     "metadata": {},
     "output_type": "display_data"
    }
   ],
   "source": [
    "# Assuming lng_points_df and lng_keys are already defined as pandas DataFrame and list\n",
    "\n",
    "# Initialize the LNG data dictionary\n",
    "lng_op_data_2023 = {}\n",
    "process_point_data(lng_points_df, lng_op_data_2023)\n",
    "\n",
    "# Process the data for the year 2023\n",
    "process_total_data(lng_op_data_2023, ['2023_01', '2023_02', '2023_03', '2023_04', '2023_05', '2023_06', '2023_07', '2023_08', '2023_09', '2023_10', '2023_11', '2023_12'], lng_keys)\n",
    "\n",
    "# Create and display the map\n",
    "create_lng_map(lng_op_data_2023)"
   ]
  },
  {
   "cell_type": "markdown",
   "metadata": {},
   "source": [
    "**TODO :**\n",
    "* Create a dataset with all entries/exits of LNG terminals per country. This can later be used to compare import/exports per year\n",
    "* When clicking on a country, we should display the connected countries and what amount of flow went to them\n",
    "* Compute total country entry/exits for transmission points THEN add the lng entries.\n",
    "* Removed planned points \n",
    "\n",
    "**DISPLAY IDEAS**\n",
    "* When clicking on the country, display a graph of the proportion of entries/exits to each country over the year\n",
    "* Bar chart pop up for each country with its entry points\n",
    "* Use **Dash**"
   ]
  },
  {
   "cell_type": "markdown",
   "metadata": {},
   "source": [
    "## Yearly evolution map"
   ]
  },
  {
   "cell_type": "markdown",
   "metadata": {},
   "source": [
    "GPT PROMPT : "
   ]
  },
  {
   "cell_type": "code",
   "execution_count": 40,
   "metadata": {},
   "outputs": [],
   "source": [
    "# import pandas as pd\n",
    "# import plotly.graph_objects as go\n",
    "# from plotly.subplots import make_subplots\n",
    "\n",
    "# def create_interactive_lng_map(lng_keys, lng_points_df, dates, op_data_directory):\n",
    "#     lng_dict = initialize_lng_dict(lng_points_df)\n",
    "#     process_total_data(lng_dict, dates, lng_keys, op_data_directory)\n",
    "    \n",
    "#     fig = setup_main_map_figure(lng_dict)\n",
    "#     add_lng_traces(fig, lng_dict)\n",
    "#     add_slider_to_figure(fig)\n",
    "\n",
    "#     fig = add_country_click_interaction(fig, lng_dict)\n",
    "    \n",
    "#     fig.show()\n",
    "\n",
    "def initialize_lng_dict(points_df):\n",
    "    lng_dict = {}\n",
    "    for _, row in points_df.iterrows():\n",
    "        point_key = row['point_key']\n",
    "        lng_dict[point_key] = {\n",
    "            'point_label': row['point_label'],\n",
    "            'coordinates': (row['lat'], row['lon']),\n",
    "            'is_operational': row['is_operational'],\n",
    "            'Country': row['Country'],\n",
    "            'total_entries': [0] * 12,  # 12 months, initialized to 0\n",
    "            'total_exits': [0] * 12     # 12 months, initialized to 0\n",
    "        }\n",
    "    return lng_dict\n",
    "\n",
    "# def process_monthly_data(lng_dict, op_data, date_idx):\n",
    "#     for _, row in op_data.iterrows():\n",
    "#         point_key = row['point_key']\n",
    "#         value = row['value']\n",
    "#         if row['direction_key'] == 'entry':\n",
    "#             lng_dict[point_key]['total_entries'][date_idx] += value\n",
    "#         elif row['direction_key'] == 'exit':\n",
    "#             lng_dict[point_key]['total_exits'][date_idx] += value\n",
    "\n",
    "# def process_total_data(lng_dict, dates, point_keys, directory):\n",
    "#     for date in dates:\n",
    "#         op_data = pd.read_csv(f'{directory}/op_data_{date}.csv')\n",
    "#         filtered_op_data = op_data[op_data['point_key'].isin(point_keys)]\n",
    "#         process_monthly_data(lng_dict, filtered_op_data, int(date[-2:]) - 1)\n",
    "\n",
    "# def setup_main_map_figure(lng_dict):\n",
    "#     fig = go.Figure()\n",
    "#     fig.update_layout(\n",
    "#         title='LNG Imports and Exports with Interactivity',\n",
    "#         geo=dict(\n",
    "#             scope='europe',  # Focus on Europe\n",
    "#             projection_type='mercator',\n",
    "#             showland=True,\n",
    "#             landcolor='rgb(217, 217, 217)',\n",
    "#             subunitwidth=1,\n",
    "#             countrywidth=1,\n",
    "#             subunitcolor='rgb(255, 255, 255)',\n",
    "#             countrycolor='rgb(255, 255, 255)'\n",
    "#         )\n",
    "#     )\n",
    "#     return fig\n",
    "\n",
    "# def add_lng_traces(fig, lng_dict):\n",
    "#     for month_idx in range(12):\n",
    "#         for point_key, point_data in lng_dict.items():\n",
    "#             entries = point_data['total_entries'][month_idx]\n",
    "#             exits = point_data['total_exits'][month_idx]\n",
    "#             lat, lon = point_data['coordinates']\n",
    "#             size = max(entries, exits) ** 0.5  # Marker size based on the max value of entries or exits\n",
    "#             color = entries - exits  # Color gradient based on the difference between entries and exits\n",
    "#             marker = dict(size=size, color=color, colorscale='Viridis', colorbar=dict(title='Flow Difference'))\n",
    "#             if entries == 0 and exits == 0:\n",
    "#                 marker['color'] = 'black'\n",
    "            \n",
    "#             fig.add_trace(go.Scattergeo(\n",
    "#                 lon=[lon],\n",
    "#                 lat=[lat],\n",
    "#                 text=f\"{point_data['point_label']}<br>Entries: {entries}<br>Exits: {exits}\",\n",
    "#                 marker=marker,\n",
    "#                 name=point_data['point_label'],\n",
    "#                 visible=(month_idx == 0)  # Only show the first month by default\n",
    "#             ))\n",
    "\n",
    "# def add_slider_to_figure(fig):\n",
    "#     steps = []\n",
    "#     for month_idx in range(12):\n",
    "#         step = dict(\n",
    "#             method='update',\n",
    "#             label=f'Month {month_idx + 1}',\n",
    "#             args=[{\n",
    "#                 'visible': [i // 3 == month_idx for i in range(36)]\n",
    "#             }]\n",
    "#         )\n",
    "#         steps.append(step)\n",
    "    \n",
    "#     fig.update_layout(\n",
    "#         sliders=[{\n",
    "#             'active': 0,\n",
    "#             'currentvalue': {\n",
    "#                 'prefix': 'Month: '\n",
    "#             },\n",
    "#             'pad': {\n",
    "#                 't': 50\n",
    "#             },\n",
    "#             'steps': steps\n",
    "#         }]\n",
    "#     )\n",
    "\n",
    "# def add_country_click_interaction(fig, lng_dict):\n",
    "#     \"\"\"\n",
    "#     Adds click interaction to the map for displaying LNG points of the clicked country.\n",
    "    \n",
    "#     Pre: fig is a Plotly figure object with LNG data traces. lng_dict is the dictionary containing LNG data.\n",
    "#     Post: Returns the fig updated with the click interaction.\n",
    "#     \"\"\"\n",
    "#     # Adding click interaction through JavaScript in Plotly's config\n",
    "#     fig.update_layout(clickmode='event+select')\n",
    "    \n",
    "#     fig.add_trace(go.Scattergeo(\n",
    "#         lon=[], lat=[], mode='markers+text', text=[], showlegend=False, textposition=\"top right\", \n",
    "#         marker=dict(size=10, color='rgba(0,0,0,0)')\n",
    "#     ))\n",
    "\n",
    "#     fig['layout'].on_click = lambda trace, points, state: on_click(trace, points, state, lng_dict)\n",
    "    \n",
    "#     return fig\n",
    "\n",
    "# def on_click(trace, points, state, lng_dict):\n",
    "#     \"\"\"\n",
    "#     Handles the click event on the map and updates the display with LNG points of the clicked country.\n",
    "    \n",
    "#     Pre: trace, points, and state are provided by Plotly's event system. lng_dict contains the LNG data.\n",
    "#     Post: Updates the display with the clicked country's LNG points and their data.\n",
    "#     \"\"\"\n",
    "#     clicked_country = points[0].customdata[0]  # Assuming customdata contains the country information\n",
    "#     lng_points = [point for point in lng_dict.values() if point['Country'] == clicked_country]\n",
    "    \n",
    "#     # Clear existing points\n",
    "#     state['fig'].data[-1].lon = []\n",
    "#     state['fig'].data[-1].lat = []\n",
    "#     state['fig'].data[-1].text = []\n",
    "\n",
    "#     for point in lng_points:\n",
    "#         state['fig'].data[-1].lon.append(point['coordinates'][1])\n",
    "#         state['fig'].data[-1].lat.append(point['coordinates'][0])\n",
    "#         state['fig'].data[-1].text.append(point['point_label'])\n",
    "    \n",
    "#     # Add traces for the evolution of entries per point over the year\n",
    "#     fig = make_subplots(rows=2, cols=1, subplot_titles=('LNG Points', 'Entries Evolution'))\n",
    "    \n",
    "#     fig.add_trace(state['fig'].data[-1], row=1, col=1)\n",
    "    \n",
    "#     for point in lng_points:\n",
    "#         fig.add_trace(go.Scatter(\n",
    "#             x=list(range(1, 13)), \n",
    "#             y=point['total_entries'], \n",
    "#             mode='lines+markers', \n",
    "#             name=point['point_label']\n",
    "#         ), row=2, col=1)\n",
    "    \n",
    "#     fig.update_layout(height=800)\n",
    "#     state['fig'] = fig\n",
    "\n",
    "# # Example usage:\n",
    "# # Assuming lng_points_df, lng_keys, and dates are already defined\n",
    "# create_interactive_lng_map( lng_keys, lng_points_df, ['2019_01', '2019_02', '2019_03'], '../data/opData')\n"
   ]
  },
  {
   "cell_type": "code",
   "execution_count": 48,
   "metadata": {},
   "outputs": [],
   "source": [
    "import dash\n",
    "from dash import dcc, html, Input, Output\n",
    "import plotly.graph_objects as go\n",
    "import pandas as pd\n",
    "\n",
    "# Initialize the Dash app\n",
    "app = dash.Dash(__name__)\n",
    "\n",
    "# Sample data\n",
    "lng_dict = initialize_lng_dict(lng_points_df)\n",
    "process_total_data(lng_dict, ['2019_01', '2019_02', '2019_03'], lng_keys, '../data/opData')\n"
   ]
  },
  {
   "cell_type": "code",
   "execution_count": 49,
   "metadata": {},
   "outputs": [],
   "source": [
    "# Create the main map figure\n",
    "def create_initial_map():\n",
    "    fig = go.Figure()\n",
    "    for point_key, point_data in lng_dict.items():\n",
    "        lat, lon = point_data['coordinates']\n",
    "        fig.add_trace(go.Scattergeo(\n",
    "            lon=[lon],\n",
    "            lat=[lat],\n",
    "            text=point_data['point_label'],\n",
    "            marker=dict(size=10),\n",
    "            name=point_data['Country'],\n",
    "            customdata=[point_data['Country']]\n",
    "        ))\n",
    "    fig.update_layout(\n",
    "        geo=dict(\n",
    "            projection_type='mercator',\n",
    "            showland=True,\n",
    "            landcolor='rgb(217, 217, 217)',\n",
    "            subunitwidth=1,\n",
    "            countrywidth=1,\n",
    "            subunitcolor='rgb(255, 255, 255)',\n",
    "            countrycolor='rgb(255, 255, 255)'\n",
    "        )\n",
    "    )\n",
    "    return fig"
   ]
  },
  {
   "cell_type": "code",
   "execution_count": 50,
   "metadata": {},
   "outputs": [
    {
     "ename": "SyntaxError",
     "evalue": "unexpected EOF while parsing (2430213836.py, line 16)",
     "output_type": "error",
     "traceback": [
      "\u001b[1;36m  Cell \u001b[1;32mIn[50], line 16\u001b[1;36m\u001b[0m\n\u001b[1;33m    )\u001b[0m\n\u001b[1;37m     ^\u001b[0m\n\u001b[1;31mSyntaxError\u001b[0m\u001b[1;31m:\u001b[0m unexpected EOF while parsing\n"
     ]
    }
   ],
   "source": [
    "# Dash Layout\n",
    "app.layout = html.Div([\n",
    "    dcc.Graph(\n",
    "        id='main-map',\n",
    "        figure=create_initial_map(),\n",
    "        style={'width': '70%', 'display': 'inline-block'}\n",
    "    ),\n",
    "    html.Div(id='sidebar',\n",
    "             style={'width': '30%', 'display': 'inline-block', 'vertical-align': 'top'})\n",
    "])\n",
    "\n",
    "# # Update sidebar\n",
    "# @app.callback(\n",
    "#     Output('sidebar', 'children'),\n",
    "#     Input('main-map', 'clickData')\n",
    "# )\n"
   ]
  },
  {
   "cell_type": "code",
   "execution_count": 53,
   "metadata": {},
   "outputs": [],
   "source": [
    "# Other solution for the sidebar\n",
    "# clicked_country = \"Spain\"\n",
    "# {k:point for k,point in lng_dict.items() if point['Country'] == clicked_country}"
   ]
  },
  {
   "cell_type": "code",
   "execution_count": null,
   "metadata": {},
   "outputs": [],
   "source": [
    "\n",
    "def update_sidebar(clickData):\n",
    "    if clickData is None:\n",
    "        return html.Div('Click on a country to see related data')\n",
    "    \n",
    "    clicked_country = clickData['points'][0]['customdata'][0]\n",
    "    lng_points = [point for point in lng_dict.items() if point['Country'] == clicked_country]\n",
    "    \n",
    "    # Create a table with the LNG points\n",
    "    table = html.Table([\n",
    "        html.Tr([html.Th('Point Label'), html.Th('Country')]),\n",
    "        *[html.Tr([html.Td(point['point_label']), html.Td(point['Country'])]) for point in lng_points]\n",
    "    ])\n",
    "\n",
    "    fig = go.Figure()\n",
    "    for k,data in lng_points.items():\n",
    "        fig.add_trace(go.Scatter(\n",
    "            x=list(range(1, 13)), \n",
    "            y=data['total_entries'], \n",
    "            mode='lines+markers', \n",
    "            name=data['point_label']\n",
    "        ))\n",
    "\n",
    "    fig.update_layout(\n",
    "        title = f'LNG entries in {clicked_country} (2019)',\n",
    "        xaxis_title = 'Month',\n",
    "        yaxis_title = 'Entries (kWh/d)'\n",
    "    )    \n",
    "\n",
    "    return html.Div([\n",
    "        html.H2(f'LNG Points in {clicked_country}'),\n",
    "        table,\n",
    "        dcc.Graph(figure=fig)\n",
    "    ])"
   ]
  },
  {
   "cell_type": "code",
   "execution_count": 67,
   "metadata": {},
   "outputs": [],
   "source": [
    "# TEST FROM mapCountry\n",
    "# Plotly express dataframe\n",
    "# clicked_country = \"Spain\"\n",
    "# lng_points = [point for k,point in lng_dict.items() if point['Country'] == clicked_country]"
   ]
  },
  {
   "cell_type": "code",
   "execution_count": 66,
   "metadata": {},
   "outputs": [
    {
     "name": "stdout",
     "output_type": "stream",
     "text": [
      "Country Spain has points : \n",
      " - Barcelona , is operational : True\n",
      " - Bilbao , is operational : True\n",
      " - Huelva , is operational : True\n",
      " - Mugardos , is operational : True\n",
      " - Cartagena , is operational : True\n",
      " - Sagunto , is operational : True\n",
      " - TVB , is operational : False\n",
      " - Musel , is operational : True\n"
     ]
    }
   ],
   "source": [
    "# print(f\"Country {clicked_country} has points : \")\n",
    "# for point in lng_points:\n",
    "#     print(f\" - {point['point_label']} , is operational : {point['is_operational']}\")"
   ]
  },
  {
   "cell_type": "code",
   "execution_count": 69,
   "metadata": {},
   "outputs": [
    {
     "name": "stdout",
     "output_type": "stream",
     "text": [
      "[{'point_label': 'Barcelona', 'coordinates': (41.35, 2.167), 'is_operational': True, 'Country': 'Spain', 'total_entries': [1952384514.0, 1839183428.0, 1869878711.0, 0, 0, 0, 0, 0, 0, 0, 0, 0], 'total_exits': [0, 0, 0, 0, 0, 0, 0, 0, 0, 0, 0, 0]}, {'point_label': 'Bilbao', 'coordinates': (43.333, -3.0), 'is_operational': True, 'Country': 'Spain', 'total_entries': [1398714753.0, 1271263781.0, 1629902486.0, 0, 0, 0, 0, 0, 0, 0, 0, 0], 'total_exits': [0, 0, 0, 0, 0, 0, 0, 0, 0, 0, 0, 0]}, {'point_label': 'Huelva', 'coordinates': (37.2, -6.95), 'is_operational': True, 'Country': 'Spain', 'total_entries': [1031197369.0, 1594347525.0, 1528345456.0, 0, 0, 0, 0, 0, 0, 0, 0, 0], 'total_exits': [0, 0, 0, 0, 0, 0, 0, 0, 0, 0, 0, 0]}, {'point_label': 'Mugardos', 'coordinates': (43.483, -8.25), 'is_operational': True, 'Country': 'Spain', 'total_entries': [0, 0, 0, 0, 0, 0, 0, 0, 0, 0, 0, 0], 'total_exits': [0, 0, 0, 0, 0, 0, 0, 0, 0, 0, 0, 0]}, {'point_label': 'Cartagena', 'coordinates': (37.6, -0.983), 'is_operational': True, 'Country': 'Spain', 'total_entries': [449526798.0, 461846458.0, 352514264.0, 0, 0, 0, 0, 0, 0, 0, 0, 0], 'total_exits': [0, 0, 0, 0, 0, 0, 0, 0, 0, 0, 0, 0]}, {'point_label': 'Sagunto', 'coordinates': (39.667, -0.217), 'is_operational': True, 'Country': 'Spain', 'total_entries': [31643759.0, 30885639.0, 30240764.0, 0, 0, 0, 0, 0, 0, 0, 0, 0], 'total_exits': [0, 0, 0, 0, 0, 0, 0, 0, 0, 0, 0, 0]}, {'point_label': 'TVB', 'coordinates': (51.95, 4.05), 'is_operational': False, 'Country': 'Spain', 'total_entries': [0, 0, 0, 0, 0, 0, 0, 0, 0, 0, 0, 0], 'total_exits': [0, 0, 0, 0, 0, 0, 0, 0, 0, 0, 0, 0]}, {'point_label': 'Musel', 'coordinates': (43.55, -5.95), 'is_operational': True, 'Country': 'Spain', 'total_entries': [0, 0, 0, 0, 0, 0, 0, 0, 0, 0, 0, 0], 'total_exits': [0, 0, 0, 0, 0, 0, 0, 0, 0, 0, 0, 0]}]\n"
     ]
    },
    {
     "data": {
      "text/html": [
       "<div>\n",
       "<style scoped>\n",
       "    .dataframe tbody tr th:only-of-type {\n",
       "        vertical-align: middle;\n",
       "    }\n",
       "\n",
       "    .dataframe tbody tr th {\n",
       "        vertical-align: top;\n",
       "    }\n",
       "\n",
       "    .dataframe thead th {\n",
       "        text-align: right;\n",
       "    }\n",
       "</style>\n",
       "<table border=\"1\" class=\"dataframe\">\n",
       "  <thead>\n",
       "    <tr style=\"text-align: right;\">\n",
       "      <th></th>\n",
       "      <th>point_label</th>\n",
       "      <th>entries</th>\n",
       "      <th>month</th>\n",
       "    </tr>\n",
       "  </thead>\n",
       "  <tbody>\n",
       "    <tr>\n",
       "      <th>0</th>\n",
       "      <td>Barcelona</td>\n",
       "      <td>[1952384514.0, 1839183428.0, 1869878711.0, 0, ...</td>\n",
       "      <td>[Jan, Feb, Mar, Apr, May, Jun, Jul, Aug, Sep, ...</td>\n",
       "    </tr>\n",
       "    <tr>\n",
       "      <th>1</th>\n",
       "      <td>Bilbao</td>\n",
       "      <td>[1398714753.0, 1271263781.0, 1629902486.0, 0, ...</td>\n",
       "      <td>[Jan, Feb, Mar, Apr, May, Jun, Jul, Aug, Sep, ...</td>\n",
       "    </tr>\n",
       "    <tr>\n",
       "      <th>2</th>\n",
       "      <td>Huelva</td>\n",
       "      <td>[1031197369.0, 1594347525.0, 1528345456.0, 0, ...</td>\n",
       "      <td>[Jan, Feb, Mar, Apr, May, Jun, Jul, Aug, Sep, ...</td>\n",
       "    </tr>\n",
       "    <tr>\n",
       "      <th>3</th>\n",
       "      <td>Mugardos</td>\n",
       "      <td>[0, 0, 0, 0, 0, 0, 0, 0, 0, 0, 0, 0]</td>\n",
       "      <td>[Jan, Feb, Mar, Apr, May, Jun, Jul, Aug, Sep, ...</td>\n",
       "    </tr>\n",
       "    <tr>\n",
       "      <th>4</th>\n",
       "      <td>Cartagena</td>\n",
       "      <td>[449526798.0, 461846458.0, 352514264.0, 0, 0, ...</td>\n",
       "      <td>[Jan, Feb, Mar, Apr, May, Jun, Jul, Aug, Sep, ...</td>\n",
       "    </tr>\n",
       "  </tbody>\n",
       "</table>\n",
       "</div>"
      ],
      "text/plain": [
       "  point_label                                            entries  \\\n",
       "0   Barcelona  [1952384514.0, 1839183428.0, 1869878711.0, 0, ...   \n",
       "1      Bilbao  [1398714753.0, 1271263781.0, 1629902486.0, 0, ...   \n",
       "2      Huelva  [1031197369.0, 1594347525.0, 1528345456.0, 0, ...   \n",
       "3    Mugardos               [0, 0, 0, 0, 0, 0, 0, 0, 0, 0, 0, 0]   \n",
       "4   Cartagena  [449526798.0, 461846458.0, 352514264.0, 0, 0, ...   \n",
       "\n",
       "                                               month  \n",
       "0  [Jan, Feb, Mar, Apr, May, Jun, Jul, Aug, Sep, ...  \n",
       "1  [Jan, Feb, Mar, Apr, May, Jun, Jul, Aug, Sep, ...  \n",
       "2  [Jan, Feb, Mar, Apr, May, Jun, Jul, Aug, Sep, ...  \n",
       "3  [Jan, Feb, Mar, Apr, May, Jun, Jul, Aug, Sep, ...  \n",
       "4  [Jan, Feb, Mar, Apr, May, Jun, Jul, Aug, Sep, ...  "
      ]
     },
     "execution_count": 69,
     "metadata": {},
     "output_type": "execute_result"
    }
   ],
   "source": [
    "# TEST FROM mapCountry\n",
    "\n",
    "# data = []\n",
    "# print(lng_points)\n",
    "# for pt in lng_points:\n",
    "#     months = ['Jan', 'Feb', 'Mar', 'Apr', 'May', 'Jun', 'Jul', 'Aug', 'Sep', 'Oct', 'Nov', 'Dec']\n",
    "#     data.append({\n",
    "#         'point_label': pt['point_label'],\n",
    "#         'entries': pt['total_entries'],\n",
    "#         'month' : months\n",
    "#     })\n",
    "\n",
    "# df = pd.DataFrame(data)\n",
    "# df.head()"
   ]
  },
  {
   "cell_type": "code",
   "execution_count": null,
   "metadata": {},
   "outputs": [],
   "source": [
    "# RUN APP\n",
    "if __name__ == '__main__':\n",
    "    app.run_server(debug=True)"
   ]
  },
  {
   "cell_type": "code",
   "execution_count": null,
   "metadata": {},
   "outputs": [],
   "source": []
  },
  {
   "cell_type": "markdown",
   "metadata": {},
   "source": [
    "# Transmission points data"
   ]
  },
  {
   "cell_type": "markdown",
   "metadata": {},
   "source": [
    "## Prepare Data\n",
    "When data is prepared, add the preprocession steps to buildDataPerPointType"
   ]
  },
  {
   "cell_type": "code",
   "execution_count": 75,
   "metadata": {},
   "outputs": [],
   "source": [
    "# CODE FROM buildDataPerPointType.py\n",
    "# GOAL : Create aggregated data for intra-country flows\n",
    "\n",
    "DIR = '../'\n",
    "DATE = '2019_01'\n",
    "\n",
    "######################\n",
    "#    Data Loading    #\n",
    "######################\n",
    "# CODE FROM buildDataPerPointType.py\n",
    "points_df = pd.read_csv(f'{DIR}/data/points_data.csv')\n",
    "op_data = pd.read_csv(f'{DIR}/data/opData/op_data_{DATE}.csv')\n"
   ]
  },
  {
   "cell_type": "code",
   "execution_count": 78,
   "metadata": {},
   "outputs": [
    {
     "name": "stdout",
     "output_type": "stream",
     "text": [
      "Total points : 772\n",
      "Transmission points : 240\n",
      "Production points : 43\n"
     ]
    }
   ],
   "source": [
    "######################\n",
    "#    Data Processing #\n",
    "######################\n",
    "### Filtering Transmission points\n",
    "trans_points_df = filter_point_type(\"Transmission\",points_df,'point_type')\n",
    "prod_points_df = filter_point_type(\"production\",points_df,'point_type')\n",
    "\n",
    "print(f\"Total points : {len(points_df)}\")\n",
    "print(f\"Transmission points : {len(trans_points_df)}\")\n",
    "print(f\"Production points : {len(prod_points_df)}\")"
   ]
  },
  {
   "cell_type": "code",
   "execution_count": null,
   "metadata": {},
   "outputs": [],
   "source": [
    "DATA_DIR = \"../data/opData\"\n",
    "\n",
    "def load_data(date):\n",
    "    \"\"\"Load operational, points, operator points directions, and interconnections data.\"\"\"\n",
    "    operational_df = pd.read_csv(f\"{DATA_DIR}/op_data_{date}.csv\")\n",
    "    points_df = pd.read_csv(f\"{DATA_DIR}/points_data.csv\")\n",
    "    operator_points_directions_df = pd.read_csv(f\"{DATA_DIR}/operator_points_dir.csv\")\n",
    "    interconnections_df = pd.read_csv(f'{DATA_DIR}/interconnections_data.csv')\n",
    "    return operational_df, points_df, operator_points_directions_df, interconnections_df"
   ]
  }
 ],
 "metadata": {
  "kernelspec": {
   "display_name": ".venv",
   "language": "python",
   "name": "python3"
  },
  "language_info": {
   "codemirror_mode": {
    "name": "ipython",
    "version": 3
   },
   "file_extension": ".py",
   "mimetype": "text/x-python",
   "name": "python",
   "nbconvert_exporter": "python",
   "pygments_lexer": "ipython3",
   "version": "3.9.7"
  }
 },
 "nbformat": 4,
 "nbformat_minor": 2
}
