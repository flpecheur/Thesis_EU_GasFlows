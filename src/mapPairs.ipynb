{
 "cells": [
  {
   "cell_type": "code",
   "execution_count": 247,
   "metadata": {},
   "outputs": [],
   "source": [
    "import pandas as pd\n",
    "import plotly.express as px\n",
    "from plotly.colors import sequential\n",
    "\n",
    "import plotly.express as px\n",
    "import plotly.graph_objects as go\n",
    "from plotly.subplots import make_subplots\n",
    "\n",
    "\n",
    "\n",
    "DATE = \"2019_01\"\n",
    "\n",
    "\n",
    "# Load the Agg dataset : source : FINAL/data/perCountry/agg_data_pairs_{DATE}.csv\n",
    "agg_pairs_df = pd.read_csv(f'../data/perCountry/agg_data_pairs_{DATE}.csv')\n"
   ]
  },
  {
   "cell_type": "markdown",
   "metadata": {},
   "source": [
    "<font color=\"yellow\">agg_pairs is incorrect</font>"
   ]
  },
  {
   "cell_type": "code",
   "execution_count": 248,
   "metadata": {},
   "outputs": [
    {
     "data": {
      "text/plain": [
       "Index(['countryA', 'countryB', 'entryFlow', 'exitFlow'], dtype='object')"
      ]
     },
     "execution_count": 248,
     "metadata": {},
     "output_type": "execute_result"
    }
   ],
   "source": [
    "agg_pairs_df.columns"
   ]
  },
  {
   "cell_type": "code",
   "execution_count": 249,
   "metadata": {},
   "outputs": [
    {
     "name": "stdout",
     "output_type": "stream",
     "text": [
      "   countryA     countryB     entryFlow      exitFlow\n",
      "31   France      Belgium  3.654710e+09  3.658168e+09\n",
      "32   France       France  3.382401e+10  2.631997e+10\n",
      "33   France      Germany  3.868704e+09  0.000000e+00\n",
      "34   France       Norway  5.453810e+09  0.000000e+00\n",
      "35   France        Spain  2.190778e+09  2.137785e+09\n",
      "36   France  Switzerland  0.000000e+00  2.688735e+09\n"
     ]
    }
   ],
   "source": [
    "print(agg_pairs_df[agg_pairs_df['countryA'] == 'France'])"
   ]
  },
  {
   "cell_type": "code",
   "execution_count": 250,
   "metadata": {},
   "outputs": [
    {
     "name": "stdout",
     "output_type": "stream",
     "text": [
      "        countryA countryB     entryFlow      exitFlow\n",
      "7        Belgium   France  3.654710e+09  3.658168e+09\n",
      "32        France   France  3.382401e+10  2.631997e+10\n",
      "41       Germany   France  1.934352e+09  0.000000e+00\n",
      "105        Spain   France  2.190778e+09  2.137785e+09\n",
      "108  Switzerland   France  0.000000e+00  2.688735e+09\n"
     ]
    }
   ],
   "source": [
    "print(agg_pairs_df[agg_pairs_df['countryB'] == 'France'])"
   ]
  },
  {
   "cell_type": "markdown",
   "metadata": {},
   "source": [
    "# Transmission points data"
   ]
  },
  {
   "cell_type": "markdown",
   "metadata": {},
   "source": [
    "Based on the code from buildDataPerCountry xhich is to be kept\n",
    "\n",
    "BUT add differenciation between LNG and ground import/exports.\n",
    "\n",
    "Ideas to combine maps : \n",
    "* Aggregate data for country interconnections based on Transmission points\n",
    "* Keep the data for total imports/exports\n",
    "* When selecting a country, display the proportion of entries/ exits per country and LNG if applicable\n",
    "\n",
    "WHAT WE HAVE:\n",
    "* Data per LNG point, which we combine for all points with the same country => All LNG entries per countries\n",
    "* Data for each pair CountryA, CountryB \n",
    "\n",
    "HOW TO : \n",
    "* When a country is selected, create a pie chart with the total flow over the year for each pair with countryA as"
   ]
  },
  {
   "cell_type": "code",
   "execution_count": 251,
   "metadata": {},
   "outputs": [],
   "source": [
    "from buildDataPerCountry import load_data, rename_columns\n",
    "\n",
    "DATA_DIR = \"../data\"\n",
    "date = \"2019_01\""
   ]
  },
  {
   "cell_type": "code",
   "execution_count": 252,
   "metadata": {},
   "outputs": [],
   "source": [
    "\"\"\"Load operational, points, operator points directions, and interconnections data.\"\"\"\n",
    "operational_df = pd.read_csv(f\"{DATA_DIR}/opData/op_data_{date}.csv\")\n",
    "points_df = pd.read_csv(f\"{DATA_DIR}/points_data.csv\")\n",
    "operator_points_directions_df = pd.read_csv(f\"{DATA_DIR}/operator_points_dir.csv\")\n",
    "interconnections_df = pd.read_csv(f'{DATA_DIR}/interconnections_data.csv')\n"
   ]
  },
  {
   "cell_type": "code",
   "execution_count": 253,
   "metadata": {},
   "outputs": [
    {
     "name": "stdout",
     "output_type": "stream",
     "text": [
      "(240, 32)\n"
     ]
    }
   ],
   "source": [
    "# TRANSMISSION KEYS\n",
    "def filter_point_type(keyword,df,column):\n",
    "    return df[df[column].str.contains(keyword)]\n",
    "\n",
    "trans_points_df = filter_point_type(\"Transmission\",points_df,'point_type')\n",
    "print(trans_points_df.shape)\n"
   ]
  },
  {
   "cell_type": "code",
   "execution_count": 254,
   "metadata": {},
   "outputs": [],
   "source": [
    "def rename_columns(points_df, operational_df):\n",
    "    \"\"\"Rename columns to match the format of other datasets.\"\"\"\n",
    "    points_df.rename(columns={\n",
    "        'point_key': 'pointKey',\n",
    "        'point_label': 'pointLabel',\n",
    "        'is_single_operator': 'isSingleOperator',\n",
    "        'point_tooltip': 'pointTooltip',\n",
    "        'point_eic_code': 'pointEicCode',\n",
    "        'control_point_type': 'controlPointType',\n",
    "        'tp_map_x': 'tpMapX',\n",
    "        'tp_map_y': 'tpMapY',\n",
    "        'point_type': 'pointType',\n",
    "        'commercial_type': 'commercialType',\n",
    "        'import_from_country_key': 'importFromCountryKey',\n",
    "        'import_from_country_label': 'importFromCountryLabel',\n",
    "        'has_virtual_point': 'hasVirtualPoint',\n",
    "        'virtual_point_key': 'virtualPointKey',\n",
    "        'virtual_point_label': 'virtualPointLabel',\n",
    "        'has_data': 'hasData',\n",
    "        'is_planned': 'isPlanned',\n",
    "        'is_interconnection': 'isInterconnection',\n",
    "        'is_import': 'isImport',\n",
    "        'infrastructure_key': 'infrastructureKey',\n",
    "        'infrastructure_label': 'infrastructureLabel',\n",
    "        'is_cross_border': 'isCrossBorder',\n",
    "        'eu_crossing': 'euCrossing',\n",
    "        'is_invalid': 'isInvalid',\n",
    "        'is_macro_point': 'isMacroPoint',\n",
    "        'is_cam_relevant': 'isCamRelevant',\n",
    "        'is_pipe_in_pipe': 'isPipeInPipe',\n",
    "        'is_cmp_relevant': 'isCmpRelevant',\n",
    "        'id': 'id',\n",
    "        'data_set': 'dataSet',\n",
    "        'url': 'url'\n",
    "    }, inplace=True)\n",
    "\n",
    "    operational_df.rename(columns={\n",
    "        'direction_key': 'directionKey',\n",
    "        'flow_status': 'flowStatus',\n",
    "        'id_point_type': 'idPointType',\n",
    "        'operator_key': 'operatorKey',\n",
    "        'period_from': 'periodFrom',\n",
    "        'period_to': 'periodTo',\n",
    "        'period_type': 'periodType',\n",
    "        'point_key': 'pointKey',\n",
    "        'point_label': 'pointLabel',\n",
    "        'tso_eic_code': 'tsoEicCode',\n",
    "        'unit': 'unit',\n",
    "        'value': 'value'\n",
    "    }, inplace=True)\n",
    "\n",
    "rename_columns(points_df, operational_df)\n"
   ]
  },
  {
   "cell_type": "code",
   "execution_count": 255,
   "metadata": {},
   "outputs": [],
   "source": [
    "# MERGE\n",
    "\n",
    "merged_df = operational_df.merge(points_df[['pointKey', 'pointLabel']], on='pointKey', how='left')\n",
    "merged_df = merged_df.merge(interconnections_df[['pointKey', 'fromCountryLabel', 'toCountryLabel']], on='pointKey', how='left')    "
   ]
  },
  {
   "cell_type": "code",
   "execution_count": 256,
   "metadata": {},
   "outputs": [
    {
     "name": "stdout",
     "output_type": "stream",
     "text": [
      "(15146, 17)\n",
      "Index(['Unnamed: 0', 'directionKey', 'flowStatus', 'id', 'idPointType',\n",
      "       'operatorKey', 'periodFrom', 'periodTo', 'periodType', 'pointKey',\n",
      "       'pointLabel_x', 'tsoEicCode', 'unit', 'value', 'pointLabel_y',\n",
      "       'fromCountryLabel', 'toCountryLabel'],\n",
      "      dtype='object')\n"
     ]
    }
   ],
   "source": [
    "print(merged_df.shape)\n",
    "print(merged_df.columns)"
   ]
  },
  {
   "cell_type": "code",
   "execution_count": 257,
   "metadata": {},
   "outputs": [
    {
     "name": "stdout",
     "output_type": "stream",
     "text": [
      "Size before filtering: (15146, 17)\n",
      "... Size after filtering: (13688, 17)\n"
     ]
    }
   ],
   "source": [
    "# FILTER \n",
    "\n",
    "print(f'Size before filtering: {merged_df.shape}')\n",
    "filtered_df = merged_df[(merged_df['directionKey'].isin(['entry', 'exit']))]\n",
    "filtered_df = filtered_df[filtered_df['value'].notna()]\n",
    "print(f'... Size after filtering: {filtered_df.shape}')"
   ]
  },
  {
   "cell_type": "code",
   "execution_count": 258,
   "metadata": {},
   "outputs": [
    {
     "name": "stdout",
     "output_type": "stream",
     "text": [
      "Unnamed: 0              0\n",
      "directionKey            0\n",
      "flowStatus              0\n",
      "id                      0\n",
      "idPointType         11025\n",
      "operatorKey             0\n",
      "periodFrom              0\n",
      "periodTo                0\n",
      "periodType              0\n",
      "pointKey                0\n",
      "pointLabel_x            0\n",
      "tsoEicCode              0\n",
      "unit                    0\n",
      "value                   0\n",
      "pointLabel_y         1130\n",
      "fromCountryLabel     2910\n",
      "toCountryLabel       2844\n",
      "dtype: int64\n"
     ]
    }
   ],
   "source": [
    "print(filtered_df.isna().sum())"
   ]
  },
  {
   "cell_type": "code",
   "execution_count": 259,
   "metadata": {},
   "outputs": [],
   "source": [
    "# ADD COUNTRY INFO\n",
    "# Now assume all directions are entries\n",
    "\n",
    "filtered_df['fromCountry'] = filtered_df.apply(lambda row: row['fromCountryLabel'] if row['directionKey'] == 'entry' else row['toCountryLabel'], axis=1)\n",
    "filtered_df['toCountry'] = filtered_df.apply(lambda row: row['toCountryLabel'] if row['directionKey'] == 'exit' else row['fromCountryLabel'], axis=1)\n",
    "# filtered_df['operatorCountryCode'] = filtered_df['operatorKey'].str[:2]\n",
    "\n",
    "# count = filtered_df[(filtered_df['toCountryLabel'].isna()) & (filtered_df['toCountry'].isna())].shape[0]\n",
    "# print(count)\n",
    "\n",
    "# count = filtered_df[(filtered_df['fromCountryLabel'].isna()) & (filtered_df['fromCountry'].isna())].shape[0]\n",
    "# print(count)\n",
    "\n",
    "# CONCLUSION : 151 and 195 points have both as NaNs so not worth it to add the country info"
   ]
  },
  {
   "cell_type": "markdown",
   "metadata": {},
   "source": [
    "## NEW : Group by entries-exits"
   ]
  },
  {
   "cell_type": "code",
   "execution_count": 260,
   "metadata": {},
   "outputs": [
    {
     "name": "stdout",
     "output_type": "stream",
     "text": [
      "... Size after filtering: (6813, 19)\n"
     ]
    }
   ],
   "source": [
    "# NEW \n",
    "# TODO : filter only transmission points\n",
    "filtered_df = filtered_df[filtered_df['pointKey'].isin(trans_points_df['point_key'])]\n",
    "print(f'... Size after filtering: {filtered_df.shape}')"
   ]
  },
  {
   "cell_type": "code",
   "execution_count": 261,
   "metadata": {},
   "outputs": [
    {
     "name": "stdout",
     "output_type": "stream",
     "text": [
      "... Size entries: (3314, 19)\n",
      "... Size exits: (3499, 19)\n"
     ]
    }
   ],
   "source": [
    "# NEW\n",
    "entries_df = filtered_df[filtered_df['directionKey'] == 'entry']\n",
    "exits_df = filtered_df[filtered_df['directionKey'] == 'exit']\n",
    "print(f'... Size entries: {entries_df.shape}')\n",
    "print(f'... Size exits: {exits_df.shape}')"
   ]
  },
  {
   "cell_type": "code",
   "execution_count": 262,
   "metadata": {},
   "outputs": [
    {
     "name": "stdout",
     "output_type": "stream",
     "text": [
      "Index(['Unnamed: 0', 'directionKey', 'flowStatus', 'id', 'idPointType',\n",
      "       'operatorKey', 'periodFrom', 'periodTo', 'periodType', 'pointKey',\n",
      "       'pointLabel_x', 'tsoEicCode', 'unit', 'value', 'pointLabel_y',\n",
      "       'fromCountryLabel', 'toCountryLabel', 'fromCountry', 'toCountry'],\n",
      "      dtype='object')\n"
     ]
    }
   ],
   "source": [
    "print(entries_df.columns)"
   ]
  },
  {
   "cell_type": "code",
   "execution_count": 263,
   "metadata": {},
   "outputs": [],
   "source": [
    "# entries_df.isna().sum()\n",
    "# exits_df.isna().sum()"
   ]
  },
  {
   "cell_type": "markdown",
   "metadata": {},
   "source": [
    "NOTE : \n",
    "\n",
    "After summing up the amount of NaNs for country labels to and from, choose toCountryLabel as a reference since it has the least amount of NaNs"
   ]
  },
  {
   "cell_type": "code",
   "execution_count": 264,
   "metadata": {},
   "outputs": [
    {
     "name": "stdout",
     "output_type": "stream",
     "text": [
      "32\n",
      "33\n"
     ]
    }
   ],
   "source": [
    "print(len(entries_df['toCountryLabel'].unique()))\n",
    "print(len(exits_df['toCountryLabel'].unique()))"
   ]
  },
  {
   "cell_type": "code",
   "execution_count": 265,
   "metadata": {},
   "outputs": [],
   "source": [
    "# NEW\n",
    "# Group by Pair of countries\n",
    "relevant_columns = ['fromCountryLabel', 'toCountryLabel', 'value']\n",
    "\n",
    "grouped_entries_df = entries_df[relevant_columns].groupby(['fromCountryLabel','toCountryLabel']).sum().reset_index()\n",
    "grouped_exits_df = exits_df[relevant_columns].groupby(['fromCountryLabel','toCountryLabel']).sum().reset_index()"
   ]
  },
  {
   "cell_type": "code",
   "execution_count": 296,
   "metadata": {},
   "outputs": [
    {
     "data": {
      "text/html": [
       "<div>\n",
       "<style scoped>\n",
       "    .dataframe tbody tr th:only-of-type {\n",
       "        vertical-align: middle;\n",
       "    }\n",
       "\n",
       "    .dataframe tbody tr th {\n",
       "        vertical-align: top;\n",
       "    }\n",
       "\n",
       "    .dataframe thead th {\n",
       "        text-align: right;\n",
       "    }\n",
       "</style>\n",
       "<table border=\"1\" class=\"dataframe\">\n",
       "  <thead>\n",
       "    <tr style=\"text-align: right;\">\n",
       "      <th></th>\n",
       "      <th>fromCountryLabel</th>\n",
       "      <th>toCountryLabel</th>\n",
       "      <th>entryValue</th>\n",
       "    </tr>\n",
       "  </thead>\n",
       "  <tbody>\n",
       "    <tr>\n",
       "      <th>7</th>\n",
       "      <td>Belgium</td>\n",
       "      <td>Belgium</td>\n",
       "      <td>1.077562e+07</td>\n",
       "    </tr>\n",
       "    <tr>\n",
       "      <th>8</th>\n",
       "      <td>Belgium</td>\n",
       "      <td>France</td>\n",
       "      <td>3.654710e+09</td>\n",
       "    </tr>\n",
       "    <tr>\n",
       "      <th>9</th>\n",
       "      <td>Belgium</td>\n",
       "      <td>Germany</td>\n",
       "      <td>1.186307e+09</td>\n",
       "    </tr>\n",
       "    <tr>\n",
       "      <th>10</th>\n",
       "      <td>Belgium</td>\n",
       "      <td>Luxemburg</td>\n",
       "      <td>2.501077e+08</td>\n",
       "    </tr>\n",
       "    <tr>\n",
       "      <th>11</th>\n",
       "      <td>Belgium</td>\n",
       "      <td>Netherlands</td>\n",
       "      <td>4.998158e+09</td>\n",
       "    </tr>\n",
       "    <tr>\n",
       "      <th>12</th>\n",
       "      <td>Belgium</td>\n",
       "      <td>Norway</td>\n",
       "      <td>5.133876e+09</td>\n",
       "    </tr>\n",
       "    <tr>\n",
       "      <th>13</th>\n",
       "      <td>Belgium</td>\n",
       "      <td>United Kingdom</td>\n",
       "      <td>7.195581e+08</td>\n",
       "    </tr>\n",
       "    <tr>\n",
       "      <th>25</th>\n",
       "      <td>France</td>\n",
       "      <td>Belgium</td>\n",
       "      <td>3.654710e+09</td>\n",
       "    </tr>\n",
       "    <tr>\n",
       "      <th>30</th>\n",
       "      <td>Germany</td>\n",
       "      <td>Belgium</td>\n",
       "      <td>1.186307e+09</td>\n",
       "    </tr>\n",
       "    <tr>\n",
       "      <th>54</th>\n",
       "      <td>Luxemburg</td>\n",
       "      <td>Belgium</td>\n",
       "      <td>2.501077e+08</td>\n",
       "    </tr>\n",
       "    <tr>\n",
       "      <th>57</th>\n",
       "      <td>Netherlands</td>\n",
       "      <td>Belgium</td>\n",
       "      <td>4.998158e+09</td>\n",
       "    </tr>\n",
       "    <tr>\n",
       "      <th>60</th>\n",
       "      <td>Norway</td>\n",
       "      <td>Belgium</td>\n",
       "      <td>5.133876e+09</td>\n",
       "    </tr>\n",
       "  </tbody>\n",
       "</table>\n",
       "</div>"
      ],
      "text/plain": [
       "   fromCountryLabel  toCountryLabel    entryValue\n",
       "7           Belgium         Belgium  1.077562e+07\n",
       "8           Belgium          France  3.654710e+09\n",
       "9           Belgium         Germany  1.186307e+09\n",
       "10          Belgium       Luxemburg  2.501077e+08\n",
       "11          Belgium     Netherlands  4.998158e+09\n",
       "12          Belgium          Norway  5.133876e+09\n",
       "13          Belgium  United Kingdom  7.195581e+08\n",
       "25           France         Belgium  3.654710e+09\n",
       "30          Germany         Belgium  1.186307e+09\n",
       "54        Luxemburg         Belgium  2.501077e+08\n",
       "57      Netherlands         Belgium  4.998158e+09\n",
       "60           Norway         Belgium  5.133876e+09"
      ]
     },
     "execution_count": 296,
     "metadata": {},
     "output_type": "execute_result"
    }
   ],
   "source": [
    "get_data_for_country(grouped_entries_df,'Belgium')"
   ]
  },
  {
   "cell_type": "code",
   "execution_count": 297,
   "metadata": {},
   "outputs": [
    {
     "data": {
      "text/html": [
       "<div>\n",
       "<style scoped>\n",
       "    .dataframe tbody tr th:only-of-type {\n",
       "        vertical-align: middle;\n",
       "    }\n",
       "\n",
       "    .dataframe tbody tr th {\n",
       "        vertical-align: top;\n",
       "    }\n",
       "\n",
       "    .dataframe thead th {\n",
       "        text-align: right;\n",
       "    }\n",
       "</style>\n",
       "<table border=\"1\" class=\"dataframe\">\n",
       "  <thead>\n",
       "    <tr style=\"text-align: right;\">\n",
       "      <th></th>\n",
       "      <th>fromCountryLabel</th>\n",
       "      <th>toCountryLabel</th>\n",
       "      <th>exitValue</th>\n",
       "    </tr>\n",
       "  </thead>\n",
       "  <tbody>\n",
       "    <tr>\n",
       "      <th>6</th>\n",
       "      <td>Belgium</td>\n",
       "      <td>Belgium</td>\n",
       "      <td>1.077562e+07</td>\n",
       "    </tr>\n",
       "    <tr>\n",
       "      <th>7</th>\n",
       "      <td>Belgium</td>\n",
       "      <td>France</td>\n",
       "      <td>3.658168e+09</td>\n",
       "    </tr>\n",
       "    <tr>\n",
       "      <th>8</th>\n",
       "      <td>Belgium</td>\n",
       "      <td>Germany</td>\n",
       "      <td>1.186307e+09</td>\n",
       "    </tr>\n",
       "    <tr>\n",
       "      <th>9</th>\n",
       "      <td>Belgium</td>\n",
       "      <td>Luxemburg</td>\n",
       "      <td>2.814929e+08</td>\n",
       "    </tr>\n",
       "    <tr>\n",
       "      <th>10</th>\n",
       "      <td>Belgium</td>\n",
       "      <td>Netherlands</td>\n",
       "      <td>4.899066e+09</td>\n",
       "    </tr>\n",
       "    <tr>\n",
       "      <th>11</th>\n",
       "      <td>Belgium</td>\n",
       "      <td>Norway</td>\n",
       "      <td>0.000000e+00</td>\n",
       "    </tr>\n",
       "    <tr>\n",
       "      <th>12</th>\n",
       "      <td>Belgium</td>\n",
       "      <td>United Kingdom</td>\n",
       "      <td>7.186310e+08</td>\n",
       "    </tr>\n",
       "    <tr>\n",
       "      <th>25</th>\n",
       "      <td>France</td>\n",
       "      <td>Belgium</td>\n",
       "      <td>3.658168e+09</td>\n",
       "    </tr>\n",
       "    <tr>\n",
       "      <th>29</th>\n",
       "      <td>Germany</td>\n",
       "      <td>Belgium</td>\n",
       "      <td>1.186307e+09</td>\n",
       "    </tr>\n",
       "    <tr>\n",
       "      <th>57</th>\n",
       "      <td>Luxemburg</td>\n",
       "      <td>Belgium</td>\n",
       "      <td>2.814929e+08</td>\n",
       "    </tr>\n",
       "    <tr>\n",
       "      <th>61</th>\n",
       "      <td>Netherlands</td>\n",
       "      <td>Belgium</td>\n",
       "      <td>4.899066e+09</td>\n",
       "    </tr>\n",
       "    <tr>\n",
       "      <th>65</th>\n",
       "      <td>Norway</td>\n",
       "      <td>Belgium</td>\n",
       "      <td>0.000000e+00</td>\n",
       "    </tr>\n",
       "  </tbody>\n",
       "</table>\n",
       "</div>"
      ],
      "text/plain": [
       "   fromCountryLabel  toCountryLabel     exitValue\n",
       "6           Belgium         Belgium  1.077562e+07\n",
       "7           Belgium          France  3.658168e+09\n",
       "8           Belgium         Germany  1.186307e+09\n",
       "9           Belgium       Luxemburg  2.814929e+08\n",
       "10          Belgium     Netherlands  4.899066e+09\n",
       "11          Belgium          Norway  0.000000e+00\n",
       "12          Belgium  United Kingdom  7.186310e+08\n",
       "25           France         Belgium  3.658168e+09\n",
       "29          Germany         Belgium  1.186307e+09\n",
       "57        Luxemburg         Belgium  2.814929e+08\n",
       "61      Netherlands         Belgium  4.899066e+09\n",
       "65           Norway         Belgium  0.000000e+00"
      ]
     },
     "execution_count": 297,
     "metadata": {},
     "output_type": "execute_result"
    }
   ],
   "source": [
    "get_data_for_country(grouped_exits_df,'Belgium')"
   ]
  },
  {
   "cell_type": "markdown",
   "metadata": {},
   "source": [
    "TODO FROM HERE:\n",
    "* For each pair, compute the total -> DONE\n",
    "* Combine datasets\n",
    "* Compare entries and exits"
   ]
  },
  {
   "cell_type": "code",
   "execution_count": 268,
   "metadata": {},
   "outputs": [],
   "source": [
    "grouped_entries_df.rename(columns={'value': 'entryValue'}, inplace=True)\n",
    "grouped_exits_df.rename(columns={'value': 'exitValue'}, inplace=True)\n",
    "\n",
    "# Merge entries and exits data\n",
    "combined_df = pd.merge(grouped_entries_df, grouped_exits_df, \n",
    "                       on=['fromCountryLabel', 'toCountryLabel'], \n",
    "                       how='outer').fillna(0)\n",
    "\n",
    "combined_df['totalFlow'] = combined_df['entryValue'] - combined_df['exitValue']"
   ]
  },
  {
   "cell_type": "code",
   "execution_count": 269,
   "metadata": {},
   "outputs": [
    {
     "data": {
      "text/html": [
       "<div>\n",
       "<style scoped>\n",
       "    .dataframe tbody tr th:only-of-type {\n",
       "        vertical-align: middle;\n",
       "    }\n",
       "\n",
       "    .dataframe tbody tr th {\n",
       "        vertical-align: top;\n",
       "    }\n",
       "\n",
       "    .dataframe thead th {\n",
       "        text-align: right;\n",
       "    }\n",
       "</style>\n",
       "<table border=\"1\" class=\"dataframe\">\n",
       "  <thead>\n",
       "    <tr style=\"text-align: right;\">\n",
       "      <th></th>\n",
       "      <th>fromCountryLabel</th>\n",
       "      <th>toCountryLabel</th>\n",
       "      <th>entryValue</th>\n",
       "      <th>exitValue</th>\n",
       "      <th>totalFlow</th>\n",
       "    </tr>\n",
       "  </thead>\n",
       "  <tbody>\n",
       "    <tr>\n",
       "      <th>27</th>\n",
       "      <td>Estonia</td>\n",
       "      <td>Russia</td>\n",
       "      <td>2.270703e+08</td>\n",
       "      <td>0.0</td>\n",
       "      <td>2.270703e+08</td>\n",
       "    </tr>\n",
       "    <tr>\n",
       "      <th>59</th>\n",
       "      <td>Latvia</td>\n",
       "      <td>Russia</td>\n",
       "      <td>7.496338e+07</td>\n",
       "      <td>0.0</td>\n",
       "      <td>7.496338e+07</td>\n",
       "    </tr>\n",
       "    <tr>\n",
       "      <th>62</th>\n",
       "      <td>Lithuania</td>\n",
       "      <td>Russia</td>\n",
       "      <td>0.000000e+00</td>\n",
       "      <td>636912274.0</td>\n",
       "      <td>-6.369123e+08</td>\n",
       "    </tr>\n",
       "    <tr>\n",
       "      <th>84</th>\n",
       "      <td>Russia</td>\n",
       "      <td>Estonia</td>\n",
       "      <td>2.270703e+08</td>\n",
       "      <td>0.0</td>\n",
       "      <td>2.270703e+08</td>\n",
       "    </tr>\n",
       "    <tr>\n",
       "      <th>85</th>\n",
       "      <td>Russia</td>\n",
       "      <td>Finland</td>\n",
       "      <td>1.087223e+09</td>\n",
       "      <td>0.0</td>\n",
       "      <td>1.087223e+09</td>\n",
       "    </tr>\n",
       "    <tr>\n",
       "      <th>86</th>\n",
       "      <td>Russia</td>\n",
       "      <td>Latvia</td>\n",
       "      <td>7.496338e+07</td>\n",
       "      <td>0.0</td>\n",
       "      <td>7.496338e+07</td>\n",
       "    </tr>\n",
       "    <tr>\n",
       "      <th>87</th>\n",
       "      <td>Russia</td>\n",
       "      <td>Ukraine</td>\n",
       "      <td>2.923028e+10</td>\n",
       "      <td>0.0</td>\n",
       "      <td>2.923028e+10</td>\n",
       "    </tr>\n",
       "  </tbody>\n",
       "</table>\n",
       "</div>"
      ],
      "text/plain": [
       "   fromCountryLabel toCountryLabel    entryValue    exitValue     totalFlow\n",
       "27          Estonia         Russia  2.270703e+08          0.0  2.270703e+08\n",
       "59           Latvia         Russia  7.496338e+07          0.0  7.496338e+07\n",
       "62        Lithuania         Russia  0.000000e+00  636912274.0 -6.369123e+08\n",
       "84           Russia        Estonia  2.270703e+08          0.0  2.270703e+08\n",
       "85           Russia        Finland  1.087223e+09          0.0  1.087223e+09\n",
       "86           Russia         Latvia  7.496338e+07          0.0  7.496338e+07\n",
       "87           Russia        Ukraine  2.923028e+10          0.0  2.923028e+10"
      ]
     },
     "execution_count": 269,
     "metadata": {},
     "output_type": "execute_result"
    }
   ],
   "source": [
    "get_data_for_country(combined_df,'Russia')"
   ]
  },
  {
   "cell_type": "code",
   "execution_count": 270,
   "metadata": {},
   "outputs": [
    {
     "name": "stdout",
     "output_type": "stream",
     "text": [
      "(109, 5)\n",
      "Index(['fromCountryLabel', 'toCountryLabel', 'entryValue', 'exitValue',\n",
      "       'totalFlow'],\n",
      "      dtype='object')\n"
     ]
    }
   ],
   "source": [
    "print(combined_df.shape)\n",
    "print(combined_df.columns)"
   ]
  },
  {
   "cell_type": "markdown",
   "metadata": {},
   "source": [
    "### NEW : Plotly Sankey diagram"
   ]
  },
  {
   "cell_type": "code",
   "execution_count": 271,
   "metadata": {},
   "outputs": [
    {
     "data": {
      "text/plain": [
       "['Spain',\n",
       " 'San Marino',\n",
       " 'Serbia',\n",
       " 'Morocco',\n",
       " 'Libya',\n",
       " 'Ukraine',\n",
       " 'United Kingdom',\n",
       " 'Romania',\n",
       " 'Turkey',\n",
       " 'Russia',\n",
       " 'Slovenia',\n",
       " 'Belgium',\n",
       " 'Latvia',\n",
       " 'Luxemburg',\n",
       " 'Italy',\n",
       " 'Greece',\n",
       " 'Bulgaria',\n",
       " 'Croatia',\n",
       " 'Slovakia',\n",
       " 'Belarus',\n",
       " 'Austria',\n",
       " 'Ireland',\n",
       " 'France',\n",
       " 'Poland',\n",
       " 'Denmark',\n",
       " 'Estonia',\n",
       " 'Hungary',\n",
       " 'Germany',\n",
       " 'Finland',\n",
       " 'Lithuania',\n",
       " 'North Macedonia',\n",
       " 'Netherlands',\n",
       " 'Switzerland',\n",
       " 'Portugal',\n",
       " 'Czechia',\n",
       " 'Norway',\n",
       " 'Moldavia']"
      ]
     },
     "execution_count": 271,
     "metadata": {},
     "output_type": "execute_result"
    }
   ],
   "source": [
    "list(set(combined_df['fromCountryLabel']).union(set(combined_df['toCountryLabel'])))"
   ]
  },
  {
   "cell_type": "code",
   "execution_count": 272,
   "metadata": {},
   "outputs": [],
   "source": [
    "countries = ['Russia', 'Germany','Slovakia','Ukraine','Norway','Netherlands','Belarus','Poland','Litva','Latvia','Estonia','Finland','Sweden']"
   ]
  },
  {
   "cell_type": "code",
   "execution_count": 273,
   "metadata": {},
   "outputs": [],
   "source": [
    "selected_df = combined_df[(combined_df['toCountryLabel'].isin(countries)) & (combined_df['fromCountryLabel'].isin(countries))]\n"
   ]
  },
  {
   "cell_type": "code",
   "execution_count": 274,
   "metadata": {},
   "outputs": [],
   "source": [
    "import plotly.graph_objects as go\n",
    "\n",
    "# List of unique country labels\n",
    "# countries = list(set(combined_df['fromCountryLabel']).union(set(combined_df['toCountryLabel'])))\n",
    "\n",
    "# Create a dictionary for index mapping\n",
    "country_index = {country: i for i, country in enumerate(countries)}\n",
    "\n",
    "# Prepare source, target, and values for the Sankey diagram\n",
    "source_indices = [country_index[selected_df.loc[i, 'fromCountryLabel']] for i in selected_df.index]\n",
    "target_indices = [country_index[selected_df.loc[i, 'toCountryLabel']] for i in selected_df.index]\n",
    "entry_values = selected_df['entryValue']\n",
    "exit_values = selected_df['exitValue']\n",
    "\n",
    "# Prepare Sankey nodes and links\n",
    "nodes = dict(label=countries)\n",
    "\n",
    "links = dict(\n",
    "    source=source_indices + target_indices,\n",
    "    target=target_indices + source_indices,\n",
    "    value=entry_values.tolist() + exit_values.tolist(),\n",
    "    color=[\"blue\"] * len(entry_values) + [\"red\"] * len(exit_values),\n",
    "    customdata=[\"Entries\"] * len(entry_values) + [\"Exits\"] * len(exit_values),\n",
    "    hovertemplate='Flow Type: %{customdata}<br>Source: %{source.label}<br>Target: %{target.label}<br>Value: %{value}<extra></extra>'\n",
    ")\n"
   ]
  },
  {
   "cell_type": "code",
   "execution_count": 275,
   "metadata": {},
   "outputs": [
    {
     "data": {
      "application/vnd.plotly.v1+json": {
       "config": {
        "plotlyServerURL": "https://plot.ly"
       },
       "data": [
        {
         "link": {
          "color": [
           "blue",
           "blue",
           "blue",
           "blue",
           "blue",
           "blue",
           "blue",
           "blue",
           "blue",
           "blue",
           "blue",
           "blue",
           "blue",
           "blue",
           "blue",
           "blue",
           "blue",
           "blue",
           "blue",
           "blue",
           "blue",
           "red",
           "red",
           "red",
           "red",
           "red",
           "red",
           "red",
           "red",
           "red",
           "red",
           "red",
           "red",
           "red",
           "red",
           "red",
           "red",
           "red",
           "red",
           "red",
           "red",
           "red"
          ],
          "customdata": [
           "Entries",
           "Entries",
           "Entries",
           "Entries",
           "Entries",
           "Entries",
           "Entries",
           "Entries",
           "Entries",
           "Entries",
           "Entries",
           "Entries",
           "Entries",
           "Entries",
           "Entries",
           "Entries",
           "Entries",
           "Entries",
           "Entries",
           "Entries",
           "Entries",
           "Exits",
           "Exits",
           "Exits",
           "Exits",
           "Exits",
           "Exits",
           "Exits",
           "Exits",
           "Exits",
           "Exits",
           "Exits",
           "Exits",
           "Exits",
           "Exits",
           "Exits",
           "Exits",
           "Exits",
           "Exits",
           "Exits",
           "Exits",
           "Exits"
          ],
          "hovertemplate": "Flow Type: %{customdata}<br>Source: %{source.label}<br>Target: %{target.label}<br>Value: %{value}<extra></extra>",
          "source": [
           6,
           10,
           10,
           1,
           1,
           1,
           1,
           9,
           9,
           5,
           5,
           4,
           7,
           7,
           0,
           0,
           0,
           0,
           2,
           3,
           3,
           3,
           9,
           0,
           1,
           5,
           4,
           7,
           10,
           0,
           1,
           5,
           1,
           1,
           7,
           10,
           11,
           9,
           3,
           3,
           2,
           3
          ],
          "target": [
           3,
           9,
           0,
           1,
           5,
           4,
           7,
           10,
           0,
           1,
           5,
           1,
           1,
           7,
           10,
           11,
           9,
           3,
           3,
           2,
           3,
           6,
           10,
           10,
           1,
           1,
           1,
           1,
           9,
           9,
           5,
           5,
           4,
           7,
           7,
           0,
           0,
           0,
           0,
           2,
           3,
           3
          ],
          "value": [
           0,
           74963383,
           227070258,
           15145030350.32,
           6919864472.8,
           7472716293.900001,
           8886846108,
           74963383,
           74963383,
           10055431075.199,
           0,
           7472716293.900001,
           8886846108,
           4543287576,
           227070258,
           1087223100,
           74963383,
           29230281077.6652,
           15413503673,
           15413503673,
           0,
           0,
           0,
           0,
           11053419626.32,
           11922676906.210001,
           0,
           8097563305.99,
           0,
           0,
           19217250890.61,
           0,
           0,
           8097563305.99,
           4543287576,
           0,
           0,
           0,
           0,
           264663880,
           264663880,
           7117442279.190001
          ]
         },
         "node": {
          "label": [
           "Russia",
           "Germany",
           "Slovakia",
           "Ukraine",
           "Norway",
           "Netherlands",
           "Belarus",
           "Poland",
           "Litva",
           "Latvia",
           "Estonia",
           "Finland",
           "Sweden"
          ]
         },
         "type": "sankey"
        }
       ],
       "layout": {
        "font": {
         "size": 10
        },
        "template": {
         "data": {
          "bar": [
           {
            "error_x": {
             "color": "#2a3f5f"
            },
            "error_y": {
             "color": "#2a3f5f"
            },
            "marker": {
             "line": {
              "color": "#E5ECF6",
              "width": 0.5
             },
             "pattern": {
              "fillmode": "overlay",
              "size": 10,
              "solidity": 0.2
             }
            },
            "type": "bar"
           }
          ],
          "barpolar": [
           {
            "marker": {
             "line": {
              "color": "#E5ECF6",
              "width": 0.5
             },
             "pattern": {
              "fillmode": "overlay",
              "size": 10,
              "solidity": 0.2
             }
            },
            "type": "barpolar"
           }
          ],
          "carpet": [
           {
            "aaxis": {
             "endlinecolor": "#2a3f5f",
             "gridcolor": "white",
             "linecolor": "white",
             "minorgridcolor": "white",
             "startlinecolor": "#2a3f5f"
            },
            "baxis": {
             "endlinecolor": "#2a3f5f",
             "gridcolor": "white",
             "linecolor": "white",
             "minorgridcolor": "white",
             "startlinecolor": "#2a3f5f"
            },
            "type": "carpet"
           }
          ],
          "choropleth": [
           {
            "colorbar": {
             "outlinewidth": 0,
             "ticks": ""
            },
            "type": "choropleth"
           }
          ],
          "contour": [
           {
            "colorbar": {
             "outlinewidth": 0,
             "ticks": ""
            },
            "colorscale": [
             [
              0,
              "#0d0887"
             ],
             [
              0.1111111111111111,
              "#46039f"
             ],
             [
              0.2222222222222222,
              "#7201a8"
             ],
             [
              0.3333333333333333,
              "#9c179e"
             ],
             [
              0.4444444444444444,
              "#bd3786"
             ],
             [
              0.5555555555555556,
              "#d8576b"
             ],
             [
              0.6666666666666666,
              "#ed7953"
             ],
             [
              0.7777777777777778,
              "#fb9f3a"
             ],
             [
              0.8888888888888888,
              "#fdca26"
             ],
             [
              1,
              "#f0f921"
             ]
            ],
            "type": "contour"
           }
          ],
          "contourcarpet": [
           {
            "colorbar": {
             "outlinewidth": 0,
             "ticks": ""
            },
            "type": "contourcarpet"
           }
          ],
          "heatmap": [
           {
            "colorbar": {
             "outlinewidth": 0,
             "ticks": ""
            },
            "colorscale": [
             [
              0,
              "#0d0887"
             ],
             [
              0.1111111111111111,
              "#46039f"
             ],
             [
              0.2222222222222222,
              "#7201a8"
             ],
             [
              0.3333333333333333,
              "#9c179e"
             ],
             [
              0.4444444444444444,
              "#bd3786"
             ],
             [
              0.5555555555555556,
              "#d8576b"
             ],
             [
              0.6666666666666666,
              "#ed7953"
             ],
             [
              0.7777777777777778,
              "#fb9f3a"
             ],
             [
              0.8888888888888888,
              "#fdca26"
             ],
             [
              1,
              "#f0f921"
             ]
            ],
            "type": "heatmap"
           }
          ],
          "heatmapgl": [
           {
            "colorbar": {
             "outlinewidth": 0,
             "ticks": ""
            },
            "colorscale": [
             [
              0,
              "#0d0887"
             ],
             [
              0.1111111111111111,
              "#46039f"
             ],
             [
              0.2222222222222222,
              "#7201a8"
             ],
             [
              0.3333333333333333,
              "#9c179e"
             ],
             [
              0.4444444444444444,
              "#bd3786"
             ],
             [
              0.5555555555555556,
              "#d8576b"
             ],
             [
              0.6666666666666666,
              "#ed7953"
             ],
             [
              0.7777777777777778,
              "#fb9f3a"
             ],
             [
              0.8888888888888888,
              "#fdca26"
             ],
             [
              1,
              "#f0f921"
             ]
            ],
            "type": "heatmapgl"
           }
          ],
          "histogram": [
           {
            "marker": {
             "pattern": {
              "fillmode": "overlay",
              "size": 10,
              "solidity": 0.2
             }
            },
            "type": "histogram"
           }
          ],
          "histogram2d": [
           {
            "colorbar": {
             "outlinewidth": 0,
             "ticks": ""
            },
            "colorscale": [
             [
              0,
              "#0d0887"
             ],
             [
              0.1111111111111111,
              "#46039f"
             ],
             [
              0.2222222222222222,
              "#7201a8"
             ],
             [
              0.3333333333333333,
              "#9c179e"
             ],
             [
              0.4444444444444444,
              "#bd3786"
             ],
             [
              0.5555555555555556,
              "#d8576b"
             ],
             [
              0.6666666666666666,
              "#ed7953"
             ],
             [
              0.7777777777777778,
              "#fb9f3a"
             ],
             [
              0.8888888888888888,
              "#fdca26"
             ],
             [
              1,
              "#f0f921"
             ]
            ],
            "type": "histogram2d"
           }
          ],
          "histogram2dcontour": [
           {
            "colorbar": {
             "outlinewidth": 0,
             "ticks": ""
            },
            "colorscale": [
             [
              0,
              "#0d0887"
             ],
             [
              0.1111111111111111,
              "#46039f"
             ],
             [
              0.2222222222222222,
              "#7201a8"
             ],
             [
              0.3333333333333333,
              "#9c179e"
             ],
             [
              0.4444444444444444,
              "#bd3786"
             ],
             [
              0.5555555555555556,
              "#d8576b"
             ],
             [
              0.6666666666666666,
              "#ed7953"
             ],
             [
              0.7777777777777778,
              "#fb9f3a"
             ],
             [
              0.8888888888888888,
              "#fdca26"
             ],
             [
              1,
              "#f0f921"
             ]
            ],
            "type": "histogram2dcontour"
           }
          ],
          "mesh3d": [
           {
            "colorbar": {
             "outlinewidth": 0,
             "ticks": ""
            },
            "type": "mesh3d"
           }
          ],
          "parcoords": [
           {
            "line": {
             "colorbar": {
              "outlinewidth": 0,
              "ticks": ""
             }
            },
            "type": "parcoords"
           }
          ],
          "pie": [
           {
            "automargin": true,
            "type": "pie"
           }
          ],
          "scatter": [
           {
            "fillpattern": {
             "fillmode": "overlay",
             "size": 10,
             "solidity": 0.2
            },
            "type": "scatter"
           }
          ],
          "scatter3d": [
           {
            "line": {
             "colorbar": {
              "outlinewidth": 0,
              "ticks": ""
             }
            },
            "marker": {
             "colorbar": {
              "outlinewidth": 0,
              "ticks": ""
             }
            },
            "type": "scatter3d"
           }
          ],
          "scattercarpet": [
           {
            "marker": {
             "colorbar": {
              "outlinewidth": 0,
              "ticks": ""
             }
            },
            "type": "scattercarpet"
           }
          ],
          "scattergeo": [
           {
            "marker": {
             "colorbar": {
              "outlinewidth": 0,
              "ticks": ""
             }
            },
            "type": "scattergeo"
           }
          ],
          "scattergl": [
           {
            "marker": {
             "colorbar": {
              "outlinewidth": 0,
              "ticks": ""
             }
            },
            "type": "scattergl"
           }
          ],
          "scattermapbox": [
           {
            "marker": {
             "colorbar": {
              "outlinewidth": 0,
              "ticks": ""
             }
            },
            "type": "scattermapbox"
           }
          ],
          "scatterpolar": [
           {
            "marker": {
             "colorbar": {
              "outlinewidth": 0,
              "ticks": ""
             }
            },
            "type": "scatterpolar"
           }
          ],
          "scatterpolargl": [
           {
            "marker": {
             "colorbar": {
              "outlinewidth": 0,
              "ticks": ""
             }
            },
            "type": "scatterpolargl"
           }
          ],
          "scatterternary": [
           {
            "marker": {
             "colorbar": {
              "outlinewidth": 0,
              "ticks": ""
             }
            },
            "type": "scatterternary"
           }
          ],
          "surface": [
           {
            "colorbar": {
             "outlinewidth": 0,
             "ticks": ""
            },
            "colorscale": [
             [
              0,
              "#0d0887"
             ],
             [
              0.1111111111111111,
              "#46039f"
             ],
             [
              0.2222222222222222,
              "#7201a8"
             ],
             [
              0.3333333333333333,
              "#9c179e"
             ],
             [
              0.4444444444444444,
              "#bd3786"
             ],
             [
              0.5555555555555556,
              "#d8576b"
             ],
             [
              0.6666666666666666,
              "#ed7953"
             ],
             [
              0.7777777777777778,
              "#fb9f3a"
             ],
             [
              0.8888888888888888,
              "#fdca26"
             ],
             [
              1,
              "#f0f921"
             ]
            ],
            "type": "surface"
           }
          ],
          "table": [
           {
            "cells": {
             "fill": {
              "color": "#EBF0F8"
             },
             "line": {
              "color": "white"
             }
            },
            "header": {
             "fill": {
              "color": "#C8D4E3"
             },
             "line": {
              "color": "white"
             }
            },
            "type": "table"
           }
          ]
         },
         "layout": {
          "annotationdefaults": {
           "arrowcolor": "#2a3f5f",
           "arrowhead": 0,
           "arrowwidth": 1
          },
          "autotypenumbers": "strict",
          "coloraxis": {
           "colorbar": {
            "outlinewidth": 0,
            "ticks": ""
           }
          },
          "colorscale": {
           "diverging": [
            [
             0,
             "#8e0152"
            ],
            [
             0.1,
             "#c51b7d"
            ],
            [
             0.2,
             "#de77ae"
            ],
            [
             0.3,
             "#f1b6da"
            ],
            [
             0.4,
             "#fde0ef"
            ],
            [
             0.5,
             "#f7f7f7"
            ],
            [
             0.6,
             "#e6f5d0"
            ],
            [
             0.7,
             "#b8e186"
            ],
            [
             0.8,
             "#7fbc41"
            ],
            [
             0.9,
             "#4d9221"
            ],
            [
             1,
             "#276419"
            ]
           ],
           "sequential": [
            [
             0,
             "#0d0887"
            ],
            [
             0.1111111111111111,
             "#46039f"
            ],
            [
             0.2222222222222222,
             "#7201a8"
            ],
            [
             0.3333333333333333,
             "#9c179e"
            ],
            [
             0.4444444444444444,
             "#bd3786"
            ],
            [
             0.5555555555555556,
             "#d8576b"
            ],
            [
             0.6666666666666666,
             "#ed7953"
            ],
            [
             0.7777777777777778,
             "#fb9f3a"
            ],
            [
             0.8888888888888888,
             "#fdca26"
            ],
            [
             1,
             "#f0f921"
            ]
           ],
           "sequentialminus": [
            [
             0,
             "#0d0887"
            ],
            [
             0.1111111111111111,
             "#46039f"
            ],
            [
             0.2222222222222222,
             "#7201a8"
            ],
            [
             0.3333333333333333,
             "#9c179e"
            ],
            [
             0.4444444444444444,
             "#bd3786"
            ],
            [
             0.5555555555555556,
             "#d8576b"
            ],
            [
             0.6666666666666666,
             "#ed7953"
            ],
            [
             0.7777777777777778,
             "#fb9f3a"
            ],
            [
             0.8888888888888888,
             "#fdca26"
            ],
            [
             1,
             "#f0f921"
            ]
           ]
          },
          "colorway": [
           "#636efa",
           "#EF553B",
           "#00cc96",
           "#ab63fa",
           "#FFA15A",
           "#19d3f3",
           "#FF6692",
           "#B6E880",
           "#FF97FF",
           "#FECB52"
          ],
          "font": {
           "color": "#2a3f5f"
          },
          "geo": {
           "bgcolor": "white",
           "lakecolor": "white",
           "landcolor": "#E5ECF6",
           "showlakes": true,
           "showland": true,
           "subunitcolor": "white"
          },
          "hoverlabel": {
           "align": "left"
          },
          "hovermode": "closest",
          "mapbox": {
           "style": "light"
          },
          "paper_bgcolor": "white",
          "plot_bgcolor": "#E5ECF6",
          "polar": {
           "angularaxis": {
            "gridcolor": "white",
            "linecolor": "white",
            "ticks": ""
           },
           "bgcolor": "#E5ECF6",
           "radialaxis": {
            "gridcolor": "white",
            "linecolor": "white",
            "ticks": ""
           }
          },
          "scene": {
           "xaxis": {
            "backgroundcolor": "#E5ECF6",
            "gridcolor": "white",
            "gridwidth": 2,
            "linecolor": "white",
            "showbackground": true,
            "ticks": "",
            "zerolinecolor": "white"
           },
           "yaxis": {
            "backgroundcolor": "#E5ECF6",
            "gridcolor": "white",
            "gridwidth": 2,
            "linecolor": "white",
            "showbackground": true,
            "ticks": "",
            "zerolinecolor": "white"
           },
           "zaxis": {
            "backgroundcolor": "#E5ECF6",
            "gridcolor": "white",
            "gridwidth": 2,
            "linecolor": "white",
            "showbackground": true,
            "ticks": "",
            "zerolinecolor": "white"
           }
          },
          "shapedefaults": {
           "line": {
            "color": "#2a3f5f"
           }
          },
          "ternary": {
           "aaxis": {
            "gridcolor": "white",
            "linecolor": "white",
            "ticks": ""
           },
           "baxis": {
            "gridcolor": "white",
            "linecolor": "white",
            "ticks": ""
           },
           "bgcolor": "#E5ECF6",
           "caxis": {
            "gridcolor": "white",
            "linecolor": "white",
            "ticks": ""
           }
          },
          "title": {
           "x": 0.05
          },
          "xaxis": {
           "automargin": true,
           "gridcolor": "white",
           "linecolor": "white",
           "ticks": "",
           "title": {
            "standoff": 15
           },
           "zerolinecolor": "white",
           "zerolinewidth": 2
          },
          "yaxis": {
           "automargin": true,
           "gridcolor": "white",
           "linecolor": "white",
           "ticks": "",
           "title": {
            "standoff": 15
           },
           "zerolinecolor": "white",
           "zerolinewidth": 2
          }
         }
        },
        "title": {
         "text": "Total Gas Flow Entries and Exits Between Countries"
        }
       }
      }
     },
     "metadata": {},
     "output_type": "display_data"
    }
   ],
   "source": [
    "# Create the Sankey diagram\n",
    "fig = go.Figure(go.Sankey(\n",
    "    node=nodes,\n",
    "    link=links\n",
    "))\n",
    "\n",
    "# Update the layout\n",
    "fig.update_layout(\n",
    "    title_text=\"Total Gas Flow Entries and Exits Between Countries\",\n",
    "    font_size=10,  \n",
    ")\n",
    "\n",
    "# Show the figure\n",
    "fig.show()\n"
   ]
  },
  {
   "cell_type": "markdown",
   "metadata": {},
   "source": [
    "### NEW : Compare pair A,B,entry to B,A,exit"
   ]
  },
  {
   "cell_type": "code",
   "execution_count": 276,
   "metadata": {},
   "outputs": [],
   "source": [
    "# Reverse the country pairs and append to the combined dataframe\n",
    "reverse_exits_df = combined_df[['toCountryLabel', 'fromCountryLabel', 'exitValue']].rename(\n",
    "    columns={'toCountryLabel': 'fromCountryLabel', 'fromCountryLabel': 'toCountryLabel'}\n",
    ")\n",
    "\n",
    "reverse_exits_df = reverse_exits_df.groupby(['fromCountryLabel', 'toCountryLabel']).sum().reset_index()\n"
   ]
  },
  {
   "cell_type": "code",
   "execution_count": 277,
   "metadata": {},
   "outputs": [],
   "source": [
    "merged_df = pd.merge(grouped_entries_df, reverse_exits_df, \n",
    "                     on=['fromCountryLabel', 'toCountryLabel'], \n",
    "                     how='outer').fillna(0)\n",
    "\n",
    "# Rename columns for clarity\n",
    "merged_df.rename(columns={'entryValue': 'Entries', 'exitValue': 'Exits'}, inplace=True)\n",
    "\n",
    "# Make exits negative for visualization\n",
    "merged_df['Exits'] = -merged_df['Exits']"
   ]
  },
  {
   "cell_type": "code",
   "execution_count": 278,
   "metadata": {},
   "outputs": [
    {
     "data": {
      "text/html": [
       "<div>\n",
       "<style scoped>\n",
       "    .dataframe tbody tr th:only-of-type {\n",
       "        vertical-align: middle;\n",
       "    }\n",
       "\n",
       "    .dataframe tbody tr th {\n",
       "        vertical-align: top;\n",
       "    }\n",
       "\n",
       "    .dataframe thead th {\n",
       "        text-align: right;\n",
       "    }\n",
       "</style>\n",
       "<table border=\"1\" class=\"dataframe\">\n",
       "  <thead>\n",
       "    <tr style=\"text-align: right;\">\n",
       "      <th></th>\n",
       "      <th>fromCountryLabel</th>\n",
       "      <th>toCountryLabel</th>\n",
       "      <th>Entries</th>\n",
       "      <th>Exits</th>\n",
       "    </tr>\n",
       "  </thead>\n",
       "  <tbody>\n",
       "    <tr>\n",
       "      <th>27</th>\n",
       "      <td>Estonia</td>\n",
       "      <td>Russia</td>\n",
       "      <td>2.270703e+08</td>\n",
       "      <td>-0.0</td>\n",
       "    </tr>\n",
       "    <tr>\n",
       "      <th>28</th>\n",
       "      <td>Finland</td>\n",
       "      <td>Russia</td>\n",
       "      <td>0.000000e+00</td>\n",
       "      <td>-0.0</td>\n",
       "    </tr>\n",
       "    <tr>\n",
       "      <th>59</th>\n",
       "      <td>Latvia</td>\n",
       "      <td>Russia</td>\n",
       "      <td>7.496338e+07</td>\n",
       "      <td>-0.0</td>\n",
       "    </tr>\n",
       "    <tr>\n",
       "      <th>84</th>\n",
       "      <td>Russia</td>\n",
       "      <td>Estonia</td>\n",
       "      <td>2.270703e+08</td>\n",
       "      <td>-0.0</td>\n",
       "    </tr>\n",
       "    <tr>\n",
       "      <th>85</th>\n",
       "      <td>Russia</td>\n",
       "      <td>Finland</td>\n",
       "      <td>1.087223e+09</td>\n",
       "      <td>-0.0</td>\n",
       "    </tr>\n",
       "    <tr>\n",
       "      <th>86</th>\n",
       "      <td>Russia</td>\n",
       "      <td>Latvia</td>\n",
       "      <td>7.496338e+07</td>\n",
       "      <td>-0.0</td>\n",
       "    </tr>\n",
       "    <tr>\n",
       "      <th>87</th>\n",
       "      <td>Russia</td>\n",
       "      <td>Lithuania</td>\n",
       "      <td>0.000000e+00</td>\n",
       "      <td>-636912274.0</td>\n",
       "    </tr>\n",
       "    <tr>\n",
       "      <th>88</th>\n",
       "      <td>Russia</td>\n",
       "      <td>Ukraine</td>\n",
       "      <td>2.923028e+10</td>\n",
       "      <td>-0.0</td>\n",
       "    </tr>\n",
       "    <tr>\n",
       "      <th>110</th>\n",
       "      <td>Ukraine</td>\n",
       "      <td>Russia</td>\n",
       "      <td>0.000000e+00</td>\n",
       "      <td>-0.0</td>\n",
       "    </tr>\n",
       "  </tbody>\n",
       "</table>\n",
       "</div>"
      ],
      "text/plain": [
       "    fromCountryLabel toCountryLabel       Entries        Exits\n",
       "27           Estonia         Russia  2.270703e+08         -0.0\n",
       "28           Finland         Russia  0.000000e+00         -0.0\n",
       "59            Latvia         Russia  7.496338e+07         -0.0\n",
       "84            Russia        Estonia  2.270703e+08         -0.0\n",
       "85            Russia        Finland  1.087223e+09         -0.0\n",
       "86            Russia         Latvia  7.496338e+07         -0.0\n",
       "87            Russia      Lithuania  0.000000e+00 -636912274.0\n",
       "88            Russia        Ukraine  2.923028e+10         -0.0\n",
       "110          Ukraine         Russia  0.000000e+00         -0.0"
      ]
     },
     "execution_count": 278,
     "metadata": {},
     "output_type": "execute_result"
    }
   ],
   "source": [
    "get_data_for_country(merged_df,'Russia')"
   ]
  },
  {
   "cell_type": "code",
   "execution_count": 279,
   "metadata": {},
   "outputs": [
    {
     "data": {
      "application/vnd.plotly.v1+json": {
       "config": {
        "plotlyServerURL": "https://plot.ly"
       },
       "data": [
        {
         "alignmentgroup": "True",
         "customdata": [
          [
           "Austria"
          ],
          [
           "Germany"
          ],
          [
           "Hungary"
          ],
          [
           "Italy"
          ],
          [
           "Slovakia"
          ],
          [
           "Slovenia"
          ],
          [
           "Lithuania"
          ],
          [
           "Ukraine"
          ],
          [
           "Belgium"
          ],
          [
           "France"
          ],
          [
           "Germany"
          ],
          [
           "Luxemburg"
          ],
          [
           "Netherlands"
          ],
          [
           "Norway"
          ],
          [
           "United Kingdom"
          ],
          [
           "Greece"
          ],
          [
           "North Macedonia"
          ],
          [
           "Romania"
          ],
          [
           "Turkey"
          ],
          [
           "Hungary"
          ],
          [
           "Slovenia"
          ],
          [
           "Germany"
          ],
          [
           "Poland"
          ],
          [
           "Slovakia"
          ],
          [
           "Denmark"
          ],
          [
           "Germany"
          ],
          [
           "Latvia"
          ],
          [
           "Russia"
          ],
          [
           "Russia"
          ],
          [
           "Belgium"
          ],
          [
           "Germany"
          ],
          [
           "Norway"
          ],
          [
           "Spain"
          ],
          [
           "Switzerland"
          ],
          [
           "Austria"
          ],
          [
           "Belgium"
          ],
          [
           "Czechia"
          ],
          [
           "Denmark"
          ],
          [
           "France"
          ],
          [
           "Germany"
          ],
          [
           "Luxemburg"
          ],
          [
           "Netherlands"
          ],
          [
           "Norway"
          ],
          [
           "Poland"
          ],
          [
           "Switzerland"
          ],
          [
           "Bulgaria"
          ],
          [
           "Turkey"
          ],
          [
           "Austria"
          ],
          [
           "Croatia"
          ],
          [
           "Romania"
          ],
          [
           "Slovakia"
          ],
          [
           "Ukraine"
          ],
          [
           "Austria"
          ],
          [
           "Italy"
          ],
          [
           "Libya"
          ],
          [
           "Slovenia"
          ],
          [
           "Switzerland"
          ],
          [
           "Estonia"
          ],
          [
           "Lithuania"
          ],
          [
           "Russia"
          ],
          [
           "Italy"
          ],
          [
           "Belarus"
          ],
          [
           "Latvia"
          ],
          [
           "Belgium"
          ],
          [
           "Germany"
          ],
          [
           "Romania"
          ],
          [
           "Ukraine"
          ],
          [
           "Spain"
          ],
          [
           "Belgium"
          ],
          [
           "Germany"
          ],
          [
           "Netherlands"
          ],
          [
           "Bulgaria"
          ],
          [
           "Belgium"
          ],
          [
           "France"
          ],
          [
           "Germany"
          ],
          [
           "United Kingdom"
          ],
          [
           "Czechia"
          ],
          [
           "Germany"
          ],
          [
           "Poland"
          ],
          [
           "Spain"
          ],
          [
           "Bulgaria"
          ],
          [
           "Hungary"
          ],
          [
           "Moldavia"
          ],
          [
           "Ukraine"
          ],
          [
           "Estonia"
          ],
          [
           "Finland"
          ],
          [
           "Latvia"
          ],
          [
           "Lithuania"
          ],
          [
           "Ukraine"
          ],
          [
           "Italy"
          ],
          [
           "Hungary"
          ],
          [
           "Austria"
          ],
          [
           "Czechia"
          ],
          [
           "Hungary"
          ],
          [
           "Ukraine"
          ],
          [
           "Austria"
          ],
          [
           "Croatia"
          ],
          [
           "Italy"
          ],
          [
           "France"
          ],
          [
           "Morocco"
          ],
          [
           "Portugal"
          ],
          [
           "France"
          ],
          [
           "Germany"
          ],
          [
           "Italy"
          ],
          [
           "Bulgaria"
          ],
          [
           "Greece"
          ],
          [
           "Belarus"
          ],
          [
           "Hungary"
          ],
          [
           "Moldavia"
          ],
          [
           "Romania"
          ],
          [
           "Russia"
          ],
          [
           "Slovakia"
          ],
          [
           "Ukraine"
          ],
          [
           "Belgium"
          ],
          [
           "Ireland"
          ],
          [
           "Netherlands"
          ],
          [
           "Norway"
          ],
          [
           "United Kingdom"
          ]
         ],
         "hovertemplate": "Flow Type=Entries<br>From Country=%{x}<br>Gas Flow (kWh/d)=%{y}<br>toCountryLabel=%{customdata[0]}<extra></extra>",
         "legendgroup": "Entries",
         "marker": {
          "color": "#636efa",
          "pattern": {
           "shape": ""
          }
         },
         "name": "Entries",
         "offsetgroup": "Entries",
         "orientation": "v",
         "showlegend": true,
         "textposition": "auto",
         "type": "bar",
         "x": [
          "Austria",
          "Austria",
          "Austria",
          "Austria",
          "Austria",
          "Austria",
          "Belarus",
          "Belarus",
          "Belgium",
          "Belgium",
          "Belgium",
          "Belgium",
          "Belgium",
          "Belgium",
          "Belgium",
          "Bulgaria",
          "Bulgaria",
          "Bulgaria",
          "Bulgaria",
          "Croatia",
          "Croatia",
          "Czechia",
          "Czechia",
          "Czechia",
          "Denmark",
          "Denmark",
          "Estonia",
          "Estonia",
          "Finland",
          "France",
          "France",
          "France",
          "France",
          "France",
          "Germany",
          "Germany",
          "Germany",
          "Germany",
          "Germany",
          "Germany",
          "Germany",
          "Germany",
          "Germany",
          "Germany",
          "Germany",
          "Greece",
          "Greece",
          "Hungary",
          "Hungary",
          "Hungary",
          "Hungary",
          "Hungary",
          "Italy",
          "Italy",
          "Italy",
          "Italy",
          "Italy",
          "Latvia",
          "Latvia",
          "Latvia",
          "Libya",
          "Lithuania",
          "Lithuania",
          "Luxemburg",
          "Luxemburg",
          "Moldavia",
          "Moldavia",
          "Morocco",
          "Netherlands",
          "Netherlands",
          "Netherlands",
          "North Macedonia",
          "Norway",
          "Norway",
          "Norway",
          "Norway",
          "Poland",
          "Poland",
          "Poland",
          "Portugal",
          "Romania",
          "Romania",
          "Romania",
          "Romania",
          "Russia",
          "Russia",
          "Russia",
          "Russia",
          "Russia",
          "San Marino",
          "Serbia",
          "Slovakia",
          "Slovakia",
          "Slovakia",
          "Slovakia",
          "Slovenia",
          "Slovenia",
          "Slovenia",
          "Spain",
          "Spain",
          "Spain",
          "Switzerland",
          "Switzerland",
          "Switzerland",
          "Turkey",
          "Turkey",
          "Ukraine",
          "Ukraine",
          "Ukraine",
          "Ukraine",
          "Ukraine",
          "Ukraine",
          "Ukraine",
          "United Kingdom",
          "United Kingdom",
          "United Kingdom",
          "United Kingdom",
          "United Kingdom"
         ],
         "xaxis": "x",
         "y": [
          0,
          626397236,
          1591661821,
          10457939761,
          0,
          503820405,
          1690832930,
          0,
          10775624,
          3654710373,
          1186306801,
          250107684,
          4998158450.6,
          5133876308,
          719558055,
          1109253626,
          0,
          9843360377.437,
          0,
          526655043,
          119929481,
          21807438120,
          265605798,
          847766446,
          693074054,
          0,
          74963383,
          227070258,
          0,
          3654710373,
          1934352239,
          0,
          2190777543,
          0,
          626397236,
          1186306801,
          32109322041,
          0,
          3868704478,
          15145030350.32,
          111275981,
          6919864472.8,
          7472716293.900001,
          8886846108,
          0,
          1109253626,
          398238894,
          1591661821,
          526655043,
          519274532.01,
          0,
          0,
          10457939761,
          0,
          0,
          2777256,
          3992157256,
          74963383,
          0,
          74963383,
          1703364014,
          0,
          0,
          250107684,
          111275981,
          0,
          6437669854.8,
          0,
          4998158450.6,
          10055431075.199,
          0,
          0,
          5133876308,
          5453810263,
          7472716293.900001,
          17588604189,
          265605798,
          8886846108,
          4543287576,
          301991114,
          9843360377.437,
          519274532.01,
          0,
          6604885512.11,
          227070258,
          1087223100,
          74963383,
          0,
          29230281077.6652,
          0,
          0,
          0,
          847766446,
          0,
          15413503673,
          503820405,
          119929481,
          2777256,
          2190777543,
          2940135131,
          301991114,
          0,
          0,
          3992157256,
          0,
          796477788,
          0,
          2878103000,
          6437669854.8,
          6604885512.11,
          0,
          15413503673,
          0,
          0,
          0,
          0,
          0,
          0
         ],
         "yaxis": "y"
        },
        {
         "alignmentgroup": "True",
         "customdata": [
          [
           "Austria"
          ],
          [
           "Germany"
          ],
          [
           "Hungary"
          ],
          [
           "Italy"
          ],
          [
           "Slovakia"
          ],
          [
           "Slovenia"
          ],
          [
           "Lithuania"
          ],
          [
           "Ukraine"
          ],
          [
           "Belgium"
          ],
          [
           "France"
          ],
          [
           "Germany"
          ],
          [
           "Luxemburg"
          ],
          [
           "Netherlands"
          ],
          [
           "Norway"
          ],
          [
           "United Kingdom"
          ],
          [
           "Greece"
          ],
          [
           "North Macedonia"
          ],
          [
           "Romania"
          ],
          [
           "Turkey"
          ],
          [
           "Hungary"
          ],
          [
           "Slovenia"
          ],
          [
           "Germany"
          ],
          [
           "Poland"
          ],
          [
           "Slovakia"
          ],
          [
           "Denmark"
          ],
          [
           "Germany"
          ],
          [
           "Latvia"
          ],
          [
           "Russia"
          ],
          [
           "Russia"
          ],
          [
           "Belgium"
          ],
          [
           "Germany"
          ],
          [
           "Norway"
          ],
          [
           "Spain"
          ],
          [
           "Switzerland"
          ],
          [
           "Austria"
          ],
          [
           "Belgium"
          ],
          [
           "Czechia"
          ],
          [
           "Denmark"
          ],
          [
           "France"
          ],
          [
           "Germany"
          ],
          [
           "Luxemburg"
          ],
          [
           "Netherlands"
          ],
          [
           "Norway"
          ],
          [
           "Poland"
          ],
          [
           "Switzerland"
          ],
          [
           "Bulgaria"
          ],
          [
           "Turkey"
          ],
          [
           "Austria"
          ],
          [
           "Croatia"
          ],
          [
           "Romania"
          ],
          [
           "Slovakia"
          ],
          [
           "Ukraine"
          ],
          [
           "Austria"
          ],
          [
           "Italy"
          ],
          [
           "Libya"
          ],
          [
           "Slovenia"
          ],
          [
           "Switzerland"
          ],
          [
           "Estonia"
          ],
          [
           "Lithuania"
          ],
          [
           "Russia"
          ],
          [
           "Italy"
          ],
          [
           "Belarus"
          ],
          [
           "Latvia"
          ],
          [
           "Belgium"
          ],
          [
           "Germany"
          ],
          [
           "Romania"
          ],
          [
           "Ukraine"
          ],
          [
           "Spain"
          ],
          [
           "Belgium"
          ],
          [
           "Germany"
          ],
          [
           "Netherlands"
          ],
          [
           "Bulgaria"
          ],
          [
           "Belgium"
          ],
          [
           "France"
          ],
          [
           "Germany"
          ],
          [
           "United Kingdom"
          ],
          [
           "Czechia"
          ],
          [
           "Germany"
          ],
          [
           "Poland"
          ],
          [
           "Spain"
          ],
          [
           "Bulgaria"
          ],
          [
           "Hungary"
          ],
          [
           "Moldavia"
          ],
          [
           "Ukraine"
          ],
          [
           "Estonia"
          ],
          [
           "Finland"
          ],
          [
           "Latvia"
          ],
          [
           "Lithuania"
          ],
          [
           "Ukraine"
          ],
          [
           "Italy"
          ],
          [
           "Hungary"
          ],
          [
           "Austria"
          ],
          [
           "Czechia"
          ],
          [
           "Hungary"
          ],
          [
           "Ukraine"
          ],
          [
           "Austria"
          ],
          [
           "Croatia"
          ],
          [
           "Italy"
          ],
          [
           "France"
          ],
          [
           "Morocco"
          ],
          [
           "Portugal"
          ],
          [
           "France"
          ],
          [
           "Germany"
          ],
          [
           "Italy"
          ],
          [
           "Bulgaria"
          ],
          [
           "Greece"
          ],
          [
           "Belarus"
          ],
          [
           "Hungary"
          ],
          [
           "Moldavia"
          ],
          [
           "Romania"
          ],
          [
           "Russia"
          ],
          [
           "Slovakia"
          ],
          [
           "Ukraine"
          ],
          [
           "Belgium"
          ],
          [
           "Ireland"
          ],
          [
           "Netherlands"
          ],
          [
           "Norway"
          ],
          [
           "United Kingdom"
          ]
         ],
         "hovertemplate": "Flow Type=Exits<br>From Country=%{x}<br>Gas Flow (kWh/d)=%{y}<br>toCountryLabel=%{customdata[0]}<extra></extra>",
         "legendgroup": "Exits",
         "marker": {
          "color": "#EF553B",
          "pattern": {
           "shape": ""
          }
         },
         "name": "Exits",
         "offsetgroup": "Exits",
         "orientation": "v",
         "showlegend": true,
         "textposition": "auto",
         "type": "bar",
         "x": [
          "Austria",
          "Austria",
          "Austria",
          "Austria",
          "Austria",
          "Austria",
          "Belarus",
          "Belarus",
          "Belgium",
          "Belgium",
          "Belgium",
          "Belgium",
          "Belgium",
          "Belgium",
          "Belgium",
          "Bulgaria",
          "Bulgaria",
          "Bulgaria",
          "Bulgaria",
          "Croatia",
          "Croatia",
          "Czechia",
          "Czechia",
          "Czechia",
          "Denmark",
          "Denmark",
          "Estonia",
          "Estonia",
          "Finland",
          "France",
          "France",
          "France",
          "France",
          "France",
          "Germany",
          "Germany",
          "Germany",
          "Germany",
          "Germany",
          "Germany",
          "Germany",
          "Germany",
          "Germany",
          "Germany",
          "Germany",
          "Greece",
          "Greece",
          "Hungary",
          "Hungary",
          "Hungary",
          "Hungary",
          "Hungary",
          "Italy",
          "Italy",
          "Italy",
          "Italy",
          "Italy",
          "Latvia",
          "Latvia",
          "Latvia",
          "Libya",
          "Lithuania",
          "Lithuania",
          "Luxemburg",
          "Luxemburg",
          "Moldavia",
          "Moldavia",
          "Morocco",
          "Netherlands",
          "Netherlands",
          "Netherlands",
          "North Macedonia",
          "Norway",
          "Norway",
          "Norway",
          "Norway",
          "Poland",
          "Poland",
          "Poland",
          "Portugal",
          "Romania",
          "Romania",
          "Romania",
          "Romania",
          "Russia",
          "Russia",
          "Russia",
          "Russia",
          "Russia",
          "San Marino",
          "Serbia",
          "Slovakia",
          "Slovakia",
          "Slovakia",
          "Slovakia",
          "Slovenia",
          "Slovenia",
          "Slovenia",
          "Spain",
          "Spain",
          "Spain",
          "Switzerland",
          "Switzerland",
          "Switzerland",
          "Turkey",
          "Turkey",
          "Ukraine",
          "Ukraine",
          "Ukraine",
          "Ukraine",
          "Ukraine",
          "Ukraine",
          "Ukraine",
          "United Kingdom",
          "United Kingdom",
          "United Kingdom",
          "United Kingdom",
          "United Kingdom"
         ],
         "xaxis": "x",
         "y": [
          -160675716,
          -2763488083,
          -1591658891,
          -10457892635,
          -40841906397,
          -557742906,
          0,
          0,
          -10775624,
          -3658167688,
          -1186306808,
          -281492893,
          -4899065539.3,
          0,
          0,
          -1109254232,
          -159326653,
          -1238372978,
          -2992060663,
          -526711000,
          -109695170,
          -11532436339,
          -292035129,
          -738884801,
          0,
          -190302598,
          0,
          0,
          0,
          -3658167688,
          0,
          0,
          -2137784769,
          -2688735199,
          -1601837254,
          -1186306808,
          -30443421723,
          -190302598,
          0,
          -11053419626.32,
          -121116084,
          -19217250890.61,
          0,
          -8097563305.99,
          -9824002159,
          -1109254232,
          0,
          -1591658891,
          -526711000,
          -519215000,
          0,
          -2872785491,
          -10457892635,
          -878851662,
          0,
          -2776837,
          0,
          0,
          0,
          0,
          0,
          0,
          0,
          -281492893,
          -121116084,
          0,
          -7117442279.190001,
          0,
          -4899065539.3,
          -11922676906.210001,
          0,
          -159326653,
          0,
          0,
          0,
          0,
          -292035129,
          -8097563305.99,
          -4543287576,
          -289315151,
          -1238372978,
          -519215000,
          0,
          -6637081901.54,
          0,
          0,
          0,
          -636912274,
          0,
          -34708214,
          -1097242000,
          -54455875196,
          -738884801,
          0,
          -264663880,
          -557742906,
          -109695170,
          -2776837,
          -2137784769,
          0,
          -289315151,
          -2688735199,
          -29418736591,
          -66455509,
          -2992060663,
          0,
          0,
          -315669000,
          -445138996.49,
          -6141538552.12,
          0,
          -264663880,
          -7117442279.190001,
          -718631008,
          -1441190700,
          -2453780385.2,
          0,
          -704289075
         ],
         "yaxis": "y"
        }
       ],
       "layout": {
        "barmode": "group",
        "legend": {
         "title": {
          "text": "Flow Type"
         },
         "tracegroupgap": 0
        },
        "template": {
         "data": {
          "bar": [
           {
            "error_x": {
             "color": "#2a3f5f"
            },
            "error_y": {
             "color": "#2a3f5f"
            },
            "marker": {
             "line": {
              "color": "#E5ECF6",
              "width": 0.5
             },
             "pattern": {
              "fillmode": "overlay",
              "size": 10,
              "solidity": 0.2
             }
            },
            "type": "bar"
           }
          ],
          "barpolar": [
           {
            "marker": {
             "line": {
              "color": "#E5ECF6",
              "width": 0.5
             },
             "pattern": {
              "fillmode": "overlay",
              "size": 10,
              "solidity": 0.2
             }
            },
            "type": "barpolar"
           }
          ],
          "carpet": [
           {
            "aaxis": {
             "endlinecolor": "#2a3f5f",
             "gridcolor": "white",
             "linecolor": "white",
             "minorgridcolor": "white",
             "startlinecolor": "#2a3f5f"
            },
            "baxis": {
             "endlinecolor": "#2a3f5f",
             "gridcolor": "white",
             "linecolor": "white",
             "minorgridcolor": "white",
             "startlinecolor": "#2a3f5f"
            },
            "type": "carpet"
           }
          ],
          "choropleth": [
           {
            "colorbar": {
             "outlinewidth": 0,
             "ticks": ""
            },
            "type": "choropleth"
           }
          ],
          "contour": [
           {
            "colorbar": {
             "outlinewidth": 0,
             "ticks": ""
            },
            "colorscale": [
             [
              0,
              "#0d0887"
             ],
             [
              0.1111111111111111,
              "#46039f"
             ],
             [
              0.2222222222222222,
              "#7201a8"
             ],
             [
              0.3333333333333333,
              "#9c179e"
             ],
             [
              0.4444444444444444,
              "#bd3786"
             ],
             [
              0.5555555555555556,
              "#d8576b"
             ],
             [
              0.6666666666666666,
              "#ed7953"
             ],
             [
              0.7777777777777778,
              "#fb9f3a"
             ],
             [
              0.8888888888888888,
              "#fdca26"
             ],
             [
              1,
              "#f0f921"
             ]
            ],
            "type": "contour"
           }
          ],
          "contourcarpet": [
           {
            "colorbar": {
             "outlinewidth": 0,
             "ticks": ""
            },
            "type": "contourcarpet"
           }
          ],
          "heatmap": [
           {
            "colorbar": {
             "outlinewidth": 0,
             "ticks": ""
            },
            "colorscale": [
             [
              0,
              "#0d0887"
             ],
             [
              0.1111111111111111,
              "#46039f"
             ],
             [
              0.2222222222222222,
              "#7201a8"
             ],
             [
              0.3333333333333333,
              "#9c179e"
             ],
             [
              0.4444444444444444,
              "#bd3786"
             ],
             [
              0.5555555555555556,
              "#d8576b"
             ],
             [
              0.6666666666666666,
              "#ed7953"
             ],
             [
              0.7777777777777778,
              "#fb9f3a"
             ],
             [
              0.8888888888888888,
              "#fdca26"
             ],
             [
              1,
              "#f0f921"
             ]
            ],
            "type": "heatmap"
           }
          ],
          "heatmapgl": [
           {
            "colorbar": {
             "outlinewidth": 0,
             "ticks": ""
            },
            "colorscale": [
             [
              0,
              "#0d0887"
             ],
             [
              0.1111111111111111,
              "#46039f"
             ],
             [
              0.2222222222222222,
              "#7201a8"
             ],
             [
              0.3333333333333333,
              "#9c179e"
             ],
             [
              0.4444444444444444,
              "#bd3786"
             ],
             [
              0.5555555555555556,
              "#d8576b"
             ],
             [
              0.6666666666666666,
              "#ed7953"
             ],
             [
              0.7777777777777778,
              "#fb9f3a"
             ],
             [
              0.8888888888888888,
              "#fdca26"
             ],
             [
              1,
              "#f0f921"
             ]
            ],
            "type": "heatmapgl"
           }
          ],
          "histogram": [
           {
            "marker": {
             "pattern": {
              "fillmode": "overlay",
              "size": 10,
              "solidity": 0.2
             }
            },
            "type": "histogram"
           }
          ],
          "histogram2d": [
           {
            "colorbar": {
             "outlinewidth": 0,
             "ticks": ""
            },
            "colorscale": [
             [
              0,
              "#0d0887"
             ],
             [
              0.1111111111111111,
              "#46039f"
             ],
             [
              0.2222222222222222,
              "#7201a8"
             ],
             [
              0.3333333333333333,
              "#9c179e"
             ],
             [
              0.4444444444444444,
              "#bd3786"
             ],
             [
              0.5555555555555556,
              "#d8576b"
             ],
             [
              0.6666666666666666,
              "#ed7953"
             ],
             [
              0.7777777777777778,
              "#fb9f3a"
             ],
             [
              0.8888888888888888,
              "#fdca26"
             ],
             [
              1,
              "#f0f921"
             ]
            ],
            "type": "histogram2d"
           }
          ],
          "histogram2dcontour": [
           {
            "colorbar": {
             "outlinewidth": 0,
             "ticks": ""
            },
            "colorscale": [
             [
              0,
              "#0d0887"
             ],
             [
              0.1111111111111111,
              "#46039f"
             ],
             [
              0.2222222222222222,
              "#7201a8"
             ],
             [
              0.3333333333333333,
              "#9c179e"
             ],
             [
              0.4444444444444444,
              "#bd3786"
             ],
             [
              0.5555555555555556,
              "#d8576b"
             ],
             [
              0.6666666666666666,
              "#ed7953"
             ],
             [
              0.7777777777777778,
              "#fb9f3a"
             ],
             [
              0.8888888888888888,
              "#fdca26"
             ],
             [
              1,
              "#f0f921"
             ]
            ],
            "type": "histogram2dcontour"
           }
          ],
          "mesh3d": [
           {
            "colorbar": {
             "outlinewidth": 0,
             "ticks": ""
            },
            "type": "mesh3d"
           }
          ],
          "parcoords": [
           {
            "line": {
             "colorbar": {
              "outlinewidth": 0,
              "ticks": ""
             }
            },
            "type": "parcoords"
           }
          ],
          "pie": [
           {
            "automargin": true,
            "type": "pie"
           }
          ],
          "scatter": [
           {
            "fillpattern": {
             "fillmode": "overlay",
             "size": 10,
             "solidity": 0.2
            },
            "type": "scatter"
           }
          ],
          "scatter3d": [
           {
            "line": {
             "colorbar": {
              "outlinewidth": 0,
              "ticks": ""
             }
            },
            "marker": {
             "colorbar": {
              "outlinewidth": 0,
              "ticks": ""
             }
            },
            "type": "scatter3d"
           }
          ],
          "scattercarpet": [
           {
            "marker": {
             "colorbar": {
              "outlinewidth": 0,
              "ticks": ""
             }
            },
            "type": "scattercarpet"
           }
          ],
          "scattergeo": [
           {
            "marker": {
             "colorbar": {
              "outlinewidth": 0,
              "ticks": ""
             }
            },
            "type": "scattergeo"
           }
          ],
          "scattergl": [
           {
            "marker": {
             "colorbar": {
              "outlinewidth": 0,
              "ticks": ""
             }
            },
            "type": "scattergl"
           }
          ],
          "scattermapbox": [
           {
            "marker": {
             "colorbar": {
              "outlinewidth": 0,
              "ticks": ""
             }
            },
            "type": "scattermapbox"
           }
          ],
          "scatterpolar": [
           {
            "marker": {
             "colorbar": {
              "outlinewidth": 0,
              "ticks": ""
             }
            },
            "type": "scatterpolar"
           }
          ],
          "scatterpolargl": [
           {
            "marker": {
             "colorbar": {
              "outlinewidth": 0,
              "ticks": ""
             }
            },
            "type": "scatterpolargl"
           }
          ],
          "scatterternary": [
           {
            "marker": {
             "colorbar": {
              "outlinewidth": 0,
              "ticks": ""
             }
            },
            "type": "scatterternary"
           }
          ],
          "surface": [
           {
            "colorbar": {
             "outlinewidth": 0,
             "ticks": ""
            },
            "colorscale": [
             [
              0,
              "#0d0887"
             ],
             [
              0.1111111111111111,
              "#46039f"
             ],
             [
              0.2222222222222222,
              "#7201a8"
             ],
             [
              0.3333333333333333,
              "#9c179e"
             ],
             [
              0.4444444444444444,
              "#bd3786"
             ],
             [
              0.5555555555555556,
              "#d8576b"
             ],
             [
              0.6666666666666666,
              "#ed7953"
             ],
             [
              0.7777777777777778,
              "#fb9f3a"
             ],
             [
              0.8888888888888888,
              "#fdca26"
             ],
             [
              1,
              "#f0f921"
             ]
            ],
            "type": "surface"
           }
          ],
          "table": [
           {
            "cells": {
             "fill": {
              "color": "#EBF0F8"
             },
             "line": {
              "color": "white"
             }
            },
            "header": {
             "fill": {
              "color": "#C8D4E3"
             },
             "line": {
              "color": "white"
             }
            },
            "type": "table"
           }
          ]
         },
         "layout": {
          "annotationdefaults": {
           "arrowcolor": "#2a3f5f",
           "arrowhead": 0,
           "arrowwidth": 1
          },
          "autotypenumbers": "strict",
          "coloraxis": {
           "colorbar": {
            "outlinewidth": 0,
            "ticks": ""
           }
          },
          "colorscale": {
           "diverging": [
            [
             0,
             "#8e0152"
            ],
            [
             0.1,
             "#c51b7d"
            ],
            [
             0.2,
             "#de77ae"
            ],
            [
             0.3,
             "#f1b6da"
            ],
            [
             0.4,
             "#fde0ef"
            ],
            [
             0.5,
             "#f7f7f7"
            ],
            [
             0.6,
             "#e6f5d0"
            ],
            [
             0.7,
             "#b8e186"
            ],
            [
             0.8,
             "#7fbc41"
            ],
            [
             0.9,
             "#4d9221"
            ],
            [
             1,
             "#276419"
            ]
           ],
           "sequential": [
            [
             0,
             "#0d0887"
            ],
            [
             0.1111111111111111,
             "#46039f"
            ],
            [
             0.2222222222222222,
             "#7201a8"
            ],
            [
             0.3333333333333333,
             "#9c179e"
            ],
            [
             0.4444444444444444,
             "#bd3786"
            ],
            [
             0.5555555555555556,
             "#d8576b"
            ],
            [
             0.6666666666666666,
             "#ed7953"
            ],
            [
             0.7777777777777778,
             "#fb9f3a"
            ],
            [
             0.8888888888888888,
             "#fdca26"
            ],
            [
             1,
             "#f0f921"
            ]
           ],
           "sequentialminus": [
            [
             0,
             "#0d0887"
            ],
            [
             0.1111111111111111,
             "#46039f"
            ],
            [
             0.2222222222222222,
             "#7201a8"
            ],
            [
             0.3333333333333333,
             "#9c179e"
            ],
            [
             0.4444444444444444,
             "#bd3786"
            ],
            [
             0.5555555555555556,
             "#d8576b"
            ],
            [
             0.6666666666666666,
             "#ed7953"
            ],
            [
             0.7777777777777778,
             "#fb9f3a"
            ],
            [
             0.8888888888888888,
             "#fdca26"
            ],
            [
             1,
             "#f0f921"
            ]
           ]
          },
          "colorway": [
           "#636efa",
           "#EF553B",
           "#00cc96",
           "#ab63fa",
           "#FFA15A",
           "#19d3f3",
           "#FF6692",
           "#B6E880",
           "#FF97FF",
           "#FECB52"
          ],
          "font": {
           "color": "#2a3f5f"
          },
          "geo": {
           "bgcolor": "white",
           "lakecolor": "white",
           "landcolor": "#E5ECF6",
           "showlakes": true,
           "showland": true,
           "subunitcolor": "white"
          },
          "hoverlabel": {
           "align": "left"
          },
          "hovermode": "closest",
          "mapbox": {
           "style": "light"
          },
          "paper_bgcolor": "white",
          "plot_bgcolor": "#E5ECF6",
          "polar": {
           "angularaxis": {
            "gridcolor": "white",
            "linecolor": "white",
            "ticks": ""
           },
           "bgcolor": "#E5ECF6",
           "radialaxis": {
            "gridcolor": "white",
            "linecolor": "white",
            "ticks": ""
           }
          },
          "scene": {
           "xaxis": {
            "backgroundcolor": "#E5ECF6",
            "gridcolor": "white",
            "gridwidth": 2,
            "linecolor": "white",
            "showbackground": true,
            "ticks": "",
            "zerolinecolor": "white"
           },
           "yaxis": {
            "backgroundcolor": "#E5ECF6",
            "gridcolor": "white",
            "gridwidth": 2,
            "linecolor": "white",
            "showbackground": true,
            "ticks": "",
            "zerolinecolor": "white"
           },
           "zaxis": {
            "backgroundcolor": "#E5ECF6",
            "gridcolor": "white",
            "gridwidth": 2,
            "linecolor": "white",
            "showbackground": true,
            "ticks": "",
            "zerolinecolor": "white"
           }
          },
          "shapedefaults": {
           "line": {
            "color": "#2a3f5f"
           }
          },
          "ternary": {
           "aaxis": {
            "gridcolor": "white",
            "linecolor": "white",
            "ticks": ""
           },
           "baxis": {
            "gridcolor": "white",
            "linecolor": "white",
            "ticks": ""
           },
           "bgcolor": "#E5ECF6",
           "caxis": {
            "gridcolor": "white",
            "linecolor": "white",
            "ticks": ""
           }
          },
          "title": {
           "x": 0.05
          },
          "xaxis": {
           "automargin": true,
           "gridcolor": "white",
           "linecolor": "white",
           "ticks": "",
           "title": {
            "standoff": 15
           },
           "zerolinecolor": "white",
           "zerolinewidth": 2
          },
          "yaxis": {
           "automargin": true,
           "gridcolor": "white",
           "linecolor": "white",
           "ticks": "",
           "title": {
            "standoff": 15
           },
           "zerolinecolor": "white",
           "zerolinewidth": 2
          }
         }
        },
        "title": {
         "text": "Comparison of Total Gas Flow Entries and Exits Between Countries"
        },
        "xaxis": {
         "anchor": "y",
         "domain": [
          0,
          1
         ],
         "title": {
          "text": "From Country"
         }
        },
        "yaxis": {
         "anchor": "x",
         "domain": [
          0,
          1
         ],
         "tickformat": ".2s",
         "title": {
          "text": "Gas Flow (kWh/d)"
         }
        }
       }
      }
     },
     "metadata": {},
     "output_type": "display_data"
    }
   ],
   "source": [
    "# TOTAL GAS FLOW between countries\n",
    "\n",
    "import plotly.express as px\n",
    "\n",
    "# Melt the dataframe to have a long-form data suitable for plotly express\n",
    "melted_df = merged_df.melt(id_vars=['fromCountryLabel', 'toCountryLabel'], \n",
    "                           value_vars=['Entries', 'Exits'], \n",
    "                           var_name='FlowType', \n",
    "                           value_name='Value')\n",
    "\n",
    "# Create the bar chart\n",
    "fig = px.bar(melted_df, \n",
    "             x='fromCountryLabel', \n",
    "             y='Value', \n",
    "             color='FlowType', \n",
    "             barmode='group',\n",
    "             hover_data=['toCountryLabel'],\n",
    "             labels={'fromCountryLabel': 'From Country', 'Value': 'Gas Flow (kWh/d)', 'FlowType': 'Flow Type'},\n",
    "             title='Comparison of Total Gas Flow Entries and Exits Between Countries')\n",
    "\n",
    "# Update layout to make the chart more readable\n",
    "fig.update_layout(\n",
    "    xaxis_title='From Country',\n",
    "    yaxis_title='Gas Flow (kWh/d)',\n",
    "    legend_title='Flow Type',\n",
    "    yaxis=dict(tickformat='.2s')  # Format y-axis ticks for readability\n",
    ")\n",
    "\n",
    "# Show the figure\n",
    "fig.show()\n"
   ]
  },
  {
   "cell_type": "code",
   "execution_count": 280,
   "metadata": {},
   "outputs": [],
   "source": [
    "merged_df['countryPair'] = merged_df['fromCountryLabel'] + ' -> ' + merged_df['toCountryLabel']"
   ]
  },
  {
   "cell_type": "code",
   "execution_count": 281,
   "metadata": {},
   "outputs": [
    {
     "data": {
      "text/html": [
       "<div>\n",
       "<style scoped>\n",
       "    .dataframe tbody tr th:only-of-type {\n",
       "        vertical-align: middle;\n",
       "    }\n",
       "\n",
       "    .dataframe tbody tr th {\n",
       "        vertical-align: top;\n",
       "    }\n",
       "\n",
       "    .dataframe thead th {\n",
       "        text-align: right;\n",
       "    }\n",
       "</style>\n",
       "<table border=\"1\" class=\"dataframe\">\n",
       "  <thead>\n",
       "    <tr style=\"text-align: right;\">\n",
       "      <th></th>\n",
       "      <th>fromCountryLabel</th>\n",
       "      <th>toCountryLabel</th>\n",
       "      <th>Entries</th>\n",
       "      <th>Exits</th>\n",
       "      <th>countryPair</th>\n",
       "    </tr>\n",
       "  </thead>\n",
       "  <tbody>\n",
       "    <tr>\n",
       "      <th>0</th>\n",
       "      <td>Austria</td>\n",
       "      <td>Austria</td>\n",
       "      <td>0.000000e+00</td>\n",
       "      <td>-1.606757e+08</td>\n",
       "      <td>Austria -&gt; Austria</td>\n",
       "    </tr>\n",
       "    <tr>\n",
       "      <th>1</th>\n",
       "      <td>Austria</td>\n",
       "      <td>Germany</td>\n",
       "      <td>6.263972e+08</td>\n",
       "      <td>-2.763488e+09</td>\n",
       "      <td>Austria -&gt; Germany</td>\n",
       "    </tr>\n",
       "    <tr>\n",
       "      <th>2</th>\n",
       "      <td>Austria</td>\n",
       "      <td>Hungary</td>\n",
       "      <td>1.591662e+09</td>\n",
       "      <td>-1.591659e+09</td>\n",
       "      <td>Austria -&gt; Hungary</td>\n",
       "    </tr>\n",
       "    <tr>\n",
       "      <th>3</th>\n",
       "      <td>Austria</td>\n",
       "      <td>Italy</td>\n",
       "      <td>1.045794e+10</td>\n",
       "      <td>-1.045789e+10</td>\n",
       "      <td>Austria -&gt; Italy</td>\n",
       "    </tr>\n",
       "    <tr>\n",
       "      <th>4</th>\n",
       "      <td>Austria</td>\n",
       "      <td>Slovakia</td>\n",
       "      <td>0.000000e+00</td>\n",
       "      <td>-4.084191e+10</td>\n",
       "      <td>Austria -&gt; Slovakia</td>\n",
       "    </tr>\n",
       "  </tbody>\n",
       "</table>\n",
       "</div>"
      ],
      "text/plain": [
       "  fromCountryLabel toCountryLabel       Entries         Exits  \\\n",
       "0          Austria        Austria  0.000000e+00 -1.606757e+08   \n",
       "1          Austria        Germany  6.263972e+08 -2.763488e+09   \n",
       "2          Austria        Hungary  1.591662e+09 -1.591659e+09   \n",
       "3          Austria          Italy  1.045794e+10 -1.045789e+10   \n",
       "4          Austria       Slovakia  0.000000e+00 -4.084191e+10   \n",
       "\n",
       "           countryPair  \n",
       "0   Austria -> Austria  \n",
       "1   Austria -> Germany  \n",
       "2   Austria -> Hungary  \n",
       "3     Austria -> Italy  \n",
       "4  Austria -> Slovakia  "
      ]
     },
     "execution_count": 281,
     "metadata": {},
     "output_type": "execute_result"
    }
   ],
   "source": [
    "merged_df.head()"
   ]
  },
  {
   "cell_type": "code",
   "execution_count": 282,
   "metadata": {},
   "outputs": [
    {
     "data": {
      "application/vnd.plotly.v1+json": {
       "config": {
        "plotlyServerURL": "https://plot.ly"
       },
       "data": [
        {
         "alignmentgroup": "True",
         "hovertemplate": "Flow Type=Entries<br>Country Pair=%{x}<br>Gas Flow (kWh/d)=%{y}<extra></extra>",
         "legendgroup": "Entries",
         "marker": {
          "color": "blue",
          "pattern": {
           "shape": ""
          }
         },
         "name": "Entries",
         "offsetgroup": "Entries",
         "orientation": "v",
         "showlegend": true,
         "textposition": "auto",
         "type": "bar",
         "x": [
          "Austria -> Austria",
          "Austria -> Germany",
          "Austria -> Hungary",
          "Austria -> Italy",
          "Austria -> Slovakia",
          "Austria -> Slovenia",
          "Belarus -> Lithuania",
          "Belarus -> Ukraine",
          "Belgium -> Belgium",
          "Belgium -> France",
          "Belgium -> Germany",
          "Belgium -> Luxemburg",
          "Belgium -> Netherlands",
          "Belgium -> Norway",
          "Belgium -> United Kingdom",
          "Bulgaria -> Greece",
          "Bulgaria -> North Macedonia",
          "Bulgaria -> Romania",
          "Bulgaria -> Turkey",
          "Croatia -> Hungary",
          "Croatia -> Slovenia",
          "Czechia -> Germany",
          "Czechia -> Poland",
          "Czechia -> Slovakia",
          "Denmark -> Denmark",
          "Denmark -> Germany",
          "Estonia -> Latvia",
          "Estonia -> Russia",
          "Finland -> Russia",
          "France -> Belgium",
          "France -> Germany",
          "France -> Norway",
          "France -> Spain",
          "France -> Switzerland",
          "Germany -> Austria",
          "Germany -> Belgium",
          "Germany -> Czechia",
          "Germany -> Denmark",
          "Germany -> France",
          "Germany -> Germany",
          "Germany -> Luxemburg",
          "Germany -> Netherlands",
          "Germany -> Norway",
          "Germany -> Poland",
          "Germany -> Switzerland",
          "Greece -> Bulgaria",
          "Greece -> Turkey",
          "Hungary -> Austria",
          "Hungary -> Croatia",
          "Hungary -> Romania",
          "Hungary -> Slovakia",
          "Hungary -> Ukraine",
          "Italy -> Austria",
          "Italy -> Italy",
          "Italy -> Libya",
          "Italy -> Slovenia",
          "Italy -> Switzerland",
          "Latvia -> Estonia",
          "Latvia -> Lithuania",
          "Latvia -> Russia",
          "Libya -> Italy",
          "Lithuania -> Belarus",
          "Lithuania -> Latvia",
          "Luxemburg -> Belgium",
          "Luxemburg -> Germany",
          "Moldavia -> Romania",
          "Moldavia -> Ukraine",
          "Morocco -> Spain",
          "Netherlands -> Belgium",
          "Netherlands -> Germany",
          "Netherlands -> Netherlands",
          "North Macedonia -> Bulgaria",
          "Norway -> Belgium",
          "Norway -> France",
          "Norway -> Germany",
          "Norway -> United Kingdom",
          "Poland -> Czechia",
          "Poland -> Germany",
          "Poland -> Poland",
          "Portugal -> Spain",
          "Romania -> Bulgaria",
          "Romania -> Hungary",
          "Romania -> Moldavia",
          "Romania -> Ukraine",
          "Russia -> Estonia",
          "Russia -> Finland",
          "Russia -> Latvia",
          "Russia -> Lithuania",
          "Russia -> Ukraine",
          "San Marino -> Italy",
          "Serbia -> Hungary",
          "Slovakia -> Austria",
          "Slovakia -> Czechia",
          "Slovakia -> Hungary",
          "Slovakia -> Ukraine",
          "Slovenia -> Austria",
          "Slovenia -> Croatia",
          "Slovenia -> Italy",
          "Spain -> France",
          "Spain -> Morocco",
          "Spain -> Portugal",
          "Switzerland -> France",
          "Switzerland -> Germany",
          "Switzerland -> Italy",
          "Turkey -> Bulgaria",
          "Turkey -> Greece",
          "Ukraine -> Belarus",
          "Ukraine -> Hungary",
          "Ukraine -> Moldavia",
          "Ukraine -> Romania",
          "Ukraine -> Russia",
          "Ukraine -> Slovakia",
          "Ukraine -> Ukraine",
          "United Kingdom -> Belgium",
          "United Kingdom -> Ireland",
          "United Kingdom -> Netherlands",
          "United Kingdom -> Norway",
          "United Kingdom -> United Kingdom"
         ],
         "xaxis": "x",
         "y": [
          0,
          626397236,
          1591661821,
          10457939761,
          0,
          503820405,
          1690832930,
          0,
          10775624,
          3654710373,
          1186306801,
          250107684,
          4998158450.6,
          5133876308,
          719558055,
          1109253626,
          0,
          9843360377.437,
          0,
          526655043,
          119929481,
          21807438120,
          265605798,
          847766446,
          693074054,
          0,
          74963383,
          227070258,
          0,
          3654710373,
          1934352239,
          0,
          2190777543,
          0,
          626397236,
          1186306801,
          32109322041,
          0,
          3868704478,
          15145030350.32,
          111275981,
          6919864472.8,
          7472716293.900001,
          8886846108,
          0,
          1109253626,
          398238894,
          1591661821,
          526655043,
          519274532.01,
          0,
          0,
          10457939761,
          0,
          0,
          2777256,
          3992157256,
          74963383,
          0,
          74963383,
          1703364014,
          0,
          0,
          250107684,
          111275981,
          0,
          6437669854.8,
          0,
          4998158450.6,
          10055431075.199,
          0,
          0,
          5133876308,
          5453810263,
          7472716293.900001,
          17588604189,
          265605798,
          8886846108,
          4543287576,
          301991114,
          9843360377.437,
          519274532.01,
          0,
          6604885512.11,
          227070258,
          1087223100,
          74963383,
          0,
          29230281077.6652,
          0,
          0,
          0,
          847766446,
          0,
          15413503673,
          503820405,
          119929481,
          2777256,
          2190777543,
          2940135131,
          301991114,
          0,
          0,
          3992157256,
          0,
          796477788,
          0,
          2878103000,
          6437669854.8,
          6604885512.11,
          0,
          15413503673,
          0,
          0,
          0,
          0,
          0,
          0
         ],
         "yaxis": "y"
        },
        {
         "alignmentgroup": "True",
         "hovertemplate": "Flow Type=Exits<br>Country Pair=%{x}<br>Gas Flow (kWh/d)=%{y}<extra></extra>",
         "legendgroup": "Exits",
         "marker": {
          "color": "red",
          "pattern": {
           "shape": ""
          }
         },
         "name": "Exits",
         "offsetgroup": "Exits",
         "orientation": "v",
         "showlegend": true,
         "textposition": "auto",
         "type": "bar",
         "x": [
          "Austria -> Austria",
          "Austria -> Germany",
          "Austria -> Hungary",
          "Austria -> Italy",
          "Austria -> Slovakia",
          "Austria -> Slovenia",
          "Belarus -> Lithuania",
          "Belarus -> Ukraine",
          "Belgium -> Belgium",
          "Belgium -> France",
          "Belgium -> Germany",
          "Belgium -> Luxemburg",
          "Belgium -> Netherlands",
          "Belgium -> Norway",
          "Belgium -> United Kingdom",
          "Bulgaria -> Greece",
          "Bulgaria -> North Macedonia",
          "Bulgaria -> Romania",
          "Bulgaria -> Turkey",
          "Croatia -> Hungary",
          "Croatia -> Slovenia",
          "Czechia -> Germany",
          "Czechia -> Poland",
          "Czechia -> Slovakia",
          "Denmark -> Denmark",
          "Denmark -> Germany",
          "Estonia -> Latvia",
          "Estonia -> Russia",
          "Finland -> Russia",
          "France -> Belgium",
          "France -> Germany",
          "France -> Norway",
          "France -> Spain",
          "France -> Switzerland",
          "Germany -> Austria",
          "Germany -> Belgium",
          "Germany -> Czechia",
          "Germany -> Denmark",
          "Germany -> France",
          "Germany -> Germany",
          "Germany -> Luxemburg",
          "Germany -> Netherlands",
          "Germany -> Norway",
          "Germany -> Poland",
          "Germany -> Switzerland",
          "Greece -> Bulgaria",
          "Greece -> Turkey",
          "Hungary -> Austria",
          "Hungary -> Croatia",
          "Hungary -> Romania",
          "Hungary -> Slovakia",
          "Hungary -> Ukraine",
          "Italy -> Austria",
          "Italy -> Italy",
          "Italy -> Libya",
          "Italy -> Slovenia",
          "Italy -> Switzerland",
          "Latvia -> Estonia",
          "Latvia -> Lithuania",
          "Latvia -> Russia",
          "Libya -> Italy",
          "Lithuania -> Belarus",
          "Lithuania -> Latvia",
          "Luxemburg -> Belgium",
          "Luxemburg -> Germany",
          "Moldavia -> Romania",
          "Moldavia -> Ukraine",
          "Morocco -> Spain",
          "Netherlands -> Belgium",
          "Netherlands -> Germany",
          "Netherlands -> Netherlands",
          "North Macedonia -> Bulgaria",
          "Norway -> Belgium",
          "Norway -> France",
          "Norway -> Germany",
          "Norway -> United Kingdom",
          "Poland -> Czechia",
          "Poland -> Germany",
          "Poland -> Poland",
          "Portugal -> Spain",
          "Romania -> Bulgaria",
          "Romania -> Hungary",
          "Romania -> Moldavia",
          "Romania -> Ukraine",
          "Russia -> Estonia",
          "Russia -> Finland",
          "Russia -> Latvia",
          "Russia -> Lithuania",
          "Russia -> Ukraine",
          "San Marino -> Italy",
          "Serbia -> Hungary",
          "Slovakia -> Austria",
          "Slovakia -> Czechia",
          "Slovakia -> Hungary",
          "Slovakia -> Ukraine",
          "Slovenia -> Austria",
          "Slovenia -> Croatia",
          "Slovenia -> Italy",
          "Spain -> France",
          "Spain -> Morocco",
          "Spain -> Portugal",
          "Switzerland -> France",
          "Switzerland -> Germany",
          "Switzerland -> Italy",
          "Turkey -> Bulgaria",
          "Turkey -> Greece",
          "Ukraine -> Belarus",
          "Ukraine -> Hungary",
          "Ukraine -> Moldavia",
          "Ukraine -> Romania",
          "Ukraine -> Russia",
          "Ukraine -> Slovakia",
          "Ukraine -> Ukraine",
          "United Kingdom -> Belgium",
          "United Kingdom -> Ireland",
          "United Kingdom -> Netherlands",
          "United Kingdom -> Norway",
          "United Kingdom -> United Kingdom"
         ],
         "xaxis": "x",
         "y": [
          -160675716,
          -2763488083,
          -1591658891,
          -10457892635,
          -40841906397,
          -557742906,
          0,
          0,
          -10775624,
          -3658167688,
          -1186306808,
          -281492893,
          -4899065539.3,
          0,
          0,
          -1109254232,
          -159326653,
          -1238372978,
          -2992060663,
          -526711000,
          -109695170,
          -11532436339,
          -292035129,
          -738884801,
          0,
          -190302598,
          0,
          0,
          0,
          -3658167688,
          0,
          0,
          -2137784769,
          -2688735199,
          -1601837254,
          -1186306808,
          -30443421723,
          -190302598,
          0,
          -11053419626.32,
          -121116084,
          -19217250890.61,
          0,
          -8097563305.99,
          -9824002159,
          -1109254232,
          0,
          -1591658891,
          -526711000,
          -519215000,
          0,
          -2872785491,
          -10457892635,
          -878851662,
          0,
          -2776837,
          0,
          0,
          0,
          0,
          0,
          0,
          0,
          -281492893,
          -121116084,
          0,
          -7117442279.190001,
          0,
          -4899065539.3,
          -11922676906.210001,
          0,
          -159326653,
          0,
          0,
          0,
          0,
          -292035129,
          -8097563305.99,
          -4543287576,
          -289315151,
          -1238372978,
          -519215000,
          0,
          -6637081901.54,
          0,
          0,
          0,
          -636912274,
          0,
          -34708214,
          -1097242000,
          -54455875196,
          -738884801,
          0,
          -264663880,
          -557742906,
          -109695170,
          -2776837,
          -2137784769,
          0,
          -289315151,
          -2688735199,
          -29418736591,
          -66455509,
          -2992060663,
          0,
          0,
          -315669000,
          -445138996.49,
          -6141538552.12,
          0,
          -264663880,
          -7117442279.190001,
          -718631008,
          -1441190700,
          -2453780385.2,
          0,
          -704289075
         ],
         "yaxis": "y"
        }
       ],
       "layout": {
        "barmode": "group",
        "legend": {
         "title": {
          "text": "Flow Type"
         },
         "tracegroupgap": 0
        },
        "template": {
         "data": {
          "bar": [
           {
            "error_x": {
             "color": "#2a3f5f"
            },
            "error_y": {
             "color": "#2a3f5f"
            },
            "marker": {
             "line": {
              "color": "#E5ECF6",
              "width": 0.5
             },
             "pattern": {
              "fillmode": "overlay",
              "size": 10,
              "solidity": 0.2
             }
            },
            "type": "bar"
           }
          ],
          "barpolar": [
           {
            "marker": {
             "line": {
              "color": "#E5ECF6",
              "width": 0.5
             },
             "pattern": {
              "fillmode": "overlay",
              "size": 10,
              "solidity": 0.2
             }
            },
            "type": "barpolar"
           }
          ],
          "carpet": [
           {
            "aaxis": {
             "endlinecolor": "#2a3f5f",
             "gridcolor": "white",
             "linecolor": "white",
             "minorgridcolor": "white",
             "startlinecolor": "#2a3f5f"
            },
            "baxis": {
             "endlinecolor": "#2a3f5f",
             "gridcolor": "white",
             "linecolor": "white",
             "minorgridcolor": "white",
             "startlinecolor": "#2a3f5f"
            },
            "type": "carpet"
           }
          ],
          "choropleth": [
           {
            "colorbar": {
             "outlinewidth": 0,
             "ticks": ""
            },
            "type": "choropleth"
           }
          ],
          "contour": [
           {
            "colorbar": {
             "outlinewidth": 0,
             "ticks": ""
            },
            "colorscale": [
             [
              0,
              "#0d0887"
             ],
             [
              0.1111111111111111,
              "#46039f"
             ],
             [
              0.2222222222222222,
              "#7201a8"
             ],
             [
              0.3333333333333333,
              "#9c179e"
             ],
             [
              0.4444444444444444,
              "#bd3786"
             ],
             [
              0.5555555555555556,
              "#d8576b"
             ],
             [
              0.6666666666666666,
              "#ed7953"
             ],
             [
              0.7777777777777778,
              "#fb9f3a"
             ],
             [
              0.8888888888888888,
              "#fdca26"
             ],
             [
              1,
              "#f0f921"
             ]
            ],
            "type": "contour"
           }
          ],
          "contourcarpet": [
           {
            "colorbar": {
             "outlinewidth": 0,
             "ticks": ""
            },
            "type": "contourcarpet"
           }
          ],
          "heatmap": [
           {
            "colorbar": {
             "outlinewidth": 0,
             "ticks": ""
            },
            "colorscale": [
             [
              0,
              "#0d0887"
             ],
             [
              0.1111111111111111,
              "#46039f"
             ],
             [
              0.2222222222222222,
              "#7201a8"
             ],
             [
              0.3333333333333333,
              "#9c179e"
             ],
             [
              0.4444444444444444,
              "#bd3786"
             ],
             [
              0.5555555555555556,
              "#d8576b"
             ],
             [
              0.6666666666666666,
              "#ed7953"
             ],
             [
              0.7777777777777778,
              "#fb9f3a"
             ],
             [
              0.8888888888888888,
              "#fdca26"
             ],
             [
              1,
              "#f0f921"
             ]
            ],
            "type": "heatmap"
           }
          ],
          "heatmapgl": [
           {
            "colorbar": {
             "outlinewidth": 0,
             "ticks": ""
            },
            "colorscale": [
             [
              0,
              "#0d0887"
             ],
             [
              0.1111111111111111,
              "#46039f"
             ],
             [
              0.2222222222222222,
              "#7201a8"
             ],
             [
              0.3333333333333333,
              "#9c179e"
             ],
             [
              0.4444444444444444,
              "#bd3786"
             ],
             [
              0.5555555555555556,
              "#d8576b"
             ],
             [
              0.6666666666666666,
              "#ed7953"
             ],
             [
              0.7777777777777778,
              "#fb9f3a"
             ],
             [
              0.8888888888888888,
              "#fdca26"
             ],
             [
              1,
              "#f0f921"
             ]
            ],
            "type": "heatmapgl"
           }
          ],
          "histogram": [
           {
            "marker": {
             "pattern": {
              "fillmode": "overlay",
              "size": 10,
              "solidity": 0.2
             }
            },
            "type": "histogram"
           }
          ],
          "histogram2d": [
           {
            "colorbar": {
             "outlinewidth": 0,
             "ticks": ""
            },
            "colorscale": [
             [
              0,
              "#0d0887"
             ],
             [
              0.1111111111111111,
              "#46039f"
             ],
             [
              0.2222222222222222,
              "#7201a8"
             ],
             [
              0.3333333333333333,
              "#9c179e"
             ],
             [
              0.4444444444444444,
              "#bd3786"
             ],
             [
              0.5555555555555556,
              "#d8576b"
             ],
             [
              0.6666666666666666,
              "#ed7953"
             ],
             [
              0.7777777777777778,
              "#fb9f3a"
             ],
             [
              0.8888888888888888,
              "#fdca26"
             ],
             [
              1,
              "#f0f921"
             ]
            ],
            "type": "histogram2d"
           }
          ],
          "histogram2dcontour": [
           {
            "colorbar": {
             "outlinewidth": 0,
             "ticks": ""
            },
            "colorscale": [
             [
              0,
              "#0d0887"
             ],
             [
              0.1111111111111111,
              "#46039f"
             ],
             [
              0.2222222222222222,
              "#7201a8"
             ],
             [
              0.3333333333333333,
              "#9c179e"
             ],
             [
              0.4444444444444444,
              "#bd3786"
             ],
             [
              0.5555555555555556,
              "#d8576b"
             ],
             [
              0.6666666666666666,
              "#ed7953"
             ],
             [
              0.7777777777777778,
              "#fb9f3a"
             ],
             [
              0.8888888888888888,
              "#fdca26"
             ],
             [
              1,
              "#f0f921"
             ]
            ],
            "type": "histogram2dcontour"
           }
          ],
          "mesh3d": [
           {
            "colorbar": {
             "outlinewidth": 0,
             "ticks": ""
            },
            "type": "mesh3d"
           }
          ],
          "parcoords": [
           {
            "line": {
             "colorbar": {
              "outlinewidth": 0,
              "ticks": ""
             }
            },
            "type": "parcoords"
           }
          ],
          "pie": [
           {
            "automargin": true,
            "type": "pie"
           }
          ],
          "scatter": [
           {
            "fillpattern": {
             "fillmode": "overlay",
             "size": 10,
             "solidity": 0.2
            },
            "type": "scatter"
           }
          ],
          "scatter3d": [
           {
            "line": {
             "colorbar": {
              "outlinewidth": 0,
              "ticks": ""
             }
            },
            "marker": {
             "colorbar": {
              "outlinewidth": 0,
              "ticks": ""
             }
            },
            "type": "scatter3d"
           }
          ],
          "scattercarpet": [
           {
            "marker": {
             "colorbar": {
              "outlinewidth": 0,
              "ticks": ""
             }
            },
            "type": "scattercarpet"
           }
          ],
          "scattergeo": [
           {
            "marker": {
             "colorbar": {
              "outlinewidth": 0,
              "ticks": ""
             }
            },
            "type": "scattergeo"
           }
          ],
          "scattergl": [
           {
            "marker": {
             "colorbar": {
              "outlinewidth": 0,
              "ticks": ""
             }
            },
            "type": "scattergl"
           }
          ],
          "scattermapbox": [
           {
            "marker": {
             "colorbar": {
              "outlinewidth": 0,
              "ticks": ""
             }
            },
            "type": "scattermapbox"
           }
          ],
          "scatterpolar": [
           {
            "marker": {
             "colorbar": {
              "outlinewidth": 0,
              "ticks": ""
             }
            },
            "type": "scatterpolar"
           }
          ],
          "scatterpolargl": [
           {
            "marker": {
             "colorbar": {
              "outlinewidth": 0,
              "ticks": ""
             }
            },
            "type": "scatterpolargl"
           }
          ],
          "scatterternary": [
           {
            "marker": {
             "colorbar": {
              "outlinewidth": 0,
              "ticks": ""
             }
            },
            "type": "scatterternary"
           }
          ],
          "surface": [
           {
            "colorbar": {
             "outlinewidth": 0,
             "ticks": ""
            },
            "colorscale": [
             [
              0,
              "#0d0887"
             ],
             [
              0.1111111111111111,
              "#46039f"
             ],
             [
              0.2222222222222222,
              "#7201a8"
             ],
             [
              0.3333333333333333,
              "#9c179e"
             ],
             [
              0.4444444444444444,
              "#bd3786"
             ],
             [
              0.5555555555555556,
              "#d8576b"
             ],
             [
              0.6666666666666666,
              "#ed7953"
             ],
             [
              0.7777777777777778,
              "#fb9f3a"
             ],
             [
              0.8888888888888888,
              "#fdca26"
             ],
             [
              1,
              "#f0f921"
             ]
            ],
            "type": "surface"
           }
          ],
          "table": [
           {
            "cells": {
             "fill": {
              "color": "#EBF0F8"
             },
             "line": {
              "color": "white"
             }
            },
            "header": {
             "fill": {
              "color": "#C8D4E3"
             },
             "line": {
              "color": "white"
             }
            },
            "type": "table"
           }
          ]
         },
         "layout": {
          "annotationdefaults": {
           "arrowcolor": "#2a3f5f",
           "arrowhead": 0,
           "arrowwidth": 1
          },
          "autotypenumbers": "strict",
          "coloraxis": {
           "colorbar": {
            "outlinewidth": 0,
            "ticks": ""
           }
          },
          "colorscale": {
           "diverging": [
            [
             0,
             "#8e0152"
            ],
            [
             0.1,
             "#c51b7d"
            ],
            [
             0.2,
             "#de77ae"
            ],
            [
             0.3,
             "#f1b6da"
            ],
            [
             0.4,
             "#fde0ef"
            ],
            [
             0.5,
             "#f7f7f7"
            ],
            [
             0.6,
             "#e6f5d0"
            ],
            [
             0.7,
             "#b8e186"
            ],
            [
             0.8,
             "#7fbc41"
            ],
            [
             0.9,
             "#4d9221"
            ],
            [
             1,
             "#276419"
            ]
           ],
           "sequential": [
            [
             0,
             "#0d0887"
            ],
            [
             0.1111111111111111,
             "#46039f"
            ],
            [
             0.2222222222222222,
             "#7201a8"
            ],
            [
             0.3333333333333333,
             "#9c179e"
            ],
            [
             0.4444444444444444,
             "#bd3786"
            ],
            [
             0.5555555555555556,
             "#d8576b"
            ],
            [
             0.6666666666666666,
             "#ed7953"
            ],
            [
             0.7777777777777778,
             "#fb9f3a"
            ],
            [
             0.8888888888888888,
             "#fdca26"
            ],
            [
             1,
             "#f0f921"
            ]
           ],
           "sequentialminus": [
            [
             0,
             "#0d0887"
            ],
            [
             0.1111111111111111,
             "#46039f"
            ],
            [
             0.2222222222222222,
             "#7201a8"
            ],
            [
             0.3333333333333333,
             "#9c179e"
            ],
            [
             0.4444444444444444,
             "#bd3786"
            ],
            [
             0.5555555555555556,
             "#d8576b"
            ],
            [
             0.6666666666666666,
             "#ed7953"
            ],
            [
             0.7777777777777778,
             "#fb9f3a"
            ],
            [
             0.8888888888888888,
             "#fdca26"
            ],
            [
             1,
             "#f0f921"
            ]
           ]
          },
          "colorway": [
           "#636efa",
           "#EF553B",
           "#00cc96",
           "#ab63fa",
           "#FFA15A",
           "#19d3f3",
           "#FF6692",
           "#B6E880",
           "#FF97FF",
           "#FECB52"
          ],
          "font": {
           "color": "#2a3f5f"
          },
          "geo": {
           "bgcolor": "white",
           "lakecolor": "white",
           "landcolor": "#E5ECF6",
           "showlakes": true,
           "showland": true,
           "subunitcolor": "white"
          },
          "hoverlabel": {
           "align": "left"
          },
          "hovermode": "closest",
          "mapbox": {
           "style": "light"
          },
          "paper_bgcolor": "white",
          "plot_bgcolor": "#E5ECF6",
          "polar": {
           "angularaxis": {
            "gridcolor": "white",
            "linecolor": "white",
            "ticks": ""
           },
           "bgcolor": "#E5ECF6",
           "radialaxis": {
            "gridcolor": "white",
            "linecolor": "white",
            "ticks": ""
           }
          },
          "scene": {
           "xaxis": {
            "backgroundcolor": "#E5ECF6",
            "gridcolor": "white",
            "gridwidth": 2,
            "linecolor": "white",
            "showbackground": true,
            "ticks": "",
            "zerolinecolor": "white"
           },
           "yaxis": {
            "backgroundcolor": "#E5ECF6",
            "gridcolor": "white",
            "gridwidth": 2,
            "linecolor": "white",
            "showbackground": true,
            "ticks": "",
            "zerolinecolor": "white"
           },
           "zaxis": {
            "backgroundcolor": "#E5ECF6",
            "gridcolor": "white",
            "gridwidth": 2,
            "linecolor": "white",
            "showbackground": true,
            "ticks": "",
            "zerolinecolor": "white"
           }
          },
          "shapedefaults": {
           "line": {
            "color": "#2a3f5f"
           }
          },
          "ternary": {
           "aaxis": {
            "gridcolor": "white",
            "linecolor": "white",
            "ticks": ""
           },
           "baxis": {
            "gridcolor": "white",
            "linecolor": "white",
            "ticks": ""
           },
           "bgcolor": "#E5ECF6",
           "caxis": {
            "gridcolor": "white",
            "linecolor": "white",
            "ticks": ""
           }
          },
          "title": {
           "x": 0.05
          },
          "xaxis": {
           "automargin": true,
           "gridcolor": "white",
           "linecolor": "white",
           "ticks": "",
           "title": {
            "standoff": 15
           },
           "zerolinecolor": "white",
           "zerolinewidth": 2
          },
          "yaxis": {
           "automargin": true,
           "gridcolor": "white",
           "linecolor": "white",
           "ticks": "",
           "title": {
            "standoff": 15
           },
           "zerolinecolor": "white",
           "zerolinewidth": 2
          }
         }
        },
        "title": {
         "text": "Comparison of Total Gas Flow Entries and Exits Between Country Pairs"
        },
        "xaxis": {
         "anchor": "y",
         "categoryorder": "total descending",
         "domain": [
          0,
          1
         ],
         "tickangle": -45,
         "title": {
          "text": "Country Pair"
         }
        },
        "yaxis": {
         "anchor": "x",
         "domain": [
          0,
          1
         ],
         "showgrid": true,
         "title": {
          "text": "Gas Flow (kWh/d)"
         }
        }
       }
      }
     },
     "metadata": {},
     "output_type": "display_data"
    }
   ],
   "source": [
    "# Create a long-form DataFrame suitable for Plotly Express\n",
    "long_df = pd.melt(merged_df, \n",
    "                  id_vars=['countryPair'], \n",
    "                  value_vars=['Entries', 'Exits'], \n",
    "                  var_name='FlowType', \n",
    "                  value_name='Value')\n",
    "\n",
    "# Define custom color mapping\n",
    "color_mapping = {'Entries': 'blue', 'Exits': 'red'}\n",
    "\n",
    "# Create the bar chart\n",
    "fig = px.bar(long_df, \n",
    "             x='countryPair', \n",
    "             y='Value', \n",
    "             color='FlowType', \n",
    "             color_discrete_map=color_mapping,\n",
    "             labels={'countryPair': 'Country Pair', 'Value': 'Gas Flow (kWh/d)', 'FlowType': 'Flow Type'},\n",
    "             title='Comparison of Total Gas Flow Entries and Exits Between Country Pairs')\n",
    "\n",
    "# Update layout for better readability\n",
    "fig.update_layout(\n",
    "    barmode='group',\n",
    "    xaxis_tickangle=-45,\n",
    "    yaxis=dict(\n",
    "        title='Gas Flow (kWh/d)',\n",
    "        showgrid=True\n",
    "    ),\n",
    "    xaxis=dict(\n",
    "        title='Country Pair',\n",
    "        categoryorder='total descending'\n",
    "    )\n",
    ")\n",
    "\n",
    "# Show the figure\n",
    "fig.show()"
   ]
  },
  {
   "cell_type": "code",
   "execution_count": 283,
   "metadata": {},
   "outputs": [
    {
     "name": "stdout",
     "output_type": "stream",
     "text": [
      "Size before filtering: (118, 5)\n",
      "Size after filtering: (94, 3)\n"
     ]
    }
   ],
   "source": [
    "diff_df = merged_df.copy()\n",
    "print(f\"Size before filtering: {diff_df.shape}\")\n",
    "diff_df = diff_df[['countryPair', 'Entries', 'Exits']]\n",
    "diff_df = diff_df[(diff_df['Entries'] != 0) | (diff_df['Exits'] != 0)]\n",
    "diff_df = diff_df[diff_df['countryPair'].apply(lambda x: x.split(' -> ')[0] != x.split(' -> ')[1])]\n",
    "print(f\"Size after filtering: {diff_df.shape}\")\n",
    "diff_df['Difference'] = diff_df['Entries'] + diff_df['Exits']"
   ]
  },
  {
   "cell_type": "code",
   "execution_count": 284,
   "metadata": {},
   "outputs": [
    {
     "data": {
      "application/vnd.plotly.v1+json": {
       "config": {
        "plotlyServerURL": "https://plot.ly"
       },
       "data": [
        {
         "alignmentgroup": "True",
         "hovertemplate": "Flow Type=Entries<br>Country Pair=%{x}<br>Gas Flow (kWh/d)=%{y}<extra></extra>",
         "legendgroup": "Entries",
         "marker": {
          "color": "blue",
          "pattern": {
           "shape": ""
          }
         },
         "name": "Entries",
         "offsetgroup": "Entries",
         "orientation": "v",
         "showlegend": true,
         "textposition": "auto",
         "type": "bar",
         "x": [
          "Austria -> Germany",
          "Austria -> Hungary",
          "Austria -> Italy",
          "Austria -> Slovakia",
          "Austria -> Slovenia",
          "Belarus -> Lithuania",
          "Belgium -> France",
          "Belgium -> Germany",
          "Belgium -> Luxemburg",
          "Belgium -> Netherlands",
          "Belgium -> Norway",
          "Belgium -> United Kingdom",
          "Bulgaria -> Greece",
          "Bulgaria -> North Macedonia",
          "Bulgaria -> Romania",
          "Bulgaria -> Turkey",
          "Croatia -> Hungary",
          "Croatia -> Slovenia",
          "Czechia -> Germany",
          "Czechia -> Poland",
          "Czechia -> Slovakia",
          "Denmark -> Germany",
          "Estonia -> Latvia",
          "Estonia -> Russia",
          "France -> Belgium",
          "France -> Germany",
          "France -> Spain",
          "France -> Switzerland",
          "Germany -> Austria",
          "Germany -> Belgium",
          "Germany -> Czechia",
          "Germany -> Denmark",
          "Germany -> France",
          "Germany -> Luxemburg",
          "Germany -> Netherlands",
          "Germany -> Norway",
          "Germany -> Poland",
          "Germany -> Switzerland",
          "Greece -> Bulgaria",
          "Greece -> Turkey",
          "Hungary -> Austria",
          "Hungary -> Croatia",
          "Hungary -> Romania",
          "Hungary -> Ukraine",
          "Italy -> Austria",
          "Italy -> Slovenia",
          "Italy -> Switzerland",
          "Latvia -> Estonia",
          "Latvia -> Russia",
          "Libya -> Italy",
          "Luxemburg -> Belgium",
          "Luxemburg -> Germany",
          "Moldavia -> Ukraine",
          "Netherlands -> Belgium",
          "Netherlands -> Germany",
          "North Macedonia -> Bulgaria",
          "Norway -> Belgium",
          "Norway -> France",
          "Norway -> Germany",
          "Norway -> United Kingdom",
          "Poland -> Czechia",
          "Poland -> Germany",
          "Portugal -> Spain",
          "Romania -> Bulgaria",
          "Romania -> Hungary",
          "Romania -> Ukraine",
          "Russia -> Estonia",
          "Russia -> Finland",
          "Russia -> Latvia",
          "Russia -> Lithuania",
          "Russia -> Ukraine",
          "San Marino -> Italy",
          "Serbia -> Hungary",
          "Slovakia -> Austria",
          "Slovakia -> Czechia",
          "Slovakia -> Ukraine",
          "Slovenia -> Austria",
          "Slovenia -> Croatia",
          "Slovenia -> Italy",
          "Spain -> France",
          "Spain -> Morocco",
          "Spain -> Portugal",
          "Switzerland -> France",
          "Switzerland -> Germany",
          "Switzerland -> Italy",
          "Turkey -> Bulgaria",
          "Turkey -> Greece",
          "Ukraine -> Hungary",
          "Ukraine -> Moldavia",
          "Ukraine -> Romania",
          "Ukraine -> Slovakia",
          "United Kingdom -> Belgium",
          "United Kingdom -> Ireland",
          "United Kingdom -> Netherlands"
         ],
         "xaxis": "x",
         "y": [
          626397236,
          1591661821,
          10457939761,
          0,
          503820405,
          1690832930,
          3654710373,
          1186306801,
          250107684,
          4998158450.6,
          5133876308,
          719558055,
          1109253626,
          0,
          9843360377.437,
          0,
          526655043,
          119929481,
          21807438120,
          265605798,
          847766446,
          0,
          74963383,
          227070258,
          3654710373,
          1934352239,
          2190777543,
          0,
          626397236,
          1186306801,
          32109322041,
          0,
          3868704478,
          111275981,
          6919864472.8,
          7472716293.900001,
          8886846108,
          0,
          1109253626,
          398238894,
          1591661821,
          526655043,
          519274532.01,
          0,
          10457939761,
          2777256,
          3992157256,
          74963383,
          74963383,
          1703364014,
          250107684,
          111275981,
          6437669854.8,
          4998158450.6,
          10055431075.199,
          0,
          5133876308,
          5453810263,
          7472716293.900001,
          17588604189,
          265605798,
          8886846108,
          301991114,
          9843360377.437,
          519274532.01,
          6604885512.11,
          227070258,
          1087223100,
          74963383,
          0,
          29230281077.6652,
          0,
          0,
          0,
          847766446,
          15413503673,
          503820405,
          119929481,
          2777256,
          2190777543,
          2940135131,
          301991114,
          0,
          0,
          3992157256,
          0,
          796477788,
          2878103000,
          6437669854.8,
          6604885512.11,
          15413503673,
          0,
          0,
          0
         ],
         "yaxis": "y"
        },
        {
         "alignmentgroup": "True",
         "hovertemplate": "Flow Type=Exits<br>Country Pair=%{x}<br>Gas Flow (kWh/d)=%{y}<extra></extra>",
         "legendgroup": "Exits",
         "marker": {
          "color": "red",
          "pattern": {
           "shape": ""
          }
         },
         "name": "Exits",
         "offsetgroup": "Exits",
         "orientation": "v",
         "showlegend": true,
         "textposition": "auto",
         "type": "bar",
         "x": [
          "Austria -> Germany",
          "Austria -> Hungary",
          "Austria -> Italy",
          "Austria -> Slovakia",
          "Austria -> Slovenia",
          "Belarus -> Lithuania",
          "Belgium -> France",
          "Belgium -> Germany",
          "Belgium -> Luxemburg",
          "Belgium -> Netherlands",
          "Belgium -> Norway",
          "Belgium -> United Kingdom",
          "Bulgaria -> Greece",
          "Bulgaria -> North Macedonia",
          "Bulgaria -> Romania",
          "Bulgaria -> Turkey",
          "Croatia -> Hungary",
          "Croatia -> Slovenia",
          "Czechia -> Germany",
          "Czechia -> Poland",
          "Czechia -> Slovakia",
          "Denmark -> Germany",
          "Estonia -> Latvia",
          "Estonia -> Russia",
          "France -> Belgium",
          "France -> Germany",
          "France -> Spain",
          "France -> Switzerland",
          "Germany -> Austria",
          "Germany -> Belgium",
          "Germany -> Czechia",
          "Germany -> Denmark",
          "Germany -> France",
          "Germany -> Luxemburg",
          "Germany -> Netherlands",
          "Germany -> Norway",
          "Germany -> Poland",
          "Germany -> Switzerland",
          "Greece -> Bulgaria",
          "Greece -> Turkey",
          "Hungary -> Austria",
          "Hungary -> Croatia",
          "Hungary -> Romania",
          "Hungary -> Ukraine",
          "Italy -> Austria",
          "Italy -> Slovenia",
          "Italy -> Switzerland",
          "Latvia -> Estonia",
          "Latvia -> Russia",
          "Libya -> Italy",
          "Luxemburg -> Belgium",
          "Luxemburg -> Germany",
          "Moldavia -> Ukraine",
          "Netherlands -> Belgium",
          "Netherlands -> Germany",
          "North Macedonia -> Bulgaria",
          "Norway -> Belgium",
          "Norway -> France",
          "Norway -> Germany",
          "Norway -> United Kingdom",
          "Poland -> Czechia",
          "Poland -> Germany",
          "Portugal -> Spain",
          "Romania -> Bulgaria",
          "Romania -> Hungary",
          "Romania -> Ukraine",
          "Russia -> Estonia",
          "Russia -> Finland",
          "Russia -> Latvia",
          "Russia -> Lithuania",
          "Russia -> Ukraine",
          "San Marino -> Italy",
          "Serbia -> Hungary",
          "Slovakia -> Austria",
          "Slovakia -> Czechia",
          "Slovakia -> Ukraine",
          "Slovenia -> Austria",
          "Slovenia -> Croatia",
          "Slovenia -> Italy",
          "Spain -> France",
          "Spain -> Morocco",
          "Spain -> Portugal",
          "Switzerland -> France",
          "Switzerland -> Germany",
          "Switzerland -> Italy",
          "Turkey -> Bulgaria",
          "Turkey -> Greece",
          "Ukraine -> Hungary",
          "Ukraine -> Moldavia",
          "Ukraine -> Romania",
          "Ukraine -> Slovakia",
          "United Kingdom -> Belgium",
          "United Kingdom -> Ireland",
          "United Kingdom -> Netherlands"
         ],
         "xaxis": "x",
         "y": [
          -2763488083,
          -1591658891,
          -10457892635,
          -40841906397,
          -557742906,
          0,
          -3658167688,
          -1186306808,
          -281492893,
          -4899065539.3,
          0,
          0,
          -1109254232,
          -159326653,
          -1238372978,
          -2992060663,
          -526711000,
          -109695170,
          -11532436339,
          -292035129,
          -738884801,
          -190302598,
          0,
          0,
          -3658167688,
          0,
          -2137784769,
          -2688735199,
          -1601837254,
          -1186306808,
          -30443421723,
          -190302598,
          0,
          -121116084,
          -19217250890.61,
          0,
          -8097563305.99,
          -9824002159,
          -1109254232,
          0,
          -1591658891,
          -526711000,
          -519215000,
          -2872785491,
          -10457892635,
          -2776837,
          0,
          0,
          0,
          0,
          -281492893,
          -121116084,
          -7117442279.190001,
          -4899065539.3,
          -11922676906.210001,
          -159326653,
          0,
          0,
          0,
          0,
          -292035129,
          -8097563305.99,
          -289315151,
          -1238372978,
          -519215000,
          -6637081901.54,
          0,
          0,
          0,
          -636912274,
          0,
          -34708214,
          -1097242000,
          -54455875196,
          -738884801,
          -264663880,
          -557742906,
          -109695170,
          -2776837,
          -2137784769,
          0,
          -289315151,
          -2688735199,
          -29418736591,
          -66455509,
          -2992060663,
          0,
          -315669000,
          -445138996.49,
          -6141538552.12,
          -264663880,
          -718631008,
          -1441190700,
          -2453780385.2
         ],
         "yaxis": "y"
        },
        {
         "alignmentgroup": "True",
         "hovertemplate": "Flow Type=Difference<br>Country Pair=%{x}<br>Gas Flow (kWh/d)=%{y}<extra></extra>",
         "legendgroup": "Difference",
         "marker": {
          "color": "green",
          "pattern": {
           "shape": ""
          }
         },
         "name": "Difference",
         "offsetgroup": "Difference",
         "orientation": "v",
         "showlegend": true,
         "textposition": "auto",
         "type": "bar",
         "x": [
          "Austria -> Germany",
          "Austria -> Hungary",
          "Austria -> Italy",
          "Austria -> Slovakia",
          "Austria -> Slovenia",
          "Belarus -> Lithuania",
          "Belgium -> France",
          "Belgium -> Germany",
          "Belgium -> Luxemburg",
          "Belgium -> Netherlands",
          "Belgium -> Norway",
          "Belgium -> United Kingdom",
          "Bulgaria -> Greece",
          "Bulgaria -> North Macedonia",
          "Bulgaria -> Romania",
          "Bulgaria -> Turkey",
          "Croatia -> Hungary",
          "Croatia -> Slovenia",
          "Czechia -> Germany",
          "Czechia -> Poland",
          "Czechia -> Slovakia",
          "Denmark -> Germany",
          "Estonia -> Latvia",
          "Estonia -> Russia",
          "France -> Belgium",
          "France -> Germany",
          "France -> Spain",
          "France -> Switzerland",
          "Germany -> Austria",
          "Germany -> Belgium",
          "Germany -> Czechia",
          "Germany -> Denmark",
          "Germany -> France",
          "Germany -> Luxemburg",
          "Germany -> Netherlands",
          "Germany -> Norway",
          "Germany -> Poland",
          "Germany -> Switzerland",
          "Greece -> Bulgaria",
          "Greece -> Turkey",
          "Hungary -> Austria",
          "Hungary -> Croatia",
          "Hungary -> Romania",
          "Hungary -> Ukraine",
          "Italy -> Austria",
          "Italy -> Slovenia",
          "Italy -> Switzerland",
          "Latvia -> Estonia",
          "Latvia -> Russia",
          "Libya -> Italy",
          "Luxemburg -> Belgium",
          "Luxemburg -> Germany",
          "Moldavia -> Ukraine",
          "Netherlands -> Belgium",
          "Netherlands -> Germany",
          "North Macedonia -> Bulgaria",
          "Norway -> Belgium",
          "Norway -> France",
          "Norway -> Germany",
          "Norway -> United Kingdom",
          "Poland -> Czechia",
          "Poland -> Germany",
          "Portugal -> Spain",
          "Romania -> Bulgaria",
          "Romania -> Hungary",
          "Romania -> Ukraine",
          "Russia -> Estonia",
          "Russia -> Finland",
          "Russia -> Latvia",
          "Russia -> Lithuania",
          "Russia -> Ukraine",
          "San Marino -> Italy",
          "Serbia -> Hungary",
          "Slovakia -> Austria",
          "Slovakia -> Czechia",
          "Slovakia -> Ukraine",
          "Slovenia -> Austria",
          "Slovenia -> Croatia",
          "Slovenia -> Italy",
          "Spain -> France",
          "Spain -> Morocco",
          "Spain -> Portugal",
          "Switzerland -> France",
          "Switzerland -> Germany",
          "Switzerland -> Italy",
          "Turkey -> Bulgaria",
          "Turkey -> Greece",
          "Ukraine -> Hungary",
          "Ukraine -> Moldavia",
          "Ukraine -> Romania",
          "Ukraine -> Slovakia",
          "United Kingdom -> Belgium",
          "United Kingdom -> Ireland",
          "United Kingdom -> Netherlands"
         ],
         "xaxis": "x",
         "y": [
          -2137090847,
          2930,
          47126,
          -40841906397,
          -53922501,
          1690832930,
          -3457315,
          -7,
          -31385209,
          99092911.30000019,
          5133876308,
          719558055,
          -606,
          -159326653,
          8604987399.437,
          -2992060663,
          -55957,
          10234311,
          10275001781,
          -26429331,
          108881645,
          -190302598,
          74963383,
          227070258,
          -3457315,
          1934352239,
          52992774,
          -2688735199,
          -975440018,
          -7,
          1665900318,
          -190302598,
          3868704478,
          -9840103,
          -12297386417.810001,
          7472716293.900001,
          789282802.0100002,
          -9824002159,
          -606,
          398238894,
          2930,
          -55957,
          59532.00999999046,
          -2872785491,
          47126,
          419,
          3992157256,
          74963383,
          74963383,
          1703364014,
          -31385209,
          -9840103,
          -679772424.3900003,
          99092911.30000019,
          -1867245831.0110016,
          -159326653,
          5133876308,
          5453810263,
          7472716293.900001,
          17588604189,
          -26429331,
          789282802.0100002,
          12675963,
          8604987399.437,
          59532.00999999046,
          -32196389.430000305,
          227070258,
          1087223100,
          74963383,
          -636912274,
          29230281077.6652,
          -34708214,
          -1097242000,
          -54455875196,
          108881645,
          15148839793,
          -53922501,
          10234311,
          419,
          52992774,
          2940135131,
          12675963,
          -2688735199,
          -29418736591,
          3925701747,
          -2992060663,
          796477788,
          2562434000,
          5992530858.31,
          463346959.9899998,
          15148839793,
          -718631008,
          -1441190700,
          -2453780385.2
         ],
         "yaxis": "y"
        }
       ],
       "layout": {
        "barmode": "group",
        "legend": {
         "title": {
          "text": "Flow Type"
         },
         "tracegroupgap": 0
        },
        "template": {
         "data": {
          "bar": [
           {
            "error_x": {
             "color": "#2a3f5f"
            },
            "error_y": {
             "color": "#2a3f5f"
            },
            "marker": {
             "line": {
              "color": "#E5ECF6",
              "width": 0.5
             },
             "pattern": {
              "fillmode": "overlay",
              "size": 10,
              "solidity": 0.2
             }
            },
            "type": "bar"
           }
          ],
          "barpolar": [
           {
            "marker": {
             "line": {
              "color": "#E5ECF6",
              "width": 0.5
             },
             "pattern": {
              "fillmode": "overlay",
              "size": 10,
              "solidity": 0.2
             }
            },
            "type": "barpolar"
           }
          ],
          "carpet": [
           {
            "aaxis": {
             "endlinecolor": "#2a3f5f",
             "gridcolor": "white",
             "linecolor": "white",
             "minorgridcolor": "white",
             "startlinecolor": "#2a3f5f"
            },
            "baxis": {
             "endlinecolor": "#2a3f5f",
             "gridcolor": "white",
             "linecolor": "white",
             "minorgridcolor": "white",
             "startlinecolor": "#2a3f5f"
            },
            "type": "carpet"
           }
          ],
          "choropleth": [
           {
            "colorbar": {
             "outlinewidth": 0,
             "ticks": ""
            },
            "type": "choropleth"
           }
          ],
          "contour": [
           {
            "colorbar": {
             "outlinewidth": 0,
             "ticks": ""
            },
            "colorscale": [
             [
              0,
              "#0d0887"
             ],
             [
              0.1111111111111111,
              "#46039f"
             ],
             [
              0.2222222222222222,
              "#7201a8"
             ],
             [
              0.3333333333333333,
              "#9c179e"
             ],
             [
              0.4444444444444444,
              "#bd3786"
             ],
             [
              0.5555555555555556,
              "#d8576b"
             ],
             [
              0.6666666666666666,
              "#ed7953"
             ],
             [
              0.7777777777777778,
              "#fb9f3a"
             ],
             [
              0.8888888888888888,
              "#fdca26"
             ],
             [
              1,
              "#f0f921"
             ]
            ],
            "type": "contour"
           }
          ],
          "contourcarpet": [
           {
            "colorbar": {
             "outlinewidth": 0,
             "ticks": ""
            },
            "type": "contourcarpet"
           }
          ],
          "heatmap": [
           {
            "colorbar": {
             "outlinewidth": 0,
             "ticks": ""
            },
            "colorscale": [
             [
              0,
              "#0d0887"
             ],
             [
              0.1111111111111111,
              "#46039f"
             ],
             [
              0.2222222222222222,
              "#7201a8"
             ],
             [
              0.3333333333333333,
              "#9c179e"
             ],
             [
              0.4444444444444444,
              "#bd3786"
             ],
             [
              0.5555555555555556,
              "#d8576b"
             ],
             [
              0.6666666666666666,
              "#ed7953"
             ],
             [
              0.7777777777777778,
              "#fb9f3a"
             ],
             [
              0.8888888888888888,
              "#fdca26"
             ],
             [
              1,
              "#f0f921"
             ]
            ],
            "type": "heatmap"
           }
          ],
          "heatmapgl": [
           {
            "colorbar": {
             "outlinewidth": 0,
             "ticks": ""
            },
            "colorscale": [
             [
              0,
              "#0d0887"
             ],
             [
              0.1111111111111111,
              "#46039f"
             ],
             [
              0.2222222222222222,
              "#7201a8"
             ],
             [
              0.3333333333333333,
              "#9c179e"
             ],
             [
              0.4444444444444444,
              "#bd3786"
             ],
             [
              0.5555555555555556,
              "#d8576b"
             ],
             [
              0.6666666666666666,
              "#ed7953"
             ],
             [
              0.7777777777777778,
              "#fb9f3a"
             ],
             [
              0.8888888888888888,
              "#fdca26"
             ],
             [
              1,
              "#f0f921"
             ]
            ],
            "type": "heatmapgl"
           }
          ],
          "histogram": [
           {
            "marker": {
             "pattern": {
              "fillmode": "overlay",
              "size": 10,
              "solidity": 0.2
             }
            },
            "type": "histogram"
           }
          ],
          "histogram2d": [
           {
            "colorbar": {
             "outlinewidth": 0,
             "ticks": ""
            },
            "colorscale": [
             [
              0,
              "#0d0887"
             ],
             [
              0.1111111111111111,
              "#46039f"
             ],
             [
              0.2222222222222222,
              "#7201a8"
             ],
             [
              0.3333333333333333,
              "#9c179e"
             ],
             [
              0.4444444444444444,
              "#bd3786"
             ],
             [
              0.5555555555555556,
              "#d8576b"
             ],
             [
              0.6666666666666666,
              "#ed7953"
             ],
             [
              0.7777777777777778,
              "#fb9f3a"
             ],
             [
              0.8888888888888888,
              "#fdca26"
             ],
             [
              1,
              "#f0f921"
             ]
            ],
            "type": "histogram2d"
           }
          ],
          "histogram2dcontour": [
           {
            "colorbar": {
             "outlinewidth": 0,
             "ticks": ""
            },
            "colorscale": [
             [
              0,
              "#0d0887"
             ],
             [
              0.1111111111111111,
              "#46039f"
             ],
             [
              0.2222222222222222,
              "#7201a8"
             ],
             [
              0.3333333333333333,
              "#9c179e"
             ],
             [
              0.4444444444444444,
              "#bd3786"
             ],
             [
              0.5555555555555556,
              "#d8576b"
             ],
             [
              0.6666666666666666,
              "#ed7953"
             ],
             [
              0.7777777777777778,
              "#fb9f3a"
             ],
             [
              0.8888888888888888,
              "#fdca26"
             ],
             [
              1,
              "#f0f921"
             ]
            ],
            "type": "histogram2dcontour"
           }
          ],
          "mesh3d": [
           {
            "colorbar": {
             "outlinewidth": 0,
             "ticks": ""
            },
            "type": "mesh3d"
           }
          ],
          "parcoords": [
           {
            "line": {
             "colorbar": {
              "outlinewidth": 0,
              "ticks": ""
             }
            },
            "type": "parcoords"
           }
          ],
          "pie": [
           {
            "automargin": true,
            "type": "pie"
           }
          ],
          "scatter": [
           {
            "fillpattern": {
             "fillmode": "overlay",
             "size": 10,
             "solidity": 0.2
            },
            "type": "scatter"
           }
          ],
          "scatter3d": [
           {
            "line": {
             "colorbar": {
              "outlinewidth": 0,
              "ticks": ""
             }
            },
            "marker": {
             "colorbar": {
              "outlinewidth": 0,
              "ticks": ""
             }
            },
            "type": "scatter3d"
           }
          ],
          "scattercarpet": [
           {
            "marker": {
             "colorbar": {
              "outlinewidth": 0,
              "ticks": ""
             }
            },
            "type": "scattercarpet"
           }
          ],
          "scattergeo": [
           {
            "marker": {
             "colorbar": {
              "outlinewidth": 0,
              "ticks": ""
             }
            },
            "type": "scattergeo"
           }
          ],
          "scattergl": [
           {
            "marker": {
             "colorbar": {
              "outlinewidth": 0,
              "ticks": ""
             }
            },
            "type": "scattergl"
           }
          ],
          "scattermapbox": [
           {
            "marker": {
             "colorbar": {
              "outlinewidth": 0,
              "ticks": ""
             }
            },
            "type": "scattermapbox"
           }
          ],
          "scatterpolar": [
           {
            "marker": {
             "colorbar": {
              "outlinewidth": 0,
              "ticks": ""
             }
            },
            "type": "scatterpolar"
           }
          ],
          "scatterpolargl": [
           {
            "marker": {
             "colorbar": {
              "outlinewidth": 0,
              "ticks": ""
             }
            },
            "type": "scatterpolargl"
           }
          ],
          "scatterternary": [
           {
            "marker": {
             "colorbar": {
              "outlinewidth": 0,
              "ticks": ""
             }
            },
            "type": "scatterternary"
           }
          ],
          "surface": [
           {
            "colorbar": {
             "outlinewidth": 0,
             "ticks": ""
            },
            "colorscale": [
             [
              0,
              "#0d0887"
             ],
             [
              0.1111111111111111,
              "#46039f"
             ],
             [
              0.2222222222222222,
              "#7201a8"
             ],
             [
              0.3333333333333333,
              "#9c179e"
             ],
             [
              0.4444444444444444,
              "#bd3786"
             ],
             [
              0.5555555555555556,
              "#d8576b"
             ],
             [
              0.6666666666666666,
              "#ed7953"
             ],
             [
              0.7777777777777778,
              "#fb9f3a"
             ],
             [
              0.8888888888888888,
              "#fdca26"
             ],
             [
              1,
              "#f0f921"
             ]
            ],
            "type": "surface"
           }
          ],
          "table": [
           {
            "cells": {
             "fill": {
              "color": "#EBF0F8"
             },
             "line": {
              "color": "white"
             }
            },
            "header": {
             "fill": {
              "color": "#C8D4E3"
             },
             "line": {
              "color": "white"
             }
            },
            "type": "table"
           }
          ]
         },
         "layout": {
          "annotationdefaults": {
           "arrowcolor": "#2a3f5f",
           "arrowhead": 0,
           "arrowwidth": 1
          },
          "autotypenumbers": "strict",
          "coloraxis": {
           "colorbar": {
            "outlinewidth": 0,
            "ticks": ""
           }
          },
          "colorscale": {
           "diverging": [
            [
             0,
             "#8e0152"
            ],
            [
             0.1,
             "#c51b7d"
            ],
            [
             0.2,
             "#de77ae"
            ],
            [
             0.3,
             "#f1b6da"
            ],
            [
             0.4,
             "#fde0ef"
            ],
            [
             0.5,
             "#f7f7f7"
            ],
            [
             0.6,
             "#e6f5d0"
            ],
            [
             0.7,
             "#b8e186"
            ],
            [
             0.8,
             "#7fbc41"
            ],
            [
             0.9,
             "#4d9221"
            ],
            [
             1,
             "#276419"
            ]
           ],
           "sequential": [
            [
             0,
             "#0d0887"
            ],
            [
             0.1111111111111111,
             "#46039f"
            ],
            [
             0.2222222222222222,
             "#7201a8"
            ],
            [
             0.3333333333333333,
             "#9c179e"
            ],
            [
             0.4444444444444444,
             "#bd3786"
            ],
            [
             0.5555555555555556,
             "#d8576b"
            ],
            [
             0.6666666666666666,
             "#ed7953"
            ],
            [
             0.7777777777777778,
             "#fb9f3a"
            ],
            [
             0.8888888888888888,
             "#fdca26"
            ],
            [
             1,
             "#f0f921"
            ]
           ],
           "sequentialminus": [
            [
             0,
             "#0d0887"
            ],
            [
             0.1111111111111111,
             "#46039f"
            ],
            [
             0.2222222222222222,
             "#7201a8"
            ],
            [
             0.3333333333333333,
             "#9c179e"
            ],
            [
             0.4444444444444444,
             "#bd3786"
            ],
            [
             0.5555555555555556,
             "#d8576b"
            ],
            [
             0.6666666666666666,
             "#ed7953"
            ],
            [
             0.7777777777777778,
             "#fb9f3a"
            ],
            [
             0.8888888888888888,
             "#fdca26"
            ],
            [
             1,
             "#f0f921"
            ]
           ]
          },
          "colorway": [
           "#636efa",
           "#EF553B",
           "#00cc96",
           "#ab63fa",
           "#FFA15A",
           "#19d3f3",
           "#FF6692",
           "#B6E880",
           "#FF97FF",
           "#FECB52"
          ],
          "font": {
           "color": "#2a3f5f"
          },
          "geo": {
           "bgcolor": "white",
           "lakecolor": "white",
           "landcolor": "#E5ECF6",
           "showlakes": true,
           "showland": true,
           "subunitcolor": "white"
          },
          "hoverlabel": {
           "align": "left"
          },
          "hovermode": "closest",
          "mapbox": {
           "style": "light"
          },
          "paper_bgcolor": "white",
          "plot_bgcolor": "#E5ECF6",
          "polar": {
           "angularaxis": {
            "gridcolor": "white",
            "linecolor": "white",
            "ticks": ""
           },
           "bgcolor": "#E5ECF6",
           "radialaxis": {
            "gridcolor": "white",
            "linecolor": "white",
            "ticks": ""
           }
          },
          "scene": {
           "xaxis": {
            "backgroundcolor": "#E5ECF6",
            "gridcolor": "white",
            "gridwidth": 2,
            "linecolor": "white",
            "showbackground": true,
            "ticks": "",
            "zerolinecolor": "white"
           },
           "yaxis": {
            "backgroundcolor": "#E5ECF6",
            "gridcolor": "white",
            "gridwidth": 2,
            "linecolor": "white",
            "showbackground": true,
            "ticks": "",
            "zerolinecolor": "white"
           },
           "zaxis": {
            "backgroundcolor": "#E5ECF6",
            "gridcolor": "white",
            "gridwidth": 2,
            "linecolor": "white",
            "showbackground": true,
            "ticks": "",
            "zerolinecolor": "white"
           }
          },
          "shapedefaults": {
           "line": {
            "color": "#2a3f5f"
           }
          },
          "ternary": {
           "aaxis": {
            "gridcolor": "white",
            "linecolor": "white",
            "ticks": ""
           },
           "baxis": {
            "gridcolor": "white",
            "linecolor": "white",
            "ticks": ""
           },
           "bgcolor": "#E5ECF6",
           "caxis": {
            "gridcolor": "white",
            "linecolor": "white",
            "ticks": ""
           }
          },
          "title": {
           "x": 0.05
          },
          "xaxis": {
           "automargin": true,
           "gridcolor": "white",
           "linecolor": "white",
           "ticks": "",
           "title": {
            "standoff": 15
           },
           "zerolinecolor": "white",
           "zerolinewidth": 2
          },
          "yaxis": {
           "automargin": true,
           "gridcolor": "white",
           "linecolor": "white",
           "ticks": "",
           "title": {
            "standoff": 15
           },
           "zerolinecolor": "white",
           "zerolinewidth": 2
          }
         }
        },
        "title": {
         "text": "Comparison of Total Gas Flow Entries and Exits Between Country Pairs"
        },
        "xaxis": {
         "anchor": "y",
         "categoryorder": "total descending",
         "domain": [
          0,
          1
         ],
         "tickangle": -45,
         "title": {
          "text": "Country Pair"
         }
        },
        "yaxis": {
         "anchor": "x",
         "domain": [
          0,
          1
         ],
         "showgrid": true,
         "title": {
          "text": "Gas Flow (kWh/d)"
         }
        }
       }
      }
     },
     "metadata": {},
     "output_type": "display_data"
    }
   ],
   "source": [
    "# Create a long-form DataFrame suitable for Plotly Express\n",
    "long_df = pd.melt(diff_df, \n",
    "                  id_vars=['countryPair'], \n",
    "                  value_vars=['Entries', 'Exits','Difference'], \n",
    "                  var_name='FlowType', \n",
    "                  value_name='Value')\n",
    "\n",
    "# Define custom color mapping\n",
    "color_mapping = {\n",
    "    'Entries': 'blue', 'Exits': 'red','Difference':'green'}\n",
    "\n",
    "# Create the bar chart\n",
    "fig = px.bar(long_df, \n",
    "             x='countryPair', \n",
    "             y='Value', \n",
    "             color='FlowType', \n",
    "             color_discrete_map=color_mapping,\n",
    "             labels={'countryPair': 'Country Pair', 'Value': 'Gas Flow (kWh/d)','Difference':'Total diff' ,'FlowType': 'Flow Type'},\n",
    "             title='Comparison of Total Gas Flow Entries and Exits Between Country Pairs')\n",
    "\n",
    "# Update layout for better readability\n",
    "fig.update_layout(\n",
    "    barmode='group',\n",
    "    xaxis_tickangle=-45,\n",
    "    yaxis=dict(\n",
    "        title='Gas Flow (kWh/d)',\n",
    "        showgrid=True\n",
    "    ),\n",
    "    xaxis=dict(\n",
    "        title='Country Pair',\n",
    "        categoryorder='total descending'\n",
    "    )\n",
    ")\n",
    "\n",
    "\n",
    "# Show the figure\n",
    "fig.show()\n"
   ]
  },
  {
   "cell_type": "markdown",
   "metadata": {},
   "source": [
    "Analysis : Most of them are on-par, except from the ones on the extremities\n",
    "\n",
    "Inconsitencies come from the fact that data might be comming from only one of both parties\n",
    "\n",
    "TODO : Use this graph but on the total entries/exits over the year"
   ]
  },
  {
   "cell_type": "markdown",
   "metadata": {},
   "source": [
    "## IGNORE :  Add country info"
   ]
  },
  {
   "cell_type": "code",
   "execution_count": 285,
   "metadata": {},
   "outputs": [],
   "source": [
    "# # ADD COUNTRY INFO\n",
    "# # Now assume all directions are entries\n",
    "\n",
    "# filtered_df['fromCountry'] = filtered_df.apply(lambda row: row['fromCountryLabel'] if row['directionKey'] == 'entry' else row['toCountryLabel'], axis=1)\n",
    "# filtered_df['toCountry'] = filtered_df.apply(lambda row: row['toCountryLabel'] if row['directionKey'] == 'exit' else row['fromCountryLabel'], axis=1)\n",
    "# filtered_df['operatorCountryCode'] = filtered_df['operatorKey'].str[:2]"
   ]
  },
  {
   "cell_type": "code",
   "execution_count": 286,
   "metadata": {},
   "outputs": [],
   "source": [
    "# print(filtered_df.shape)\n",
    "# print(filtered_df.columns)"
   ]
  },
  {
   "cell_type": "code",
   "execution_count": 287,
   "metadata": {},
   "outputs": [],
   "source": [
    "# print(f\"Entries from and to the same country : {filtered_df[filtered_df['fromCountry'] == filtered_df['toCountry']].shape}\")"
   ]
  },
  {
   "cell_type": "markdown",
   "metadata": {},
   "source": [
    "## Aggregate Data"
   ]
  },
  {
   "cell_type": "code",
   "execution_count": 288,
   "metadata": {},
   "outputs": [
    {
     "name": "stdout",
     "output_type": "stream",
     "text": [
      "(109, 5)\n"
     ]
    },
    {
     "data": {
      "text/plain": [
       "Index(['fromCountryLabel', 'toCountryLabel', 'entryValue', 'exitValue',\n",
       "       'totalFlow'],\n",
       "      dtype='object')"
      ]
     },
     "execution_count": 288,
     "metadata": {},
     "output_type": "execute_result"
    }
   ],
   "source": [
    "print(combined_df.shape)\n",
    "combined_df.columns"
   ]
  },
  {
   "cell_type": "code",
   "execution_count": 289,
   "metadata": {},
   "outputs": [
    {
     "data": {
      "text/html": [
       "<div>\n",
       "<style scoped>\n",
       "    .dataframe tbody tr th:only-of-type {\n",
       "        vertical-align: middle;\n",
       "    }\n",
       "\n",
       "    .dataframe tbody tr th {\n",
       "        vertical-align: top;\n",
       "    }\n",
       "\n",
       "    .dataframe thead th {\n",
       "        text-align: right;\n",
       "    }\n",
       "</style>\n",
       "<table border=\"1\" class=\"dataframe\">\n",
       "  <thead>\n",
       "    <tr style=\"text-align: right;\">\n",
       "      <th></th>\n",
       "      <th>fromCountryLabel</th>\n",
       "      <th>toCountryLabel</th>\n",
       "      <th>entryValue</th>\n",
       "      <th>exitValue</th>\n",
       "      <th>totalFlow</th>\n",
       "    </tr>\n",
       "  </thead>\n",
       "  <tbody>\n",
       "    <tr>\n",
       "      <th>27</th>\n",
       "      <td>Estonia</td>\n",
       "      <td>Russia</td>\n",
       "      <td>2.270703e+08</td>\n",
       "      <td>0.0</td>\n",
       "      <td>2.270703e+08</td>\n",
       "    </tr>\n",
       "    <tr>\n",
       "      <th>59</th>\n",
       "      <td>Latvia</td>\n",
       "      <td>Russia</td>\n",
       "      <td>7.496338e+07</td>\n",
       "      <td>0.0</td>\n",
       "      <td>7.496338e+07</td>\n",
       "    </tr>\n",
       "    <tr>\n",
       "      <th>62</th>\n",
       "      <td>Lithuania</td>\n",
       "      <td>Russia</td>\n",
       "      <td>0.000000e+00</td>\n",
       "      <td>636912274.0</td>\n",
       "      <td>-6.369123e+08</td>\n",
       "    </tr>\n",
       "    <tr>\n",
       "      <th>84</th>\n",
       "      <td>Russia</td>\n",
       "      <td>Estonia</td>\n",
       "      <td>2.270703e+08</td>\n",
       "      <td>0.0</td>\n",
       "      <td>2.270703e+08</td>\n",
       "    </tr>\n",
       "    <tr>\n",
       "      <th>85</th>\n",
       "      <td>Russia</td>\n",
       "      <td>Finland</td>\n",
       "      <td>1.087223e+09</td>\n",
       "      <td>0.0</td>\n",
       "      <td>1.087223e+09</td>\n",
       "    </tr>\n",
       "    <tr>\n",
       "      <th>86</th>\n",
       "      <td>Russia</td>\n",
       "      <td>Latvia</td>\n",
       "      <td>7.496338e+07</td>\n",
       "      <td>0.0</td>\n",
       "      <td>7.496338e+07</td>\n",
       "    </tr>\n",
       "    <tr>\n",
       "      <th>87</th>\n",
       "      <td>Russia</td>\n",
       "      <td>Ukraine</td>\n",
       "      <td>2.923028e+10</td>\n",
       "      <td>0.0</td>\n",
       "      <td>2.923028e+10</td>\n",
       "    </tr>\n",
       "  </tbody>\n",
       "</table>\n",
       "</div>"
      ],
      "text/plain": [
       "   fromCountryLabel toCountryLabel    entryValue    exitValue     totalFlow\n",
       "27          Estonia         Russia  2.270703e+08          0.0  2.270703e+08\n",
       "59           Latvia         Russia  7.496338e+07          0.0  7.496338e+07\n",
       "62        Lithuania         Russia  0.000000e+00  636912274.0 -6.369123e+08\n",
       "84           Russia        Estonia  2.270703e+08          0.0  2.270703e+08\n",
       "85           Russia        Finland  1.087223e+09          0.0  1.087223e+09\n",
       "86           Russia         Latvia  7.496338e+07          0.0  7.496338e+07\n",
       "87           Russia        Ukraine  2.923028e+10          0.0  2.923028e+10"
      ]
     },
     "execution_count": 289,
     "metadata": {},
     "output_type": "execute_result"
    }
   ],
   "source": [
    "get_data_for_country(combined_df,'Russia')"
   ]
  },
  {
   "cell_type": "code",
   "execution_count": 293,
   "metadata": {},
   "outputs": [
    {
     "name": "stdout",
     "output_type": "stream",
     "text": [
      "(97, 3)\n",
      "(93, 3)\n"
     ]
    },
    {
     "data": {
      "text/html": [
       "<div>\n",
       "<style scoped>\n",
       "    .dataframe tbody tr th:only-of-type {\n",
       "        vertical-align: middle;\n",
       "    }\n",
       "\n",
       "    .dataframe tbody tr th {\n",
       "        vertical-align: top;\n",
       "    }\n",
       "\n",
       "    .dataframe thead th {\n",
       "        text-align: right;\n",
       "    }\n",
       "</style>\n",
       "<table border=\"1\" class=\"dataframe\">\n",
       "  <thead>\n",
       "    <tr style=\"text-align: right;\">\n",
       "      <th></th>\n",
       "      <th>toCountryLabel</th>\n",
       "      <th>fromCountryLabel</th>\n",
       "      <th>revExit</th>\n",
       "    </tr>\n",
       "  </thead>\n",
       "  <tbody>\n",
       "    <tr>\n",
       "      <th>0</th>\n",
       "      <td>Austria</td>\n",
       "      <td>Austria</td>\n",
       "      <td>1.606757e+08</td>\n",
       "    </tr>\n",
       "    <tr>\n",
       "      <th>1</th>\n",
       "      <td>Austria</td>\n",
       "      <td>Germany</td>\n",
       "      <td>1.601837e+09</td>\n",
       "    </tr>\n",
       "    <tr>\n",
       "      <th>2</th>\n",
       "      <td>Austria</td>\n",
       "      <td>Hungary</td>\n",
       "      <td>1.591659e+09</td>\n",
       "    </tr>\n",
       "    <tr>\n",
       "      <th>3</th>\n",
       "      <td>Austria</td>\n",
       "      <td>Italy</td>\n",
       "      <td>1.045789e+10</td>\n",
       "    </tr>\n",
       "    <tr>\n",
       "      <th>4</th>\n",
       "      <td>Austria</td>\n",
       "      <td>Slovakia</td>\n",
       "      <td>5.445588e+10</td>\n",
       "    </tr>\n",
       "  </tbody>\n",
       "</table>\n",
       "</div>"
      ],
      "text/plain": [
       "  toCountryLabel fromCountryLabel       revExit\n",
       "0        Austria          Austria  1.606757e+08\n",
       "1        Austria          Germany  1.601837e+09\n",
       "2        Austria          Hungary  1.591659e+09\n",
       "3        Austria            Italy  1.045789e+10\n",
       "4        Austria         Slovakia  5.445588e+10"
      ]
     },
     "execution_count": 293,
     "metadata": {},
     "output_type": "execute_result"
    }
   ],
   "source": []
  },
  {
   "cell_type": "code",
   "execution_count": 294,
   "metadata": {},
   "outputs": [
    {
     "name": "stdout",
     "output_type": "stream",
     "text": [
      "(109, 4)\n",
      "(115, 5)\n"
     ]
    }
   ],
   "source": [
    "aggregated_df = pd.merge(grouped_entries_df, grouped_exits_df, \n",
    "        on=['fromCountryLabel', 'toCountryLabel'], \n",
    "        how='outer').fillna(0)\n",
    "print(aggregated_df.shape)\n",
    "aggregated_df = pd.merge(aggregated_df, reversed_exits,on = ['fromCountryLabel', 'toCountryLabel'], how='outer').fillna(0)\n",
    "print(aggregated_df.shape)\n",
    "aggregated_df = pd.merge(aggregated_df, reversed_entries,on = ['fromCountryLabel', 'toCountryLabel'], how='outer').fillna(0)\n",
    "\n",
    "aggregated_df['totalFlow'] = aggregated_df['entryValue'] - aggregated_df['exitValue']\n",
    "\n"
   ]
  },
  {
   "cell_type": "code",
   "execution_count": 300,
   "metadata": {},
   "outputs": [],
   "source": [
    "def reversed_info(grouped_entries_df, grouped_exits_df):\n",
    "    reversed_exits = grouped_exits_df.copy()\n",
    "    reversed_exits.rename(columns={'fromCountryLabel': 'toCountryLabel','toCountryLabel':'fromCountryLabel','exitValue':'revExit'}, inplace=True)\n",
    "\n",
    "    reversed_entries = grouped_entries_df.copy()\n",
    "    reversed_entries.rename(columns={'fromCountryLabel': 'toCountryLabel','toCountryLabel':'fromCountryLabel','entryValue':'revEntry'}, inplace=True)\n",
    "\n",
    "    return reversed_exits, reversed_entries"
   ]
  },
  {
   "cell_type": "code",
   "execution_count": 311,
   "metadata": {},
   "outputs": [],
   "source": [
    "def combine_pairs(aggregated_df):\n",
    "    \"\"\" \n",
    "    Args : aggregated_df is a dataframe with the columns formCountryLabel, toCountryLabel, entryValue, exitValue\n",
    "    \"\"\"\n",
    "    df = aggregated_df.copy()\n",
    "    df['pairKey'] = df.apply(lambda row: tuple(sorted([row['fromCountryLabel'],row['toCountryLabel']])), axis=1)\n",
    "\n",
    "    # Group by the pair_key and compute aggregated values\n",
    "    aggregated_df = df.groupby('pairKey').agg({\n",
    "        'entryValue': 'sum',\n",
    "        'exitValue': 'sum',\n",
    "        'totalFlow': 'sum'\n",
    "    }).reset_index()\n",
    "\n",
    "    # Split the pair_key back into fromCountry and toCountry\n",
    "    aggregated_df[['fromCountryLabel', 'toCountryLabel']] = pd.DataFrame(aggregated_df['pairKey'].tolist(), index=aggregated_df.index)\n",
    "    aggregated_df.drop(columns='pairKey', inplace=True)\n",
    "\n",
    "    aggregated_df = aggregated_df[['fromCountryLabel', 'toCountryLabel', 'entryValue', 'exitValue', 'totalFlow']]\n",
    "    return aggregated_df"
   ]
  },
  {
   "cell_type": "code",
   "execution_count": 312,
   "metadata": {},
   "outputs": [
    {
     "data": {
      "text/html": [
       "<div>\n",
       "<style scoped>\n",
       "    .dataframe tbody tr th:only-of-type {\n",
       "        vertical-align: middle;\n",
       "    }\n",
       "\n",
       "    .dataframe tbody tr th {\n",
       "        vertical-align: top;\n",
       "    }\n",
       "\n",
       "    .dataframe thead th {\n",
       "        text-align: right;\n",
       "    }\n",
       "</style>\n",
       "<table border=\"1\" class=\"dataframe\">\n",
       "  <thead>\n",
       "    <tr style=\"text-align: right;\">\n",
       "      <th></th>\n",
       "      <th>fromCountryLabel</th>\n",
       "      <th>toCountryLabel</th>\n",
       "      <th>entryValue</th>\n",
       "      <th>exitValue</th>\n",
       "      <th>totalFlow</th>\n",
       "    </tr>\n",
       "  </thead>\n",
       "  <tbody>\n",
       "    <tr>\n",
       "      <th>8</th>\n",
       "      <td>Belgium</td>\n",
       "      <td>Belgium</td>\n",
       "      <td>1.077562e+07</td>\n",
       "      <td>1.077562e+07</td>\n",
       "      <td>0.000000e+00</td>\n",
       "    </tr>\n",
       "    <tr>\n",
       "      <th>9</th>\n",
       "      <td>Belgium</td>\n",
       "      <td>France</td>\n",
       "      <td>7.309421e+09</td>\n",
       "      <td>7.316335e+09</td>\n",
       "      <td>-6.914630e+06</td>\n",
       "    </tr>\n",
       "    <tr>\n",
       "      <th>10</th>\n",
       "      <td>Belgium</td>\n",
       "      <td>Germany</td>\n",
       "      <td>2.372614e+09</td>\n",
       "      <td>2.372614e+09</td>\n",
       "      <td>-1.400000e+01</td>\n",
       "    </tr>\n",
       "    <tr>\n",
       "      <th>11</th>\n",
       "      <td>Belgium</td>\n",
       "      <td>Luxemburg</td>\n",
       "      <td>5.002154e+08</td>\n",
       "      <td>5.629858e+08</td>\n",
       "      <td>-6.277042e+07</td>\n",
       "    </tr>\n",
       "    <tr>\n",
       "      <th>12</th>\n",
       "      <td>Belgium</td>\n",
       "      <td>Netherlands</td>\n",
       "      <td>9.996317e+09</td>\n",
       "      <td>9.798131e+09</td>\n",
       "      <td>1.981858e+08</td>\n",
       "    </tr>\n",
       "    <tr>\n",
       "      <th>13</th>\n",
       "      <td>Belgium</td>\n",
       "      <td>Norway</td>\n",
       "      <td>1.026775e+10</td>\n",
       "      <td>0.000000e+00</td>\n",
       "      <td>1.026775e+10</td>\n",
       "    </tr>\n",
       "    <tr>\n",
       "      <th>14</th>\n",
       "      <td>Belgium</td>\n",
       "      <td>United Kingdom</td>\n",
       "      <td>7.195581e+08</td>\n",
       "      <td>7.186310e+08</td>\n",
       "      <td>9.270470e+05</td>\n",
       "    </tr>\n",
       "  </tbody>\n",
       "</table>\n",
       "</div>"
      ],
      "text/plain": [
       "   fromCountryLabel  toCountryLabel    entryValue     exitValue     totalFlow\n",
       "8           Belgium         Belgium  1.077562e+07  1.077562e+07  0.000000e+00\n",
       "9           Belgium          France  7.309421e+09  7.316335e+09 -6.914630e+06\n",
       "10          Belgium         Germany  2.372614e+09  2.372614e+09 -1.400000e+01\n",
       "11          Belgium       Luxemburg  5.002154e+08  5.629858e+08 -6.277042e+07\n",
       "12          Belgium     Netherlands  9.996317e+09  9.798131e+09  1.981858e+08\n",
       "13          Belgium          Norway  1.026775e+10  0.000000e+00  1.026775e+10\n",
       "14          Belgium  United Kingdom  7.195581e+08  7.186310e+08  9.270470e+05"
      ]
     },
     "execution_count": 312,
     "metadata": {},
     "output_type": "execute_result"
    }
   ],
   "source": [
    "# get_data_for_country(aggregated_df,'Belgium')\n",
    "agg_pairs_df = combine_pairs(aggregated_df)\n",
    "get_data_for_country(agg_pairs_df,'Belgium')"
   ]
  },
  {
   "cell_type": "markdown",
   "metadata": {},
   "source": [
    "<span style=\"color:yellow\">Now all entries are considered as values from a country to another. Exits are therefore a negative value (exiting \"from\" to \"to\")</span>\n"
   ]
  },
  {
   "cell_type": "code",
   "execution_count": 234,
   "metadata": {},
   "outputs": [
    {
     "name": "stdout",
     "output_type": "stream",
     "text": [
      "(115, 6)\n",
      "Index(['fromCountryLabel', 'toCountryLabel', 'entryValue', 'exitValue',\n",
      "       'revExit', 'totalFlow'],\n",
      "      dtype='object')\n",
      "Remove entries from and to the same country : 9\n"
     ]
    }
   ],
   "source": [
    "# AGGREGATE DATA\n",
    "# aggregated_df.rename(columns={'fromCountryLabel': 'fromCountry', 'toCountryLabel': 'toCountry'}, inplace=True)\n",
    "\n",
    "print(aggregated_df.shape)\n",
    "print(aggregated_df.columns)\n",
    "\n",
    "print(f\"Remove entries from and to the same country : {aggregated_df[aggregated_df['fromCountryLabel'] == aggregated_df['toCountryLabel']].shape[0]}\")\n",
    "aggregated_df = aggregated_df[(aggregated_df['fromCountryLabel'] != aggregated_df['toCountryLabel'])]"
   ]
  },
  {
   "cell_type": "code",
   "execution_count": 235,
   "metadata": {},
   "outputs": [
    {
     "name": "stdout",
     "output_type": "stream",
     "text": [
      "fromCountryLabel    0\n",
      "toCountryLabel      0\n",
      "entryValue          0\n",
      "exitValue           0\n",
      "revExit             0\n",
      "totalFlow           0\n",
      "dtype: int64\n"
     ]
    }
   ],
   "source": [
    "print(aggregated_df.isnull().sum())"
   ]
  },
  {
   "cell_type": "code",
   "execution_count": 236,
   "metadata": {},
   "outputs": [],
   "source": [
    "# def normalize_direction(filtered_df):\n",
    "#     \"\"\"\n",
    "#     NOTE : THis might create some duplicates -> aggregate_entries_exits seperates both\n",
    "#     Normalize the direction of the gas flow to have a common direction for all entries.\n",
    "#     Add columns countryTo and countryFrom so that :\n",
    "#     - entry means gas enters \"countryFrom\" to \"countryTo\"\n",
    "#     - exit means gas exits \"countryTo\" to \"countryFrom\"\n",
    "#     The direction is normalized so that all pairs are considered as \"entries\" for the countryFrom.\n",
    "#     \"\"\"\n",
    "#     filtered_df['fromCountryLabel'] = filtered_df.apply(lambda row: row['fromCountryLabel'] if row['directionKey'] == 'entry' else row['toCountryLabel'], axis=1)\n",
    "#     filtered_df['toCountryLabel'] = filtered_df.apply(lambda row: row['toCountryLabel'] if row['directionKey'] == 'exit' else row['fromCountryLabel'], axis=1)\n",
    "#     return filtered_df"
   ]
  },
  {
   "cell_type": "markdown",
   "metadata": {},
   "source": [
    "<span style=\"color:yellow\">Next step is to add the following dataset to the python script methods in order to have the data aggregated per country. Once we have this, we can create a map that displays the pair transactions as well as a dropdown menu allowing to display information for a specific country.</span>\n",
    "\n",
    "\n",
    "<span style=\"color:yellow\">For the map we should add LNG data so that, in addition to the interconnections, the lng points appear on the map and the LNG total import value shows alongside with the total per interconnected country</span>"
   ]
  },
  {
   "cell_type": "code",
   "execution_count": 237,
   "metadata": {},
   "outputs": [
    {
     "data": {
      "text/plain": [
       "Index(['fromCountryLabel', 'toCountryLabel', 'entryValue', 'exitValue',\n",
       "       'revExit', 'totalFlow'],\n",
       "      dtype='object')"
      ]
     },
     "execution_count": 237,
     "metadata": {},
     "output_type": "execute_result"
    }
   ],
   "source": [
    "aggregated_df.columns"
   ]
  },
  {
   "cell_type": "code",
   "execution_count": 238,
   "metadata": {},
   "outputs": [],
   "source": [
    "# # Aggregate per country\n",
    "# pivot_table = aggregated_df.pivot_table(index=['fromCountryLabel', 'toCountryLabel'], columns='direction', values='totalFlow', fill_value=0).reset_index()\n",
    "# pivot_table.columns = ['countryA', 'countryB', 'entryFlow', 'exitFlow']"
   ]
  },
  {
   "cell_type": "code",
   "execution_count": 239,
   "metadata": {},
   "outputs": [],
   "source": [
    "# entries_df = pivot_table.groupby('countryB')['entryFlow'].sum().reset_index()\n",
    "# entries_df.columns = ['countryName', 'totalEntries']"
   ]
  },
  {
   "cell_type": "code",
   "execution_count": 240,
   "metadata": {},
   "outputs": [],
   "source": [
    "# exits_df = pivot_table.groupby('countryA')['exitFlow'].sum().reset_index()\n",
    "# exits_df.columns = ['countryName', 'totalExits']\n",
    "\n",
    "# percountry_flow_df = pd.merge(entries_df, exits_df, on='countryName', how='outer').fillna(0)"
   ]
  },
  {
   "cell_type": "code",
   "execution_count": 241,
   "metadata": {},
   "outputs": [],
   "source": [
    "data_DE = get_data_for_country(aggregated_df,'Germany')"
   ]
  },
  {
   "cell_type": "code",
   "execution_count": 242,
   "metadata": {},
   "outputs": [],
   "source": [
    "def compare_entries_exits(aggregated_df,country):\n",
    "    \"\"\"\n",
    "    Compare the total entries and exits for selected country\n",
    "    \"\"\"\n",
    "    entry_from_sum = aggregated_df.loc[aggregated_df['fromCountryLabel'] == country, 'entryValue'].sum()\n",
    "    entry_to_sum = aggregated_df.loc[aggregated_df['toCountryLabel'] == country, 'entryValue'].sum()\n",
    "\n",
    "    exit_from_sum = aggregated_df.loc[aggregated_df['fromCountryLabel'] == country, 'exitValue'].sum()\n",
    "    exit_to_sum = aggregated_df.loc[aggregated_df['toCountryLabel'] == country, 'exitValue'].sum()\n",
    "\n",
    "    print(f\" Total entryValues for {country} as 'from' (exits) : {entry_from_sum:.3e}\")\n",
    "    print(f\" Total entryValues for {country} as 'to' (entries) : {entry_to_sum:.3e}\")\n",
    "    print(f\" Total exitValues for {country} as 'from' (extis) : {exit_from_sum:.3e}\")\n",
    "    print(f\" Total exitValues for {country} as 'to' (entries) : {exit_to_sum:.3e}\")\n"
   ]
  },
  {
   "cell_type": "code",
   "execution_count": 243,
   "metadata": {},
   "outputs": [
    {
     "name": "stdout",
     "output_type": "stream",
     "text": [
      " Total entryValues for Netherlands as 'from' (exits) : 1.505e+10\n",
      " Total entryValues for Netherlands as 'to' (entries) : 1.192e+10\n",
      " Total exitValues for Netherlands as 'from' (extis) : 2.657e+10\n",
      " Total exitValues for Netherlands as 'to' (entries) : 1.682e+10\n"
     ]
    }
   ],
   "source": [
    "compare_entries_exits(aggregated_df,'Netherlands')"
   ]
  },
  {
   "cell_type": "markdown",
   "metadata": {},
   "source": [
    "CONCLUSION : Keep on out of the two -> Decide on toCountry"
   ]
  },
  {
   "cell_type": "code",
   "execution_count": 244,
   "metadata": {},
   "outputs": [],
   "source": [
    "def aggregate_percountry(aggregated_df):\n",
    "    \"\"\" \n",
    "    Pre : Aggregated_df contains the columns ['fromCountryLabel', 'toCountryLabel', 'entryValue', 'exitValue', 'totalFlow']\n",
    "    \"\"\"\n",
    "    # Aggregate the data per country\n",
    "    entries_df = aggregated_df.groupby('toCountryLabel')['entryValue'].sum().reset_index()\n",
    "    entries_df.columns = ['countryName', 'totalEntries']\n",
    "\n",
    "    exits_df = aggregated_df.groupby('toCountryLabel')['exitValue'].sum().reset_index()\n",
    "    exits_df.columns = ['countryName', 'totalExits']\n",
    "\n",
    "    totalFlow_df = aggregated_df.groupby('toCountryLabel')['totalFlow'].sum().reset_index()\n",
    "    totalFlow_df.columns = ['countryName', 'totalFlow']\n",
    "\n",
    "    percountry_flow_df = pd.merge(entries_df, exits_df, on='countryName', how='outer').fillna(0)\n",
    "    percountry_flow_df = pd.merge(percountry_flow_df, totalFlow_df, on='countryName', how='outer').fillna(0)\n",
    "\n",
    "    return percountry_flow_df"
   ]
  },
  {
   "cell_type": "code",
   "execution_count": 245,
   "metadata": {},
   "outputs": [],
   "source": [
    "def get_data_for_country(aggregated_df,country):\n",
    "    \"\"\"\" \n",
    "    Pre : Aggregated_df contains the columns ['fromCountryLabel', 'toCountryLabel', 'entryValue', 'exitValue', 'totalFlow']\n",
    "    Post : Returns the data for the given country\n",
    "    \"\"\"\n",
    "    return aggregated_df[(aggregated_df['fromCountryLabel'] == country) | (aggregated_df['toCountryLabel'] == country)]"
   ]
  },
  {
   "cell_type": "code",
   "execution_count": 246,
   "metadata": {},
   "outputs": [
    {
     "data": {
      "text/html": [
       "<div>\n",
       "<style scoped>\n",
       "    .dataframe tbody tr th:only-of-type {\n",
       "        vertical-align: middle;\n",
       "    }\n",
       "\n",
       "    .dataframe tbody tr th {\n",
       "        vertical-align: top;\n",
       "    }\n",
       "\n",
       "    .dataframe thead th {\n",
       "        text-align: right;\n",
       "    }\n",
       "</style>\n",
       "<table border=\"1\" class=\"dataframe\">\n",
       "  <thead>\n",
       "    <tr style=\"text-align: right;\">\n",
       "      <th></th>\n",
       "      <th>fromCountryLabel</th>\n",
       "      <th>toCountryLabel</th>\n",
       "      <th>entryValue</th>\n",
       "      <th>exitValue</th>\n",
       "      <th>revExit</th>\n",
       "      <th>totalFlow</th>\n",
       "    </tr>\n",
       "  </thead>\n",
       "  <tbody>\n",
       "    <tr>\n",
       "      <th>1</th>\n",
       "      <td>Austria</td>\n",
       "      <td>Germany</td>\n",
       "      <td>6.263972e+08</td>\n",
       "      <td>1.601837e+09</td>\n",
       "      <td>2.763488e+09</td>\n",
       "      <td>-9.754400e+08</td>\n",
       "    </tr>\n",
       "    <tr>\n",
       "      <th>10</th>\n",
       "      <td>Belgium</td>\n",
       "      <td>Germany</td>\n",
       "      <td>1.186307e+09</td>\n",
       "      <td>1.186307e+09</td>\n",
       "      <td>1.186307e+09</td>\n",
       "      <td>-7.000000e+00</td>\n",
       "    </tr>\n",
       "    <tr>\n",
       "      <th>21</th>\n",
       "      <td>Czechia</td>\n",
       "      <td>Germany</td>\n",
       "      <td>2.180744e+10</td>\n",
       "      <td>3.044342e+10</td>\n",
       "      <td>1.153244e+10</td>\n",
       "      <td>-8.635984e+09</td>\n",
       "    </tr>\n",
       "    <tr>\n",
       "      <th>25</th>\n",
       "      <td>Denmark</td>\n",
       "      <td>Germany</td>\n",
       "      <td>0.000000e+00</td>\n",
       "      <td>1.903026e+08</td>\n",
       "      <td>1.903026e+08</td>\n",
       "      <td>-1.903026e+08</td>\n",
       "    </tr>\n",
       "    <tr>\n",
       "      <th>29</th>\n",
       "      <td>France</td>\n",
       "      <td>Germany</td>\n",
       "      <td>1.934352e+09</td>\n",
       "      <td>0.000000e+00</td>\n",
       "      <td>0.000000e+00</td>\n",
       "      <td>1.934352e+09</td>\n",
       "    </tr>\n",
       "    <tr>\n",
       "      <th>32</th>\n",
       "      <td>Germany</td>\n",
       "      <td>Austria</td>\n",
       "      <td>6.263972e+08</td>\n",
       "      <td>2.763488e+09</td>\n",
       "      <td>1.601837e+09</td>\n",
       "      <td>-2.137091e+09</td>\n",
       "    </tr>\n",
       "    <tr>\n",
       "      <th>33</th>\n",
       "      <td>Germany</td>\n",
       "      <td>Belgium</td>\n",
       "      <td>1.186307e+09</td>\n",
       "      <td>1.186307e+09</td>\n",
       "      <td>1.186307e+09</td>\n",
       "      <td>-7.000000e+00</td>\n",
       "    </tr>\n",
       "    <tr>\n",
       "      <th>34</th>\n",
       "      <td>Germany</td>\n",
       "      <td>Czechia</td>\n",
       "      <td>3.210932e+10</td>\n",
       "      <td>1.153244e+10</td>\n",
       "      <td>3.044342e+10</td>\n",
       "      <td>2.057689e+10</td>\n",
       "    </tr>\n",
       "    <tr>\n",
       "      <th>35</th>\n",
       "      <td>Germany</td>\n",
       "      <td>Denmark</td>\n",
       "      <td>0.000000e+00</td>\n",
       "      <td>1.903026e+08</td>\n",
       "      <td>1.903026e+08</td>\n",
       "      <td>-1.903026e+08</td>\n",
       "    </tr>\n",
       "    <tr>\n",
       "      <th>36</th>\n",
       "      <td>Germany</td>\n",
       "      <td>France</td>\n",
       "      <td>3.868704e+09</td>\n",
       "      <td>0.000000e+00</td>\n",
       "      <td>0.000000e+00</td>\n",
       "      <td>3.868704e+09</td>\n",
       "    </tr>\n",
       "    <tr>\n",
       "      <th>38</th>\n",
       "      <td>Germany</td>\n",
       "      <td>Luxemburg</td>\n",
       "      <td>1.112760e+08</td>\n",
       "      <td>1.211161e+08</td>\n",
       "      <td>1.211161e+08</td>\n",
       "      <td>-9.840103e+06</td>\n",
       "    </tr>\n",
       "    <tr>\n",
       "      <th>39</th>\n",
       "      <td>Germany</td>\n",
       "      <td>Netherlands</td>\n",
       "      <td>6.919864e+09</td>\n",
       "      <td>1.192268e+10</td>\n",
       "      <td>1.921725e+10</td>\n",
       "      <td>-5.002812e+09</td>\n",
       "    </tr>\n",
       "    <tr>\n",
       "      <th>40</th>\n",
       "      <td>Germany</td>\n",
       "      <td>Norway</td>\n",
       "      <td>7.472716e+09</td>\n",
       "      <td>0.000000e+00</td>\n",
       "      <td>0.000000e+00</td>\n",
       "      <td>7.472716e+09</td>\n",
       "    </tr>\n",
       "    <tr>\n",
       "      <th>41</th>\n",
       "      <td>Germany</td>\n",
       "      <td>Poland</td>\n",
       "      <td>8.886846e+09</td>\n",
       "      <td>8.097563e+09</td>\n",
       "      <td>8.097563e+09</td>\n",
       "      <td>7.892828e+08</td>\n",
       "    </tr>\n",
       "    <tr>\n",
       "      <th>42</th>\n",
       "      <td>Germany</td>\n",
       "      <td>Switzerland</td>\n",
       "      <td>0.000000e+00</td>\n",
       "      <td>2.941874e+10</td>\n",
       "      <td>9.824002e+09</td>\n",
       "      <td>-2.941874e+10</td>\n",
       "    </tr>\n",
       "    <tr>\n",
       "      <th>64</th>\n",
       "      <td>Luxemburg</td>\n",
       "      <td>Germany</td>\n",
       "      <td>1.112760e+08</td>\n",
       "      <td>1.211161e+08</td>\n",
       "      <td>1.211161e+08</td>\n",
       "      <td>-9.840103e+06</td>\n",
       "    </tr>\n",
       "    <tr>\n",
       "      <th>68</th>\n",
       "      <td>Netherlands</td>\n",
       "      <td>Germany</td>\n",
       "      <td>1.005543e+10</td>\n",
       "      <td>1.921725e+10</td>\n",
       "      <td>1.192268e+10</td>\n",
       "      <td>-9.161820e+09</td>\n",
       "    </tr>\n",
       "    <tr>\n",
       "      <th>74</th>\n",
       "      <td>Norway</td>\n",
       "      <td>Germany</td>\n",
       "      <td>7.472716e+09</td>\n",
       "      <td>0.000000e+00</td>\n",
       "      <td>0.000000e+00</td>\n",
       "      <td>7.472716e+09</td>\n",
       "    </tr>\n",
       "    <tr>\n",
       "      <th>77</th>\n",
       "      <td>Poland</td>\n",
       "      <td>Germany</td>\n",
       "      <td>8.886846e+09</td>\n",
       "      <td>8.097563e+09</td>\n",
       "      <td>8.097563e+09</td>\n",
       "      <td>7.892828e+08</td>\n",
       "    </tr>\n",
       "    <tr>\n",
       "      <th>102</th>\n",
       "      <td>Switzerland</td>\n",
       "      <td>Germany</td>\n",
       "      <td>0.000000e+00</td>\n",
       "      <td>9.824002e+09</td>\n",
       "      <td>2.941874e+10</td>\n",
       "      <td>-9.824002e+09</td>\n",
       "    </tr>\n",
       "  </tbody>\n",
       "</table>\n",
       "</div>"
      ],
      "text/plain": [
       "    fromCountryLabel toCountryLabel    entryValue     exitValue       revExit  \\\n",
       "1            Austria        Germany  6.263972e+08  1.601837e+09  2.763488e+09   \n",
       "10           Belgium        Germany  1.186307e+09  1.186307e+09  1.186307e+09   \n",
       "21           Czechia        Germany  2.180744e+10  3.044342e+10  1.153244e+10   \n",
       "25           Denmark        Germany  0.000000e+00  1.903026e+08  1.903026e+08   \n",
       "29            France        Germany  1.934352e+09  0.000000e+00  0.000000e+00   \n",
       "32           Germany        Austria  6.263972e+08  2.763488e+09  1.601837e+09   \n",
       "33           Germany        Belgium  1.186307e+09  1.186307e+09  1.186307e+09   \n",
       "34           Germany        Czechia  3.210932e+10  1.153244e+10  3.044342e+10   \n",
       "35           Germany        Denmark  0.000000e+00  1.903026e+08  1.903026e+08   \n",
       "36           Germany         France  3.868704e+09  0.000000e+00  0.000000e+00   \n",
       "38           Germany      Luxemburg  1.112760e+08  1.211161e+08  1.211161e+08   \n",
       "39           Germany    Netherlands  6.919864e+09  1.192268e+10  1.921725e+10   \n",
       "40           Germany         Norway  7.472716e+09  0.000000e+00  0.000000e+00   \n",
       "41           Germany         Poland  8.886846e+09  8.097563e+09  8.097563e+09   \n",
       "42           Germany    Switzerland  0.000000e+00  2.941874e+10  9.824002e+09   \n",
       "64         Luxemburg        Germany  1.112760e+08  1.211161e+08  1.211161e+08   \n",
       "68       Netherlands        Germany  1.005543e+10  1.921725e+10  1.192268e+10   \n",
       "74            Norway        Germany  7.472716e+09  0.000000e+00  0.000000e+00   \n",
       "77            Poland        Germany  8.886846e+09  8.097563e+09  8.097563e+09   \n",
       "102      Switzerland        Germany  0.000000e+00  9.824002e+09  2.941874e+10   \n",
       "\n",
       "        totalFlow  \n",
       "1   -9.754400e+08  \n",
       "10  -7.000000e+00  \n",
       "21  -8.635984e+09  \n",
       "25  -1.903026e+08  \n",
       "29   1.934352e+09  \n",
       "32  -2.137091e+09  \n",
       "33  -7.000000e+00  \n",
       "34   2.057689e+10  \n",
       "35  -1.903026e+08  \n",
       "36   3.868704e+09  \n",
       "38  -9.840103e+06  \n",
       "39  -5.002812e+09  \n",
       "40   7.472716e+09  \n",
       "41   7.892828e+08  \n",
       "42  -2.941874e+10  \n",
       "64  -9.840103e+06  \n",
       "68  -9.161820e+09  \n",
       "74   7.472716e+09  \n",
       "77   7.892828e+08  \n",
       "102 -9.824002e+09  "
      ]
     },
     "execution_count": 246,
     "metadata": {},
     "output_type": "execute_result"
    }
   ],
   "source": [
    "get_data_for_country(aggregated_df,'Germany')"
   ]
  },
  {
   "cell_type": "code",
   "execution_count": 169,
   "metadata": {},
   "outputs": [],
   "source": [
    "percountry_flow_df = aggregate_percountry(aggregated_df)"
   ]
  },
  {
   "cell_type": "code",
   "execution_count": 170,
   "metadata": {},
   "outputs": [
    {
     "name": "stdout",
     "output_type": "stream",
     "text": [
      "(37, 4)\n"
     ]
    },
    {
     "data": {
      "text/html": [
       "<div>\n",
       "<style scoped>\n",
       "    .dataframe tbody tr th:only-of-type {\n",
       "        vertical-align: middle;\n",
       "    }\n",
       "\n",
       "    .dataframe tbody tr th {\n",
       "        vertical-align: top;\n",
       "    }\n",
       "\n",
       "    .dataframe thead th {\n",
       "        text-align: right;\n",
       "    }\n",
       "</style>\n",
       "<table border=\"1\" class=\"dataframe\">\n",
       "  <thead>\n",
       "    <tr style=\"text-align: right;\">\n",
       "      <th></th>\n",
       "      <th>countryName</th>\n",
       "      <th>totalEntries</th>\n",
       "      <th>totalExits</th>\n",
       "      <th>totalFlow</th>\n",
       "    </tr>\n",
       "  </thead>\n",
       "  <tbody>\n",
       "    <tr>\n",
       "      <th>0</th>\n",
       "      <td>Austria</td>\n",
       "      <td>1.317982e+10</td>\n",
       "      <td>6.866501e+10</td>\n",
       "      <td>-5.548519e+10</td>\n",
       "    </tr>\n",
       "    <tr>\n",
       "      <th>1</th>\n",
       "      <td>Belarus</td>\n",
       "      <td>1.690833e+09</td>\n",
       "      <td>0.000000e+00</td>\n",
       "      <td>1.690833e+09</td>\n",
       "    </tr>\n",
       "    <tr>\n",
       "      <th>2</th>\n",
       "      <td>Belgium</td>\n",
       "      <td>1.594272e+10</td>\n",
       "      <td>1.074366e+10</td>\n",
       "      <td>5.199054e+09</td>\n",
       "    </tr>\n",
       "    <tr>\n",
       "      <th>3</th>\n",
       "      <td>Bulgaria</td>\n",
       "      <td>1.095261e+10</td>\n",
       "      <td>5.499015e+09</td>\n",
       "      <td>5.453599e+09</td>\n",
       "    </tr>\n",
       "    <tr>\n",
       "      <th>4</th>\n",
       "      <td>Croatia</td>\n",
       "      <td>6.465845e+08</td>\n",
       "      <td>6.364062e+08</td>\n",
       "      <td>1.017835e+07</td>\n",
       "    </tr>\n",
       "  </tbody>\n",
       "</table>\n",
       "</div>"
      ],
      "text/plain": [
       "  countryName  totalEntries    totalExits     totalFlow\n",
       "0     Austria  1.317982e+10  6.866501e+10 -5.548519e+10\n",
       "1     Belarus  1.690833e+09  0.000000e+00  1.690833e+09\n",
       "2     Belgium  1.594272e+10  1.074366e+10  5.199054e+09\n",
       "3    Bulgaria  1.095261e+10  5.499015e+09  5.453599e+09\n",
       "4     Croatia  6.465845e+08  6.364062e+08  1.017835e+07"
      ]
     },
     "execution_count": 170,
     "metadata": {},
     "output_type": "execute_result"
    }
   ],
   "source": [
    "print(percountry_flow_df.shape)\n",
    "percountry_flow_df.head()"
   ]
  },
  {
   "cell_type": "code",
   "execution_count": 171,
   "metadata": {},
   "outputs": [
    {
     "data": {
      "image/png": "[encoded data removed]",
      "text/plain": [
       "<Figure size 640x480 with 1 Axes>"
      ]
     },
     "metadata": {},
     "output_type": "display_data"
    }
   ],
   "source": [
    "import matplotlib.pyplot as plt\n",
    "\n",
    "# Create the bar chart\n",
    "percountry_flow_df.plot(x='countryName', y=['totalEntries', 'totalExits'], kind='bar')\n",
    "\n",
    "# Set the labels and title\n",
    "plt.xlabel('Country')\n",
    "plt.ylabel('Value')\n",
    "plt.title('Total Entries and Exits per Country')\n",
    "\n",
    "# Show the chart\n",
    "plt.show()"
   ]
  }
 ],
 "metadata": {
  "kernelspec": {
   "display_name": ".venv",
   "language": "python",
   "name": "python3"
  },
  "language_info": {
   "codemirror_mode": {
    "name": "ipython",
    "version": 3
   },
   "file_extension": ".py",
   "mimetype": "text/x-python",
   "name": "python",
   "nbconvert_exporter": "python",
   "pygments_lexer": "ipython3",
   "version": "3.9.7"
  }
 },
 "nbformat": 4,
 "nbformat_minor": 2
}
